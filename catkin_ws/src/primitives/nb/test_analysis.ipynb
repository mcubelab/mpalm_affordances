{
 "cells": [
  {
   "cell_type": "code",
   "execution_count": null,
   "metadata": {},
   "outputs": [],
   "source": "import os, sys\nsys.path.append('/root/catkin_ws/src/primitives/')\nimport pickle\nimport matplotlib.pyplot as plt\nimport numpy as np\nfrom mpl_toolkits.mplot3d import axes3d\nimport plotly.graph_objects as go\nfrom plotly.subplots import make_subplots\n\nimport trimesh\nimport networkx\n\nfrom open3d import JVisualizer"
  },
  {
   "cell_type": "code",
   "execution_count": null,
   "metadata": {},
   "outputs": [],
   "source": "%matplotlib notebook"
  },
  {
   "cell_type": "code",
   "execution_count": null,
   "metadata": {},
   "outputs": [],
   "source": "os.system('export CODE_BASE=/root/')"
  },
  {
   "cell_type": "code",
   "execution_count": null,
   "metadata": {},
   "outputs": [],
   "source": "import os, sys\nimport time\nimport argparse\nimport numpy as np\nfrom multiprocessing import Process, Pipe, Queue\nimport pickle\nimport rospy\nimport copy\nimport signal\nimport open3d\nfrom IPython import embed\n\nfrom airobot import Robot\nfrom airobot.utils import pb_util\nfrom airobot.sensor.camera.rgbdcam_pybullet import RGBDCameraPybullet\nfrom airobot.utils import common\nimport pybullet as p\n\nfrom helper import util\nfrom macro_actions import ClosedLoopMacroActions, YumiGelslimPybulet\n# from closed_loop_eval import SingleArmPrimitives, DualArmPrimitives\n\nfrom yacs.config import CfgNode as CN\nfrom closed_loop_experiments import get_cfg_defaults"
  },
  {
   "cell_type": "code",
   "execution_count": null,
   "metadata": {},
   "outputs": [],
   "source": "with open('/root/catkin_ws/src/primitives/data/pull/face_ind_large_0/metadata.pkl', 'rb') as mf:\n    metadata = pickle.load(mf)\n# with open('/root/catkin_ws/src/primitives/data/grasp/face_ind_test_0/metadata.pkl', 'rb') as mf:\n#     metadata = pickle.load(mf)\n\n\nprint('Metadata keys: ')\nprint(metadata.keys())\nprint(metadata['cfg'])\ncfg = metadata['cfg']\nstep_repeat = metadata['step_repeat']\ndynamics_info = metadata['dynamics']\nmesh_file = metadata['mesh_file']\n\npalm_mesh_file = '/root/catkin_ws/src/config/descriptions/meshes/mpalm/mpalms_all_coarse.stl'\n# table_mesh_file = '../catkin_ws/src/config/descriptions/meshes/table/coarse/table_base.stl'\ntable_mesh_file = '/root/catkin_ws/src/config/descriptions/meshes/table/table_top.stl'"
  },
  {
   "cell_type": "code",
   "execution_count": null,
   "metadata": {},
   "outputs": [],
   "source": "with open ('/root/catkin_ws/src/primitives/data/pull/face_ind_large_0/3.pkl', 'rb') as f:\n    data = pickle.load(f)\n# with open ('/root/catkin_ws/src/primitives/data/grasp/face_ind_test_0/2.pkl', 'rb') as f:\n#     data = pickle.load(f)"
  },
  {
   "cell_type": "code",
   "execution_count": null,
   "metadata": {},
   "outputs": [],
   "source": "for key in data.keys():\n    if key != 'obs':\n        print(key)\n        print(data[key])"
  },
  {
   "cell_type": "markdown",
   "metadata": {},
   "source": "# Visualize contact on object"
  },
  {
   "cell_type": "code",
   "execution_count": null,
   "metadata": {},
   "outputs": [],
   "source": "obj_mesh = trimesh.load_mesh(mesh_file)\nr_palm_mesh = trimesh.load_mesh(palm_mesh_file)\nl_palm_mesh = trimesh.load_mesh(palm_mesh_file)"
  },
  {
   "cell_type": "code",
   "execution_count": null,
   "metadata": {},
   "outputs": [],
   "source": "obj_pos_world = data['start'][:3]\nobj_ori_world = data['start'][3:]\nobj_ori_mat = common.quat2rot(obj_ori_world)\nh_trans = np.zeros((4, 4))\nh_trans[:3, :3] = obj_ori_mat\nh_trans[:-1, -1] = obj_pos_world\nh_trans[-1, -1] = 1\n\nobj_mesh.apply_transform(h_trans)"
  },
  {
   "cell_type": "code",
   "execution_count": null,
   "metadata": {},
   "outputs": [],
   "source": "tip_contact_r = util.list2pose_stamped(data['contact_world_frame']['right'])\ntip_contact_l = util.list2pose_stamped(data['contact_world_frame']['left'])\n\nwrist_contact_r = util.convert_reference_frame(\n    pose_source=util.list2pose_stamped(cfg.TIP_TO_WRIST_TF),\n    pose_frame_target=util.unit_pose(),\n    pose_frame_source=tip_contact_r)\n\nwrist_contact_l = util.convert_reference_frame(\n    pose_source=util.list2pose_stamped(cfg.TIP_TO_WRIST_TF),\n    pose_frame_target=util.unit_pose(),\n    pose_frame_source=tip_contact_l)\n\nwrist_contact_r_list = util.pose_stamped2list(wrist_contact_r)\nwrist_contact_l_list = util.pose_stamped2list(wrist_contact_l)"
  },
  {
   "cell_type": "code",
   "execution_count": null,
   "metadata": {},
   "outputs": [],
   "source": "tip_contact_r = util.list2pose_stamped(data['contact_world_frame'])\n\nwrist_contact_r = util.convert_reference_frame(\n    pose_source=util.list2pose_stamped(cfg.TIP_TO_WRIST_TF),\n    pose_frame_target=util.unit_pose(),\n    pose_frame_source=tip_contact_r)\n\n# wrist_contact_l = util.convert_reference_frame(\n#     pose_source=util.list2pose_stamped(cfg.TIP_TO_WRIST_TF),\n#     pose_frame_target=util.unit_pose(),\n#     pose_frame_source=tip_contact_l)\n\nwrist_contact_r_list = util.pose_stamped2list(wrist_contact_r)\n# wrist_contact_l_list = util.pose_stamped2list(wrist_contact_l)"
  },
  {
   "cell_type": "code",
   "execution_count": null,
   "metadata": {},
   "outputs": [],
   "source": "palm_pos_world_r = wrist_contact_r_list[:3]\npalm_ori_world_r = wrist_contact_r_list[3:]\npalm_ori_mat = common.quat2rot(palm_ori_world_r)\nh_trans = np.zeros((4, 4))\nh_trans[:3, :3] = palm_ori_mat\nh_trans[:-1, -1] = palm_pos_world_r\nh_trans[-1, -1] = 1\n\nr_palm_mesh.apply_transform(h_trans)"
  },
  {
   "cell_type": "code",
   "execution_count": null,
   "metadata": {},
   "outputs": [],
   "source": "palm_pos_world_l = wrist_contact_l_list[:3]\npalm_ori_world_l = wrist_contact_l_list[3:]\npalm_ori_mat = common.quat2rot(palm_ori_world_l)\nh_trans = np.zeros((4, 4))\nh_trans[:3, :3] = palm_ori_mat\nh_trans[:-1, -1] = palm_pos_world_l\nh_trans[-1, -1] = 1\n\nl_palm_mesh.apply_transform(h_trans)"
  },
  {
   "cell_type": "code",
   "execution_count": null,
   "metadata": {},
   "outputs": [],
   "source": "table_mesh = trimesh.load_mesh(table_mesh_file)"
  },
  {
   "cell_type": "code",
   "execution_count": null,
   "metadata": {},
   "outputs": [],
   "source": "scene = trimesh.Scene([obj_mesh, r_palm_mesh, table_mesh])"
  },
  {
   "cell_type": "code",
   "execution_count": null,
   "metadata": {},
   "outputs": [],
   "source": "scene.show(viewer='gl')"
  },
  {
   "cell_type": "markdown",
   "metadata": {},
   "source": "# Visualize point cloud"
  },
  {
   "cell_type": "code",
   "execution_count": null,
   "metadata": {},
   "outputs": [],
   "source": "# pcd = data['obs']['pcd_full']\npcd_pts = data['obs']['pcd_pts']\nobj_pcd_pts_cat = np.concatenate(pcd_pts, axis=0)"
  },
  {
   "cell_type": "code",
   "execution_count": null,
   "metadata": {},
   "outputs": [],
   "source": "obj_pcd_pts_cat.shape"
  },
  {
   "cell_type": "code",
   "execution_count": null,
   "metadata": {},
   "outputs": [],
   "source": "fig = go.Figure(data=go.Scatter3d(\n    x=obj_pcd_pts_cat[:, 0],\n    y=obj_pcd_pts_cat[:, 1],\n    z=obj_pcd_pts_cat[:, 2]))\n\nfig.update_xaxes(range=[-0.25, 0.7])\nfig.update_yaxes(range=[-0.75, 0.75])\n\nfig.show()\n\nfig.update_xaxes(range=[-0.25, 0.7])\nfig.update_yaxes(range=[-0.75, 0.75])"
  },
  {
   "cell_type": "code",
   "execution_count": null,
   "metadata": {},
   "outputs": [],
   "source": "# visualizer = JVisualizer()\n# visualizer.add_geometry([pcd])\n# visualizer.show()\n\n# open3d.visualization.draw_geometries([pcd])"
  },
  {
   "cell_type": "markdown",
   "metadata": {},
   "source": "# Visualize image observations"
  },
  {
   "cell_type": "code",
   "execution_count": null,
   "metadata": {},
   "outputs": [],
   "source": "im_fig = plt.figure()\n\nax1 = im_fig.add_subplot(311)\nax1.imshow(data['obs']['rgb'][0])\n\nax2 = im_fig.add_subplot(312)\nax2.imshow(data['obs']['rgb'][1])\n\nax3 = im_fig.add_subplot(313)\nax3.imshow(data['obs']['rgb'][2])\n\nplt.show()"
  },
  {
   "cell_type": "markdown",
   "metadata": {},
   "source": "# Visualize keypoints"
  },
  {
   "cell_type": "code",
   "execution_count": null,
   "metadata": {},
   "outputs": [],
   "source": "kp_fig_0 = go.Figure(data=go.Scatter3d(\n        x=data['keypoints_start'][:, 0],\n        y=data['keypoints_start'][:, 1],\n        z=data['keypoints_start'][:, 2],\n        mode='markers'))\n\nkp_fig_0.show()"
  },
  {
   "cell_type": "code",
   "execution_count": null,
   "metadata": {},
   "outputs": [],
   "source": "kp_fig = make_subplots(rows=1, cols=2,  specs=[[{\"type\": \"scene\"}, {\"type\": \"scene\"}]])\n\nkp_fig.add_trace(go.Scatter3d(\n        x=data['keypoints_start'][:, 0],\n        y=data['keypoints_start'][:, 1],\n        z=data['keypoints_start'][:, 2],\n        mode='markers'), \n    row=1, col=1)\n\nkp_fig.add_trace(go.Scatter3d(\n        x=data['keypoints_goal'][:, 0],\n        y=data['keypoints_goal'][:, 1],\n        z=data['keypoints_goal'][:, 2],\n        mode='markers'),\n    row=1, col=2)\n\nkp_fig.show()"
  },
  {
   "cell_type": "code",
   "execution_count": null,
   "metadata": {},
   "outputs": [],
   "source": "# try visulizing the meshes with the table for showing the poses?\n\n"
  },
  {
   "cell_type": "markdown",
   "metadata": {},
   "source": "# Visualize trajectory in PyBullet"
  },
  {
   "cell_type": "code",
   "execution_count": null,
   "metadata": {},
   "outputs": [],
   "source": "rospy.init_node(\"test\")"
  },
  {
   "cell_type": "code",
   "execution_count": null,
   "metadata": {},
   "outputs": [],
   "source": "yumi = Robot('yumi_palms', arm_cfg={'render': True, 'self_collision': False, 'rt_simulation': True})\nyumi.arm.go_home()\nyumi.arm.set_jpos(cfg.RIGHT_INIT + cfg.LEFT_INIT)"
  },
  {
   "cell_type": "code",
   "execution_count": null,
   "metadata": {},
   "outputs": [],
   "source": "gel_id = 12\n\np.changeDynamics(\n    yumi.arm.robot_id,\n    gel_id,\n    restitution=dynamics_info['restitution'],\n    contactStiffness=dynamics_info['contactStiffness'],\n    contactDamping=dynamics_info['contactDamping'],\n    rollingFriction=dynamics_info['rollingFriction']\n)"
  },
  {
   "cell_type": "code",
   "execution_count": null,
   "metadata": {},
   "outputs": [],
   "source": "yumi_gs = YumiGelslimPybulet(\n    yumi,\n    cfg)"
  },
  {
   "cell_type": "code",
   "execution_count": null,
   "metadata": {},
   "outputs": [],
   "source": "box_id = pb_util.load_urdf(\n    '/root/catkin_ws/src/config/descriptions/urdf/realsense_box.urdf',\n    cfg.OBJECT_POSE_3[0:3],\n    cfg.OBJECT_POSE_3[3:]\n)"
  },
  {
   "cell_type": "code",
   "execution_count": null,
   "metadata": {},
   "outputs": [],
   "source": "config_pkg_path = '/root/catkin_ws/src/config/'\n\naction_planner = ClosedLoopMacroActions(\n    cfg,\n    yumi_gs,\n    box_id,\n    pb_util.PB_CLIENT,\n    config_pkg_path,\n    object_mesh_file=mesh_file,\n    replan=True\n)\n\nplanner_args = data['planner_args']\nprimitive_name = planner_args['primitive_name']\nobject_start_pose_list = data['start']\nobject_goal_pose_list = data['goal']\n\npb_util.reset_body(\n    body_id=box_id, \n    base_pos=object_start_pose_list[:3],\n    base_quat=object_start_pose_list[3:])"
  },
  {
   "cell_type": "code",
   "execution_count": null,
   "metadata": {},
   "outputs": [],
   "source": "result = action_planner.execute(primitive_name=primitive_name, execute_args=planner_args)"
  },
  {
   "cell_type": "code",
   "execution_count": null,
   "metadata": {},
   "outputs": [],
   "source": "new_args = {}\nnew_args['object_pose1_world'] = list2pose_stamped(object_start_pose_list)\nnew_args['object_pose2_world'] = list2pose_stamped(object_goal_pose_list)\nnew_args['primitive_name'] = 'pull'\nnew_args['palm_pose_r_object'] = list2pose_stamped(data['contact_obj_frame'])\nnew_args['palm_pose_l_object'] = list2pose_stamped(cfg.PALM_LEFT)\nnew_args['object'] = None\nnew_args['init'] = True\nnew_args['N'] = 32\nnew_args['table_face'] = 0"
  },
  {
   "cell_type": "code",
   "execution_count": null,
   "metadata": {},
   "outputs": [],
   "source": "from planning import pulling_planning\n\nmanipulated_object = new_args['object']\nobject_pose1_world = new_args['object_pose1_world']\nobject_pose2_world = new_args['object_pose2_world']\npalm_pose_l_object = new_args['palm_pose_l_object']\npalm_pose_r_object = new_args['palm_pose_r_object']\ntable_face = new_args['table_face']\nactive_arm = 'right'\nN = new_args['N']\n\nplan = pulling_planning(\n    object=manipulated_object,\n    object_pose1_world=object_pose1_world,\n    object_pose2_world=object_pose2_world,\n    palm_pose_l_object=palm_pose_l_object,\n    palm_pose_r_object=palm_pose_r_object,\n    arm=active_arm[0],\n    N=N)"
  }
 ],
 "metadata": {
  "kernelspec": {
   "display_name": "Python 2",
   "language": "python",
   "name": "python2"
  },
  "language_info": {
   "codemirror_mode": {
    "name": "ipython",
    "version": 2
   },
   "file_extension": ".py",
   "mimetype": "text/x-python",
   "name": "python",
   "nbconvert_exporter": "python",
   "pygments_lexer": "ipython2",
   "version": "2.7.12"
  }
 },
 "nbformat": 4,
 "nbformat_minor": 4
}
