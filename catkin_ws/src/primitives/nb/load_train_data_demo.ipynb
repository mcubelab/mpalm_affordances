{
 "cells": [
  {
   "cell_type": "code",
   "execution_count": null,
   "metadata": {},
   "outputs": [],
   "source": "import os, sys\nsys.path.append('/root/catkin_ws/src/primitives/')\nimport pickle\nimport matplotlib.pyplot as plt\nimport numpy as np\nfrom mpl_toolkits.mplot3d import axes3d\nimport plotly.graph_objects as go\nfrom plotly.subplots import make_subplots\n\nimport trimesh\nimport networkx\n\nfrom open3d import JVisualizer\n\nimport copy\nimport time\nimport argparse\nimport numpy as np\nfrom multiprocessing import Process, Pipe, Queue\nimport pickle\nimport rospy\nimport copy\nimport signal\nimport open3d\nfrom IPython import embed\n\nfrom airobot import Robot\nfrom airobot.utils import pb_util\nfrom airobot.sensor.camera.rgbdcam_pybullet import RGBDCameraPybullet\nfrom airobot.utils import common\nimport pybullet as p\n\nfrom helper import util\nfrom macro_actions import ClosedLoopMacroActions, YumiGelslimPybulet\n# from closed_loop_eval import SingleArmPrimitives, DualArmPrimitives\n\nfrom yacs.config import CfgNode as CN\nfrom closed_loop_experiments import get_cfg_defaults"
  },
  {
   "cell_type": "code",
   "execution_count": null,
   "metadata": {},
   "outputs": [],
   "source": "with open ('/root/catkin_ws/src/primitives/data/grasp/face_ind_test_0_fixed/2022.pkl', 'rb') as f:\n    grasp_data = pickle.load(f)\n# with open ('/root/catkin_ws/src/primitives/data/grasp/face_ind_test_0/1721.pkl', 'rb') as f:\n#     grasp_data = pickle.load(f)\n    \nprint(grasp_data.keys())"
  },
  {
   "cell_type": "code",
   "execution_count": null,
   "metadata": {},
   "outputs": [],
   "source": "with open ('/root/catkin_ws/src/primitives/data/pull/face_ind_large_0_fixed/3.pkl', 'rb') as f:\n    pull_data = pickle.load(f)\n\n# with open ('/root/catkin_ws/src/primitives/data/pull/face_ind_large_0/3.pkl', 'rb') as f:\n#     pull_data = pickle.load(f)\n\nprint(pull_data.keys())"
  },
  {
   "cell_type": "markdown",
   "metadata": {},
   "source": "# Training data: \n## Inputs: \nInitial observation, different representations:\n- ```'start'```: pose ```[x_pos, y_pos, z_pos, x_ori, y_ori, z_ori, w_ori]```\n- ```'keypoints_start'```: 3D location of box corners at start pose\n- ```'obs':'pcd_pts'```: Point cloud of box from 3 different viewpoints, with same global coordinate sys. Can be fused with np.concatenate (see below)\n\nGoal, different representations:\n- ```'goal'```: pose\n- ```'keypoints_goal'```: 3D location of box corners at goal pose"
  },
  {
   "cell_type": "code",
   "execution_count": null,
   "metadata": {},
   "outputs": [],
   "source": "# start observation\nstart = pull_data['start']\nkeypoints_start = pull_data['keypoints_start']\npcd_pts = pull_data['obs']['pcd_pts']\npcd_pts_start = np.concatenate(pcd_pts, axis=0)\n\n# goal\ngoal = pull_data['goal']\nkeypoints_goal = pull_data['keypoints_goal']"
  },
  {
   "cell_type": "markdown",
   "metadata": {},
   "source": "# Outputs:\n## Pulling/Pushing (single arm)\nRobot palm pose in the object frame, for active arm -- active arm currently based on which side of the table the object starts on. TODO perhaps includes predicting which arm is active, once we move to more diverse data. For now, everything for pulling happens with the right arm\n- ```'contact_obj_frame'```: pose ```[x_pos, y_pos, z_pos, x_ori, y_ori, z_ori, w_ori]```, specified with respect to the coordinate system located at the object center of mass at the start pose\n\n## Grasping/Pivoting (dual arm)\n\nRight and left robot palm pose in the object frame\n- ```'contact_obj_frame':'right'```: right palm pose ```[x_pos, y_pos, z_pos, x_ori, y_ori, z_ori, w_ori]```, specified with respect to the coordinate system located at the object center of mass at the start pose\n- ```'contact_obj_frame':'left'```: left palm pose ```[x_pos, y_pos, z_pos, x_ori, y_ori, z_ori, w_ori]```, specified with respect to the coordinate system located at the object center of mass at the start pose"
  },
  {
   "cell_type": "code",
   "execution_count": null,
   "metadata": {},
   "outputs": [],
   "source": "# right palm contact for pulling\ncontact_r = pull_data['contact_obj_frame']\n\n# both palms contact for grasping\ncontact_r = grasp_data['contact_obj_frame']['right']\ncontact_l = grasp_data['contact_obj_frame']['left']"
  },
  {
   "cell_type": "markdown",
   "metadata": {},
   "source": "# Visualization"
  },
  {
   "cell_type": "code",
   "execution_count": null,
   "metadata": {},
   "outputs": [],
   "source": "# with open('/root/catkin_ws/src/primitives/data/pull/face_ind_large_0/metadata.pkl', 'rb') as mf:\n#     metadata = pickle.load(mf)\nwith open('/root/catkin_ws/src/primitives/data/grasp/face_ind_test_0/metadata.pkl', 'rb') as mf:\n    metadata = pickle.load(mf)\n\n\nprint('Metadata keys: ')\ndynamics_info = metadata['dynamics']\nmesh_file = metadata['mesh_file']\npalm_mesh_file = '/root/catkin_ws/src/config/descriptions/meshes/mpalm/mpalms_all_coarse.stl'\ntable_mesh_file = '/root/catkin_ws/src/config/descriptions/meshes/table/table_top.stl'\ncfg = metadata['cfg']"
  },
  {
   "cell_type": "markdown",
   "metadata": {},
   "source": "# Visualize contact on object"
  },
  {
   "cell_type": "code",
   "execution_count": null,
   "metadata": {},
   "outputs": [],
   "source": "def vis_palms(data, name='pull'):\n    obj_mesh = trimesh.load_mesh(mesh_file)\n    r_palm_mesh = trimesh.load_mesh(palm_mesh_file)\n    l_palm_mesh = trimesh.load_mesh(palm_mesh_file)\n    table_mesh = trimesh.load_mesh(table_mesh_file)\n    \n    obj_pos_world = data['start'][:3]\n    obj_ori_world = data['start'][3:]\n    obj_ori_mat = common.quat2rot(obj_ori_world)\n    h_trans = np.zeros((4, 4))\n    h_trans[:3, :3] = obj_ori_mat\n    h_trans[:-1, -1] = obj_pos_world\n    h_trans[-1, -1] = 1\n\n    obj_mesh.apply_transform(h_trans)\n    if name == 'pull':\n        tip_contact_r_obj = util.list2pose_stamped(data['contact_obj_frame'])\n        tip_contact_r = util.convert_reference_frame(\n            pose_source=tip_contact_r_obj,\n            pose_frame_target=util.unit_pose(),\n            pose_frame_source=util.list2pose_stamped(data['start']))\n        \n        tip_contact_r = util.list2pose_stamped(data['contact_world_frame'])\n\n        wrist_contact_r = util.convert_reference_frame(\n            pose_source=util.list2pose_stamped(cfg.TIP_TO_WRIST_TF),\n            pose_frame_target=util.unit_pose(),\n            pose_frame_source=tip_contact_r)\n\n        wrist_contact_r_list = util.pose_stamped2list(wrist_contact_r)\n        \n        palm_pos_world_r = wrist_contact_r_list[:3]\n        palm_ori_world_r = wrist_contact_r_list[3:]\n        palm_ori_mat = common.quat2rot(palm_ori_world_r)\n        h_trans = np.zeros((4, 4))\n        h_trans[:3, :3] = palm_ori_mat\n        h_trans[:-1, -1] = palm_pos_world_r\n        h_trans[-1, -1] = 1\n\n        r_palm_mesh.apply_transform(h_trans)      \n        \n        scene = trimesh.Scene([obj_mesh, r_palm_mesh, table_mesh])        \n    else:\n        tip_contact_r_obj = util.list2pose_stamped(data['contact_obj_frame']['right'])\n        tip_contact_l_obj = util.list2pose_stamped(data['contact_obj_frame']['left'])\n\n        tip_contact_r = util.convert_reference_frame(\n            pose_source=tip_contact_r_obj,\n            pose_frame_target=util.unit_pose(),\n            pose_frame_source=util.list2pose_stamped(data['start']))\n            \n        tip_contact_l = util.convert_reference_frame(\n            pose_source=tip_contact_l_obj,\n            pose_frame_target=util.unit_pose(),\n            pose_frame_source=util.list2pose_stamped(data['start']))\n        \n        tip_contact_r = util.list2pose_stamped(data['contact_world_frame']['right'])\n        tip_contact_l = util.list2pose_stamped(data['contact_world_frame']['left'])\n            \n        wrist_contact_r = util.convert_reference_frame(\n            pose_source=util.list2pose_stamped(cfg.TIP_TO_WRIST_TF),\n            pose_frame_target=util.unit_pose(),\n            pose_frame_source=tip_contact_r)\n\n        wrist_contact_l = util.convert_reference_frame(\n            pose_source=util.list2pose_stamped(cfg.TIP_TO_WRIST_TF),\n            pose_frame_target=util.unit_pose(),\n            pose_frame_source=tip_contact_l)\n\n        wrist_contact_r_list = util.pose_stamped2list(wrist_contact_r)\n        wrist_contact_l_list = util.pose_stamped2list(wrist_contact_l)\n        \n        palm_pos_world_r = wrist_contact_r_list[:3]\n        palm_ori_world_r = wrist_contact_r_list[3:]\n        palm_ori_mat = common.quat2rot(palm_ori_world_r)\n        h_trans = np.zeros((4, 4))\n        h_trans[:3, :3] = palm_ori_mat\n        h_trans[:-1, -1] = palm_pos_world_r\n        h_trans[-1, -1] = 1\n\n        r_palm_mesh.apply_transform(h_trans)\n        \n        palm_pos_world_l = wrist_contact_l_list[:3]\n        palm_ori_world_l = wrist_contact_l_list[3:]\n        palm_ori_mat = common.quat2rot(palm_ori_world_l)\n        h_trans = np.zeros((4, 4))\n        h_trans[:3, :3] = palm_ori_mat\n        h_trans[:-1, -1] = palm_pos_world_l\n        h_trans[-1, -1] = 1\n\n        l_palm_mesh.apply_transform(h_trans)        \n        \n        scene = trimesh.Scene([obj_mesh, r_palm_mesh, l_palm_mesh, table_mesh])\n    return scene"
  },
  {
   "cell_type": "code",
   "execution_count": null,
   "metadata": {},
   "outputs": [],
   "source": "# scene = vis_palms(pull_data, name='pull')\nscene = vis_palms(grasp_data, name='grasp')\n\nscene.show(viewer='gl')"
  },
  {
   "cell_type": "markdown",
   "metadata": {},
   "source": "# Visualize point cloud"
  },
  {
   "cell_type": "code",
   "execution_count": null,
   "metadata": {},
   "outputs": [],
   "source": "pcd = pull_data['obs']['pcd_full']\npcd_pts = pull_data['obs']['pcd_pts']\nobj_pcd_pts_cat = np.concatenate(pcd_pts, axis=0)"
  },
  {
   "cell_type": "code",
   "execution_count": null,
   "metadata": {},
   "outputs": [],
   "source": "obj_pcd_pts_cat.shape"
  },
  {
   "cell_type": "code",
   "execution_count": null,
   "metadata": {},
   "outputs": [],
   "source": "fig = go.Figure(data=go.Scatter3d(\n    x=obj_pcd_pts_cat[:, 0],\n    y=obj_pcd_pts_cat[:, 1],\n    z=obj_pcd_pts_cat[:, 2]))\n\nfig.update_xaxes(range=[-0.25, 0.7])\nfig.update_yaxes(range=[-0.75, 0.75])\n\nfig.show()\n\nfig.update_xaxes(range=[-0.25, 0.7])\nfig.update_yaxes(range=[-0.75, 0.75])"
  },
  {
   "cell_type": "code",
   "execution_count": null,
   "metadata": {},
   "outputs": [],
   "source": "# visualizer = JVisualizer()\n# visualizer.add_geometry([pcd])\n# visualizer.show()\n\n# open3d.visualization.draw_geometries([pcd])"
  },
  {
   "cell_type": "markdown",
   "metadata": {},
   "source": "# Visualize image observations"
  },
  {
   "cell_type": "code",
   "execution_count": null,
   "metadata": {},
   "outputs": [],
   "source": "im_fig = plt.figure()\n\nax1 = im_fig.add_subplot(311)\nax1.imshow(pull_data['obs']['rgb'][0])\n\nax2 = im_fig.add_subplot(312)\nax2.imshow(pull_data['obs']['rgb'][1])\n\nax3 = im_fig.add_subplot(313)\nax3.imshow(pull_data['obs']['rgb'][2])\n\nplt.show()"
  },
  {
   "cell_type": "markdown",
   "metadata": {},
   "source": "# Visualize keypoints"
  },
  {
   "cell_type": "code",
   "execution_count": null,
   "metadata": {},
   "outputs": [],
   "source": "kp_fig_0 = go.Figure(data=go.Scatter3d(\n        x=pull_data['keypoints_start'][:, 0],\n        y=pull_data['keypoints_start'][:, 1],\n        z=pull_data['keypoints_start'][:, 2],\n        mode='markers'))\n\nkp_fig_0.show()"
  },
  {
   "cell_type": "code",
   "execution_count": null,
   "metadata": {},
   "outputs": [],
   "source": "kp_fig = make_subplots(rows=1, cols=2,  specs=[[{\"type\": \"scene\"}, {\"type\": \"scene\"}]])\n\nkp_fig.add_trace(go.Scatter3d(\n        x=pull_data['keypoints_start'][:, 0],\n        y=pull_data['keypoints_start'][:, 1],\n        z=pull_data['keypoints_start'][:, 2],\n        mode='markers'), \n    row=1, col=1)\n\nkp_fig.add_trace(go.Scatter3d(\n        x=pull_data['keypoints_goal'][:, 0],\n        y=pull_data['keypoints_goal'][:, 1],\n        z=pull_data['keypoints_goal'][:, 2],\n        mode='markers'),\n    row=1, col=2)\n\nkp_fig.show()"
  },
  {
   "cell_type": "code",
   "execution_count": null,
   "metadata": {},
   "outputs": [],
   "source": "# TODO try visulizing the meshes with the table for showing the poses"
  },
  {
   "cell_type": "markdown",
   "metadata": {},
   "source": "# Visualize trajectory in PyBullet"
  },
  {
   "cell_type": "code",
   "execution_count": null,
   "metadata": {},
   "outputs": [],
   "source": "data = copy.deepcopy(grasp_data)"
  },
  {
   "cell_type": "code",
   "execution_count": null,
   "metadata": {},
   "outputs": [],
   "source": "# # with open ('/root/catkin_ws/src/primitives/data/grasp/face_ind_test_0/2.pkl', 'rb') as f:\n# #     data = pickle.load(f)\n\n# with open ('/root/catkin_ws/src/primitives/data/pull/face_ind_large_0_fixed/105.pkl', 'rb') as f:\n#     data = pickle.load(f)\n    \n# print(data.keys())"
  },
  {
   "cell_type": "code",
   "execution_count": null,
   "metadata": {},
   "outputs": [],
   "source": "rospy.init_node(\"test\")"
  },
  {
   "cell_type": "code",
   "execution_count": null,
   "metadata": {},
   "outputs": [],
   "source": "yumi = Robot('yumi_palms', arm_cfg={'render': True, 'self_collision': False, 'rt_simulation': True})"
  },
  {
   "cell_type": "code",
   "execution_count": null,
   "metadata": {},
   "outputs": [],
   "source": "yumi.arm.go_home()"
  },
  {
   "cell_type": "code",
   "execution_count": null,
   "metadata": {},
   "outputs": [],
   "source": "yumi.arm.set_jpos(cfg.RIGHT_INIT + cfg.LEFT_INIT)"
  },
  {
   "cell_type": "code",
   "execution_count": null,
   "metadata": {},
   "outputs": [],
   "source": "gel_id = 12\n\np.changeDynamics(\n    yumi.arm.robot_id,\n    gel_id,\n    restitution=dynamics_info['restitution'],\n    contactStiffness=dynamics_info['contactStiffness'],\n    contactDamping=dynamics_info['contactDamping'],\n    rollingFriction=dynamics_info['rollingFriction']\n)"
  },
  {
   "cell_type": "code",
   "execution_count": null,
   "metadata": {},
   "outputs": [],
   "source": "yumi_gs = YumiGelslimPybulet(\n    yumi,\n    cfg)"
  },
  {
   "cell_type": "code",
   "execution_count": null,
   "metadata": {},
   "outputs": [],
   "source": "box_id = pb_util.load_urdf(\n    '/root/catkin_ws/src/config/descriptions/urdf/realsense_box.urdf',\n    cfg.OBJECT_POSE_3[0:3],\n    cfg.OBJECT_POSE_3[3:]\n)"
  },
  {
   "cell_type": "code",
   "execution_count": null,
   "metadata": {},
   "outputs": [],
   "source": "new_args = {}\nnew_args['object_pose1_world'] = util.list2pose_stamped(data['start'])\nnew_args['object_pose2_world'] = util.list2pose_stamped(data['goal'])\nnew_args['primitive_name'] = 'grasp'\n# new_args['palm_pose_r_object'] = util.list2pose_stamped(data['contact_obj_frame'])\n# new_args['palm_pose_l_object'] = util.list2pose_stamped(cfg.PALM_LEFT)\nnew_args['palm_pose_r_object'] = util.list2pose_stamped(data['contact_obj_frame']['right'])\nnew_args['palm_pose_l_object'] = util.list2pose_stamped(data['contact_obj_frame']['left'])\nnew_args['object'] = None\nnew_args['init'] = True\nnew_args['N'] = 60\nnew_args['table_face'] = 0"
  },
  {
   "cell_type": "code",
   "execution_count": null,
   "metadata": {},
   "outputs": [],
   "source": "planner_args = new_args"
  },
  {
   "cell_type": "code",
   "execution_count": null,
   "metadata": {},
   "outputs": [],
   "source": "config_pkg_path = '/root/catkin_ws/src/config/'\n\naction_planner = ClosedLoopMacroActions(\n    cfg,\n    yumi_gs,\n    box_id,\n    pb_util.PB_CLIENT,\n    config_pkg_path,\n    object_mesh_file=mesh_file,\n    replan=False\n)\n\n# planner_args = data['planner_args']\nprimitive_name = planner_args['primitive_name']\nobject_start_pose_list = data['start']\nobject_goal_pose_list = data['goal']\n\npb_util.reset_body(\n    body_id=box_id, \n    base_pos=object_start_pose_list[:3],\n    base_quat=object_start_pose_list[3:])"
  },
  {
   "cell_type": "code",
   "execution_count": null,
   "metadata": {},
   "outputs": [],
   "source": "result = action_planner.execute(primitive_name=primitive_name, execute_args=planner_args)"
  },
  {
   "cell_type": "code",
   "execution_count": null,
   "metadata": {},
   "outputs": [],
   "source": "print(result)"
  },
  {
   "cell_type": "code",
   "execution_count": null,
   "metadata": {},
   "outputs": [],
   "source": "pb_util.remove_body(box_id)"
  },
  {
   "cell_type": "code",
   "execution_count": null,
   "metadata": {},
   "outputs": [],
   "source": "yumi_gs.update_joints(cfg.RIGHT_INIT + cfg.LEFT_INIT)"
  },
  {
   "cell_type": "code",
   "execution_count": null,
   "metadata": {},
   "outputs": [],
   "source": ""
  }
 ],
 "metadata": {
  "kernelspec": {
   "display_name": "Python 2",
   "language": "python",
   "name": "python2"
  },
  "language_info": {
   "codemirror_mode": {
    "name": "ipython",
    "version": 2
   },
   "file_extension": ".py",
   "mimetype": "text/x-python",
   "name": "python",
   "nbconvert_exporter": "python",
   "pygments_lexer": "ipython2",
   "version": "2.7.12"
  }
 },
 "nbformat": 4,
 "nbformat_minor": 4
}
