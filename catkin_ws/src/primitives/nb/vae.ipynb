{
 "cells": [
  {
   "cell_type": "code",
   "execution_count": 1,
   "metadata": {},
   "outputs": [],
   "source": "import os, sys\nsys.path.append('/root/catkin_ws/src/primitives/')\nimport pickle\nimport matplotlib.pyplot as plt\nimport numpy as np\nfrom mpl_toolkits.mplot3d import axes3d\nimport plotly.graph_objects as go\nfrom plotly.subplots import make_subplots\n\nimport trimesh\nimport networkx\n\nfrom open3d import JVisualizer\n\nimport copy\nimport time\nimport argparse\nimport numpy as np\nfrom multiprocessing import Process, Pipe, Queue\nimport pickle\nimport rospy\nimport copy\nimport signal\nimport open3d\nfrom IPython import embed\n\nfrom yacs.config import CfgNode as CN\nfrom closed_loop_experiments import get_cfg_defaults\n\nfrom airobot import Robot\nfrom airobot.utils import pb_util\nfrom airobot.sensor.camera.rgbdcam_pybullet import RGBDCameraPybullet\nfrom airobot.utils import common\nimport pybullet as p\n\nfrom helper import util\nfrom macro_actions import ClosedLoopMacroActions, YumiGelslimPybulet\n# from closed_loop_eval import SingleArmPrimitives, DualArmPrimitives"
  },
  {
   "cell_type": "code",
   "execution_count": 2,
   "metadata": {},
   "outputs": [],
   "source": "sys.path.append('/root/training/')\n\nimport os\nimport argparse\nimport time\nimport numpy as np\nimport torch\nfrom torch import nn\nfrom torch import optim\nfrom torch.autograd import Variable\nfrom data_loader import DataLoader\nfrom model import VAE\nfrom util import to_var, save_state, load_net_state, load_seed, load_opt_state"
  },
  {
   "cell_type": "code",
   "execution_count": 63,
   "metadata": {},
   "outputs": [],
   "source": "# with open ('/root/catkin_ws/src/primitives/data/grasp/face_ind_test_0/2.pkl', 'rb') as f:\n#     grasp_data = pickle.load(f)\n    \n# print(grasp_data.keys())"
  },
  {
   "cell_type": "code",
   "execution_count": 914,
   "metadata": {},
   "outputs": [
    {
     "name": "stdout",
     "output_type": "stream",
     "text": "/root/catkin_ws/src/primitives/data/grasp/face_ind_test_0_fixed/623.pkl\n['goal', 'contact_obj_frame', 'contact_world_frame', 'transformation', 'start', 'result', 'keypoints_start', 'contact_pcd', 'keypoints_goal', 'obs', 'goal_face']\n"
    }
   ],
   "source": "# with open ('/root/catkin_ws/src/primitives/data/pull/face_ind_large_0_fixed/1003.pkl', 'rb') as f:\n#     pull_data = pickle.load(f)\ngot_file = False\nwhile not got_file:\n    val = np.random.randint(low=0, high=2000)\n#     test_path = '/root/catkin_ws/src/primitives/data/pull/face_ind_large_0_fixed/%d.pkl' % val\n    test_path = '/root/catkin_ws/src/primitives/data/grasp/face_ind_test_0_fixed/%d.pkl' % val\n    if os.path.exists(test_path):\n        with open (test_path, 'rb') as f:\n#             pull_data = pickle.load(f)\n            grasp_data = pickle.load(f)\n            got_file = True\n\nprint(test_path)\n# print(pull_data.keys())\nprint(grasp_data.keys())"
  },
  {
   "cell_type": "markdown",
   "metadata": {},
   "source": "# Training data: \n## Inputs: \nInitial observation, different representations:\n- ```'start'```: pose ```[x_pos, y_pos, z_pos, x_ori, y_ori, z_ori, w_ori]```\n- ```'keypoints_start'```: 3D location of box corners at start pose\n- ```'obs':'pcd_pts'```: Point cloud of box from 3 different viewpoints, with same global coordinate sys. Can be fused with np.concatenate (see below)\n\nGoal, different representations:\n- ```'goal'```: pose\n- ```'keypoints_goal'```: 3D location of box corners at goal pose"
  },
  {
   "cell_type": "code",
   "execution_count": 915,
   "metadata": {},
   "outputs": [],
   "source": "# # start observation\n# start = pull_data['start']\n# keypoints_start = pull_data['keypoints_start']\n# pcd_pts = pull_data['obs']['pcd_pts']\n# pcd_pts_start = np.concatenate(pcd_pts, axis=0)\n\n# # goal\n# goal = pull_data['goal']\n# keypoints_goal = pull_data['keypoints_goal']\n\n# start observation\nstart = grasp_data['start']\nkeypoints_start = grasp_data['keypoints_start']\npcd_pts = grasp_data['obs']['pcd_pts']\npcd_pts_start = np.concatenate(pcd_pts, axis=0)\n\n# goal\ngoal = grasp_data['goal']\nkeypoints_goal = grasp_data['keypoints_goal']"
  },
  {
   "cell_type": "markdown",
   "metadata": {},
   "source": "# Outputs:\n## Pulling/Pushing (single arm)\nRobot palm pose in the object frame, for active arm -- active arm currently based on which side of the table the object starts on. TODO perhaps includes predicting which arm is active, once we move to more diverse data. For now, everything for pulling happens with the right arm\n- ```'contact_obj_frame'```: pose ```[x_pos, y_pos, z_pos, x_ori, y_ori, z_ori, w_ori]```, specified with respect to the coordinate system located at the object center of mass at the start pose\n\n## Grasping/Pivoting (dual arm)\n\nRight and left robot palm pose in the object frame\n- ```'contact_obj_frame':'right'```: right palm pose ```[x_pos, y_pos, z_pos, x_ori, y_ori, z_ori, w_ori]```, specified with respect to the coordinate system located at the object center of mass at the start pose\n- ```'contact_obj_frame':'left'```: left palm pose ```[x_pos, y_pos, z_pos, x_ori, y_ori, z_ori, w_ori]```, specified with respect to the coordinate system located at the object center of mass at the start pose"
  },
  {
   "cell_type": "code",
   "execution_count": 916,
   "metadata": {},
   "outputs": [],
   "source": "# right palm contact for pulling\n# contact_r = pull_data['contact_obj_frame']\n\n# both palms contact for grasping\ncontact_r = grasp_data['contact_obj_frame']['right']\ncontact_l = grasp_data['contact_obj_frame']['left']"
  },
  {
   "cell_type": "markdown",
   "metadata": {},
   "source": "# Training"
  },
  {
   "cell_type": "code",
   "execution_count": 917,
   "metadata": {},
   "outputs": [],
   "source": "## helpers\n\n# load minibatch\n# def load_minibatch(M, datatype='pose')\n\n\n## setup"
  },
  {
   "cell_type": "code",
   "execution_count": 918,
   "metadata": {},
   "outputs": [],
   "source": "# load model architecture (encoder and decoder)\n# setup optimizer\n\n# setup loss function\n\n## train loop\n\n# for epoch in num_epochs:\n# for minibatch in minibatch_size / data_size:\n# forward pass, compute loss, backprop, optimizer.step\n# look at loss"
  },
  {
   "cell_type": "code",
   "execution_count": 919,
   "metadata": {},
   "outputs": [],
   "source": "def pose_to_list(palm_pose_tensor):\n    pos = palm_pose_tensor[:3].data.cpu().numpy()\n    ori = palm_pose_tensor[3:].data.cpu().numpy()\n    \n    ori = ori/np.linalg.norm(ori)\n    \n    return pos.tolist() + ori.tolist()"
  },
  {
   "cell_type": "markdown",
   "metadata": {},
   "source": "# Testing"
  },
  {
   "cell_type": "code",
   "execution_count": 920,
   "metadata": {},
   "outputs": [
    {
     "name": "stdout",
     "output_type": "stream",
     "text": "Encoder(\n  (hidden_layers): Sequential(\n    (0): Linear(in_features=45, out_features=128, bias=True)\n    (1): ReLU()\n  )\n  (mu_head): Sequential(\n    (0): Linear(in_features=128, out_features=2, bias=True)\n  )\n  (logvar_head): Sequential(\n    (0): Linear(in_features=128, out_features=2, bias=True)\n  )\n)\nDecoder(\n  (decoder): Sequential(\n    (0): Linear(in_features=33, out_features=128, bias=True)\n    (1): ReLU()\n    (2): Linear(in_features=128, out_features=128, bias=True)\n    (3): ReLU()\n    (4): Linear(in_features=128, out_features=128, bias=True)\n    (5): ReLU()\n  )\n  (right_head): Sequential(\n    (0): Linear(in_features=128, out_features=7, bias=True)\n  )\n  (left_head): Sequential(\n    (0): Linear(in_features=128, out_features=7, bias=True)\n  )\n)\n"
    }
   ],
   "source": "## setup\n\n# distribution to sample from for start/goal (same as in training)\n\n# load trained model\n\n# vae = VAE(14, 7, 2, 0.0003)\n# load_net_state(vae, '/root/training/saved_models/pose_init_small_batch_1/pose_init_small_batch_1_epoch_63.pt')\n\n# vae = VAE(31, 7, 3, 0.0003)\n# load_net_state(vae, '/root/training/saved_models/pull_keypoints_init_small_batch_0/pull_keypoints_init_small_batch_0_epoch_99.pt')\n\n# vae = VAE(14, 14, 3, 0.0003)\n# load_net_state(vae, '/root/training/saved_models/grasp_pose_init_small_batch_0/grasp_pose_init_small_batch_0_epoch_298.pt')\n\n# vae = VAE(31, 14, 3, 0.0003)\n# load_net_state(vae, '/root/training/saved_models/grasp_keypoints_init_small_batch_1/grasp_keypoints_init_small_batch_1_epoch_199.pt')\n\n# vae = VAE(31, 7, 3, 0.0003)\n# print(vae.encoder)\n# print(vae.decoder)\n# load_net_state(vae, '/root/training/saved_models/grasp_keypoints_two_heads_small_batch_r_only_0/grasp_keypoints_two_heads_small_batch_r_only_0_epoch_5.pt')\n\nvae = VAE(31+14, 7, 2, 0.0003)\nprint(vae.encoder)\nprint(vae.decoder)\nload_net_state(vae, '/root/training/saved_models/grasp_keypoints_two_heads_full_data_grasp_input_0/grasp_keypoints_two_heads_full_data_grasp_input_0_epoch_65.pt')\n\n\n## eval"
  },
  {
   "cell_type": "code",
   "execution_count": 921,
   "metadata": {},
   "outputs": [],
   "source": "# sample from the latent space and use the decoder/generator to produce contacts, visualize below\n# x = torch.from_numpy(np.asarray(start+goal, dtype=np.float32))\n# x = torch.from_numpy(np.hstack((keypoints_start.flatten().astype(np.float32), np.asarray(goal, dtype=np.float32))))\n\nx = torch.from_numpy(np.hstack((keypoints_start.flatten().astype(np.float32), np.asarray(goal, dtype=np.float32))))\ncontact_input = torch.from_numpy(np.asarray(contact_r+contact_l, dtype=np.float32))\ndecoder_input = x[:31]\nz, pose_sample, z_mu, z_logvar = output = vae.forward(torch.cat((x, contact_input), dim=0), decoder_input)"
  },
  {
   "cell_type": "code",
   "execution_count": 922,
   "metadata": {},
   "outputs": [
    {
     "name": "stdout",
     "output_type": "stream",
     "text": "mu: tensor([0.0033, 0.0002], grad_fn=<AddBackward0>), std: tensor([0.9984, 1.0008], grad_fn=<ExpBackward>)\n"
    }
   ],
   "source": "print(\"mu: \" + str(z_mu) + \", std: \" + str(torch.exp(0.5*z_logvar)))"
  },
  {
   "cell_type": "code",
   "execution_count": 923,
   "metadata": {},
   "outputs": [
    {
     "name": "stdout",
     "output_type": "stream",
     "text": "(tensor([-0.0308,  0.0018,  0.0106,  0.0705, -0.0772,  0.0232,  0.0244],\n       grad_fn=<AddBackward0>), tensor([ 0.0286, -0.0051,  0.0170,  0.0500,  0.0484, -0.0159,  0.0152],\n       grad_fn=<AddBackward0>))\n"
    }
   ],
   "source": "# pose = vae.decode(z)\n# pose = vae.decode(z_mu)\n\nz_sample = torch.randn_like(torch.zeros(2, ))\n\npose = vae.decode(z_sample, decoder_input)\nprint(pose)"
  },
  {
   "cell_type": "code",
   "execution_count": 924,
   "metadata": {},
   "outputs": [],
   "source": "# pose_r = pose[:7]\n# pose_l = pose[7:]\n\npose_r = pose[0]\npose_l = pose[1]\n\n# pose = vae.decode(torch.normal(z_mu, torch.exp(0.5*z_logvar)))"
  },
  {
   "cell_type": "code",
   "execution_count": 925,
   "metadata": {},
   "outputs": [],
   "source": "# pos = pose[:3].data.cpu().numpy()\n# ori = pose[3:].data.cpu().numpy()\n\npos = pose_r[:3].data.cpu().numpy()\nori = pose_r[3:].data.cpu().numpy()"
  },
  {
   "cell_type": "code",
   "execution_count": 926,
   "metadata": {},
   "outputs": [],
   "source": "ori = ori/np.linalg.norm(ori)"
  },
  {
   "cell_type": "code",
   "execution_count": 927,
   "metadata": {},
   "outputs": [
    {
     "name": "stdout",
     "output_type": "stream",
     "text": "[-0.03083014  0.00180829  0.01064319]\n[ 0.64170605 -0.70298547  0.21103881  0.22245751]\n"
    }
   ],
   "source": "print(pos)\nprint(ori)"
  },
  {
   "cell_type": "code",
   "execution_count": 928,
   "metadata": {},
   "outputs": [],
   "source": "# pull_data_eval = copy.deepcopy(pull_data)\n# pull_data_eval['contact_obj_frame'] = pos.tolist() + ori.tolist()\n\ngrasp_data_eval = copy.deepcopy(grasp_data)\ngrasp_data_eval['contact_obj_frame']['right'] = pose_to_list(pose_r)\ngrasp_data_eval['contact_obj_frame']['left'] = pose_to_list(pose_l)"
  },
  {
   "cell_type": "code",
   "execution_count": 929,
   "metadata": {},
   "outputs": [
    {
     "name": "stdout",
     "output_type": "stream",
     "text": "right: [-0.030830135568976402, 0.0018082857131958008, 0.010643193498253822, 0.6417060494422913, -0.7029854655265808, 0.21103881299495697, 0.22245751321315765]\n----------------------------\nleft: [0.02859966829419136, -0.005130734294652939, 0.01700582355260849, 0.6849772334098816, 0.6635352969169617, -0.2172907441854477, 0.2081148624420166]\n"
    }
   ],
   "source": "# print(\"data: \" + str(pull_data['contact_obj_frame']))\n# print(\"--------\")\n# print(\"eval: \" + str(pos.tolist() + ori.tolist()))\n\nprint(\"right: \" + str(grasp_data_eval['contact_obj_frame']['right']))\nprint(\"----------------------------\")\nprint(\"left: \" + str(grasp_data_eval['contact_obj_frame']['left']))"
  },
  {
   "cell_type": "markdown",
   "metadata": {},
   "source": "# Visualization"
  },
  {
   "cell_type": "code",
   "execution_count": 829,
   "metadata": {},
   "outputs": [
    {
     "name": "stdout",
     "output_type": "stream",
     "text": "Metadata keys: \n"
    }
   ],
   "source": "# with open('/root/catkin_ws/src/primitives/data/pull/face_ind_large_0/metadata.pkl', 'rb') as mf:\n#     metadata = pickle.load(mf)\nwith open('/root/catkin_ws/src/primitives/data/grasp/face_ind_test_0/metadata.pkl', 'rb') as mf:\n    metadata = pickle.load(mf)\n\n\nprint('Metadata keys: ')\ndynamics_info = metadata['dynamics']\nmesh_file = metadata['mesh_file']\npalm_mesh_file = '/root/catkin_ws/src/config/descriptions/meshes/mpalm/mpalms_all_coarse.stl'\ntable_mesh_file = '/root/catkin_ws/src/config/descriptions/meshes/table/table_top.stl'\ncfg = metadata['cfg']"
  },
  {
   "cell_type": "markdown",
   "metadata": {},
   "source": "# Visualize contact on object"
  },
  {
   "cell_type": "code",
   "execution_count": 906,
   "metadata": {},
   "outputs": [],
   "source": "def vis_palms(data, name='pull'):\n    obj_mesh = trimesh.load_mesh(mesh_file)\n    r_palm_mesh = trimesh.load_mesh(palm_mesh_file)\n    l_palm_mesh = trimesh.load_mesh(palm_mesh_file)\n    table_mesh = trimesh.load_mesh(table_mesh_file)\n    \n    obj_pos_world = data['start'][:3]\n    obj_ori_world = data['start'][3:]\n    obj_ori_mat = common.quat2rot(obj_ori_world)\n    h_trans = np.zeros((4, 4))\n    h_trans[:3, :3] = obj_ori_mat\n    h_trans[:-1, -1] = obj_pos_world\n    h_trans[-1, -1] = 1\n\n    obj_mesh.apply_transform(h_trans)\n    if name == 'pull':\n        tip_contact_r_obj = util.list2pose_stamped(data['contact_obj_frame'])\n        tip_contact_r = util.convert_reference_frame(\n            pose_source=tip_contact_r_obj,\n            pose_frame_target=util.unit_pose(),\n            pose_frame_source=util.list2pose_stamped(data['start']))\n\n        wrist_contact_r = util.convert_reference_frame(\n            pose_source=util.list2pose_stamped(cfg.TIP_TO_WRIST_TF),\n            pose_frame_target=util.unit_pose(),\n            pose_frame_source=tip_contact_r)\n\n        wrist_contact_r_list = util.pose_stamped2list(wrist_contact_r)\n        \n        palm_pos_world_r = wrist_contact_r_list[:3]\n        palm_ori_world_r = wrist_contact_r_list[3:]\n        palm_ori_mat = common.quat2rot(palm_ori_world_r)\n        h_trans = np.zeros((4, 4))\n        h_trans[:3, :3] = palm_ori_mat\n        h_trans[:-1, -1] = palm_pos_world_r\n        h_trans[-1, -1] = 1\n\n        r_palm_mesh.apply_transform(h_trans)      \n        \n        scene = trimesh.Scene([obj_mesh, r_palm_mesh, table_mesh])        \n    else:\n        tip_contact_r_obj = util.list2pose_stamped(data['contact_obj_frame']['right'])\n        tip_contact_l_obj = util.list2pose_stamped(data['contact_obj_frame']['left'])\n\n        tip_contact_r = util.convert_reference_frame(\n            pose_source=tip_contact_r_obj,\n            pose_frame_target=util.unit_pose(),\n            pose_frame_source=util.list2pose_stamped(data['start']))\n            \n        tip_contact_l = util.convert_reference_frame(\n            pose_source=tip_contact_l_obj,\n            pose_frame_target=util.unit_pose(),\n            pose_frame_source=util.list2pose_stamped(data['start']))            \n            \n        wrist_contact_r = util.convert_reference_frame(\n            pose_source=util.list2pose_stamped(cfg.TIP_TO_WRIST_TF),\n            pose_frame_target=util.unit_pose(),\n            pose_frame_source=tip_contact_r)\n\n        wrist_contact_l = util.convert_reference_frame(\n            pose_source=util.list2pose_stamped(cfg.TIP_TO_WRIST_TF),\n            pose_frame_target=util.unit_pose(),\n            pose_frame_source=tip_contact_l)\n\n        wrist_contact_r_list = util.pose_stamped2list(wrist_contact_r)\n        wrist_contact_l_list = util.pose_stamped2list(wrist_contact_l)\n        \n        palm_pos_world_r = wrist_contact_r_list[:3]\n        palm_ori_world_r = wrist_contact_r_list[3:]\n        palm_ori_mat = common.quat2rot(palm_ori_world_r)\n        h_trans = np.zeros((4, 4))\n        h_trans[:3, :3] = palm_ori_mat\n        h_trans[:-1, -1] = palm_pos_world_r\n        h_trans[-1, -1] = 1\n\n        r_palm_mesh.apply_transform(h_trans)\n        \n        palm_pos_world_l = wrist_contact_l_list[:3]\n        palm_ori_world_l = wrist_contact_l_list[3:]\n        palm_ori_mat = common.quat2rot(palm_ori_world_l)\n        h_trans = np.zeros((4, 4))\n        h_trans[:3, :3] = palm_ori_mat\n        h_trans[:-1, -1] = palm_pos_world_l\n        h_trans[-1, -1] = 1\n\n        l_palm_mesh.apply_transform(h_trans)        \n        \n        good_camera_euler = [1.0513555,  -0.02236318, -1.62958927]\n        scene = trimesh.Scene([obj_mesh, r_palm_mesh, l_palm_mesh, table_mesh])\n#         scene = trimesh.Scene([obj_mesh, r_palm_mesh, table_mesh])\n        \n        for key in scene.geometry.keys():\n            print(key)\n            if 'mpalms_all_coarse' in key:\n                scene.geometry[key].visual.face_colors = [100, 100, 0, 30]\n\n        scene.geometry['table_top.stl'].visual.face_colors = [200, 200, 200, 250]\n        scene.geometry['realsense_box_experiments.stl'].visual.face_colors = [200, 200, 250, 250]\n        scene.set_camera(angles=good_camera_euler, center=data['start'][:3], distance=0.8)\n    return scene"
  },
  {
   "cell_type": "code",
   "execution_count": 907,
   "metadata": {},
   "outputs": [],
   "source": "def correct_pos(data):\n    contact_obj_frame_pred = util.list2pose_stamped(pull_data_eval['contact_obj_frame'])\n    contact_world_frame = util.convert_reference_frame(contact_obj_frame_pred, util.unit_pose(), util.list2pose_stamped(start))\n    contact_pos = open3d.utility.DoubleVector(np.array(util.pose_stamped2list(contact_world_frame)[:3]))\n\n    pcd = open3d.geometry.PointCloud()\n    pcd.points = open3d.utility.Vector3dVector(np.concatenate(pull_data_eval['obs']['pcd_pts']))\n    pcd.colors = open3d.utility.Vector3dVector(np.concatenate(pull_data_eval['obs']['pcd_colors']) / 255.0)\n\n    kdtree = open3d.geometry.KDTreeFlann(pcd)\n    nearest_pt_ind = kdtree.search_knn_vector_3d(contact_pos, 1)[1][0]\n    nearest_pt_world = np.asarray(pcd.points)[nearest_pt_ind]\n\n    contact_world_frame_corrected = copy.deepcopy(contact_world_frame)\n    contact_world_frame_corrected.pose.position.x = nearest_pt_world[0]\n    contact_world_frame_corrected.pose.position.y = nearest_pt_world[1]\n    contact_world_frame_corrected.pose.position.z = nearest_pt_world[2]\n\n    contact_obj_frame_corrected = util.pose_stamped2list(util.convert_reference_frame(contact_world_frame_corrected, util.list2pose_stamped(start), util.unit_pose()))\n    new_data = copy.deepcopy(data)\n    new_data['contact_obj_frame'] = contact_obj_frame_corrected\n    return new_data"
  },
  {
   "cell_type": "code",
   "execution_count": 908,
   "metadata": {},
   "outputs": [
    {
     "name": "stdout",
     "output_type": "stream",
     "text": "realsense_box_experiments.stl\nmpalms_all_coarse.stl\nmpalms_all_coarse.stl:B6NI8MS9H03A\ntable_top.stl\n"
    },
    {
     "data": {
      "text/plain": "SceneViewer(width=1800, height=1350)"
     },
     "execution_count": 908,
     "metadata": {},
     "output_type": "execute_result"
    }
   ],
   "source": "# scene = vis_palms(pull_data_eval, name='pull')\nscene = vis_palms(grasp_data_eval, name='grasp')\n\nscene.show(viewer='gl')"
  },
  {
   "cell_type": "code",
   "execution_count": 930,
   "metadata": {},
   "outputs": [
    {
     "name": "stdout",
     "output_type": "stream",
     "text": "realsense_box_experiments.stl\nmpalms_all_coarse.stl\nmpalms_all_coarse.stl:KKOCDEIASJUP\ntable_top.stl\n"
    },
    {
     "data": {
      "text/plain": "SceneViewer(width=1800, height=1350)"
     },
     "execution_count": 930,
     "metadata": {},
     "output_type": "execute_result"
    }
   ],
   "source": "scene = vis_palms(grasp_data, name='grasp')\n\nscene.show(viewer='gl')"
  },
  {
   "cell_type": "code",
   "execution_count": 934,
   "metadata": {},
   "outputs": [
    {
     "ename": "NameError",
     "evalue": "name 'pull_data_eval' is not defined",
     "output_type": "error",
     "traceback": [
      "\u001b[0;31m---------------------------------------------------------------------------\u001b[0m",
      "\u001b[0;31mNameError\u001b[0m                                 Traceback (most recent call last)",
      "\u001b[0;32m<ipython-input-934-d2a78a8fef42>\u001b[0m in \u001b[0;36m<module>\u001b[0;34m()\u001b[0m\n\u001b[0;32m----> 1\u001b[0;31m \u001b[0mscene\u001b[0m \u001b[0;34m=\u001b[0m \u001b[0mvis_palms\u001b[0m\u001b[0;34m(\u001b[0m\u001b[0mcorrect_pos\u001b[0m\u001b[0;34m(\u001b[0m\u001b[0mpull_data_eval\u001b[0m\u001b[0;34m)\u001b[0m\u001b[0;34m,\u001b[0m \u001b[0mname\u001b[0m\u001b[0;34m=\u001b[0m\u001b[0;34m'pull'\u001b[0m\u001b[0;34m)\u001b[0m\u001b[0;34m\u001b[0m\u001b[0m\n\u001b[0m\u001b[1;32m      2\u001b[0m \u001b[0;31m# scene = vis_palms(grasp_data, name='grasp')\u001b[0m\u001b[0;34m\u001b[0m\u001b[0;34m\u001b[0m\u001b[0m\n\u001b[1;32m      3\u001b[0m \u001b[0;34m\u001b[0m\u001b[0m\n\u001b[1;32m      4\u001b[0m \u001b[0mscene\u001b[0m\u001b[0;34m.\u001b[0m\u001b[0mshow\u001b[0m\u001b[0;34m(\u001b[0m\u001b[0mviewer\u001b[0m\u001b[0;34m=\u001b[0m\u001b[0;34m'gl'\u001b[0m\u001b[0;34m)\u001b[0m\u001b[0;34m\u001b[0m\u001b[0m\n",
      "\u001b[0;31mNameError\u001b[0m: name 'pull_data_eval' is not defined"
     ]
    }
   ],
   "source": "scene = vis_palms(correct_pos(pull_data_eval), name='pull')\n# scene = vis_palms(grasp_data, name='grasp')\n\nscene.show(viewer='gl')"
  },
  {
   "cell_type": "code",
   "execution_count": 937,
   "metadata": {},
   "outputs": [
    {
     "name": "stdout",
     "output_type": "stream",
     "text": "realsense_box_experiments.stl\nmpalms_all_coarse.stl\nmpalms_all_coarse.stl:GKW0XZRQKHTE\ntable_top.stl\n"
    },
    {
     "data": {
      "text/plain": "SceneViewer(width=1800, height=1350)"
     },
     "execution_count": 937,
     "metadata": {},
     "output_type": "execute_result"
    }
   ],
   "source": "# x = torch.from_numpy(np.asarray(start+goal, dtype=np.float32))\n# output = vae.forward(x)\n\n# pos = output[1][:3].data.cpu().numpy()\n# ori = output[1][3:].data.cpu().numpy()\n\n# ori = ori/np.linalg.norm(ori)\n\n# pull_data_eval = copy.deepcopy(pull_data)\n# pull_data_eval['contact_obj_frame'] = pos.tolist() + ori.tolist()\n\n# scene = vis_palms(pull_data_eval, name='pull')\n\n# x = torch.from_numpy(np.hstack((keypoints_start.flatten().astype(np.float32), np.asarray(goal, dtype=np.float32))))\n# output = vae.forward(x)\n\n# pose_r = output[1][:7]\n# pose_l = output[1][7:]\n\nz_sample = torch.randn_like(torch.zeros(2, ))\n\npose = vae.decode(z_sample, decoder_input)\npose_r = pose[0]\npose_l = pose[1]\n\ngrasp_data_eval = copy.deepcopy(grasp_data)\ngrasp_data_eval['contact_obj_frame']['right'] = pose_to_list(pose_r)\ngrasp_data_eval['contact_obj_frame']['left'] = pose_to_list(pose_l)\n\nscene = vis_palms(grasp_data_eval, name='grasp')\nscene.camera.look_at([grasp_data_eval['start'][:3]])\nscene.show(viewer='gl')"
  },
  {
   "cell_type": "code",
   "execution_count": 936,
   "metadata": {},
   "outputs": [
    {
     "data": {
      "text/plain": "<trimesh.scene.Camera> FOV: [60. 45.] Resolution: [1800 1350]"
     },
     "execution_count": 936,
     "metadata": {},
     "output_type": "execute_result"
    }
   ],
   "source": "# scene.camera_transform\n# scene.camera.look_at(points=[grasp_data_eval['start'][:3]], distance=0.4)\n\nscene.set_camera(angles=euler, center=grasp_data_eval['start'][:3], distance=0.8)"
  },
  {
   "cell_type": "code",
   "execution_count": 714,
   "metadata": {},
   "outputs": [],
   "source": "outputs = []\nz = torch.randn_like(torch.zeros(500, 2))\ndecoder_inputs = decoder_input.repeat(500).reshape(500, decoder_input.shape[0])\n\noutput = vae.decode(z, decoder_inputs)"
  },
  {
   "cell_type": "code",
   "execution_count": 715,
   "metadata": {},
   "outputs": [
    {
     "name": "stdout",
     "output_type": "stream",
     "text": "tensor([ 4.5400e-02,  7.1450e-02, -2.6030e-02,  4.5400e-02,  7.1450e-02,\n         2.6030e-02,  4.5400e-02, -7.1450e-02, -2.6030e-02,  4.5400e-02,\n        -7.1450e-02,  2.6030e-02, -4.5400e-02,  7.1450e-02, -2.6030e-02,\n        -4.5400e-02,  7.1450e-02,  2.6030e-02, -4.5400e-02, -7.1450e-02,\n        -2.6030e-02, -4.5400e-02, -7.1450e-02,  2.6030e-02,  4.5000e-01,\n         0.0000e+00,  2.6030e-02,  0.0000e+00,  0.0000e+00,  1.0000e+00,\n         6.1232e-17])\ntensor([ 4.5400e-02,  4.5400e-02,  7.1450e-02,  7.1450e-02, -2.6030e-02,\n        -2.6030e-02,  4.5400e-02,  4.5400e-02,  7.1450e-02,  7.1450e-02,\n         2.6030e-02,  2.6030e-02,  4.5400e-02,  4.5400e-02, -7.1450e-02,\n        -7.1450e-02, -2.6030e-02, -2.6030e-02,  4.5400e-02,  4.5400e-02,\n        -7.1450e-02, -7.1450e-02,  2.6030e-02,  2.6030e-02, -4.5400e-02,\n        -4.5400e-02,  7.1450e-02,  7.1450e-02, -2.6030e-02, -2.6030e-02,\n        -4.5400e-02, -4.5400e-02,  7.1450e-02,  7.1450e-02,  2.6030e-02,\n         2.6030e-02, -4.5400e-02, -4.5400e-02, -7.1450e-02, -7.1450e-02,\n        -2.6030e-02, -2.6030e-02, -4.5400e-02, -4.5400e-02, -7.1450e-02,\n        -7.1450e-02,  2.6030e-02,  2.6030e-02,  4.5000e-01,  4.5000e-01,\n         0.0000e+00,  0.0000e+00,  2.6030e-02,  2.6030e-02,  0.0000e+00,\n         0.0000e+00,  0.0000e+00,  0.0000e+00,  1.0000e+00,  1.0000e+00,\n         6.1232e-17,  6.1232e-17])\ntensor([[ 4.5400e-02,  7.1450e-02, -2.6030e-02,  4.5400e-02,  7.1450e-02,\n          2.6030e-02,  4.5400e-02, -7.1450e-02, -2.6030e-02,  4.5400e-02,\n         -7.1450e-02,  2.6030e-02, -4.5400e-02,  7.1450e-02, -2.6030e-02,\n         -4.5400e-02,  7.1450e-02,  2.6030e-02, -4.5400e-02, -7.1450e-02,\n         -2.6030e-02, -4.5400e-02, -7.1450e-02,  2.6030e-02,  4.5000e-01,\n          0.0000e+00,  2.6030e-02,  0.0000e+00,  0.0000e+00,  1.0000e+00,\n          6.1232e-17],\n        [ 4.5400e-02,  7.1450e-02, -2.6030e-02,  4.5400e-02,  7.1450e-02,\n          2.6030e-02,  4.5400e-02, -7.1450e-02, -2.6030e-02,  4.5400e-02,\n         -7.1450e-02,  2.6030e-02, -4.5400e-02,  7.1450e-02, -2.6030e-02,\n         -4.5400e-02,  7.1450e-02,  2.6030e-02, -4.5400e-02, -7.1450e-02,\n         -2.6030e-02, -4.5400e-02, -7.1450e-02,  2.6030e-02,  4.5000e-01,\n          0.0000e+00,  2.6030e-02,  0.0000e+00,  0.0000e+00,  1.0000e+00,\n          6.1232e-17]])\n"
    }
   ],
   "source": "print(decoder_input)\nprint(torch.repeat_interleave(decoder_input, repeats=2, dim=-1))\nprint(decoder_input.repeat(2).reshape(2, decoder_input.shape[0]))"
  },
  {
   "cell_type": "code",
   "execution_count": 716,
   "metadata": {},
   "outputs": [
    {
     "name": "stdout",
     "output_type": "stream",
     "text": "tensor(-0.0004, grad_fn=<MeanBackward1>)\ntensor(-0.0004, grad_fn=<MeanBackward1>)\ntensor(-0.0004, grad_fn=<MeanBackward1>)\ntensor(-0.0004, grad_fn=<MeanBackward1>)\ntensor(-0.0004, grad_fn=<MeanBackward1>)\ntensor(-0.0004, grad_fn=<MeanBackward1>)\ntensor(-0.0004, grad_fn=<MeanBackward1>)\n"
    }
   ],
   "source": "# output_mean = []\n# output_std = []\n# for i in range(output[0].shape[1]):\n#     avg_dim_i = torch.mean(output[0][:, i], axis=0)\n#     std_dim_i = torch.std(output[0][:, i], axis=0)\n#     print(avg_dim_i)\n#     output_mean.append(avg_dim_i.data.cpu())\n#     output_std.append(std_dim_i.data.cpu())\n\noutput_mean = []\noutput_std = []\nfor i in range(output[0].shape[1]):\n    avg_dim_i_r = torch.mean(output[0][:, i], axis=0)\n    std_dim_i_r = torch.std(output[0][:, i], axis=0)\n    \n    avg_dim_i_l = torch.mean(output[1][:, i], axis=0)\n    std_dim_i_l = torch.std(output[1][:, i], axis=0)    \n    print(avg_dim_i)\n    output_mean.append((avg_dim_i_r.data.cpu(), avg_dim_i_l.data.cpu()))\n    output_std.append((std_dim_i_r.data.cpu(), avg_dim_i_l.data.cpu()))"
  },
  {
   "cell_type": "code",
   "execution_count": 717,
   "metadata": {},
   "outputs": [],
   "source": "import matplotlib.pyplot as plt\nimport numpy as np\nimport scipy.stats as stats\nimport math\n\n%matplotlib notebook"
  },
  {
   "cell_type": "code",
   "execution_count": null,
   "metadata": {},
   "outputs": [],
   "source": "dim = 2\nsigma = output_std[dim]\nmu = output_mean[dim]\n\nx = np.linspace(mu - 3*sigma, mu + 3*sigma, 100)\nplt.plot(x, stats.norm.pdf(x, mu, sigma))\nplt.show()"
  },
  {
   "cell_type": "code",
   "execution_count": 718,
   "metadata": {},
   "outputs": [
    {
     "name": "stdout",
     "output_type": "stream",
     "text": "realsense_box_experiments.stl\nmpalms_all_coarse.stl\nmpalms_all_coarse.stl:RHHCKXODCLFQ\ntable_top.stl\n"
    },
    {
     "data": {
      "text/plain": "SceneViewer(width=1800, height=1350)"
     },
     "execution_count": 718,
     "metadata": {},
     "output_type": "execute_result"
    }
   ],
   "source": "# pos = np.asarray(output_mean[:3])\n# ori = np.asarray(output_mean[3:])\n\n# ori = ori/np.linalg.norm(ori)\n\n# pull_data_eval = copy.deepcopy(pull_data)\n# pull_data_eval['contact_obj_frame'] = pos.tolist() + ori.tolist()\n\n# scene = vis_palms(pull_data_eval, name='pull')\n\n# pose_r = output_mean[:7]\n# pose_l = output_mean[7:]\n\n# pose_r = output_mean[0][:7]\n# pose_l = output_mean[1][7:]\n\npose_r, pose_l = [], []\nfor i in range(output[0].shape[1]):\n    pose_r.append(output_mean[i][0])\n    pose_l.append(output_mean[i][1])\n\ngrasp_data_eval = copy.deepcopy(grasp_data)\ngrasp_data_eval['contact_obj_frame']['right'] = pose_r\ngrasp_data_eval['contact_obj_frame']['left'] = pose_l\nscene = vis_palms(grasp_data_eval, name='grasp')\n\nscene.show(viewer='gl')"
  },
  {
   "cell_type": "code",
   "execution_count": null,
   "metadata": {},
   "outputs": [],
   "source": "def correct_pos(data):\n    contact_obj_frame_pred = util.list2pose_stamped(pull_data_eval['contact_obj_frame'])\n    contact_world_frame = util.convert_reference_frame(contact_obj_frame_pred, util.unit_pose(), util.list2pose_stamped(start))\n    contact_pos = open3d.utility.DoubleVector(np.array(util.pose_stamped2list(contact_world_frame)[:3]))\n\n    pcd = open3d.geometry.PointCloud()\n    pcd.points = open3d.utility.Vector3dVector(np.concatenate(pull_data_eval['obs']['pcd_pts']))\n    pcd.colors = open3d.utility.Vector3dVector(np.concatenate(pull_data_eval['obs']['pcd_colors']) / 255.0)\n\n    kdtree = open3d.geometry.KDTreeFlann(pcd)\n    nearest_pt_ind = kdtree.search_knn_vector_3d(contact_pos, 1)[1][0]\n    nearest_pt_world = np.asarray(pcd.points)[nearest_pt_ind]\n\n    contact_world_frame_corrected = copy.deepcopy(contact_world_frame)\n    contact_world_frame_corrected.pose.position.x = nearest_pt_world[0]\n    contact_world_frame_corrected.pose.position.y = nearest_pt_world[1]\n    contact_world_frame_corrected.pose.position.z = nearest_pt_world[2]\n\n    contact_obj_frame_corrected = util.pose_stamped2list(util.convert_reference_frame(contact_world_frame_corrected, util.list2pose_stamped(start), util.unit_pose()))\n    return contact_obj_frame_correctedrected"
  },
  {
   "cell_type": "code",
   "execution_count": null,
   "metadata": {},
   "outputs": [],
   "source": "contact_obj_frame_pred = util.list2pose_stamped(pull_data_eval['contact_obj_frame'])\ncontact_world_frame = util.convert_reference_frame(contact_obj_frame_pred, util.unit_pose(), util.list2pose_stamped(start))\ncontact_pos = open3d.utility.DoubleVector(np.array(util.pose_stamped2list(contact_world_frame)[:3]))\n\npcd = open3d.geometry.PointCloud()\npcd.points = open3d.utility.Vector3dVector(np.concatenate(pull_data_eval['obs']['pcd_pts']))\npcd.colors = open3d.utility.Vector3dVector(np.concatenate(pull_data_eval['obs']['pcd_colors']) / 255.0)\n\nkdtree = open3d.geometry.KDTreeFlann(pcd)\nnearest_pt_ind = kdtree.search_knn_vector_3d(contact_pos, 1)[1][0]\nnearest_pt_world = np.asarray(pcd.points)[nearest_pt_ind]\n\ncontact_world_frame_corrected = copy.deepcopy(contact_world_frame)\ncontact_world_frame_corrected.pose.position.x = nearest_pt_world[0]\ncontact_world_frame_corrected.pose.position.y = nearest_pt_world[1]\ncontact_world_frame_corrected.pose.position.z = nearest_pt_world[2]\n\ncontact_obj_frame_corrected = util.pose_stamped2list(util.convert_reference_frame(contact_world_frame_corrected, util.list2pose_stamped(start), util.unit_pose()))"
  },
  {
   "cell_type": "code",
   "execution_count": null,
   "metadata": {},
   "outputs": [],
   "source": "print(pull_data_eval['contact_obj_frame'])\nprint(contact_obj_frame_corrected)"
  },
  {
   "cell_type": "code",
   "execution_count": null,
   "metadata": {},
   "outputs": [],
   "source": "pull_data_eval['contact_obj_frame'] = contact_obj_frame_corrected\nscene = vis_palms(pull_data_eval, name='pull')\n# scene = vis_palms(grasp_data, name='grasp')\n\nscene.show(viewer='gl')"
  },
  {
   "cell_type": "code",
   "execution_count": 596,
   "metadata": {},
   "outputs": [],
   "source": "loss_data = np.load('/root/training/saved_models/grasp_keypoints_two_heads_full_data_grasp_input_0/grasp_keypoints_two_heads_full_data_grasp_input_0_epoch_64_recon_loss.npz', allow_pickle=True)"
  },
  {
   "cell_type": "code",
   "execution_count": 597,
   "metadata": {},
   "outputs": [
    {
     "data": {
      "text/plain": "['pos_loss', 'ori_outputs', 'ori_loss', 'pos_outputs']"
     },
     "execution_count": 597,
     "metadata": {},
     "output_type": "execute_result"
    }
   ],
   "source": "loss_data.keys()"
  },
  {
   "cell_type": "code",
   "execution_count": 598,
   "metadata": {},
   "outputs": [
    {
     "data": {
      "text/plain": "(520,)"
     },
     "execution_count": 598,
     "metadata": {},
     "output_type": "execute_result"
    }
   ],
   "source": "loss_data['pos_loss'].shape"
  },
  {
   "cell_type": "code",
   "execution_count": 599,
   "metadata": {},
   "outputs": [
    {
     "data": {
      "image/png": "[encoded data removed]",
      "text/plain": "<Figure size 432x288 with 1 Axes>"
     },
     "metadata": {
      "needs_background": "light"
     },
     "output_type": "display_data"
    }
   ],
   "source": "plt.figure()\nplt.plot(loss_data['pos_loss'])\nplt.show()"
  },
  {
   "cell_type": "code",
   "execution_count": 600,
   "metadata": {},
   "outputs": [
    {
     "data": {
      "image/png": "[encoded data removed]",
      "text/plain": "<Figure size 432x288 with 1 Axes>"
     },
     "metadata": {
      "needs_background": "light"
     },
     "output_type": "display_data"
    }
   ],
   "source": "plt.figure()\nplt.plot(loss_data['ori_loss'])\nplt.show()"
  },
  {
   "cell_type": "code",
   "execution_count": 601,
   "metadata": {},
   "outputs": [],
   "source": "import scipy.signal as signal"
  },
  {
   "cell_type": "code",
   "execution_count": 602,
   "metadata": {},
   "outputs": [
    {
     "data": {
      "image/png": "[encoded data removed]",
      "text/plain": "<Figure size 432x288 with 1 Axes>"
     },
     "metadata": {
      "needs_background": "light"
     },
     "output_type": "display_data"
    }
   ],
   "source": "# sos = signal.butter(3, 0.03, 'low', output='sos')\nsos = signal.butter(3, 0.01, 'low', output='sos')\nfiltered = signal.sosfilt(sos, loss_data['ori_loss'])\n\nplt.figure()\nplt.plot(filtered)\nplt.show()"
  }
 ],
 "metadata": {
  "kernelspec": {
   "display_name": "Python 2",
   "language": "python",
   "name": "python2"
  },
  "language_info": {
   "codemirror_mode": {
    "name": "ipython",
    "version": 2
   },
   "file_extension": ".py",
   "mimetype": "text/x-python",
   "name": "python",
   "nbconvert_exporter": "python",
   "pygments_lexer": "ipython2",
   "version": "2.7.12"
  }
 },
 "nbformat": 4,
 "nbformat_minor": 4
}
