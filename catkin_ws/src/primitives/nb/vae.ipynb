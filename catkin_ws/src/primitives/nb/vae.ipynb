{
 "cells": [
  {
   "cell_type": "code",
   "execution_count": 1,
   "metadata": {},
   "outputs": [],
   "source": "import os, sys\nsys.path.append('/root/catkin_ws/src/primitives/')\nimport pickle\nimport matplotlib.pyplot as plt\nimport numpy as np\nfrom mpl_toolkits.mplot3d import axes3d\nimport plotly.graph_objects as go\nfrom plotly.subplots import make_subplots\n\nimport trimesh\nimport networkx\n\nfrom open3d import JVisualizer\n\nimport copy\nimport time\nimport argparse\nimport numpy as np\nfrom multiprocessing import Process, Pipe, Queue\nimport pickle\nimport rospy\nimport copy\nimport signal\nimport open3d\nfrom IPython import embed\n\nfrom yacs.config import CfgNode as CN\nfrom closed_loop_experiments import get_cfg_defaults\n\nfrom airobot import Robot\nfrom airobot.utils import pb_util\nfrom airobot.sensor.camera.rgbdcam_pybullet import RGBDCameraPybullet\nfrom airobot.utils import common\nimport pybullet as p\n\nfrom helper import util\nfrom macro_actions import ClosedLoopMacroActions, YumiGelslimPybulet\n# from closed_loop_eval import SingleArmPrimitives, DualArmPrimitives"
  },
  {
   "cell_type": "code",
   "execution_count": 2,
   "metadata": {},
   "outputs": [],
   "source": "sys.path.append('/root/training/')\n\nimport os\nimport argparse\nimport time\nimport numpy as np\nimport torch\nfrom torch import nn\nfrom torch import optim\nfrom torch.autograd import Variable\nfrom data_loader import DataLoader\nfrom model import VAE, GoalVAE\nfrom util import to_var, save_state, load_net_state, load_seed, load_opt_state\n\nimport scipy.signal as signal\n\nfrom sklearn.mixture import GaussianMixture\nfrom sklearn.manifold import TSNE"
  },
  {
   "cell_type": "code",
   "execution_count": 3,
   "metadata": {},
   "outputs": [],
   "source": "# with open ('/root/catkin_ws/src/primitives/data/grasp/face_ind_test_0/2.pkl', 'rb') as f:\n#     grasp_data = pickle.load(f)\n    \n# print(grasp_data.keys())"
  },
  {
   "cell_type": "code",
   "execution_count": 4,
   "metadata": {},
   "outputs": [
    {
     "name": "stdout",
     "output_type": "stream",
     "text": "/root/catkin_ws/src/primitives/data/pull/pull_face_all_0/test/1821/pkl/1821.pkl\n['transformation_corrected', 'goal', 'contact_obj_frame', 'contact_world_frame', 'start', 'result', 'keypoints_start', 'contact_pcd', 'keypoints_goal', 'transformation', 'keypoints_goal_corrected']\n/root/catkin_ws/src/primitives/data/grasp/face_ind_test_0_fixed/test/232/pkl/232.pkl\n['transformation_corrected', 'goal', 'keypoints_goal_corrected', 'contact_obj_frame', 'contact_world_frame', 'start', 'result', 'keypoints_start', 'contact_pcd', 'keypoints_goal', 'transformation', 'goal_face']\nMetadata keys: \n"
    }
   ],
   "source": "# with open ('/root/catkin_ws/src/primitives/data/pull/face_ind_large_0_fixed/1003.pkl', 'rb') as f:\n#     pull_data = pickle.load(f)\ndef get_rand_data(primitive='pull', train_test='test'):\n    got_file = False\n    while not got_file:\n        val = np.random.randint(low=0, high=5000)\n        if primitive == 'pull':\n            test_path = '/root/catkin_ws/src/primitives/data/pull/pull_face_all_0/%s/%d/pkl/%d.pkl' % (train_test, val, val)\n        elif primitive == 'grasp':\n            test_path = '/root/catkin_ws/src/primitives/data/grasp/face_ind_test_0_fixed/%s/%d/pkl/%d.pkl' % (train_test, val, val)\n        if os.path.exists(test_path):\n            with open (test_path, 'rb') as f:\n    #             pull_data = pickle.load(f)\n                data = pickle.load(f)\n                got_file = True\n\n    print(test_path)\n    # print(pull_data.keys())\n    print(data.keys())\n    return data\npull_data = get_rand_data(primitive='pull')\ngrasp_data = get_rand_data(primitive='grasp')\n\nwith open('/root/catkin_ws/src/primitives/data/pull/pull_face_all_0/metadata.pkl', 'rb') as mf:\n    metadata = pickle.load(mf)\n# with open('/root/catkin_ws/src/primitives/data/grasp/face_ind_test_0_fixed/metadata.pkl', 'rb') as mf:\n#     metadata = pickle.load(mf)\n\n\nprint('Metadata keys: ')\ndynamics_info = metadata['dynamics']\nmesh_file = metadata['mesh_file']\npalm_mesh_file = '/root/catkin_ws/src/config/descriptions/meshes/mpalm/mpalms_all_coarse.stl'\ntable_mesh_file = '/root/catkin_ws/src/config/descriptions/meshes/table/table_top.stl'\ncfg = metadata['cfg']"
  },
  {
   "cell_type": "markdown",
   "metadata": {},
   "source": "# Viz Utils"
  },
  {
   "cell_type": "code",
   "execution_count": 280,
   "metadata": {},
   "outputs": [],
   "source": "def vis_palms(data, name='pull', goal='transformation', goal_number=1, palm_number=1):\n    obj_mesh = trimesh.load_mesh(mesh_file)\n    table_mesh = trimesh.load_mesh(table_mesh_file)\n    \n    obj_pos_world = data['start'][:3]\n    obj_ori_world = data['start'][3:]\n    obj_ori_mat = common.quat2rot(obj_ori_world)\n    h_trans = np.zeros((4, 4))\n    h_trans[:3, :3] = obj_ori_mat\n    h_trans[:-1, -1] = obj_pos_world\n    h_trans[-1, -1] = 1\n\n    obj_mesh.apply_transform(h_trans)\n    \n    if len(data['transformation_corrected']) > 0:\n        if not isinstance(data['transformation_corrected'][0], list):\n            tmp = data['transformation_corrected']\n            data['transformation_corrected'] = [tmp]\n    else:\n        goal_number = 0\n    if not isinstance(data['contact_obj_frame']['right'][0], list):\n        tmp_r = data['contact_obj_frame']['right']\n        tmp_l = data['contact_obj_frame']['left']\n        data['contact_obj_frame']['right'] = [tmp_r]\n        data['contact_obj_frame']['left'] = [tmp_l]\n        \n    \n    goal_obj_meshes = []\n    for i in range(goal_number):\n        goal_obj_mesh = trimesh.load_mesh(mesh_file)        \n        if goal == 'transformation':\n            T_mat = util.matrix_from_pose(util.list2pose_stamped(data['transformation_corrected'][i]))\n            T_start = util.matrix_from_pose(util.list2pose_stamped(data['start']))\n            T_goal = np.matmul(T_mat, T_start)\n            goal_obj_pose_world = util.pose_stamped2list(util.pose_from_matrix(T_goal))\n    #         goal_obj_pose_start = util.list2pose_stamped(data['transformation_corrected'])\n    #         goal_obj_pose_world = util.pose_stamped2list(\n    #             util.convert_reference_frame(\n    #                 goal_obj_pose_start,\n    #                 util.unit_pose(),\n    #                 util.list2pose_stamped(data['start'])))\n            goal_obj_pos_world = goal_obj_pose_world[:3]\n            goal_obj_ori_world = goal_obj_pose_world[3:]\n        else:\n            goal_obj_pos_world = data['goal'][:3]\n            goal_obj_ori_world = data['goal'][3:]\n        goal_obj_ori_mat = common.quat2rot(goal_obj_ori_world)\n        goal_h_trans = np.zeros((4, 4))\n        goal_h_trans[:3, :3] = goal_obj_ori_mat\n        goal_h_trans[:-1, -1] = goal_obj_pos_world\n        goal_h_trans[-1, -1] = 1 \n\n        goal_obj_mesh.apply_transform(goal_h_trans)\n        goal_obj_meshes.append(goal_obj_mesh)\n    \n    r_palm_meshes = []\n    l_palm_meshes = []\n    \n    if name == 'pull':\n        for j in range(palm_number):\n            r_palm_mesh = trimesh.load_mesh(palm_mesh_file)\n            l_palm_mesh = trimesh.load_mesh(palm_mesh_file)\n            \n            tip_contact_r_obj = util.list2pose_stamped(data['contact_obj_frame']['right'][j])\n            tip_contact_r = util.convert_reference_frame(\n                pose_source=tip_contact_r_obj,\n                pose_frame_target=util.unit_pose(),\n                pose_frame_source=util.list2pose_stamped(data['start']))\n\n            wrist_contact_r = util.convert_reference_frame(\n                pose_source=util.list2pose_stamped(cfg.TIP_TO_WRIST_TF),\n                pose_frame_target=util.unit_pose(),\n                pose_frame_source=tip_contact_r)\n\n            wrist_contact_r_list = util.pose_stamped2list(wrist_contact_r)\n\n            palm_pos_world_r = wrist_contact_r_list[:3]\n            palm_ori_world_r = wrist_contact_r_list[3:]\n            palm_ori_mat = common.quat2rot(palm_ori_world_r)\n            h_trans = np.zeros((4, 4))\n            h_trans[:3, :3] = palm_ori_mat\n            h_trans[:-1, -1] = palm_pos_world_r\n            h_trans[-1, -1] = 1\n\n            r_palm_mesh.apply_transform(h_trans)\n            r_palm_meshes.append(r_palm_mesh)\n        \n#         scene = trimesh.Scene([obj_mesh, r_palm_mesh, table_mesh, goal_obj_mesh]) \n#         scene = trimesh.Scene([obj_mesh, r_palm_mesh, table_mesh] + goal_obj_meshes)\n        scene = trimesh.Scene([obj_mesh, table_mesh] + r_palm_meshes + goal_obj_meshes)\n    else:\n        for j in range(palm_number):\n            r_palm_mesh = trimesh.load_mesh(palm_mesh_file)\n            l_palm_mesh = trimesh.load_mesh(palm_mesh_file)\n            \n            tip_contact_r_obj = util.list2pose_stamped(data['contact_obj_frame']['right'][j])\n            tip_contact_l_obj = util.list2pose_stamped(data['contact_obj_frame']['left'][j])\n\n            tip_contact_r = util.convert_reference_frame(\n                pose_source=tip_contact_r_obj,\n                pose_frame_target=util.unit_pose(),\n                pose_frame_source=util.list2pose_stamped(data['start']))\n\n            tip_contact_l = util.convert_reference_frame(\n                pose_source=tip_contact_l_obj,\n                pose_frame_target=util.unit_pose(),\n                pose_frame_source=util.list2pose_stamped(data['start']))            \n\n            wrist_contact_r = util.convert_reference_frame(\n                pose_source=util.list2pose_stamped(cfg.TIP_TO_WRIST_TF),\n                pose_frame_target=util.unit_pose(),\n                pose_frame_source=tip_contact_r)\n\n            wrist_contact_l = util.convert_reference_frame(\n                pose_source=util.list2pose_stamped(cfg.TIP_TO_WRIST_TF),\n                pose_frame_target=util.unit_pose(),\n                pose_frame_source=tip_contact_l)\n\n            wrist_contact_r_list = util.pose_stamped2list(wrist_contact_r)\n            wrist_contact_l_list = util.pose_stamped2list(wrist_contact_l)\n\n            palm_pos_world_r = wrist_contact_r_list[:3]\n            palm_ori_world_r = wrist_contact_r_list[3:]\n            palm_ori_mat = common.quat2rot(palm_ori_world_r)\n            h_trans = np.zeros((4, 4))\n            h_trans[:3, :3] = palm_ori_mat\n            h_trans[:-1, -1] = palm_pos_world_r\n            h_trans[-1, -1] = 1\n\n            r_palm_mesh.apply_transform(h_trans)\n\n            palm_pos_world_l = wrist_contact_l_list[:3]\n            palm_ori_world_l = wrist_contact_l_list[3:]\n            palm_ori_mat = common.quat2rot(palm_ori_world_l)\n            h_trans = np.zeros((4, 4))\n            h_trans[:3, :3] = palm_ori_mat\n            h_trans[:-1, -1] = palm_pos_world_l\n            h_trans[-1, -1] = 1\n\n            l_palm_mesh.apply_transform(h_trans)        \n\n            r_palm_meshes.append(r_palm_mesh)\n            l_palm_meshes.append(l_palm_mesh)\n\n#         scene = trimesh.Scene([obj_mesh, r_palm_mesh, l_palm_mesh, table_mesh, goal_obj_mesh])\n#         scene = trimesh.Scene([obj_mesh, r_palm_mesh, l_palm_mesh, table_mesh] + goal_obj_meshes)\n        scene = trimesh.Scene([obj_mesh, table_mesh] + r_palm_meshes + l_palm_meshes + goal_obj_meshes)\n#         scene = trimesh.Scene([obj_mesh, r_palm_mesh, table_mesh])\n    good_camera_euler = [1.0513555,  -0.02236318, -1.62958927]\n    box_count = 0\n    for key in scene.geometry.keys():\n        print(key)\n        if 'mpalms_all_coarse' in key:\n            scene.geometry[key].visual.face_colors = [100, 100, 0, 30]\n        if 'realsense_box_experiments' in key:\n            if box_count == 0:\n                scene.geometry[key].visual.face_colors = [250, 200, 200, 150]\n                box_count += 1\n            else:\n                scene.geometry[key].visual.face_colors = [200, 200, 250, 150]                \n\n    scene.geometry['table_top.stl'].visual.face_colors = [200, 200, 200, 250]\n#     scene.geometry['realsense_box_experiments.stl'].visual.face_colors = [200, 200, 250, 250]\n    scene.set_camera(angles=good_camera_euler, center=data['start'][:3], distance=0.8)\n    return scene\n\ndef correct_pos(data):\n    contact_obj_frame_pred = util.list2pose_stamped(pull_data_eval['contact_obj_frame'])\n    contact_world_frame = util.convert_reference_frame(contact_obj_frame_pred, util.unit_pose(), util.list2pose_stamped(start))\n    contact_pos = open3d.utility.DoubleVector(np.array(util.pose_stamped2list(contact_world_frame)[:3]))\n\n    pcd = open3d.geometry.PointCloud()\n    pcd.points = open3d.utility.Vector3dVector(np.concatenate(pull_data_eval['obs']['pcd_pts']))\n    pcd.colors = open3d.utility.Vector3dVector(np.concatenate(pull_data_eval['obs']['pcd_colors']) / 255.0)\n\n    kdtree = open3d.geometry.KDTreeFlann(pcd)\n    nearest_pt_ind = kdtree.search_knn_vector_3d(contact_pos, 1)[1][0]\n    nearest_pt_world = np.asarray(pcd.points)[nearest_pt_ind]\n\n    contact_world_frame_corrected = copy.deepcopy(contact_world_frame)\n    contact_world_frame_corrected.pose.position.x = nearest_pt_world[0]\n    contact_world_frame_corrected.pose.position.y = nearest_pt_world[1]\n    contact_world_frame_corrected.pose.position.z = nearest_pt_world[2]\n\n    contact_obj_frame_corrected = util.pose_stamped2list(util.convert_reference_frame(contact_world_frame_corrected, util.list2pose_stamped(start), util.unit_pose()))\n    new_data = copy.deepcopy(data)\n    new_data['contact_obj_frame'] = contact_obj_frame_corrected\n    return new_data\n\n\ndef plot_keypoint_goal(data):\n\n    i_list=[0, 1, 4, 5, 2, 3, 0, 5, 1, 1, 0, 2]\n    j_list=[1, 2, 5, 6, 3, 6, 1, 1, 5, 3, 4, 4]\n    k_list=[2, 3, 6, 7, 6, 7, 4, 4, 7, 7, 6, 6]\n    \n    red_marker = {\n        'size' : 1.0,\n        'color' : 'red',                # set color to an array/list of desired values\n        'colorscale' : 'Viridis',   # choose a colorscale\n        'opacity' : 0.8\n    } \n    blue_marker = {\n        'size' : 1.0,\n        'color' : 'blue',                # set color to an array/list of desired values\n        'colorscale' : 'Viridis',   # choose a colorscale\n        'opacity' : 0.8\n    }   \n    \n    black_marker = {\n        'size' : 3.0,\n        'color' : 'black',                # set color to an array/list of desired values\n        'colorscale' : 'Viridis',   # choose a colorscale\n        'opacity' : 0.8\n    }       \n    \n    kp_start = data['keypoints_start']\n\n    start_data = {\n        'type': 'mesh3d',\n        'x': kp_start[:, 0],\n        'y': kp_start[:, 1],\n        'z': kp_start[:, 2],\n        'color': 'red',\n        'opacity': 0.95,\n        'delaunayaxis': 'z',\n        'i': i_list,\n        'j': j_list,\n        'k': k_list,\n        'flatshading': True\n    }\n    \n    start_kp_data = {\n        'type': 'scatter3d',\n        'x': kp_start[:, 0],\n        'y': kp_start[:, 1],\n        'z': kp_start[:, 2],\n        'mode': 'markers',\n        'marker': red_marker        \n    }\n    \n    plane_data = {\n        'type': 'mesh3d',\n        'x': [-1, 1, 1, -1],\n        'y': [-1, -1, 1, 1],\n        'z': [0, 0, 0, 0],\n        'color': 'gray',\n        'opacity': 0.5,\n        'delaunayaxis': 'z'\n    }\n    \n    fig_data = []   \n    fig_data.append(start_data)    \n    fig_data.append(plane_data)\n    \n    \n    if isinstance(data['keypoints_goal_corrected'], list):        \n        for kp_goal in data['keypoints_goal_corrected']:\n            goal_data = {\n                'type': 'mesh3d',\n                'x': kp_goal[:, 0],\n                'y': kp_goal[:, 1],\n                'z': kp_goal[:, 2],\n                'color': 'blue',\n                'opacity': 0.05,\n                'delaunayaxis': 'z',\n                'i': i_list,\n                'j': j_list,\n                'k': k_list,\n                'flatshading': True\n            }\n            \n            goal_kp_data = {\n                'type': 'scatter3d',\n                'x': kp_goal[:, 0],\n                'y': kp_goal[:, 1],\n                'z': kp_goal[:, 2],\n                'mode': 'markers',\n                'marker': black_marker\n            }\n            \n            fig_data.append(goal_data)\n            fig_data.append(goal_kp_data)\n    else:\n        kp_goal = data['keypoints_goal_corrected']\n        goal_data = {\n            'type': 'mesh3d',\n            'x': kp_goal[:, 0],\n            'y': kp_goal[:, 1],\n            'z': kp_goal[:, 2],\n            'color': 'blue',\n            'opacity': 0.05,\n            'delaunayaxis': 'z',\n            'i': i_list,\n            'j': j_list,\n            'k': k_list,\n            'flatshading': True\n        }\n        \n        goal_kp_data = {\n            'type': 'scatter3d',\n            'x': kp_goal[:, 0],\n            'y': kp_goal[:, 1],\n            'z': kp_goal[:, 2],\n            'mode': 'markers',\n            'marker': black_marker\n        }       \n        \n        fig_data.append(goal_data)\n        fig_data.append(goal_kp_data)\n\n    fig = go.Figure(data=fig_data)\n    \n#     camera = {\n#         'up': {'x': 0, 'y': 0,'z': 1},\n#         'center': {'x': data['start'][0], 'y': data['start'][1], 'z': data['start'][2]-0.5},\n#         'eye': {'x': -1.0, 'y': 0.0, 'z': 0.01}\n#     } \n    camera = {\n        'up': {'x': 0, 'y': 0,'z': 1},\n        'center': {'x': 0.45, 'y': 0, 'z': 0.0},\n        'eye': {'x': -1.0, 'y': 0.0, 'z': 0.01}\n    } \n\n    scene = {\n        'xaxis': {'nticks': 10, 'range': [-0.1, 0.9]},\n        'yaxis': {'nticks': 16, 'range': [-0.5, 0.5]},\n        'zaxis': {'nticks': 8, 'range': [-0.01, 0.99]}\n    }\n    width = 700\n    margin = {'r': 20, 'l': 10, 'b': 10, 't': 10}    \n    \n    fig.update_layout(\n        scene=scene, \n        scene_camera=camera,\n        width=width,\n        margin=margin\n    )    \n    return fig\n\ndef plot_keypoint_plan(keypoint_plan):\n\n    i_list=[0, 1, 4, 5, 2, 3, 0, 5, 1, 1, 0, 2]\n    j_list=[1, 2, 5, 6, 3, 6, 1, 1, 5, 3, 4, 4]\n    k_list=[2, 3, 6, 7, 6, 7, 4, 4, 7, 7, 6, 6]\n    \n    red_marker = {\n        'size' : 1.0,\n        'color' : 'red',                # set color to an array/list of desired values\n        'colorscale' : 'Viridis',   # choose a colorscale\n        'opacity' : 0.8\n    } \n    blue_marker = {\n        'size' : 1.0,\n        'color' : 'blue',                # set color to an array/list of desired values\n        'colorscale' : 'Viridis',   # choose a colorscale\n        'opacity' : 0.8\n    }   \n    \n    black_marker = {\n        'size' : 3.0,\n        'color' : 'black',                # set color to an array/list of desired values\n        'colorscale' : 'Viridis',   # choose a colorscale\n        'opacity' : 0.8\n    }       \n    \n    kp_start = keypoint_plan[0]['keypoints_start']\n\n    start_data = {\n        'type': 'mesh3d',\n        'x': kp_start[:, 0],\n        'y': kp_start[:, 1],\n        'z': kp_start[:, 2],\n        'color': 'red',\n        'opacity': 0.95,\n        'delaunayaxis': 'z',\n        'i': i_list,\n        'j': j_list,\n        'k': k_list,\n        'flatshading': True\n    }\n    \n    start_kp_data = {\n        'type': 'scatter3d',\n        'x': kp_start[:, 0],\n        'y': kp_start[:, 1],\n        'z': kp_start[:, 2],\n        'mode': 'markers',\n        'marker': red_marker        \n    }\n    \n    plane_data = {\n        'type': 'mesh3d',\n        'x': [-1, 1, 1, -1],\n        'y': [-1, -1, 1, 1],\n        'z': [0, 0, 0, 0],\n        'color': 'gray',\n        'opacity': 0.5,\n        'delaunayaxis': 'z'\n    }\n    \n    fig_data = []   \n    fig_data.append(start_data)    \n    fig_data.append(plane_data)\n    \n    for i in range(len(keypoint_plan) - 1):\n        kp_goal = keypoint_plan[i+1]['keypoints_start']\n        \n        goal_data = {\n            'type': 'mesh3d',\n            'x': kp_goal[:, 0],\n            'y': kp_goal[:, 1],\n            'z': kp_goal[:, 2],\n            'color': 'blue',\n            'opacity': 0.05,\n            'delaunayaxis': 'z',\n            'i': i_list,\n            'j': j_list,\n            'k': k_list,\n            'flatshading': True\n        }\n        goal_kp_data = {\n            'type': 'scatter3d',\n            'x': kp_goal[:, 0],\n            'y': kp_goal[:, 1],\n            'z': kp_goal[:, 2],\n            'mode': 'markers',\n            'marker': black_marker\n        }\n        fig_data.append(goal_data)\n        fig_data.append(goal_kp_data)\n    \n    fig = go.Figure(data=fig_data)\n    \n    camera = {\n        'up': {'x': 0, 'y': 0,'z': 1},\n        'center': {'x': 0.45, 'y': 0, 'z': 0.0},\n        'eye': {'x': -1.0, 'y': 0.0, 'z': 0.01}\n    }    \n\n    scene = {\n        'xaxis': {'nticks': 10, 'range': [-0.1, 0.9]},\n        'yaxis': {'nticks': 16, 'range': [-0.5, 0.5]},\n        'zaxis': {'nticks': 8, 'range': [-0.01, 0.99]}\n    }\n    width = 700\n    margin = {'r': 20, 'l': 10, 'b': 10, 't': 10}    \n    \n    fig.update_layout(\n        scene=scene, \n        scene_camera=camera,\n        width=width,\n        margin=margin\n    )    \n    return fig\n\ndef transform_keypoints(data, number=1):\n    if not isinstance(data['transformation_corrected'][0], list):\n        tmp = data['transformation_corrected']\n        data['transformation_corrected'] = [tmp]\n    \n    data['keypoints_goal_corrected'] = []\n    \n    keypoints_start_homog = np.hstack(\n        (data['keypoints_start'], np.ones(\n            (data['keypoints_start'].shape[0], 1)))\n    )    \n    \n    for i in range(number):\n        T_mat = util.matrix_from_pose(util.list2pose_stamped(data['transformation_corrected'][i]))\n        data['keypoints_goal_corrected'].append(np.matmul(T_mat, keypoints_start_homog.T).T[:, :3])\n    return data\n\ndef transform_keypoints_full(data, number=1):\n    if not isinstance(data['transformation_corrected'][0], list):\n        tmp = data['transformation_corrected']\n        data['transformation_corrected'] = [tmp]\n    \n    data['keypoints_goal_corrected'] = []\n    data['goal'] = []\n    \n    keypoints_start_homog = np.hstack(\n        (data['keypoints_start'], np.ones(\n            (data['keypoints_start'].shape[0], 1)))\n    )\n    \n    T_start = util.matrix_from_pose(util.list2pose_stamped(data['start']))\n    \n    for i in range(number):\n        T_mat = util.matrix_from_pose(util.list2pose_stamped(data['transformation_corrected'][i]))\n        data['keypoints_goal_corrected'].append(np.matmul(T_mat, keypoints_start_homog.T).T[:, :3])\n        T_goal = np.matmul(T_mat, T_start)        \n        data['goal'].append(util.pose_stamped2list(util.pose_from_matrix(T_goal)))\n    return data\n"
  },
  {
   "cell_type": "code",
   "execution_count": 49,
   "metadata": {},
   "outputs": [
    {
     "name": "stdout",
     "output_type": "stream",
     "text": "/root/catkin_ws/src/primitives/data/grasp/face_ind_test_0_fixed/test/2090/pkl/2090.pkl\n['transformation_corrected', 'goal', 'keypoints_goal_corrected', 'contact_obj_frame', 'contact_world_frame', 'start', 'result', 'keypoints_start', 'contact_pcd', 'keypoints_goal', 'transformation', 'goal_face']\nrealsense_box_experiments.stl\ntable_top.stl\nmpalms_all_coarse.stl\nmpalms_all_coarse.stl:EUTNDPMOQYFJ\nrealsense_box_experiments.stl:EUVG1YM6BRJC\n"
    },
    {
     "data": {
      "text/plain": "SceneViewer(width=1800, height=1350)"
     },
     "execution_count": 49,
     "metadata": {},
     "output_type": "execute_result"
    }
   ],
   "source": "# scene = vis_palms(grasp_data, name='grasp', goal='goal')\nscene = vis_palms(get_rand_data('grasp'), name='grasp', goal='transformation')\n\nscene.show(viewer='gl')"
  },
  {
   "cell_type": "markdown",
   "metadata": {},
   "source": "# Torch Utils"
  },
  {
   "cell_type": "code",
   "execution_count": 269,
   "metadata": {},
   "outputs": [],
   "source": "def torch_pose_to_list(palm_pose_tensor):\n    pos = palm_pose_tensor[:3].data.cpu().numpy()\n    ori = palm_pose_tensor[3:].data.cpu().numpy()\n    \n    ori = ori/np.linalg.norm(ori)\n    \n    return pos.tolist() + ori.tolist()\n\ndef to_torch_contact(data):\n    inp0 = torch.from_numpy(data['keypoints_start'].flatten().astype(np.float32)).cuda()\n    inp1 = torch.from_numpy(data['keypoints_goal_corrected'].flatten().astype(np.float32)).cuda()\n    return torch.cat((inp0, inp1))\n\ndef to_torch_trans(data):\n    inp0 = torch.from_numpy(data['keypoints_start'].flatten().astype(np.float32)).cuda()\n    return inp0\n\ndef to_torch_trans_full(data):\n    inp0 = torch.from_numpy(data['keypoints_start'].flatten().astype(np.float32)).cuda()\n    inp1 = torch.from_numpy(np.asarray(data['transformation_corrected'], dtype=np.float32)).cuda()\n    return inp0, inp1\n\ndef eval_grasp_trans_sample(keypoints_start, trans_sample, grasp_vae, grasp_clf):\n    inp = torch.cat((keypoints_start, trans_sample))\n    z_sample = grasp_vae.encode(inp)[1]\n    \n    log_prob = grasp_clf.score(z_sample.data.cpu().numpy().reshape(1, -1))\n    return log_prob\n\ndef eval_contact_sample(keypoints_start, keypoints_goal, palm_sample, vae, clf):\n    inp = torch.cat((keypoints_start, keypoints_goal, palm_sample))\n    z_sample = vae.encode(inp)[1]\n    \n    log_prob = clf.score(z_sample.data.cpu().numpy().reshape(1, -1))\n    return log_prob\n\ndef empty_state():\n    data = {}\n    data['keypoints_start'] = None\n    data['keypoints_goal_corrected'] = []\n    data['transformation_corrected'] = []\n    data['start'] = None\n    data['goal'] = None\n    data['contact_obj_frame'] = {}\n    data['contact_obj_frame']['right'] = None\n    data['contact_obj_frame']['left'] = None\n    return data"
  },
  {
   "cell_type": "code",
   "execution_count": 77,
   "metadata": {},
   "outputs": [],
   "source": "def sample_contact(vae, start_data, primitive='pull', num_samples=1, clf=None):\n    output_data = copy.deepcopy(start_data)\n    output_data['contact_obj_frame']['right'] = []\n    output_data['contact_obj_frame']['left'] = []    \n    \n    x = to_torch_contact(start_data)\n    for i in range(num_samples):\n        if clf is None:\n            z_sample = torch.randn_like(torch.zeros(3,)).cuda()\n        else:\n            z_sample = torch.from_numpy(clf.sample()[0].squeeze()).cuda()\n\n        palm_poses = vae.decode(z_sample, x)\n        r_palm, l_palm = palm_poses[0], palm_poses[1]\n\n        output_data['contact_obj_frame']['right'].append(torch_pose_to_list(r_palm))\n        output_data['contact_obj_frame']['left'].append(torch_pose_to_list(l_palm))\n        \n    return output_data\n\ndef sample_pull_transformation(pull_vae, start_data, num_samples=1, pull_clf=None):\n    x = torch.from_numpy(start_data['keypoints_start'].flatten().astype(np.float32)).cuda()\n    \n    output_data = copy.deepcopy(start_data)\n    output_data['transformation_corrected'] = []\n    output_data['keypoints_goal_corrected'] = []    \n    for i in range(num_samples):\n        z_sample = torch.randn_like(torch.zeros(3,)).cuda()\n        trans = pull_vae.decode(z_sample, x)\n        \n        output_data['transformation_corrected'].append(pose_to_list(trans))\n    \n    output_data = transform_keypoints(output_data, number=num_samples)\n    \n    return output_data\n\ndef sample_grasp_transformation(grasp_vae, grasp_clf, start_data, num_samples=1, max_k=100, best_threshold=9.0):\n    x = torch.from_numpy(start_data['keypoints_start'].flatten().astype(np.float32)).cuda()\n    \n    output_data = copy.deepcopy(start_data)\n    output_data['transformation_corrected'] = []\n    output_data['keypoints_goal_corrected'] = []\n    for i in range(num_samples):\n        k = 0\n        done = False\n        best_so_far = 0.0\n        best_trans = None\n        while not done:\n            k += 1\n            \n            z_sample = torch.randn_like(torch.zeros(3,)).cuda()\n#             z_sample = torch.from_numpy(grasp_clf.sample()[0].squeeze().astype(np.float32)).cuda()\n            trans = grasp_vae.decode(z_sample, x)\n            if best_trans is None:\n                best_trans = trans\n    \n            log_prob = eval_grasp_trans_sample(x, trans, grasp_vae, grasp_clf)\n            \n            if log_prob > best_so_far:\n                best_so_far = log_prob\n                best_trans = trans\n        \n            if best_so_far > best_threshold or k >= max_k:\n                break\n                \n        output_data['transformation_corrected'].append(pose_to_list(trans))\n    output_data = transform_keypoints(output_data, number=num_samples)\n    return output_data"
  },
  {
   "cell_type": "markdown",
   "metadata": {},
   "source": "# Load data"
  },
  {
   "cell_type": "code",
   "execution_count": null,
   "metadata": {},
   "outputs": [],
   "source": "grasp_loader = DataLoader(data_dir = '/root/catkin_ws/src/primitives/data/grasp/face_ind_test_0_fixed/train/')\ngrasp_loader.create_random_ordering()\n\npull_loader = DataLoader(data_dir = '/root/catkin_ws/src/primitives/data/pull/pull_face_all_0/train/')\npull_loader.create_random_ordering()"
  },
  {
   "cell_type": "code",
   "execution_count": 107,
   "metadata": {},
   "outputs": [
    {
     "name": "stdout",
     "output_type": "stream",
     "text": "/root/catkin_ws/src/primitives/data/pull/pull_face_all_0/test/1802/pkl/1802.pkl\n['transformation_corrected', 'goal', 'contact_obj_frame', 'contact_world_frame', 'start', 'result', 'keypoints_start', 'contact_pcd', 'keypoints_goal', 'transformation', 'keypoints_goal_corrected']\nrealsense_box_experiments.stl\ntable_top.stl\nmpalms_all_coarse.stl\nrealsense_box_experiments.stl:BZVQR5V0OKVJ\n"
    }
   ],
   "source": "pull_data = get_rand_data(primitive='pull', train_test='test')\nvis_palms(pull_data, name='pull').show(viewer='gl')\npull_data_eval = copy.deepcopy(pull_data)"
  },
  {
   "cell_type": "code",
   "execution_count": 110,
   "metadata": {},
   "outputs": [
    {
     "name": "stdout",
     "output_type": "stream",
     "text": "/root/catkin_ws/src/primitives/data/grasp/face_ind_test_0_fixed/test/4098/pkl/4098.pkl\n['transformation_corrected', 'goal', 'keypoints_goal_corrected', 'contact_obj_frame', 'contact_world_frame', 'start', 'result', 'keypoints_start', 'contact_pcd', 'keypoints_goal', 'transformation', 'goal_face']\nrealsense_box_experiments.stl\ntable_top.stl\nmpalms_all_coarse.stl\nmpalms_all_coarse.stl:N7Y6RQHWDQTV\nrealsense_box_experiments.stl:N7BWCOHAP1NZ\n"
    }
   ],
   "source": "grasp_data = get_rand_data(primitive='grasp', train_test='test')\nvis_palms(grasp_data, name='grasp').show(viewer='gl')\ngrasp_data_eval = copy.deepcopy(grasp_data)"
  },
  {
   "cell_type": "markdown",
   "metadata": {},
   "source": "# Load models and fit latent space PDF"
  },
  {
   "cell_type": "code",
   "execution_count": 204,
   "metadata": {},
   "outputs": [
    {
     "data": {
      "text/plain": "GaussianMixture(covariance_type='full', init_params='kmeans', max_iter=100,\n        means_init=None, n_components=10, n_init=1, precisions_init=None,\n        random_state=None, reg_covar=1e-06, tol=0.001, verbose=0,\n        verbose_interval=10, warm_start=False, weights_init=None)"
     },
     "execution_count": 204,
     "metadata": {},
     "output_type": "execute_result"
    }
   ],
   "source": "grasp_palm_vae = VAE(48+14, 7, 3, 48, [512, 256, 128, 64], 0.0003)\nload_net_state(grasp_palm_vae, '/root/training/saved_models/grasp_contact_keypoints_start_goal_fixed_full_data_anneal_batch128_fixed/grasp_contact_keypoints_start_goal_fixed_full_data_anneal_batch128_fixed_epoch_100.pt')\n\ngrasp_palm_vae.encoder.cuda()\ngrasp_palm_vae.decoder.cuda()\n\n\ndataset = grasp_loader.load_dataset(start_rep='keypoints', goal_rep='keypoints', task='contact')\nx = torch.from_numpy(dataset[0]).cuda()\nz, z_mu, z_logvar = grasp_palm_vae.encode(x)\n\nx_train = z_mu.data.cpu().numpy()\n\ngrasp_palm_clf = GaussianMixture(n_components=10, covariance_type='full')\ngrasp_palm_clf.fit(x_train)"
  },
  {
   "cell_type": "code",
   "execution_count": 64,
   "metadata": {},
   "outputs": [
    {
     "data": {
      "text/plain": "Decoder(\n  (hidden_layers): ModuleList(\n    (0): Linear(in_features=64, out_features=128, bias=True)\n    (1): Linear(in_features=128, out_features=256, bias=True)\n    (2): Linear(in_features=256, out_features=512, bias=True)\n  )\n  (in_fc): Linear(in_features=51, out_features=64, bias=True)\n  (out_right_head): Linear(in_features=512, out_features=7, bias=True)\n  (out_left_head): Linear(in_features=512, out_features=7, bias=True)\n)"
     },
     "execution_count": 64,
     "metadata": {},
     "output_type": "execute_result"
    }
   ],
   "source": "# grasp_palm_vae = VAE(48+14, 7, 3, 48, [512, 256, 128, 64], 0.0003)\n# load_net_state(grasp_palm_vae, '/root/training/saved_models/grasp_contact_keypoints_start_goal_fixed_full_data_anneal_batch128_fixed/grasp_contact_keypoints_start_goal_fixed_full_data_anneal_batch128_fixed_epoch_150.pt')\n\n# grasp_palm_vae.encoder.cuda()\n# grasp_palm_vae.decoder.cuda()"
  },
  {
   "cell_type": "code",
   "execution_count": 224,
   "metadata": {},
   "outputs": [
    {
     "data": {
      "text/plain": "GaussianMixture(covariance_type='full', init_params='kmeans', max_iter=100,\n        means_init=None, n_components=10, n_init=1, precisions_init=None,\n        random_state=None, reg_covar=1e-06, tol=0.001, verbose=0,\n        verbose_interval=10, warm_start=False, weights_init=None)"
     },
     "execution_count": 224,
     "metadata": {},
     "output_type": "execute_result"
    }
   ],
   "source": "pull_trans_vae = GoalVAE(31, 7, 3, 24, [512, 256, 128, 64], 0.0003)\n# load_net_state(pull_trans_vae, '/root/training/saved_models/pull_transformation_full_data_start_keypoints_cond_batch_512_fixed_1/pull_transformation_full_data_start_keypoints_cond_batch_512_fixed_1_epoch_50.pt')\n# load_net_state(pull_trans_vae, '/root/training/saved_models/pull_transformation_full_data_start_keypoints_cond_batch_512_fixed_xy_relax_0/pull_transformation_full_data_start_keypoints_cond_batch_512_fixed_xy_relax_0_epoch_150.pt')\nload_net_state(pull_trans_vae, '/root/training/saved_models/pull_transformation_full_data_start_keypoints_cond_batch_512_fixed_no_xy_0/pull_transformation_full_data_start_keypoints_cond_batch_512_fixed_no_xy_0_epoch_150.pt')\n\npull_trans_vae.encoder.cuda()\npull_trans_vae.decoder.cuda()\n\n\ndataset = pull_loader.load_dataset(start_rep='keypoints', goal_rep='keypoints', task='transformation')\nx = torch.from_numpy(dataset[0]).cuda()\nz, z_mu, z_logvar = pull_trans_vae.encode(x)\n\nx_train = z_mu.data.cpu().numpy()\n\npull_trans_clf = GaussianMixture(n_components=10, covariance_type='full')\npull_trans_clf.fit(x_train)"
  },
  {
   "cell_type": "code",
   "execution_count": 101,
   "metadata": {},
   "outputs": [
    {
     "data": {
      "text/plain": "GaussianMixture(covariance_type='full', init_params='kmeans', max_iter=100,\n        means_init=None, n_components=10, n_init=1, precisions_init=None,\n        random_state=None, reg_covar=1e-06, tol=0.001, verbose=0,\n        verbose_interval=10, warm_start=False, weights_init=None)"
     },
     "execution_count": 101,
     "metadata": {},
     "output_type": "execute_result"
    }
   ],
   "source": "grasp_trans_vae = GoalVAE(31, 7, 3, 24, [512, 256, 128, 64], 0.0003)\nload_net_state(grasp_trans_vae, '/root/training/saved_models/grasp_transformation_cond_start_full_data_fixed_anneal_0/grasp_transformation_cond_start_full_data_fixed_anneal_0_epoch_980.pt')\n\ngrasp_trans_vae.encoder.cuda()\ngrasp_trans_vae.decoder.cuda()\n\ndataset = grasp_loader.load_dataset(start_rep='keypoints', goal_rep='keypoints', task='transformation')\nx = torch.from_numpy(dataset[0]).cuda()\nz, z_mu, z_logvar = grasp_trans_vae.encode(x)\n\nx_train = z_mu.data.cpu().numpy()\n\ngrasp_trans_clf = GaussianMixture(n_components=10, covariance_type='full')\ngrasp_trans_clf.fit(x_train)"
  },
  {
   "cell_type": "code",
   "execution_count": 67,
   "metadata": {},
   "outputs": [],
   "source": "# pull_contact_out = sample_contact(pull_palm_vae, pull_data_eval, primitive='pull', num_samples=10)\n\n# vis_palms(pull_contact_out, name='pull', goal='transformation', palm_number=10).show(viewer='gl')"
  },
  {
   "cell_type": "code",
   "execution_count": 104,
   "metadata": {},
   "outputs": [
    {
     "name": "stdout",
     "output_type": "stream",
     "text": "realsense_box_experiments.stl\ntable_top.stl\nmpalms_all_coarse.stl\nmpalms_all_coarse.stl:NZIUMYMMZTUP\nmpalms_all_coarse.stl:NZJ4NKTVZO3P\nmpalms_all_coarse.stl:NZGYRSM9JABF\nmpalms_all_coarse.stl:NZHA45SXNHEZ\nmpalms_all_coarse.stl:NZGEIGQKWW3Y\nmpalms_all_coarse.stl:NZIFY3BPNAZG\nmpalms_all_coarse.stl:NZIYDGSEEQ9P\nmpalms_all_coarse.stl:NZI9CE2NQXPP\nmpalms_all_coarse.stl:NZH4NMNIH2BN\nmpalms_all_coarse.stl:NZIKLSLAUQPP\nmpalms_all_coarse.stl:NZHWHT9OHWFU\nmpalms_all_coarse.stl:NZHJ7QSGIBXU\nmpalms_all_coarse.stl:NZHOLO7THOTP\nmpalms_all_coarse.stl:NZJWCIJZKBFP\nmpalms_all_coarse.stl:NZHUZH691ERT\nmpalms_all_coarse.stl:NZJJUTDMSBFJ\nmpalms_all_coarse.stl:NZHSTECZD3TP\nmpalms_all_coarse.stl:NZH1GZKRHOPW\nmpalms_all_coarse.stl:NZIIPDRO5YBN\nrealsense_box_experiments.stl:NZGCO82DPYDE\n"
    },
    {
     "data": {
      "text/plain": "SceneViewer(width=1800, height=1350)"
     },
     "execution_count": 104,
     "metadata": {},
     "output_type": "execute_result"
    }
   ],
   "source": "grasp_contact_out = sample_contact(grasp_palm_vae, grasp_data_eval, primitive='grasp', num_samples=10)\n\nvis_palms(grasp_contact_out, name='grasp', goal='transformation', palm_number=10).show(viewer='gl')"
  },
  {
   "cell_type": "code",
   "execution_count": 225,
   "metadata": {},
   "outputs": [
    {
     "data": {
      "application/vnd.plotly.v1+json": {
       "config": {
        "plotlyServerURL": "https://plot.ly"
       },
       "data": [
        {
         "color": "red",
         "delaunayaxis": "z",
         "flatshading": true,
         "i": [
          0,
          1,
          4,
          5,
          2,
          3,
          0,
          5,
          1,
          1,
          0,
          2
         ],
         "j": [
          1,
          2,
          5,
          6,
          3,
          6,
          1,
          1,
          5,
          3,
          4,
          4
         ],
         "k": [
          2,
          3,
          6,
          7,
          6,
          7,
          4,
          4,
          7,
          7,
          6,
          6
         ],
         "opacity": 0.95,
         "type": "mesh3d",
         "x": [
          0.3029759282426088,
          0.3175208309759395,
          0.3029759282426088,
          0.3175208309759395,
          0.21579171889734536,
          0.23033662163067609,
          0.21579171889734536,
          0.23033662163067609
         ],
         "y": [
          -0.25887328116325986,
          -0.20888638821334202,
          -0.2588732811632599,
          -0.20888638821334204,
          -0.23350491417794428,
          -0.18351802122802643,
          -0.2335049141779443,
          -0.18351802122802646
         ],
         "z": [
          1.3877787807814457e-17,
          1.3877787807814457e-17,
          0.1429000049829483,
          0.1429000049829483,
          1.3877787807814457e-17,
          1.3877787807814457e-17,
          0.1429000049829483,
          0.1429000049829483
         ]
        },
        {
         "color": "gray",
         "delaunayaxis": "z",
         "opacity": 0.5,
         "type": "mesh3d",
         "x": [
          -1,
          1,
          1,
          -1
         ],
         "y": [
          -1,
          -1,
          1,
          1
         ],
         "z": [
          0,
          0,
          0,
          0
         ]
        },
        {
         "color": "blue",
         "delaunayaxis": "z",
         "flatshading": true,
         "i": [
          0,
          1,
          4,
          5,
          2,
          3,
          0,
          5,
          1,
          1,
          0,
          2
         ],
         "j": [
          1,
          2,
          5,
          6,
          3,
          6,
          1,
          1,
          5,
          3,
          4,
          4
         ],
         "k": [
          2,
          3,
          6,
          7,
          6,
          7,
          4,
          4,
          7,
          7,
          6,
          6
         ],
         "opacity": 0.05,
         "type": "mesh3d",
         "x": [
          0.32107679053735505,
          0.34145465603390696,
          0.3214479737451749,
          0.3418258392417268,
          0.23752225968274768,
          0.2579001251792996,
          0.23789344289056752,
          0.2582713083871194
         ],
         "y": [
          -0.26753428767897375,
          -0.21962831449347592,
          -0.26750368139105957,
          -0.21959770820556168,
          -0.23199224329530083,
          -0.184086270109803,
          -0.23196163700738665,
          -0.18405566382188876
         ],
         "z": [
          -0.0007198613582788326,
          -0.000783053631528301,
          0.14217965827145265,
          0.14211646599820318,
          -0.000510439879294373,
          -0.0005736321525438415,
          0.14238907975043713,
          0.14232588747718766
         ]
        },
        {
         "marker": {
          "color": "black",
          "colorscale": [
           [
            0,
            "#440154"
           ],
           [
            0.1111111111111111,
            "#482878"
           ],
           [
            0.2222222222222222,
            "#3e4989"
           ],
           [
            0.3333333333333333,
            "#31688e"
           ],
           [
            0.4444444444444444,
            "#26828e"
           ],
           [
            0.5555555555555556,
            "#1f9e89"
           ],
           [
            0.6666666666666666,
            "#35b779"
           ],
           [
            0.7777777777777778,
            "#6ece58"
           ],
           [
            0.8888888888888888,
            "#b5de2b"
           ],
           [
            1,
            "#fde725"
           ]
          ],
          "opacity": 0.8,
          "size": 3
         },
         "mode": "markers",
         "type": "scatter3d",
         "x": [
          0.32107679053735505,
          0.34145465603390696,
          0.3214479737451749,
          0.3418258392417268,
          0.23752225968274768,
          0.2579001251792996,
          0.23789344289056752,
          0.2582713083871194
         ],
         "y": [
          -0.26753428767897375,
          -0.21962831449347592,
          -0.26750368139105957,
          -0.21959770820556168,
          -0.23199224329530083,
          -0.184086270109803,
          -0.23196163700738665,
          -0.18405566382188876
         ],
         "z": [
          -0.0007198613582788326,
          -0.000783053631528301,
          0.14217965827145265,
          0.14211646599820318,
          -0.000510439879294373,
          -0.0005736321525438415,
          0.14238907975043713,
          0.14232588747718766
         ]
        },
        {
         "color": "blue",
         "delaunayaxis": "z",
         "flatshading": true,
         "i": [
          0,
          1,
          4,
          5,
          2,
          3,
          0,
          5,
          1,
          1,
          0,
          2
         ],
         "j": [
          1,
          2,
          5,
          6,
          3,
          6,
          1,
          1,
          5,
          3,
          4,
          4
         ],
         "k": [
          2,
          3,
          6,
          7,
          6,
          7,
          4,
          4,
          7,
          7,
          6,
          6
         ],
         "opacity": 0.05,
         "type": "mesh3d",
         "x": [
          0.34258492895362175,
          0.3582183612991813,
          0.34253006080499115,
          0.35816349315055074,
          0.2559757236154009,
          0.27160915596096047,
          0.25592085546677035,
          0.27155428781232993
         ],
         "y": [
          -0.23532576176261594,
          -0.18566854437406805,
          -0.23526613217214526,
          -0.18560891478359734,
          -0.2080588594583337,
          -0.15840164206978583,
          -0.20799922986786298,
          -0.15834201247931512
         ],
         "z": [
          0.0005777786987466828,
          0.0005630602780884258,
          0.1434777607068801,
          0.14346304228622184,
          0.0005331460761287254,
          0.0005184276554704683,
          0.14343312808426212,
          0.14341840966360386
         ]
        },
        {
         "marker": {
          "color": "black",
          "colorscale": [
           [
            0,
            "#440154"
           ],
           [
            0.1111111111111111,
            "#482878"
           ],
           [
            0.2222222222222222,
            "#3e4989"
           ],
           [
            0.3333333333333333,
            "#31688e"
           ],
           [
            0.4444444444444444,
            "#26828e"
           ],
           [
            0.5555555555555556,
            "#1f9e89"
           ],
           [
            0.6666666666666666,
            "#35b779"
           ],
           [
            0.7777777777777778,
            "#6ece58"
           ],
           [
            0.8888888888888888,
            "#b5de2b"
           ],
           [
            1,
            "#fde725"
           ]
          ],
          "opacity": 0.8,
          "size": 3
         },
         "mode": "markers",
         "type": "scatter3d",
         "x": [
          0.34258492895362175,
          0.3582183612991813,
          0.34253006080499115,
          0.35816349315055074,
          0.2559757236154009,
          0.27160915596096047,
          0.25592085546677035,
          0.27155428781232993
         ],
         "y": [
          -0.23532576176261594,
          -0.18566854437406805,
          -0.23526613217214526,
          -0.18560891478359734,
          -0.2080588594583337,
          -0.15840164206978583,
          -0.20799922986786298,
          -0.15834201247931512
         ],
         "z": [
          0.0005777786987466828,
          0.0005630602780884258,
          0.1434777607068801,
          0.14346304228622184,
          0.0005331460761287254,
          0.0005184276554704683,
          0.14343312808426212,
          0.14341840966360386
         ]
        },
        {
         "color": "blue",
         "delaunayaxis": "z",
         "flatshading": true,
         "i": [
          0,
          1,
          4,
          5,
          2,
          3,
          0,
          5,
          1,
          1,
          0,
          2
         ],
         "j": [
          1,
          2,
          5,
          6,
          3,
          6,
          1,
          1,
          5,
          3,
          4,
          4
         ],
         "k": [
          2,
          3,
          6,
          7,
          6,
          7,
          4,
          4,
          7,
          7,
          6,
          6
         ],
         "opacity": 0.05,
         "type": "mesh3d",
         "x": [
          0.31687751880524084,
          0.3376267720419193,
          0.316089872565963,
          0.33683912580264147,
          0.23360266970146198,
          0.25435192293814046,
          0.23281502346218413,
          0.2535642766988626
         ],
         "y": [
          -0.2705660272434365,
          -0.22282009860328889,
          -0.27081060341706636,
          -0.22306467477691874,
          -0.2343751133483576,
          -0.18662918470820997,
          -0.23461968952198747,
          -0.18687376088183982
         ],
         "z": [
          0.0006761451320974686,
          0.0008722336802464582,
          0.14357377009494873,
          0.14376985864309771,
          0.00027907984499316496,
          0.00047516839314215456,
          0.14317670480784442,
          0.14337279335599343
         ]
        },
        {
         "marker": {
          "color": "black",
          "colorscale": [
           [
            0,
            "#440154"
           ],
           [
            0.1111111111111111,
            "#482878"
           ],
           [
            0.2222222222222222,
            "#3e4989"
           ],
           [
            0.3333333333333333,
            "#31688e"
           ],
           [
            0.4444444444444444,
            "#26828e"
           ],
           [
            0.5555555555555556,
            "#1f9e89"
           ],
           [
            0.6666666666666666,
            "#35b779"
           ],
           [
            0.7777777777777778,
            "#6ece58"
           ],
           [
            0.8888888888888888,
            "#b5de2b"
           ],
           [
            1,
            "#fde725"
           ]
          ],
          "opacity": 0.8,
          "size": 3
         },
         "mode": "markers",
         "type": "scatter3d",
         "x": [
          0.31687751880524084,
          0.3376267720419193,
          0.316089872565963,
          0.33683912580264147,
          0.23360266970146198,
          0.25435192293814046,
          0.23281502346218413,
          0.2535642766988626
         ],
         "y": [
          -0.2705660272434365,
          -0.22282009860328889,
          -0.27081060341706636,
          -0.22306467477691874,
          -0.2343751133483576,
          -0.18662918470820997,
          -0.23461968952198747,
          -0.18687376088183982
         ],
         "z": [
          0.0006761451320974686,
          0.0008722336802464582,
          0.14357377009494873,
          0.14376985864309771,
          0.00027907984499316496,
          0.00047516839314215456,
          0.14317670480784442,
          0.14337279335599343
         ]
        },
        {
         "color": "blue",
         "delaunayaxis": "z",
         "flatshading": true,
         "i": [
          0,
          1,
          4,
          5,
          2,
          3,
          0,
          5,
          1,
          1,
          0,
          2
         ],
         "j": [
          1,
          2,
          5,
          6,
          3,
          6,
          1,
          1,
          5,
          3,
          4,
          4
         ],
         "k": [
          2,
          3,
          6,
          7,
          6,
          7,
          4,
          4,
          7,
          7,
          6,
          6
         ],
         "opacity": 0.05,
         "type": "mesh3d",
         "x": [
          0.35435186198319285,
          0.367253508236185,
          0.35473647586784307,
          0.36763812212083524,
          0.26638466706157593,
          0.27928631331456816,
          0.2667692809462262,
          0.2796709271992184
         ],
         "y": [
          -0.21980144750942995,
          -0.16936563873854052,
          -0.22030430643283647,
          -0.169868497661947,
          -0.19730004316332078,
          -0.14686423439243135,
          -0.19780290208672727,
          -0.14736709331583783
         ],
         "z": [
          -0.002389246805198169,
          -0.0022464886267228794,
          0.1405093558093464,
          0.1406521139878217,
          -0.002073299443228577,
          -0.001930541264753288,
          0.140825303171316,
          0.14096806134979128
         ]
        },
        {
         "marker": {
          "color": "black",
          "colorscale": [
           [
            0,
            "#440154"
           ],
           [
            0.1111111111111111,
            "#482878"
           ],
           [
            0.2222222222222222,
            "#3e4989"
           ],
           [
            0.3333333333333333,
            "#31688e"
           ],
           [
            0.4444444444444444,
            "#26828e"
           ],
           [
            0.5555555555555556,
            "#1f9e89"
           ],
           [
            0.6666666666666666,
            "#35b779"
           ],
           [
            0.7777777777777778,
            "#6ece58"
           ],
           [
            0.8888888888888888,
            "#b5de2b"
           ],
           [
            1,
            "#fde725"
           ]
          ],
          "opacity": 0.8,
          "size": 3
         },
         "mode": "markers",
         "type": "scatter3d",
         "x": [
          0.35435186198319285,
          0.367253508236185,
          0.35473647586784307,
          0.36763812212083524,
          0.26638466706157593,
          0.27928631331456816,
          0.2667692809462262,
          0.2796709271992184
         ],
         "y": [
          -0.21980144750942995,
          -0.16936563873854052,
          -0.22030430643283647,
          -0.169868497661947,
          -0.19730004316332078,
          -0.14686423439243135,
          -0.19780290208672727,
          -0.14736709331583783
         ],
         "z": [
          -0.002389246805198169,
          -0.0022464886267228794,
          0.1405093558093464,
          0.1406521139878217,
          -0.002073299443228577,
          -0.001930541264753288,
          0.140825303171316,
          0.14096806134979128
         ]
        },
        {
         "color": "blue",
         "delaunayaxis": "z",
         "flatshading": true,
         "i": [
          0,
          1,
          4,
          5,
          2,
          3,
          0,
          5,
          1,
          1,
          0,
          2
         ],
         "j": [
          1,
          2,
          5,
          6,
          3,
          6,
          1,
          1,
          5,
          3,
          4,
          4
         ],
         "k": [
          2,
          3,
          6,
          7,
          6,
          7,
          4,
          4,
          7,
          7,
          6,
          6
         ],
         "opacity": 0.05,
         "type": "mesh3d",
         "x": [
          0.38565781621092216,
          0.3926336820084827,
          0.3853981917107084,
          0.3923740575082689,
          0.29567681920531225,
          0.30265268500287285,
          0.2954171947050984,
          0.3023930605026591
         ],
         "y": [
          -0.18024051903411537,
          -0.12865002065048653,
          -0.18010047880915586,
          -0.128509980425527,
          -0.1680737686810685,
          -0.11648327029743963,
          -0.16793372845610896,
          -0.1163432300724801
         ],
         "z": [
          0.0009417753590294839,
          0.0009038911695695701,
          0.1438414758764936,
          0.1438035916870337,
          0.0007663718715342523,
          0.0007284876820743385,
          0.14366607238899837,
          0.14362818819953843
         ]
        },
        {
         "marker": {
          "color": "black",
          "colorscale": [
           [
            0,
            "#440154"
           ],
           [
            0.1111111111111111,
            "#482878"
           ],
           [
            0.2222222222222222,
            "#3e4989"
           ],
           [
            0.3333333333333333,
            "#31688e"
           ],
           [
            0.4444444444444444,
            "#26828e"
           ],
           [
            0.5555555555555556,
            "#1f9e89"
           ],
           [
            0.6666666666666666,
            "#35b779"
           ],
           [
            0.7777777777777778,
            "#6ece58"
           ],
           [
            0.8888888888888888,
            "#b5de2b"
           ],
           [
            1,
            "#fde725"
           ]
          ],
          "opacity": 0.8,
          "size": 3
         },
         "mode": "markers",
         "type": "scatter3d",
         "x": [
          0.38565781621092216,
          0.3926336820084827,
          0.3853981917107084,
          0.3923740575082689,
          0.29567681920531225,
          0.30265268500287285,
          0.2954171947050984,
          0.3023930605026591
         ],
         "y": [
          -0.18024051903411537,
          -0.12865002065048653,
          -0.18010047880915586,
          -0.128509980425527,
          -0.1680737686810685,
          -0.11648327029743963,
          -0.16793372845610896,
          -0.1163432300724801
         ],
         "z": [
          0.0009417753590294839,
          0.0009038911695695701,
          0.1438414758764936,
          0.1438035916870337,
          0.0007663718715342523,
          0.0007284876820743385,
          0.14366607238899837,
          0.14362818819953843
         ]
        },
        {
         "color": "blue",
         "delaunayaxis": "z",
         "flatshading": true,
         "i": [
          0,
          1,
          4,
          5,
          2,
          3,
          0,
          5,
          1,
          1,
          0,
          2
         ],
         "j": [
          1,
          2,
          5,
          6,
          3,
          6,
          1,
          1,
          5,
          3,
          4,
          4
         ],
         "k": [
          2,
          3,
          6,
          7,
          6,
          7,
          4,
          4,
          7,
          7,
          6,
          6
         ],
         "opacity": 0.05,
         "type": "mesh3d",
         "x": [
          0.2822715986322447,
          0.30822392203415055,
          0.28282230641030004,
          0.3087746298122058,
          0.20355920419479767,
          0.2295115275967035,
          0.20410991197285294,
          0.23006223537475878
         ],
         "y": [
          -0.30301414609279187,
          -0.25788498365879275,
          -0.3024393356401429,
          -0.25731017320614374,
          -0.2577484343488714,
          -0.21261927191487232,
          -0.25717362389622245,
          -0.2120444614622233
         ],
         "z": [
          -0.0006835895721982231,
          -0.0009651394917709838,
          0.14221419815740016,
          0.14193264823782742,
          -0.0005623258083263629,
          -0.0008438757278991236,
          0.14233546192127203,
          0.14205391200169928
         ]
        },
        {
         "marker": {
          "color": "black",
          "colorscale": [
           [
            0,
            "#440154"
           ],
           [
            0.1111111111111111,
            "#482878"
           ],
           [
            0.2222222222222222,
            "#3e4989"
           ],
           [
            0.3333333333333333,
            "#31688e"
           ],
           [
            0.4444444444444444,
            "#26828e"
           ],
           [
            0.5555555555555556,
            "#1f9e89"
           ],
           [
            0.6666666666666666,
            "#35b779"
           ],
           [
            0.7777777777777778,
            "#6ece58"
           ],
           [
            0.8888888888888888,
            "#b5de2b"
           ],
           [
            1,
            "#fde725"
           ]
          ],
          "opacity": 0.8,
          "size": 3
         },
         "mode": "markers",
         "type": "scatter3d",
         "x": [
          0.2822715986322447,
          0.30822392203415055,
          0.28282230641030004,
          0.3087746298122058,
          0.20355920419479767,
          0.2295115275967035,
          0.20410991197285294,
          0.23006223537475878
         ],
         "y": [
          -0.30301414609279187,
          -0.25788498365879275,
          -0.3024393356401429,
          -0.25731017320614374,
          -0.2577484343488714,
          -0.21261927191487232,
          -0.25717362389622245,
          -0.2120444614622233
         ],
         "z": [
          -0.0006835895721982231,
          -0.0009651394917709838,
          0.14221419815740016,
          0.14193264823782742,
          -0.0005623258083263629,
          -0.0008438757278991236,
          0.14233546192127203,
          0.14205391200169928
         ]
        },
        {
         "color": "blue",
         "delaunayaxis": "z",
         "flatshading": true,
         "i": [
          0,
          1,
          4,
          5,
          2,
          3,
          0,
          5,
          1,
          1,
          0,
          2
         ],
         "j": [
          1,
          2,
          5,
          6,
          3,
          6,
          1,
          1,
          5,
          3,
          4,
          4
         ],
         "k": [
          2,
          3,
          6,
          7,
          6,
          7,
          4,
          4,
          7,
          7,
          6,
          6
         ],
         "opacity": 0.05,
         "type": "mesh3d",
         "x": [
          0.3675932092410222,
          0.3777767110013502,
          0.36755563252224455,
          0.3777391342825726,
          0.278547321504787,
          0.28873082326511507,
          0.27850974478600937,
          0.28869324654633743
         ],
         "y": [
          -0.2031798845349716,
          -0.15212560022093133,
          -0.20317999675636217,
          -0.15212571244232187,
          -0.18541841690695784,
          -0.13436413259291757,
          -0.18541852912834839,
          -0.13436424481430811
         ],
         "z": [
          -0.00174465063313032,
          -0.0017419327047574584,
          0.1411553494092219,
          0.14115806733759476,
          -0.0017680520261616941,
          -0.0017653340977888325,
          0.1411319480161905,
          0.14113466594456336
         ]
        },
        {
         "marker": {
          "color": "black",
          "colorscale": [
           [
            0,
            "#440154"
           ],
           [
            0.1111111111111111,
            "#482878"
           ],
           [
            0.2222222222222222,
            "#3e4989"
           ],
           [
            0.3333333333333333,
            "#31688e"
           ],
           [
            0.4444444444444444,
            "#26828e"
           ],
           [
            0.5555555555555556,
            "#1f9e89"
           ],
           [
            0.6666666666666666,
            "#35b779"
           ],
           [
            0.7777777777777778,
            "#6ece58"
           ],
           [
            0.8888888888888888,
            "#b5de2b"
           ],
           [
            1,
            "#fde725"
           ]
          ],
          "opacity": 0.8,
          "size": 3
         },
         "mode": "markers",
         "type": "scatter3d",
         "x": [
          0.3675932092410222,
          0.3777767110013502,
          0.36755563252224455,
          0.3777391342825726,
          0.278547321504787,
          0.28873082326511507,
          0.27850974478600937,
          0.28869324654633743
         ],
         "y": [
          -0.2031798845349716,
          -0.15212560022093133,
          -0.20317999675636217,
          -0.15212571244232187,
          -0.18541841690695784,
          -0.13436413259291757,
          -0.18541852912834839,
          -0.13436424481430811
         ],
         "z": [
          -0.00174465063313032,
          -0.0017419327047574584,
          0.1411553494092219,
          0.14115806733759476,
          -0.0017680520261616941,
          -0.0017653340977888325,
          0.1411319480161905,
          0.14113466594456336
         ]
        },
        {
         "color": "blue",
         "delaunayaxis": "z",
         "flatshading": true,
         "i": [
          0,
          1,
          4,
          5,
          2,
          3,
          0,
          5,
          1,
          1,
          0,
          2
         ],
         "j": [
          1,
          2,
          5,
          6,
          3,
          6,
          1,
          1,
          5,
          3,
          4,
          4
         ],
         "k": [
          2,
          3,
          6,
          7,
          6,
          7,
          4,
          4,
          7,
          7,
          6,
          6
         ],
         "opacity": 0.05,
         "type": "mesh3d",
         "x": [
          0.4059688961859955,
          0.4066148317061047,
          0.4051636189495801,
          0.40580955446968925,
          0.3151773252585783,
          0.3158232607786875,
          0.31437204802216284,
          0.315017983542272
         ],
         "y": [
          -0.1370757072558489,
          -0.08502001374024415,
          -0.13755060967579721,
          -0.08549491616019245,
          -0.13594739233316705,
          -0.0838916988175623,
          -0.13642229475311535,
          -0.0843666012375106
         ],
         "z": [
          0.00041386783696868083,
          0.0005905093436542705,
          0.14331081469165374,
          0.14348745619833933,
          -9.402647033802827e-05,
          8.261503634756175e-05,
          0.14280292038434703,
          0.1429795618910326
         ]
        },
        {
         "marker": {
          "color": "black",
          "colorscale": [
           [
            0,
            "#440154"
           ],
           [
            0.1111111111111111,
            "#482878"
           ],
           [
            0.2222222222222222,
            "#3e4989"
           ],
           [
            0.3333333333333333,
            "#31688e"
           ],
           [
            0.4444444444444444,
            "#26828e"
           ],
           [
            0.5555555555555556,
            "#1f9e89"
           ],
           [
            0.6666666666666666,
            "#35b779"
           ],
           [
            0.7777777777777778,
            "#6ece58"
           ],
           [
            0.8888888888888888,
            "#b5de2b"
           ],
           [
            1,
            "#fde725"
           ]
          ],
          "opacity": 0.8,
          "size": 3
         },
         "mode": "markers",
         "type": "scatter3d",
         "x": [
          0.4059688961859955,
          0.4066148317061047,
          0.4051636189495801,
          0.40580955446968925,
          0.3151773252585783,
          0.3158232607786875,
          0.31437204802216284,
          0.315017983542272
         ],
         "y": [
          -0.1370757072558489,
          -0.08502001374024415,
          -0.13755060967579721,
          -0.08549491616019245,
          -0.13594739233316705,
          -0.0838916988175623,
          -0.13642229475311535,
          -0.0843666012375106
         ],
         "z": [
          0.00041386783696868083,
          0.0005905093436542705,
          0.14331081469165374,
          0.14348745619833933,
          -9.402647033802827e-05,
          8.261503634756175e-05,
          0.14280292038434703,
          0.1429795618910326
         ]
        },
        {
         "color": "blue",
         "delaunayaxis": "z",
         "flatshading": true,
         "i": [
          0,
          1,
          4,
          5,
          2,
          3,
          0,
          5,
          1,
          1,
          0,
          2
         ],
         "j": [
          1,
          2,
          5,
          6,
          3,
          6,
          1,
          1,
          5,
          3,
          4,
          4
         ],
         "k": [
          2,
          3,
          6,
          7,
          6,
          7,
          4,
          4,
          7,
          7,
          6,
          6
         ],
         "opacity": 0.05,
         "type": "mesh3d",
         "x": [
          0.1882873475390937,
          0.22635374022337623,
          0.1887953393128438,
          0.22686173199712634,
          0.12634799807326808,
          0.1644143907575506,
          0.12685598984701818,
          0.1649223825313007
         ],
         "y": [
          -0.3555658255527328,
          -0.32005339874995153,
          -0.35511690507440385,
          -0.3196044782716225,
          -0.289171870589839,
          -0.25365944378705774,
          -0.28872295011151,
          -0.25321052330872873
         ],
         "z": [
          0.0006481867798786255,
          0.0004013003855575756,
          0.1435465836879216,
          0.14329969729360054,
          0.0006597969449740813,
          0.0004129105506530315,
          0.14355819385301705,
          0.143311307458696
         ]
        },
        {
         "marker": {
          "color": "black",
          "colorscale": [
           [
            0,
            "#440154"
           ],
           [
            0.1111111111111111,
            "#482878"
           ],
           [
            0.2222222222222222,
            "#3e4989"
           ],
           [
            0.3333333333333333,
            "#31688e"
           ],
           [
            0.4444444444444444,
            "#26828e"
           ],
           [
            0.5555555555555556,
            "#1f9e89"
           ],
           [
            0.6666666666666666,
            "#35b779"
           ],
           [
            0.7777777777777778,
            "#6ece58"
           ],
           [
            0.8888888888888888,
            "#b5de2b"
           ],
           [
            1,
            "#fde725"
           ]
          ],
          "opacity": 0.8,
          "size": 3
         },
         "mode": "markers",
         "type": "scatter3d",
         "x": [
          0.1882873475390937,
          0.22635374022337623,
          0.1887953393128438,
          0.22686173199712634,
          0.12634799807326808,
          0.1644143907575506,
          0.12685598984701818,
          0.1649223825313007
         ],
         "y": [
          -0.3555658255527328,
          -0.32005339874995153,
          -0.35511690507440385,
          -0.3196044782716225,
          -0.289171870589839,
          -0.25365944378705774,
          -0.28872295011151,
          -0.25321052330872873
         ],
         "z": [
          0.0006481867798786255,
          0.0004013003855575756,
          0.1435465836879216,
          0.14329969729360054,
          0.0006597969449740813,
          0.0004129105506530315,
          0.14355819385301705,
          0.143311307458696
         ]
        },
        {
         "color": "blue",
         "delaunayaxis": "z",
         "flatshading": true,
         "i": [
          0,
          1,
          4,
          5,
          2,
          3,
          0,
          5,
          1,
          1,
          0,
          2
         ],
         "j": [
          1,
          2,
          5,
          6,
          3,
          6,
          1,
          1,
          5,
          3,
          4,
          4
         ],
         "k": [
          2,
          3,
          6,
          7,
          6,
          7,
          4,
          4,
          7,
          7,
          6,
          6
         ],
         "opacity": 0.05,
         "type": "mesh3d",
         "x": [
          0.3915768000970099,
          0.39755933789553094,
          0.39113855304053907,
          0.39712109083906005,
          0.3013787606164163,
          0.3073612984149373,
          0.3009405135599454,
          0.3069230513584664
         ],
         "y": [
          -0.17601577011543706,
          -0.12430086023451281,
          -0.17556464854571815,
          -0.12384973866479387,
          -0.165582254474099,
          -0.11386734459317474,
          -0.16513113290438006,
          -0.1134162230234558
         ],
         "z": [
          0.0009502122634147919,
          0.0008052991661882643,
          0.14384883315589742,
          0.1437039200586709,
          0.0006406514784376843,
          0.0004957383812111567,
          0.14353927237092032,
          0.1433943592736938
         ]
        },
        {
         "marker": {
          "color": "black",
          "colorscale": [
           [
            0,
            "#440154"
           ],
           [
            0.1111111111111111,
            "#482878"
           ],
           [
            0.2222222222222222,
            "#3e4989"
           ],
           [
            0.3333333333333333,
            "#31688e"
           ],
           [
            0.4444444444444444,
            "#26828e"
           ],
           [
            0.5555555555555556,
            "#1f9e89"
           ],
           [
            0.6666666666666666,
            "#35b779"
           ],
           [
            0.7777777777777778,
            "#6ece58"
           ],
           [
            0.8888888888888888,
            "#b5de2b"
           ],
           [
            1,
            "#fde725"
           ]
          ],
          "opacity": 0.8,
          "size": 3
         },
         "mode": "markers",
         "type": "scatter3d",
         "x": [
          0.3915768000970099,
          0.39755933789553094,
          0.39113855304053907,
          0.39712109083906005,
          0.3013787606164163,
          0.3073612984149373,
          0.3009405135599454,
          0.3069230513584664
         ],
         "y": [
          -0.17601577011543706,
          -0.12430086023451281,
          -0.17556464854571815,
          -0.12384973866479387,
          -0.165582254474099,
          -0.11386734459317474,
          -0.16513113290438006,
          -0.1134162230234558
         ],
         "z": [
          0.0009502122634147919,
          0.0008052991661882643,
          0.14384883315589742,
          0.1437039200586709,
          0.0006406514784376843,
          0.0004957383812111567,
          0.14353927237092032,
          0.1433943592736938
         ]
        },
        {
         "color": "blue",
         "delaunayaxis": "z",
         "flatshading": true,
         "i": [
          0,
          1,
          4,
          5,
          2,
          3,
          0,
          5,
          1,
          1,
          0,
          2
         ],
         "j": [
          1,
          2,
          5,
          6,
          3,
          6,
          1,
          1,
          5,
          3,
          4,
          4
         ],
         "k": [
          2,
          3,
          6,
          7,
          6,
          7,
          4,
          4,
          7,
          7,
          6,
          6
         ],
         "opacity": 0.05,
         "type": "mesh3d",
         "x": [
          0.12827394525313432,
          0.17176147393165098,
          0.12786073411874865,
          0.1713482627972653,
          0.07835809781035986,
          0.12184562648887656,
          0.07794488667597421,
          0.12143241535449092
         ],
         "y": [
          -0.38198611996106785,
          -0.35336676095487646,
          -0.38187718170387946,
          -0.3532578226976881,
          -0.3061375358747925,
          -0.2775181768686011,
          -0.3060285976176041,
          -0.2774092386114127
         ],
         "z": [
          0.00042707090760279385,
          0.0005310027050418287,
          0.14332643694237981,
          0.14343036873981885,
          0.00022491048304788136,
          0.0003288422804869163,
          0.14312427651782492,
          0.14322820831526395
         ]
        },
        {
         "marker": {
          "color": "black",
          "colorscale": [
           [
            0,
            "#440154"
           ],
           [
            0.1111111111111111,
            "#482878"
           ],
           [
            0.2222222222222222,
            "#3e4989"
           ],
           [
            0.3333333333333333,
            "#31688e"
           ],
           [
            0.4444444444444444,
            "#26828e"
           ],
           [
            0.5555555555555556,
            "#1f9e89"
           ],
           [
            0.6666666666666666,
            "#35b779"
           ],
           [
            0.7777777777777778,
            "#6ece58"
           ],
           [
            0.8888888888888888,
            "#b5de2b"
           ],
           [
            1,
            "#fde725"
           ]
          ],
          "opacity": 0.8,
          "size": 3
         },
         "mode": "markers",
         "type": "scatter3d",
         "x": [
          0.12827394525313432,
          0.17176147393165098,
          0.12786073411874865,
          0.1713482627972653,
          0.07835809781035986,
          0.12184562648887656,
          0.07794488667597421,
          0.12143241535449092
         ],
         "y": [
          -0.38198611996106785,
          -0.35336676095487646,
          -0.38187718170387946,
          -0.3532578226976881,
          -0.3061375358747925,
          -0.2775181768686011,
          -0.3060285976176041,
          -0.2774092386114127
         ],
         "z": [
          0.00042707090760279385,
          0.0005310027050418287,
          0.14332643694237981,
          0.14343036873981885,
          0.00022491048304788136,
          0.0003288422804869163,
          0.14312427651782492,
          0.14322820831526395
         ]
        },
        {
         "color": "blue",
         "delaunayaxis": "z",
         "flatshading": true,
         "i": [
          0,
          1,
          4,
          5,
          2,
          3,
          0,
          5,
          1,
          1,
          0,
          2
         ],
         "j": [
          1,
          2,
          5,
          6,
          3,
          6,
          1,
          1,
          5,
          3,
          4,
          4
         ],
         "k": [
          2,
          3,
          6,
          7,
          6,
          7,
          4,
          4,
          7,
          7,
          6,
          6
         ],
         "opacity": 0.05,
         "type": "mesh3d",
         "x": [
          0.42947547948008125,
          0.42063943436951146,
          0.42943587717602594,
          0.42059983206545615,
          0.3399929044740822,
          0.33115685936351247,
          0.3399533021700269,
          0.33111725705945716
         ],
         "y": [
          -0.06266484159312584,
          -0.01136027623329721,
          -0.06294374624742277,
          -0.011639180887594115,
          -0.07807607650195043,
          -0.0267715111421218,
          -0.07835498115624732,
          -0.027050415796418703
         ],
         "z": [
          -0.00043793051371295087,
          -0.0003402455525008701,
          0.14246179680575385,
          0.14255948176696595,
          -0.0004928080242210216,
          -0.00039512306300894083,
          0.1424069192952458,
          0.14250460425645786
         ]
        },
        {
         "marker": {
          "color": "black",
          "colorscale": [
           [
            0,
            "#440154"
           ],
           [
            0.1111111111111111,
            "#482878"
           ],
           [
            0.2222222222222222,
            "#3e4989"
           ],
           [
            0.3333333333333333,
            "#31688e"
           ],
           [
            0.4444444444444444,
            "#26828e"
           ],
           [
            0.5555555555555556,
            "#1f9e89"
           ],
           [
            0.6666666666666666,
            "#35b779"
           ],
           [
            0.7777777777777778,
            "#6ece58"
           ],
           [
            0.8888888888888888,
            "#b5de2b"
           ],
           [
            1,
            "#fde725"
           ]
          ],
          "opacity": 0.8,
          "size": 3
         },
         "mode": "markers",
         "type": "scatter3d",
         "x": [
          0.42947547948008125,
          0.42063943436951146,
          0.42943587717602594,
          0.42059983206545615,
          0.3399929044740822,
          0.33115685936351247,
          0.3399533021700269,
          0.33111725705945716
         ],
         "y": [
          -0.06266484159312584,
          -0.01136027623329721,
          -0.06294374624742277,
          -0.011639180887594115,
          -0.07807607650195043,
          -0.0267715111421218,
          -0.07835498115624732,
          -0.027050415796418703
         ],
         "z": [
          -0.00043793051371295087,
          -0.0003402455525008701,
          0.14246179680575385,
          0.14255948176696595,
          -0.0004928080242210216,
          -0.00039512306300894083,
          0.1424069192952458,
          0.14250460425645786
         ]
        },
        {
         "color": "blue",
         "delaunayaxis": "z",
         "flatshading": true,
         "i": [
          0,
          1,
          4,
          5,
          2,
          3,
          0,
          5,
          1,
          1,
          0,
          2
         ],
         "j": [
          1,
          2,
          5,
          6,
          3,
          6,
          1,
          1,
          5,
          3,
          4,
          4
         ],
         "k": [
          2,
          3,
          6,
          7,
          6,
          7,
          4,
          4,
          7,
          7,
          6,
          6
         ],
         "opacity": 0.05,
         "type": "mesh3d",
         "x": [
          0.35968530071390464,
          0.37158944690640444,
          0.36007239149892734,
          0.37197653769142713,
          0.2712913082105307,
          0.2831954544030305,
          0.27167839899555346,
          0.28358254518805326
         ],
         "y": [
          -0.21511465515898484,
          -0.1644342651098561,
          -0.21469313593435124,
          -0.16401274588522247,
          -0.19435144882780256,
          -0.14367105877867384,
          -0.19392992960316893,
          -0.1432495395540402
         ],
         "z": [
          -0.0012321080633676614,
          -0.001413850200374367,
          0.141666750946752,
          0.1414850088097453,
          -0.0010539092345443239,
          -0.0012356513715510297,
          0.14184494977557535,
          0.14166320763856863
         ]
        },
        {
         "marker": {
          "color": "black",
          "colorscale": [
           [
            0,
            "#440154"
           ],
           [
            0.1111111111111111,
            "#482878"
           ],
           [
            0.2222222222222222,
            "#3e4989"
           ],
           [
            0.3333333333333333,
            "#31688e"
           ],
           [
            0.4444444444444444,
            "#26828e"
           ],
           [
            0.5555555555555556,
            "#1f9e89"
           ],
           [
            0.6666666666666666,
            "#35b779"
           ],
           [
            0.7777777777777778,
            "#6ece58"
           ],
           [
            0.8888888888888888,
            "#b5de2b"
           ],
           [
            1,
            "#fde725"
           ]
          ],
          "opacity": 0.8,
          "size": 3
         },
         "mode": "markers",
         "type": "scatter3d",
         "x": [
          0.35968530071390464,
          0.37158944690640444,
          0.36007239149892734,
          0.37197653769142713,
          0.2712913082105307,
          0.2831954544030305,
          0.27167839899555346,
          0.28358254518805326
         ],
         "y": [
          -0.21511465515898484,
          -0.1644342651098561,
          -0.21469313593435124,
          -0.16401274588522247,
          -0.19435144882780256,
          -0.14367105877867384,
          -0.19392992960316893,
          -0.1432495395540402
         ],
         "z": [
          -0.0012321080633676614,
          -0.001413850200374367,
          0.141666750946752,
          0.1414850088097453,
          -0.0010539092345443239,
          -0.0012356513715510297,
          0.14184494977557535,
          0.14166320763856863
         ]
        },
        {
         "color": "blue",
         "delaunayaxis": "z",
         "flatshading": true,
         "i": [
          0,
          1,
          4,
          5,
          2,
          3,
          0,
          5,
          1,
          1,
          0,
          2
         ],
         "j": [
          1,
          2,
          5,
          6,
          3,
          6,
          1,
          1,
          5,
          3,
          4,
          4
         ],
         "k": [
          2,
          3,
          6,
          7,
          6,
          7,
          4,
          4,
          7,
          7,
          6,
          6
         ],
         "opacity": 0.05,
         "type": "mesh3d",
         "x": [
          0.3977911229270539,
          0.4023968278697053,
          0.39764679452335333,
          0.4022524994660048,
          0.30734720166741825,
          0.3119529066100697,
          0.3072028732637177,
          0.3118085782063692
         ],
         "y": [
          -0.16302290286048485,
          -0.11116715594392781,
          -0.1633200989426143,
          -0.11146435202605723,
          -0.1549897254981994,
          -0.10313397858164233,
          -0.1552869215803288,
          -0.10343117466377175
         ],
         "z": [
          -0.00021943683106926917,
          -0.00010693787187943132,
          0.14268018621926384,
          0.14279268517845367,
          -0.0002940780212489244,
          -0.00018157906205908657,
          0.14260554502908418,
          0.14271804398827403
         ]
        },
        {
         "marker": {
          "color": "black",
          "colorscale": [
           [
            0,
            "#440154"
           ],
           [
            0.1111111111111111,
            "#482878"
           ],
           [
            0.2222222222222222,
            "#3e4989"
           ],
           [
            0.3333333333333333,
            "#31688e"
           ],
           [
            0.4444444444444444,
            "#26828e"
           ],
           [
            0.5555555555555556,
            "#1f9e89"
           ],
           [
            0.6666666666666666,
            "#35b779"
           ],
           [
            0.7777777777777778,
            "#6ece58"
           ],
           [
            0.8888888888888888,
            "#b5de2b"
           ],
           [
            1,
            "#fde725"
           ]
          ],
          "opacity": 0.8,
          "size": 3
         },
         "mode": "markers",
         "type": "scatter3d",
         "x": [
          0.3977911229270539,
          0.4023968278697053,
          0.39764679452335333,
          0.4022524994660048,
          0.30734720166741825,
          0.3119529066100697,
          0.3072028732637177,
          0.3118085782063692
         ],
         "y": [
          -0.16302290286048485,
          -0.11116715594392781,
          -0.1633200989426143,
          -0.11146435202605723,
          -0.1549897254981994,
          -0.10313397858164233,
          -0.1552869215803288,
          -0.10343117466377175
         ],
         "z": [
          -0.00021943683106926917,
          -0.00010693787187943132,
          0.14268018621926384,
          0.14279268517845367,
          -0.0002940780212489244,
          -0.00018157906205908657,
          0.14260554502908418,
          0.14271804398827403
         ]
        },
        {
         "color": "blue",
         "delaunayaxis": "z",
         "flatshading": true,
         "i": [
          0,
          1,
          4,
          5,
          2,
          3,
          0,
          5,
          1,
          1,
          0,
          2
         ],
         "j": [
          1,
          2,
          5,
          6,
          3,
          6,
          1,
          1,
          5,
          3,
          4,
          4
         ],
         "k": [
          2,
          3,
          6,
          7,
          6,
          7,
          4,
          4,
          7,
          7,
          6,
          6
         ],
         "opacity": 0.05,
         "type": "mesh3d",
         "x": [
          0.26401009537272024,
          0.2937341824223335,
          0.2644307198887351,
          0.2941548069383484,
          0.1894656709819191,
          0.2191897580315324,
          0.18988629549793393,
          0.21961038254754725
         ],
         "y": [
          -0.31534093009994335,
          -0.2726013680025301,
          -0.3148699841864871,
          -0.2721304220890738,
          -0.2634972531807749,
          -0.2207576910833616,
          -0.26302630726731857,
          -0.22028674516990532
         ],
         "z": [
          0.0014899798318156578,
          0.0012616312015066675,
          0.14438858972389884,
          0.14416024109358985,
          0.0015385432478810543,
          0.0013101946175720638,
          0.14443715313996422,
          0.14420880450965523
         ]
        },
        {
         "marker": {
          "color": "black",
          "colorscale": [
           [
            0,
            "#440154"
           ],
           [
            0.1111111111111111,
            "#482878"
           ],
           [
            0.2222222222222222,
            "#3e4989"
           ],
           [
            0.3333333333333333,
            "#31688e"
           ],
           [
            0.4444444444444444,
            "#26828e"
           ],
           [
            0.5555555555555556,
            "#1f9e89"
           ],
           [
            0.6666666666666666,
            "#35b779"
           ],
           [
            0.7777777777777778,
            "#6ece58"
           ],
           [
            0.8888888888888888,
            "#b5de2b"
           ],
           [
            1,
            "#fde725"
           ]
          ],
          "opacity": 0.8,
          "size": 3
         },
         "mode": "markers",
         "type": "scatter3d",
         "x": [
          0.26401009537272024,
          0.2937341824223335,
          0.2644307198887351,
          0.2941548069383484,
          0.1894656709819191,
          0.2191897580315324,
          0.18988629549793393,
          0.21961038254754725
         ],
         "y": [
          -0.31534093009994335,
          -0.2726013680025301,
          -0.3148699841864871,
          -0.2721304220890738,
          -0.2634972531807749,
          -0.2207576910833616,
          -0.26302630726731857,
          -0.22028674516990532
         ],
         "z": [
          0.0014899798318156578,
          0.0012616312015066675,
          0.14438858972389884,
          0.14416024109358985,
          0.0015385432478810543,
          0.0013101946175720638,
          0.14443715313996422,
          0.14420880450965523
         ]
        },
        {
         "color": "blue",
         "delaunayaxis": "z",
         "flatshading": true,
         "i": [
          0,
          1,
          4,
          5,
          2,
          3,
          0,
          5,
          1,
          1,
          0,
          2
         ],
         "j": [
          1,
          2,
          5,
          6,
          3,
          6,
          1,
          1,
          5,
          3,
          4,
          4
         ],
         "k": [
          2,
          3,
          6,
          7,
          6,
          7,
          4,
          4,
          7,
          7,
          6,
          6
         ],
         "opacity": 0.05,
         "type": "mesh3d",
         "x": [
          0.42015483797556485,
          0.41535528721919024,
          0.42043722919938653,
          0.41563767844301186,
          0.329741714084058,
          0.32494216332768344,
          0.3300241053078797,
          0.32522455455150506
         ],
         "y": [
          -0.09584127480629276,
          -0.0440030673957688,
          -0.09606516918895372,
          -0.04422696177842973,
          -0.10421265598085089,
          -0.052374448570326915,
          -0.10443655036351182,
          -0.05259834295298785
         ],
         "z": [
          -0.0015378988362891085,
          -0.0014471943210726573,
          0.14136165172503617,
          0.14145235624025265,
          -0.0013723450091970629,
          -0.001281640493980612,
          0.14152720555212822,
          0.14161791006734467
         ]
        },
        {
         "marker": {
          "color": "black",
          "colorscale": [
           [
            0,
            "#440154"
           ],
           [
            0.1111111111111111,
            "#482878"
           ],
           [
            0.2222222222222222,
            "#3e4989"
           ],
           [
            0.3333333333333333,
            "#31688e"
           ],
           [
            0.4444444444444444,
            "#26828e"
           ],
           [
            0.5555555555555556,
            "#1f9e89"
           ],
           [
            0.6666666666666666,
            "#35b779"
           ],
           [
            0.7777777777777778,
            "#6ece58"
           ],
           [
            0.8888888888888888,
            "#b5de2b"
           ],
           [
            1,
            "#fde725"
           ]
          ],
          "opacity": 0.8,
          "size": 3
         },
         "mode": "markers",
         "type": "scatter3d",
         "x": [
          0.42015483797556485,
          0.41535528721919024,
          0.42043722919938653,
          0.41563767844301186,
          0.329741714084058,
          0.32494216332768344,
          0.3300241053078797,
          0.32522455455150506
         ],
         "y": [
          -0.09584127480629276,
          -0.0440030673957688,
          -0.09606516918895372,
          -0.04422696177842973,
          -0.10421265598085089,
          -0.052374448570326915,
          -0.10443655036351182,
          -0.05259834295298785
         ],
         "z": [
          -0.0015378988362891085,
          -0.0014471943210726573,
          0.14136165172503617,
          0.14145235624025265,
          -0.0013723450091970629,
          -0.001281640493980612,
          0.14152720555212822,
          0.14161791006734467
         ]
        },
        {
         "color": "blue",
         "delaunayaxis": "z",
         "flatshading": true,
         "i": [
          0,
          1,
          4,
          5,
          2,
          3,
          0,
          5,
          1,
          1,
          0,
          2
         ],
         "j": [
          1,
          2,
          5,
          6,
          3,
          6,
          1,
          1,
          5,
          3,
          4,
          4
         ],
         "k": [
          2,
          3,
          6,
          7,
          6,
          7,
          4,
          4,
          7,
          7,
          6,
          6
         ],
         "opacity": 0.05,
         "type": "mesh3d",
         "x": [
          0.384462832742429,
          0.39148774937223974,
          0.3847457250109606,
          0.39177064164077136,
          0.29449347344754817,
          0.30151839007735903,
          0.29477636571607985,
          0.30180128234589065
         ],
         "y": [
          -0.17746451713240488,
          -0.12588082210666982,
          -0.17714594840057718,
          -0.1255622533748421,
          -0.16521167859942562,
          -0.11362798357369056,
          -0.1648931098675979,
          -0.11330941484186283
         ],
         "z": [
          -0.0004619420847084286,
          -0.0005908457105633404,
          0.14243742778812954,
          0.14230852416227463,
          -0.00031114880314461654,
          -0.00044005242899952847,
          0.14258822106969335,
          0.14245931744383844
         ]
        },
        {
         "marker": {
          "color": "black",
          "colorscale": [
           [
            0,
            "#440154"
           ],
           [
            0.1111111111111111,
            "#482878"
           ],
           [
            0.2222222222222222,
            "#3e4989"
           ],
           [
            0.3333333333333333,
            "#31688e"
           ],
           [
            0.4444444444444444,
            "#26828e"
           ],
           [
            0.5555555555555556,
            "#1f9e89"
           ],
           [
            0.6666666666666666,
            "#35b779"
           ],
           [
            0.7777777777777778,
            "#6ece58"
           ],
           [
            0.8888888888888888,
            "#b5de2b"
           ],
           [
            1,
            "#fde725"
           ]
          ],
          "opacity": 0.8,
          "size": 3
         },
         "mode": "markers",
         "type": "scatter3d",
         "x": [
          0.384462832742429,
          0.39148774937223974,
          0.3847457250109606,
          0.39177064164077136,
          0.29449347344754817,
          0.30151839007735903,
          0.29477636571607985,
          0.30180128234589065
         ],
         "y": [
          -0.17746451713240488,
          -0.12588082210666982,
          -0.17714594840057718,
          -0.1255622533748421,
          -0.16521167859942562,
          -0.11362798357369056,
          -0.1648931098675979,
          -0.11330941484186283
         ],
         "z": [
          -0.0004619420847084286,
          -0.0005908457105633404,
          0.14243742778812954,
          0.14230852416227463,
          -0.00031114880314461654,
          -0.00044005242899952847,
          0.14258822106969335,
          0.14245931744383844
         ]
        },
        {
         "color": "blue",
         "delaunayaxis": "z",
         "flatshading": true,
         "i": [
          0,
          1,
          4,
          5,
          2,
          3,
          0,
          5,
          1,
          1,
          0,
          2
         ],
         "j": [
          1,
          2,
          5,
          6,
          3,
          6,
          1,
          1,
          5,
          3,
          4,
          4
         ],
         "k": [
          2,
          3,
          6,
          7,
          6,
          7,
          4,
          4,
          7,
          7,
          6,
          6
         ],
         "opacity": 0.05,
         "type": "mesh3d",
         "x": [
          0.4245241672411876,
          0.4198594922041231,
          0.42441834315985094,
          0.41975366812278647,
          0.334089418500479,
          0.3294247434634146,
          0.3339835944191424,
          0.32931891938207797
         ],
         "y": [
          -0.09639821912388744,
          -0.044547743271289686,
          -0.09671738086864395,
          -0.04486690501604618,
          -0.10453390432472148,
          -0.05268342847212372,
          -0.10485306606947797,
          -0.05300259021688021
         ],
         "z": [
          -0.00018751985588190442,
          -7.516788054333778e-05,
          0.14271208952486883,
          0.14282444150020737,
          -0.0002726619618862982,
          -0.00016030998654773153,
          0.14262694741886442,
          0.142739299394203
         ]
        },
        {
         "marker": {
          "color": "black",
          "colorscale": [
           [
            0,
            "#440154"
           ],
           [
            0.1111111111111111,
            "#482878"
           ],
           [
            0.2222222222222222,
            "#3e4989"
           ],
           [
            0.3333333333333333,
            "#31688e"
           ],
           [
            0.4444444444444444,
            "#26828e"
           ],
           [
            0.5555555555555556,
            "#1f9e89"
           ],
           [
            0.6666666666666666,
            "#35b779"
           ],
           [
            0.7777777777777778,
            "#6ece58"
           ],
           [
            0.8888888888888888,
            "#b5de2b"
           ],
           [
            1,
            "#fde725"
           ]
          ],
          "opacity": 0.8,
          "size": 3
         },
         "mode": "markers",
         "type": "scatter3d",
         "x": [
          0.4245241672411876,
          0.4198594922041231,
          0.42441834315985094,
          0.41975366812278647,
          0.334089418500479,
          0.3294247434634146,
          0.3339835944191424,
          0.32931891938207797
         ],
         "y": [
          -0.09639821912388744,
          -0.044547743271289686,
          -0.09671738086864395,
          -0.04486690501604618,
          -0.10453390432472148,
          -0.05268342847212372,
          -0.10485306606947797,
          -0.05300259021688021
         ],
         "z": [
          -0.00018751985588190442,
          -7.516788054333778e-05,
          0.14271208952486883,
          0.14282444150020737,
          -0.0002726619618862982,
          -0.00016030998654773153,
          0.14262694741886442,
          0.142739299394203
         ]
        },
        {
         "color": "blue",
         "delaunayaxis": "z",
         "flatshading": true,
         "i": [
          0,
          1,
          4,
          5,
          2,
          3,
          0,
          5,
          1,
          1,
          0,
          2
         ],
         "j": [
          1,
          2,
          5,
          6,
          3,
          6,
          1,
          1,
          5,
          3,
          4,
          4
         ],
         "k": [
          2,
          3,
          6,
          7,
          6,
          7,
          4,
          4,
          7,
          7,
          6,
          6
         ],
         "opacity": 0.05,
         "type": "mesh3d",
         "x": [
          0.34248363732924475,
          0.3599618695070977,
          0.34208212215775385,
          0.3595603543356068,
          0.2569542852526329,
          0.2744325174304859,
          0.25655277008114197,
          0.274031002258995
         ],
         "y": [
          -0.24872541365325695,
          -0.19968745276342323,
          -0.24911529652863285,
          -0.20007733563879912,
          -0.2182402428021353,
          -0.1692022819123016,
          -0.2186301256775112,
          -0.1695921647876775
         ],
         "z": [
          -0.0007136565930600898,
          -0.0005307522114762365,
          0.14218525243369629,
          0.14236815681528014,
          -0.0008708004547713348,
          -0.0006878960731874814,
          0.14202810857198506,
          0.1422110129535689
         ]
        },
        {
         "marker": {
          "color": "black",
          "colorscale": [
           [
            0,
            "#440154"
           ],
           [
            0.1111111111111111,
            "#482878"
           ],
           [
            0.2222222222222222,
            "#3e4989"
           ],
           [
            0.3333333333333333,
            "#31688e"
           ],
           [
            0.4444444444444444,
            "#26828e"
           ],
           [
            0.5555555555555556,
            "#1f9e89"
           ],
           [
            0.6666666666666666,
            "#35b779"
           ],
           [
            0.7777777777777778,
            "#6ece58"
           ],
           [
            0.8888888888888888,
            "#b5de2b"
           ],
           [
            1,
            "#fde725"
           ]
          ],
          "opacity": 0.8,
          "size": 3
         },
         "mode": "markers",
         "type": "scatter3d",
         "x": [
          0.34248363732924475,
          0.3599618695070977,
          0.34208212215775385,
          0.3595603543356068,
          0.2569542852526329,
          0.2744325174304859,
          0.25655277008114197,
          0.274031002258995
         ],
         "y": [
          -0.24872541365325695,
          -0.19968745276342323,
          -0.24911529652863285,
          -0.20007733563879912,
          -0.2182402428021353,
          -0.1692022819123016,
          -0.2186301256775112,
          -0.1695921647876775
         ],
         "z": [
          -0.0007136565930600898,
          -0.0005307522114762365,
          0.14218525243369629,
          0.14236815681528014,
          -0.0008708004547713348,
          -0.0006878960731874814,
          0.14202810857198506,
          0.1422110129535689
         ]
        },
        {
         "color": "blue",
         "delaunayaxis": "z",
         "flatshading": true,
         "i": [
          0,
          1,
          4,
          5,
          2,
          3,
          0,
          5,
          1,
          1,
          0,
          2
         ],
         "j": [
          1,
          2,
          5,
          6,
          3,
          6,
          1,
          1,
          5,
          3,
          4,
          4
         ],
         "k": [
          2,
          3,
          6,
          7,
          6,
          7,
          4,
          4,
          7,
          7,
          6,
          6
         ],
         "opacity": 0.05,
         "type": "mesh3d",
         "x": [
          0.2610607583363857,
          0.2901132358620101,
          0.26159708378946805,
          0.29064956131509245,
          0.18571548439116242,
          0.2147679619167868,
          0.18625180984424478,
          0.21530428736986917
         ],
         "y": [
          -0.31865069442481897,
          -0.2754512601883757,
          -0.3187531654309123,
          -0.275553731194469,
          -0.2679789245825993,
          -0.22477949034615602,
          -0.2680813955886926,
          -0.2248819613522493
         ],
         "z": [
          -0.0018077779884168722,
          -0.001885839393090486,
          0.1410911837951732,
          0.1410131223904996,
          -0.0014886575773700242,
          -0.001566718982043638,
          0.14141030420622006,
          0.14133224280154644
         ]
        },
        {
         "marker": {
          "color": "black",
          "colorscale": [
           [
            0,
            "#440154"
           ],
           [
            0.1111111111111111,
            "#482878"
           ],
           [
            0.2222222222222222,
            "#3e4989"
           ],
           [
            0.3333333333333333,
            "#31688e"
           ],
           [
            0.4444444444444444,
            "#26828e"
           ],
           [
            0.5555555555555556,
            "#1f9e89"
           ],
           [
            0.6666666666666666,
            "#35b779"
           ],
           [
            0.7777777777777778,
            "#6ece58"
           ],
           [
            0.8888888888888888,
            "#b5de2b"
           ],
           [
            1,
            "#fde725"
           ]
          ],
          "opacity": 0.8,
          "size": 3
         },
         "mode": "markers",
         "type": "scatter3d",
         "x": [
          0.2610607583363857,
          0.2901132358620101,
          0.26159708378946805,
          0.29064956131509245,
          0.18571548439116242,
          0.2147679619167868,
          0.18625180984424478,
          0.21530428736986917
         ],
         "y": [
          -0.31865069442481897,
          -0.2754512601883757,
          -0.3187531654309123,
          -0.275553731194469,
          -0.2679789245825993,
          -0.22477949034615602,
          -0.2680813955886926,
          -0.2248819613522493
         ],
         "z": [
          -0.0018077779884168722,
          -0.001885839393090486,
          0.1410911837951732,
          0.1410131223904996,
          -0.0014886575773700242,
          -0.001566718982043638,
          0.14141030420622006,
          0.14133224280154644
         ]
        }
       ],
       "layout": {
        "margin": {
         "b": 10,
         "l": 10,
         "r": 20,
         "t": 10
        },
        "scene": {
         "camera": {
          "center": {
           "x": 0.45,
           "y": 0,
           "z": 0
          },
          "eye": {
           "x": -1,
           "y": 0,
           "z": 0.01
          },
          "up": {
           "x": 0,
           "y": 0,
           "z": 1
          }
         },
         "xaxis": {
          "nticks": 10,
          "range": [
           -0.1,
           0.9
          ]
         },
         "yaxis": {
          "nticks": 16,
          "range": [
           -0.5,
           0.5
          ]
         },
         "zaxis": {
          "nticks": 8,
          "range": [
           -0.01,
           0.99
          ]
         }
        },
        "template": {
         "data": {
          "bar": [
           {
            "error_x": {
             "color": "#2a3f5f"
            },
            "error_y": {
             "color": "#2a3f5f"
            },
            "marker": {
             "line": {
              "color": "#E5ECF6",
              "width": 0.5
             }
            },
            "type": "bar"
           }
          ],
          "barpolar": [
           {
            "marker": {
             "line": {
              "color": "#E5ECF6",
              "width": 0.5
             }
            },
            "type": "barpolar"
           }
          ],
          "carpet": [
           {
            "aaxis": {
             "endlinecolor": "#2a3f5f",
             "gridcolor": "white",
             "linecolor": "white",
             "minorgridcolor": "white",
             "startlinecolor": "#2a3f5f"
            },
            "baxis": {
             "endlinecolor": "#2a3f5f",
             "gridcolor": "white",
             "linecolor": "white",
             "minorgridcolor": "white",
             "startlinecolor": "#2a3f5f"
            },
            "type": "carpet"
           }
          ],
          "choropleth": [
           {
            "colorbar": {
             "outlinewidth": 0,
             "ticks": ""
            },
            "type": "choropleth"
           }
          ],
          "contour": [
           {
            "colorbar": {
             "outlinewidth": 0,
             "ticks": ""
            },
            "colorscale": [
             [
              0,
              "#0d0887"
             ],
             [
              0.1111111111111111,
              "#46039f"
             ],
             [
              0.2222222222222222,
              "#7201a8"
             ],
             [
              0.3333333333333333,
              "#9c179e"
             ],
             [
              0.4444444444444444,
              "#bd3786"
             ],
             [
              0.5555555555555556,
              "#d8576b"
             ],
             [
              0.6666666666666666,
              "#ed7953"
             ],
             [
              0.7777777777777778,
              "#fb9f3a"
             ],
             [
              0.8888888888888888,
              "#fdca26"
             ],
             [
              1,
              "#f0f921"
             ]
            ],
            "type": "contour"
           }
          ],
          "contourcarpet": [
           {
            "colorbar": {
             "outlinewidth": 0,
             "ticks": ""
            },
            "type": "contourcarpet"
           }
          ],
          "heatmap": [
           {
            "colorbar": {
             "outlinewidth": 0,
             "ticks": ""
            },
            "colorscale": [
             [
              0,
              "#0d0887"
             ],
             [
              0.1111111111111111,
              "#46039f"
             ],
             [
              0.2222222222222222,
              "#7201a8"
             ],
             [
              0.3333333333333333,
              "#9c179e"
             ],
             [
              0.4444444444444444,
              "#bd3786"
             ],
             [
              0.5555555555555556,
              "#d8576b"
             ],
             [
              0.6666666666666666,
              "#ed7953"
             ],
             [
              0.7777777777777778,
              "#fb9f3a"
             ],
             [
              0.8888888888888888,
              "#fdca26"
             ],
             [
              1,
              "#f0f921"
             ]
            ],
            "type": "heatmap"
           }
          ],
          "heatmapgl": [
           {
            "colorbar": {
             "outlinewidth": 0,
             "ticks": ""
            },
            "colorscale": [
             [
              0,
              "#0d0887"
             ],
             [
              0.1111111111111111,
              "#46039f"
             ],
             [
              0.2222222222222222,
              "#7201a8"
             ],
             [
              0.3333333333333333,
              "#9c179e"
             ],
             [
              0.4444444444444444,
              "#bd3786"
             ],
             [
              0.5555555555555556,
              "#d8576b"
             ],
             [
              0.6666666666666666,
              "#ed7953"
             ],
             [
              0.7777777777777778,
              "#fb9f3a"
             ],
             [
              0.8888888888888888,
              "#fdca26"
             ],
             [
              1,
              "#f0f921"
             ]
            ],
            "type": "heatmapgl"
           }
          ],
          "histogram": [
           {
            "marker": {
             "colorbar": {
              "outlinewidth": 0,
              "ticks": ""
             }
            },
            "type": "histogram"
           }
          ],
          "histogram2d": [
           {
            "colorbar": {
             "outlinewidth": 0,
             "ticks": ""
            },
            "colorscale": [
             [
              0,
              "#0d0887"
             ],
             [
              0.1111111111111111,
              "#46039f"
             ],
             [
              0.2222222222222222,
              "#7201a8"
             ],
             [
              0.3333333333333333,
              "#9c179e"
             ],
             [
              0.4444444444444444,
              "#bd3786"
             ],
             [
              0.5555555555555556,
              "#d8576b"
             ],
             [
              0.6666666666666666,
              "#ed7953"
             ],
             [
              0.7777777777777778,
              "#fb9f3a"
             ],
             [
              0.8888888888888888,
              "#fdca26"
             ],
             [
              1,
              "#f0f921"
             ]
            ],
            "type": "histogram2d"
           }
          ],
          "histogram2dcontour": [
           {
            "colorbar": {
             "outlinewidth": 0,
             "ticks": ""
            },
            "colorscale": [
             [
              0,
              "#0d0887"
             ],
             [
              0.1111111111111111,
              "#46039f"
             ],
             [
              0.2222222222222222,
              "#7201a8"
             ],
             [
              0.3333333333333333,
              "#9c179e"
             ],
             [
              0.4444444444444444,
              "#bd3786"
             ],
             [
              0.5555555555555556,
              "#d8576b"
             ],
             [
              0.6666666666666666,
              "#ed7953"
             ],
             [
              0.7777777777777778,
              "#fb9f3a"
             ],
             [
              0.8888888888888888,
              "#fdca26"
             ],
             [
              1,
              "#f0f921"
             ]
            ],
            "type": "histogram2dcontour"
           }
          ],
          "mesh3d": [
           {
            "colorbar": {
             "outlinewidth": 0,
             "ticks": ""
            },
            "type": "mesh3d"
           }
          ],
          "parcoords": [
           {
            "line": {
             "colorbar": {
              "outlinewidth": 0,
              "ticks": ""
             }
            },
            "type": "parcoords"
           }
          ],
          "pie": [
           {
            "automargin": true,
            "type": "pie"
           }
          ],
          "scatter": [
           {
            "marker": {
             "colorbar": {
              "outlinewidth": 0,
              "ticks": ""
             }
            },
            "type": "scatter"
           }
          ],
          "scatter3d": [
           {
            "line": {
             "colorbar": {
              "outlinewidth": 0,
              "ticks": ""
             }
            },
            "marker": {
             "colorbar": {
              "outlinewidth": 0,
              "ticks": ""
             }
            },
            "type": "scatter3d"
           }
          ],
          "scattercarpet": [
           {
            "marker": {
             "colorbar": {
              "outlinewidth": 0,
              "ticks": ""
             }
            },
            "type": "scattercarpet"
           }
          ],
          "scattergeo": [
           {
            "marker": {
             "colorbar": {
              "outlinewidth": 0,
              "ticks": ""
             }
            },
            "type": "scattergeo"
           }
          ],
          "scattergl": [
           {
            "marker": {
             "colorbar": {
              "outlinewidth": 0,
              "ticks": ""
             }
            },
            "type": "scattergl"
           }
          ],
          "scattermapbox": [
           {
            "marker": {
             "colorbar": {
              "outlinewidth": 0,
              "ticks": ""
             }
            },
            "type": "scattermapbox"
           }
          ],
          "scatterpolar": [
           {
            "marker": {
             "colorbar": {
              "outlinewidth": 0,
              "ticks": ""
             }
            },
            "type": "scatterpolar"
           }
          ],
          "scatterpolargl": [
           {
            "marker": {
             "colorbar": {
              "outlinewidth": 0,
              "ticks": ""
             }
            },
            "type": "scatterpolargl"
           }
          ],
          "scatterternary": [
           {
            "marker": {
             "colorbar": {
              "outlinewidth": 0,
              "ticks": ""
             }
            },
            "type": "scatterternary"
           }
          ],
          "surface": [
           {
            "colorbar": {
             "outlinewidth": 0,
             "ticks": ""
            },
            "colorscale": [
             [
              0,
              "#0d0887"
             ],
             [
              0.1111111111111111,
              "#46039f"
             ],
             [
              0.2222222222222222,
              "#7201a8"
             ],
             [
              0.3333333333333333,
              "#9c179e"
             ],
             [
              0.4444444444444444,
              "#bd3786"
             ],
             [
              0.5555555555555556,
              "#d8576b"
             ],
             [
              0.6666666666666666,
              "#ed7953"
             ],
             [
              0.7777777777777778,
              "#fb9f3a"
             ],
             [
              0.8888888888888888,
              "#fdca26"
             ],
             [
              1,
              "#f0f921"
             ]
            ],
            "type": "surface"
           }
          ],
          "table": [
           {
            "cells": {
             "fill": {
              "color": "#EBF0F8"
             },
             "line": {
              "color": "white"
             }
            },
            "header": {
             "fill": {
              "color": "#C8D4E3"
             },
             "line": {
              "color": "white"
             }
            },
            "type": "table"
           }
          ]
         },
         "layout": {
          "annotationdefaults": {
           "arrowcolor": "#2a3f5f",
           "arrowhead": 0,
           "arrowwidth": 1
          },
          "coloraxis": {
           "colorbar": {
            "outlinewidth": 0,
            "ticks": ""
           }
          },
          "colorscale": {
           "diverging": [
            [
             0,
             "#8e0152"
            ],
            [
             0.1,
             "#c51b7d"
            ],
            [
             0.2,
             "#de77ae"
            ],
            [
             0.3,
             "#f1b6da"
            ],
            [
             0.4,
             "#fde0ef"
            ],
            [
             0.5,
             "#f7f7f7"
            ],
            [
             0.6,
             "#e6f5d0"
            ],
            [
             0.7,
             "#b8e186"
            ],
            [
             0.8,
             "#7fbc41"
            ],
            [
             0.9,
             "#4d9221"
            ],
            [
             1,
             "#276419"
            ]
           ],
           "sequential": [
            [
             0,
             "#0d0887"
            ],
            [
             0.1111111111111111,
             "#46039f"
            ],
            [
             0.2222222222222222,
             "#7201a8"
            ],
            [
             0.3333333333333333,
             "#9c179e"
            ],
            [
             0.4444444444444444,
             "#bd3786"
            ],
            [
             0.5555555555555556,
             "#d8576b"
            ],
            [
             0.6666666666666666,
             "#ed7953"
            ],
            [
             0.7777777777777778,
             "#fb9f3a"
            ],
            [
             0.8888888888888888,
             "#fdca26"
            ],
            [
             1,
             "#f0f921"
            ]
           ],
           "sequentialminus": [
            [
             0,
             "#0d0887"
            ],
            [
             0.1111111111111111,
             "#46039f"
            ],
            [
             0.2222222222222222,
             "#7201a8"
            ],
            [
             0.3333333333333333,
             "#9c179e"
            ],
            [
             0.4444444444444444,
             "#bd3786"
            ],
            [
             0.5555555555555556,
             "#d8576b"
            ],
            [
             0.6666666666666666,
             "#ed7953"
            ],
            [
             0.7777777777777778,
             "#fb9f3a"
            ],
            [
             0.8888888888888888,
             "#fdca26"
            ],
            [
             1,
             "#f0f921"
            ]
           ]
          },
          "colorway": [
           "#636efa",
           "#EF553B",
           "#00cc96",
           "#ab63fa",
           "#FFA15A",
           "#19d3f3",
           "#FF6692",
           "#B6E880",
           "#FF97FF",
           "#FECB52"
          ],
          "font": {
           "color": "#2a3f5f"
          },
          "geo": {
           "bgcolor": "white",
           "lakecolor": "white",
           "landcolor": "#E5ECF6",
           "showlakes": true,
           "showland": true,
           "subunitcolor": "white"
          },
          "hoverlabel": {
           "align": "left"
          },
          "hovermode": "closest",
          "mapbox": {
           "style": "light"
          },
          "paper_bgcolor": "white",
          "plot_bgcolor": "#E5ECF6",
          "polar": {
           "angularaxis": {
            "gridcolor": "white",
            "linecolor": "white",
            "ticks": ""
           },
           "bgcolor": "#E5ECF6",
           "radialaxis": {
            "gridcolor": "white",
            "linecolor": "white",
            "ticks": ""
           }
          },
          "scene": {
           "xaxis": {
            "backgroundcolor": "#E5ECF6",
            "gridcolor": "white",
            "gridwidth": 2,
            "linecolor": "white",
            "showbackground": true,
            "ticks": "",
            "zerolinecolor": "white"
           },
           "yaxis": {
            "backgroundcolor": "#E5ECF6",
            "gridcolor": "white",
            "gridwidth": 2,
            "linecolor": "white",
            "showbackground": true,
            "ticks": "",
            "zerolinecolor": "white"
           },
           "zaxis": {
            "backgroundcolor": "#E5ECF6",
            "gridcolor": "white",
            "gridwidth": 2,
            "linecolor": "white",
            "showbackground": true,
            "ticks": "",
            "zerolinecolor": "white"
           }
          },
          "shapedefaults": {
           "line": {
            "color": "#2a3f5f"
           }
          },
          "ternary": {
           "aaxis": {
            "gridcolor": "white",
            "linecolor": "white",
            "ticks": ""
           },
           "baxis": {
            "gridcolor": "white",
            "linecolor": "white",
            "ticks": ""
           },
           "bgcolor": "#E5ECF6",
           "caxis": {
            "gridcolor": "white",
            "linecolor": "white",
            "ticks": ""
           }
          },
          "title": {
           "x": 0.05
          },
          "xaxis": {
           "automargin": true,
           "gridcolor": "white",
           "linecolor": "white",
           "ticks": "",
           "title": {
            "standoff": 15
           },
           "zerolinecolor": "white",
           "zerolinewidth": 2
          },
          "yaxis": {
           "automargin": true,
           "gridcolor": "white",
           "linecolor": "white",
           "ticks": "",
           "title": {
            "standoff": 15
           },
           "zerolinecolor": "white",
           "zerolinewidth": 2
          }
         }
        },
        "width": 700
       }
      },
      "text/html": "<div>\n        \n        \n            <div id=\"3707fd37-bac7-4894-a4ca-a19a5c4b4b56\" class=\"plotly-graph-div\" style=\"height:525px; width:700px;\"></div>\n            <script type=\"text/javascript\">\n                require([\"plotly\"], function(Plotly) {\n                    window.PLOTLYENV=window.PLOTLYENV || {};\n                    \n                if (document.getElementById(\"3707fd37-bac7-4894-a4ca-a19a5c4b4b56\")) {\n                    Plotly.newPlot(\n                        '3707fd37-bac7-4894-a4ca-a19a5c4b4b56',\n                        [{\"color\": \"red\", \"delaunayaxis\": \"z\", \"flatshading\": true, \"i\": [0, 1, 4, 5, 2, 3, 0, 5, 1, 1, 0, 2], \"j\": [1, 2, 5, 6, 3, 6, 1, 1, 5, 3, 4, 4], \"k\": [2, 3, 6, 7, 6, 7, 4, 4, 7, 7, 6, 6], \"opacity\": 0.95, \"type\": \"mesh3d\", \"x\": [0.3029759282426088, 0.3175208309759395, 0.3029759282426088, 0.3175208309759395, 0.21579171889734536, 0.23033662163067609, 0.21579171889734536, 0.23033662163067609], \"y\": [-0.25887328116325986, -0.20888638821334202, -0.2588732811632599, -0.20888638821334204, -0.23350491417794428, -0.18351802122802643, -0.2335049141779443, -0.18351802122802646], \"z\": [1.3877787807814457e-17, 1.3877787807814457e-17, 0.1429000049829483, 0.1429000049829483, 1.3877787807814457e-17, 1.3877787807814457e-17, 0.1429000049829483, 0.1429000049829483]}, {\"color\": \"gray\", \"delaunayaxis\": \"z\", \"opacity\": 0.5, \"type\": \"mesh3d\", \"x\": [-1, 1, 1, -1], \"y\": [-1, -1, 1, 1], \"z\": [0, 0, 0, 0]}, {\"color\": \"blue\", \"delaunayaxis\": \"z\", \"flatshading\": true, \"i\": [0, 1, 4, 5, 2, 3, 0, 5, 1, 1, 0, 2], \"j\": [1, 2, 5, 6, 3, 6, 1, 1, 5, 3, 4, 4], \"k\": [2, 3, 6, 7, 6, 7, 4, 4, 7, 7, 6, 6], \"opacity\": 0.05, \"type\": \"mesh3d\", \"x\": [0.32107679053735505, 0.34145465603390696, 0.3214479737451749, 0.3418258392417268, 0.23752225968274768, 0.2579001251792996, 0.23789344289056752, 0.2582713083871194], \"y\": [-0.26753428767897375, -0.21962831449347592, -0.26750368139105957, -0.21959770820556168, -0.23199224329530083, -0.184086270109803, -0.23196163700738665, -0.18405566382188876], \"z\": [-0.0007198613582788326, -0.000783053631528301, 0.14217965827145265, 0.14211646599820318, -0.000510439879294373, -0.0005736321525438415, 0.14238907975043713, 0.14232588747718766]}, {\"marker\": {\"color\": \"black\", \"colorscale\": [[0.0, \"#440154\"], [0.1111111111111111, \"#482878\"], [0.2222222222222222, \"#3e4989\"], [0.3333333333333333, \"#31688e\"], [0.4444444444444444, \"#26828e\"], [0.5555555555555556, \"#1f9e89\"], [0.6666666666666666, \"#35b779\"], [0.7777777777777778, \"#6ece58\"], [0.8888888888888888, \"#b5de2b\"], [1.0, \"#fde725\"]], \"opacity\": 0.8, \"size\": 3.0}, \"mode\": \"markers\", \"type\": \"scatter3d\", \"x\": [0.32107679053735505, 0.34145465603390696, 0.3214479737451749, 0.3418258392417268, 0.23752225968274768, 0.2579001251792996, 0.23789344289056752, 0.2582713083871194], \"y\": [-0.26753428767897375, -0.21962831449347592, -0.26750368139105957, -0.21959770820556168, -0.23199224329530083, -0.184086270109803, -0.23196163700738665, -0.18405566382188876], \"z\": [-0.0007198613582788326, -0.000783053631528301, 0.14217965827145265, 0.14211646599820318, -0.000510439879294373, -0.0005736321525438415, 0.14238907975043713, 0.14232588747718766]}, {\"color\": \"blue\", \"delaunayaxis\": \"z\", \"flatshading\": true, \"i\": [0, 1, 4, 5, 2, 3, 0, 5, 1, 1, 0, 2], \"j\": [1, 2, 5, 6, 3, 6, 1, 1, 5, 3, 4, 4], \"k\": [2, 3, 6, 7, 6, 7, 4, 4, 7, 7, 6, 6], \"opacity\": 0.05, \"type\": \"mesh3d\", \"x\": [0.34258492895362175, 0.3582183612991813, 0.34253006080499115, 0.35816349315055074, 0.2559757236154009, 0.27160915596096047, 0.25592085546677035, 0.27155428781232993], \"y\": [-0.23532576176261594, -0.18566854437406805, -0.23526613217214526, -0.18560891478359734, -0.2080588594583337, -0.15840164206978583, -0.20799922986786298, -0.15834201247931512], \"z\": [0.0005777786987466828, 0.0005630602780884258, 0.1434777607068801, 0.14346304228622184, 0.0005331460761287254, 0.0005184276554704683, 0.14343312808426212, 0.14341840966360386]}, {\"marker\": {\"color\": \"black\", \"colorscale\": [[0.0, \"#440154\"], [0.1111111111111111, \"#482878\"], [0.2222222222222222, \"#3e4989\"], [0.3333333333333333, \"#31688e\"], [0.4444444444444444, \"#26828e\"], [0.5555555555555556, \"#1f9e89\"], [0.6666666666666666, \"#35b779\"], [0.7777777777777778, \"#6ece58\"], [0.8888888888888888, \"#b5de2b\"], [1.0, \"#fde725\"]], \"opacity\": 0.8, \"size\": 3.0}, \"mode\": \"markers\", \"type\": \"scatter3d\", \"x\": [0.34258492895362175, 0.3582183612991813, 0.34253006080499115, 0.35816349315055074, 0.2559757236154009, 0.27160915596096047, 0.25592085546677035, 0.27155428781232993], \"y\": [-0.23532576176261594, -0.18566854437406805, -0.23526613217214526, -0.18560891478359734, -0.2080588594583337, -0.15840164206978583, -0.20799922986786298, -0.15834201247931512], \"z\": [0.0005777786987466828, 0.0005630602780884258, 0.1434777607068801, 0.14346304228622184, 0.0005331460761287254, 0.0005184276554704683, 0.14343312808426212, 0.14341840966360386]}, {\"color\": \"blue\", \"delaunayaxis\": \"z\", \"flatshading\": true, \"i\": [0, 1, 4, 5, 2, 3, 0, 5, 1, 1, 0, 2], \"j\": [1, 2, 5, 6, 3, 6, 1, 1, 5, 3, 4, 4], \"k\": [2, 3, 6, 7, 6, 7, 4, 4, 7, 7, 6, 6], \"opacity\": 0.05, \"type\": \"mesh3d\", \"x\": [0.31687751880524084, 0.3376267720419193, 0.316089872565963, 0.33683912580264147, 0.23360266970146198, 0.25435192293814046, 0.23281502346218413, 0.2535642766988626], \"y\": [-0.2705660272434365, -0.22282009860328889, -0.27081060341706636, -0.22306467477691874, -0.2343751133483576, -0.18662918470820997, -0.23461968952198747, -0.18687376088183982], \"z\": [0.0006761451320974686, 0.0008722336802464582, 0.14357377009494873, 0.14376985864309771, 0.00027907984499316496, 0.00047516839314215456, 0.14317670480784442, 0.14337279335599343]}, {\"marker\": {\"color\": \"black\", \"colorscale\": [[0.0, \"#440154\"], [0.1111111111111111, \"#482878\"], [0.2222222222222222, \"#3e4989\"], [0.3333333333333333, \"#31688e\"], [0.4444444444444444, \"#26828e\"], [0.5555555555555556, \"#1f9e89\"], [0.6666666666666666, \"#35b779\"], [0.7777777777777778, \"#6ece58\"], [0.8888888888888888, \"#b5de2b\"], [1.0, \"#fde725\"]], \"opacity\": 0.8, \"size\": 3.0}, \"mode\": \"markers\", \"type\": \"scatter3d\", \"x\": [0.31687751880524084, 0.3376267720419193, 0.316089872565963, 0.33683912580264147, 0.23360266970146198, 0.25435192293814046, 0.23281502346218413, 0.2535642766988626], \"y\": [-0.2705660272434365, -0.22282009860328889, -0.27081060341706636, -0.22306467477691874, -0.2343751133483576, -0.18662918470820997, -0.23461968952198747, -0.18687376088183982], \"z\": [0.0006761451320974686, 0.0008722336802464582, 0.14357377009494873, 0.14376985864309771, 0.00027907984499316496, 0.00047516839314215456, 0.14317670480784442, 0.14337279335599343]}, {\"color\": \"blue\", \"delaunayaxis\": \"z\", \"flatshading\": true, \"i\": [0, 1, 4, 5, 2, 3, 0, 5, 1, 1, 0, 2], \"j\": [1, 2, 5, 6, 3, 6, 1, 1, 5, 3, 4, 4], \"k\": [2, 3, 6, 7, 6, 7, 4, 4, 7, 7, 6, 6], \"opacity\": 0.05, \"type\": \"mesh3d\", \"x\": [0.35435186198319285, 0.367253508236185, 0.35473647586784307, 0.36763812212083524, 0.26638466706157593, 0.27928631331456816, 0.2667692809462262, 0.2796709271992184], \"y\": [-0.21980144750942995, -0.16936563873854052, -0.22030430643283647, -0.169868497661947, -0.19730004316332078, -0.14686423439243135, -0.19780290208672727, -0.14736709331583783], \"z\": [-0.002389246805198169, -0.0022464886267228794, 0.1405093558093464, 0.1406521139878217, -0.002073299443228577, -0.001930541264753288, 0.140825303171316, 0.14096806134979128]}, {\"marker\": {\"color\": \"black\", \"colorscale\": [[0.0, \"#440154\"], [0.1111111111111111, \"#482878\"], [0.2222222222222222, \"#3e4989\"], [0.3333333333333333, \"#31688e\"], [0.4444444444444444, \"#26828e\"], [0.5555555555555556, \"#1f9e89\"], [0.6666666666666666, \"#35b779\"], [0.7777777777777778, \"#6ece58\"], [0.8888888888888888, \"#b5de2b\"], [1.0, \"#fde725\"]], \"opacity\": 0.8, \"size\": 3.0}, \"mode\": \"markers\", \"type\": \"scatter3d\", \"x\": [0.35435186198319285, 0.367253508236185, 0.35473647586784307, 0.36763812212083524, 0.26638466706157593, 0.27928631331456816, 0.2667692809462262, 0.2796709271992184], \"y\": [-0.21980144750942995, -0.16936563873854052, -0.22030430643283647, -0.169868497661947, -0.19730004316332078, -0.14686423439243135, -0.19780290208672727, -0.14736709331583783], \"z\": [-0.002389246805198169, -0.0022464886267228794, 0.1405093558093464, 0.1406521139878217, -0.002073299443228577, -0.001930541264753288, 0.140825303171316, 0.14096806134979128]}, {\"color\": \"blue\", \"delaunayaxis\": \"z\", \"flatshading\": true, \"i\": [0, 1, 4, 5, 2, 3, 0, 5, 1, 1, 0, 2], \"j\": [1, 2, 5, 6, 3, 6, 1, 1, 5, 3, 4, 4], \"k\": [2, 3, 6, 7, 6, 7, 4, 4, 7, 7, 6, 6], \"opacity\": 0.05, \"type\": \"mesh3d\", \"x\": [0.38565781621092216, 0.3926336820084827, 0.3853981917107084, 0.3923740575082689, 0.29567681920531225, 0.30265268500287285, 0.2954171947050984, 0.3023930605026591], \"y\": [-0.18024051903411537, -0.12865002065048653, -0.18010047880915586, -0.128509980425527, -0.1680737686810685, -0.11648327029743963, -0.16793372845610896, -0.1163432300724801], \"z\": [0.0009417753590294839, 0.0009038911695695701, 0.1438414758764936, 0.1438035916870337, 0.0007663718715342523, 0.0007284876820743385, 0.14366607238899837, 0.14362818819953843]}, {\"marker\": {\"color\": \"black\", \"colorscale\": [[0.0, \"#440154\"], [0.1111111111111111, \"#482878\"], [0.2222222222222222, \"#3e4989\"], [0.3333333333333333, \"#31688e\"], [0.4444444444444444, \"#26828e\"], [0.5555555555555556, \"#1f9e89\"], [0.6666666666666666, \"#35b779\"], [0.7777777777777778, \"#6ece58\"], [0.8888888888888888, \"#b5de2b\"], [1.0, \"#fde725\"]], \"opacity\": 0.8, \"size\": 3.0}, \"mode\": \"markers\", \"type\": \"scatter3d\", \"x\": [0.38565781621092216, 0.3926336820084827, 0.3853981917107084, 0.3923740575082689, 0.29567681920531225, 0.30265268500287285, 0.2954171947050984, 0.3023930605026591], \"y\": [-0.18024051903411537, -0.12865002065048653, -0.18010047880915586, -0.128509980425527, -0.1680737686810685, -0.11648327029743963, -0.16793372845610896, -0.1163432300724801], \"z\": [0.0009417753590294839, 0.0009038911695695701, 0.1438414758764936, 0.1438035916870337, 0.0007663718715342523, 0.0007284876820743385, 0.14366607238899837, 0.14362818819953843]}, {\"color\": \"blue\", \"delaunayaxis\": \"z\", \"flatshading\": true, \"i\": [0, 1, 4, 5, 2, 3, 0, 5, 1, 1, 0, 2], \"j\": [1, 2, 5, 6, 3, 6, 1, 1, 5, 3, 4, 4], \"k\": [2, 3, 6, 7, 6, 7, 4, 4, 7, 7, 6, 6], \"opacity\": 0.05, \"type\": \"mesh3d\", \"x\": [0.2822715986322447, 0.30822392203415055, 0.28282230641030004, 0.3087746298122058, 0.20355920419479767, 0.2295115275967035, 0.20410991197285294, 0.23006223537475878], \"y\": [-0.30301414609279187, -0.25788498365879275, -0.3024393356401429, -0.25731017320614374, -0.2577484343488714, -0.21261927191487232, -0.25717362389622245, -0.2120444614622233], \"z\": [-0.0006835895721982231, -0.0009651394917709838, 0.14221419815740016, 0.14193264823782742, -0.0005623258083263629, -0.0008438757278991236, 0.14233546192127203, 0.14205391200169928]}, {\"marker\": {\"color\": \"black\", \"colorscale\": [[0.0, \"#440154\"], [0.1111111111111111, \"#482878\"], [0.2222222222222222, \"#3e4989\"], [0.3333333333333333, \"#31688e\"], [0.4444444444444444, \"#26828e\"], [0.5555555555555556, \"#1f9e89\"], [0.6666666666666666, \"#35b779\"], [0.7777777777777778, \"#6ece58\"], [0.8888888888888888, \"#b5de2b\"], [1.0, \"#fde725\"]], \"opacity\": 0.8, \"size\": 3.0}, \"mode\": \"markers\", \"type\": \"scatter3d\", \"x\": [0.2822715986322447, 0.30822392203415055, 0.28282230641030004, 0.3087746298122058, 0.20355920419479767, 0.2295115275967035, 0.20410991197285294, 0.23006223537475878], \"y\": [-0.30301414609279187, -0.25788498365879275, -0.3024393356401429, -0.25731017320614374, -0.2577484343488714, -0.21261927191487232, -0.25717362389622245, -0.2120444614622233], \"z\": [-0.0006835895721982231, -0.0009651394917709838, 0.14221419815740016, 0.14193264823782742, -0.0005623258083263629, -0.0008438757278991236, 0.14233546192127203, 0.14205391200169928]}, {\"color\": \"blue\", \"delaunayaxis\": \"z\", \"flatshading\": true, \"i\": [0, 1, 4, 5, 2, 3, 0, 5, 1, 1, 0, 2], \"j\": [1, 2, 5, 6, 3, 6, 1, 1, 5, 3, 4, 4], \"k\": [2, 3, 6, 7, 6, 7, 4, 4, 7, 7, 6, 6], \"opacity\": 0.05, \"type\": \"mesh3d\", \"x\": [0.3675932092410222, 0.3777767110013502, 0.36755563252224455, 0.3777391342825726, 0.278547321504787, 0.28873082326511507, 0.27850974478600937, 0.28869324654633743], \"y\": [-0.2031798845349716, -0.15212560022093133, -0.20317999675636217, -0.15212571244232187, -0.18541841690695784, -0.13436413259291757, -0.18541852912834839, -0.13436424481430811], \"z\": [-0.00174465063313032, -0.0017419327047574584, 0.1411553494092219, 0.14115806733759476, -0.0017680520261616941, -0.0017653340977888325, 0.1411319480161905, 0.14113466594456336]}, {\"marker\": {\"color\": \"black\", \"colorscale\": [[0.0, \"#440154\"], [0.1111111111111111, \"#482878\"], [0.2222222222222222, \"#3e4989\"], [0.3333333333333333, \"#31688e\"], [0.4444444444444444, \"#26828e\"], [0.5555555555555556, \"#1f9e89\"], [0.6666666666666666, \"#35b779\"], [0.7777777777777778, \"#6ece58\"], [0.8888888888888888, \"#b5de2b\"], [1.0, \"#fde725\"]], \"opacity\": 0.8, \"size\": 3.0}, \"mode\": \"markers\", \"type\": \"scatter3d\", \"x\": [0.3675932092410222, 0.3777767110013502, 0.36755563252224455, 0.3777391342825726, 0.278547321504787, 0.28873082326511507, 0.27850974478600937, 0.28869324654633743], \"y\": [-0.2031798845349716, -0.15212560022093133, -0.20317999675636217, -0.15212571244232187, -0.18541841690695784, -0.13436413259291757, -0.18541852912834839, -0.13436424481430811], \"z\": [-0.00174465063313032, -0.0017419327047574584, 0.1411553494092219, 0.14115806733759476, -0.0017680520261616941, -0.0017653340977888325, 0.1411319480161905, 0.14113466594456336]}, {\"color\": \"blue\", \"delaunayaxis\": \"z\", \"flatshading\": true, \"i\": [0, 1, 4, 5, 2, 3, 0, 5, 1, 1, 0, 2], \"j\": [1, 2, 5, 6, 3, 6, 1, 1, 5, 3, 4, 4], \"k\": [2, 3, 6, 7, 6, 7, 4, 4, 7, 7, 6, 6], \"opacity\": 0.05, \"type\": \"mesh3d\", \"x\": [0.4059688961859955, 0.4066148317061047, 0.4051636189495801, 0.40580955446968925, 0.3151773252585783, 0.3158232607786875, 0.31437204802216284, 0.315017983542272], \"y\": [-0.1370757072558489, -0.08502001374024415, -0.13755060967579721, -0.08549491616019245, -0.13594739233316705, -0.0838916988175623, -0.13642229475311535, -0.0843666012375106], \"z\": [0.00041386783696868083, 0.0005905093436542705, 0.14331081469165374, 0.14348745619833933, -9.402647033802827e-05, 8.261503634756175e-05, 0.14280292038434703, 0.1429795618910326]}, {\"marker\": {\"color\": \"black\", \"colorscale\": [[0.0, \"#440154\"], [0.1111111111111111, \"#482878\"], [0.2222222222222222, \"#3e4989\"], [0.3333333333333333, \"#31688e\"], [0.4444444444444444, \"#26828e\"], [0.5555555555555556, \"#1f9e89\"], [0.6666666666666666, \"#35b779\"], [0.7777777777777778, \"#6ece58\"], [0.8888888888888888, \"#b5de2b\"], [1.0, \"#fde725\"]], \"opacity\": 0.8, \"size\": 3.0}, \"mode\": \"markers\", \"type\": \"scatter3d\", \"x\": [0.4059688961859955, 0.4066148317061047, 0.4051636189495801, 0.40580955446968925, 0.3151773252585783, 0.3158232607786875, 0.31437204802216284, 0.315017983542272], \"y\": [-0.1370757072558489, -0.08502001374024415, -0.13755060967579721, -0.08549491616019245, -0.13594739233316705, -0.0838916988175623, -0.13642229475311535, -0.0843666012375106], \"z\": [0.00041386783696868083, 0.0005905093436542705, 0.14331081469165374, 0.14348745619833933, -9.402647033802827e-05, 8.261503634756175e-05, 0.14280292038434703, 0.1429795618910326]}, {\"color\": \"blue\", \"delaunayaxis\": \"z\", \"flatshading\": true, \"i\": [0, 1, 4, 5, 2, 3, 0, 5, 1, 1, 0, 2], \"j\": [1, 2, 5, 6, 3, 6, 1, 1, 5, 3, 4, 4], \"k\": [2, 3, 6, 7, 6, 7, 4, 4, 7, 7, 6, 6], \"opacity\": 0.05, \"type\": \"mesh3d\", \"x\": [0.1882873475390937, 0.22635374022337623, 0.1887953393128438, 0.22686173199712634, 0.12634799807326808, 0.1644143907575506, 0.12685598984701818, 0.1649223825313007], \"y\": [-0.3555658255527328, -0.32005339874995153, -0.35511690507440385, -0.3196044782716225, -0.289171870589839, -0.25365944378705774, -0.28872295011151, -0.25321052330872873], \"z\": [0.0006481867798786255, 0.0004013003855575756, 0.1435465836879216, 0.14329969729360054, 0.0006597969449740813, 0.0004129105506530315, 0.14355819385301705, 0.143311307458696]}, {\"marker\": {\"color\": \"black\", \"colorscale\": [[0.0, \"#440154\"], [0.1111111111111111, \"#482878\"], [0.2222222222222222, \"#3e4989\"], [0.3333333333333333, \"#31688e\"], [0.4444444444444444, \"#26828e\"], [0.5555555555555556, \"#1f9e89\"], [0.6666666666666666, \"#35b779\"], [0.7777777777777778, \"#6ece58\"], [0.8888888888888888, \"#b5de2b\"], [1.0, \"#fde725\"]], \"opacity\": 0.8, \"size\": 3.0}, \"mode\": \"markers\", \"type\": \"scatter3d\", \"x\": [0.1882873475390937, 0.22635374022337623, 0.1887953393128438, 0.22686173199712634, 0.12634799807326808, 0.1644143907575506, 0.12685598984701818, 0.1649223825313007], \"y\": [-0.3555658255527328, -0.32005339874995153, -0.35511690507440385, -0.3196044782716225, -0.289171870589839, -0.25365944378705774, -0.28872295011151, -0.25321052330872873], \"z\": [0.0006481867798786255, 0.0004013003855575756, 0.1435465836879216, 0.14329969729360054, 0.0006597969449740813, 0.0004129105506530315, 0.14355819385301705, 0.143311307458696]}, {\"color\": \"blue\", \"delaunayaxis\": \"z\", \"flatshading\": true, \"i\": [0, 1, 4, 5, 2, 3, 0, 5, 1, 1, 0, 2], \"j\": [1, 2, 5, 6, 3, 6, 1, 1, 5, 3, 4, 4], \"k\": [2, 3, 6, 7, 6, 7, 4, 4, 7, 7, 6, 6], \"opacity\": 0.05, \"type\": \"mesh3d\", \"x\": [0.3915768000970099, 0.39755933789553094, 0.39113855304053907, 0.39712109083906005, 0.3013787606164163, 0.3073612984149373, 0.3009405135599454, 0.3069230513584664], \"y\": [-0.17601577011543706, -0.12430086023451281, -0.17556464854571815, -0.12384973866479387, -0.165582254474099, -0.11386734459317474, -0.16513113290438006, -0.1134162230234558], \"z\": [0.0009502122634147919, 0.0008052991661882643, 0.14384883315589742, 0.1437039200586709, 0.0006406514784376843, 0.0004957383812111567, 0.14353927237092032, 0.1433943592736938]}, {\"marker\": {\"color\": \"black\", \"colorscale\": [[0.0, \"#440154\"], [0.1111111111111111, \"#482878\"], [0.2222222222222222, \"#3e4989\"], [0.3333333333333333, \"#31688e\"], [0.4444444444444444, \"#26828e\"], [0.5555555555555556, \"#1f9e89\"], [0.6666666666666666, \"#35b779\"], [0.7777777777777778, \"#6ece58\"], [0.8888888888888888, \"#b5de2b\"], [1.0, \"#fde725\"]], \"opacity\": 0.8, \"size\": 3.0}, \"mode\": \"markers\", \"type\": \"scatter3d\", \"x\": [0.3915768000970099, 0.39755933789553094, 0.39113855304053907, 0.39712109083906005, 0.3013787606164163, 0.3073612984149373, 0.3009405135599454, 0.3069230513584664], \"y\": [-0.17601577011543706, -0.12430086023451281, -0.17556464854571815, -0.12384973866479387, -0.165582254474099, -0.11386734459317474, -0.16513113290438006, -0.1134162230234558], \"z\": [0.0009502122634147919, 0.0008052991661882643, 0.14384883315589742, 0.1437039200586709, 0.0006406514784376843, 0.0004957383812111567, 0.14353927237092032, 0.1433943592736938]}, {\"color\": \"blue\", \"delaunayaxis\": \"z\", \"flatshading\": true, \"i\": [0, 1, 4, 5, 2, 3, 0, 5, 1, 1, 0, 2], \"j\": [1, 2, 5, 6, 3, 6, 1, 1, 5, 3, 4, 4], \"k\": [2, 3, 6, 7, 6, 7, 4, 4, 7, 7, 6, 6], \"opacity\": 0.05, \"type\": \"mesh3d\", \"x\": [0.12827394525313432, 0.17176147393165098, 0.12786073411874865, 0.1713482627972653, 0.07835809781035986, 0.12184562648887656, 0.07794488667597421, 0.12143241535449092], \"y\": [-0.38198611996106785, -0.35336676095487646, -0.38187718170387946, -0.3532578226976881, -0.3061375358747925, -0.2775181768686011, -0.3060285976176041, -0.2774092386114127], \"z\": [0.00042707090760279385, 0.0005310027050418287, 0.14332643694237981, 0.14343036873981885, 0.00022491048304788136, 0.0003288422804869163, 0.14312427651782492, 0.14322820831526395]}, {\"marker\": {\"color\": \"black\", \"colorscale\": [[0.0, \"#440154\"], [0.1111111111111111, \"#482878\"], [0.2222222222222222, \"#3e4989\"], [0.3333333333333333, \"#31688e\"], [0.4444444444444444, \"#26828e\"], [0.5555555555555556, \"#1f9e89\"], [0.6666666666666666, \"#35b779\"], [0.7777777777777778, \"#6ece58\"], [0.8888888888888888, \"#b5de2b\"], [1.0, \"#fde725\"]], \"opacity\": 0.8, \"size\": 3.0}, \"mode\": \"markers\", \"type\": \"scatter3d\", \"x\": [0.12827394525313432, 0.17176147393165098, 0.12786073411874865, 0.1713482627972653, 0.07835809781035986, 0.12184562648887656, 0.07794488667597421, 0.12143241535449092], \"y\": [-0.38198611996106785, -0.35336676095487646, -0.38187718170387946, -0.3532578226976881, -0.3061375358747925, -0.2775181768686011, -0.3060285976176041, -0.2774092386114127], \"z\": [0.00042707090760279385, 0.0005310027050418287, 0.14332643694237981, 0.14343036873981885, 0.00022491048304788136, 0.0003288422804869163, 0.14312427651782492, 0.14322820831526395]}, {\"color\": \"blue\", \"delaunayaxis\": \"z\", \"flatshading\": true, \"i\": [0, 1, 4, 5, 2, 3, 0, 5, 1, 1, 0, 2], \"j\": [1, 2, 5, 6, 3, 6, 1, 1, 5, 3, 4, 4], \"k\": [2, 3, 6, 7, 6, 7, 4, 4, 7, 7, 6, 6], \"opacity\": 0.05, \"type\": \"mesh3d\", \"x\": [0.42947547948008125, 0.42063943436951146, 0.42943587717602594, 0.42059983206545615, 0.3399929044740822, 0.33115685936351247, 0.3399533021700269, 0.33111725705945716], \"y\": [-0.06266484159312584, -0.01136027623329721, -0.06294374624742277, -0.011639180887594115, -0.07807607650195043, -0.0267715111421218, -0.07835498115624732, -0.027050415796418703], \"z\": [-0.00043793051371295087, -0.0003402455525008701, 0.14246179680575385, 0.14255948176696595, -0.0004928080242210216, -0.00039512306300894083, 0.1424069192952458, 0.14250460425645786]}, {\"marker\": {\"color\": \"black\", \"colorscale\": [[0.0, \"#440154\"], [0.1111111111111111, \"#482878\"], [0.2222222222222222, \"#3e4989\"], [0.3333333333333333, \"#31688e\"], [0.4444444444444444, \"#26828e\"], [0.5555555555555556, \"#1f9e89\"], [0.6666666666666666, \"#35b779\"], [0.7777777777777778, \"#6ece58\"], [0.8888888888888888, \"#b5de2b\"], [1.0, \"#fde725\"]], \"opacity\": 0.8, \"size\": 3.0}, \"mode\": \"markers\", \"type\": \"scatter3d\", \"x\": [0.42947547948008125, 0.42063943436951146, 0.42943587717602594, 0.42059983206545615, 0.3399929044740822, 0.33115685936351247, 0.3399533021700269, 0.33111725705945716], \"y\": [-0.06266484159312584, -0.01136027623329721, -0.06294374624742277, -0.011639180887594115, -0.07807607650195043, -0.0267715111421218, -0.07835498115624732, -0.027050415796418703], \"z\": [-0.00043793051371295087, -0.0003402455525008701, 0.14246179680575385, 0.14255948176696595, -0.0004928080242210216, -0.00039512306300894083, 0.1424069192952458, 0.14250460425645786]}, {\"color\": \"blue\", \"delaunayaxis\": \"z\", \"flatshading\": true, \"i\": [0, 1, 4, 5, 2, 3, 0, 5, 1, 1, 0, 2], \"j\": [1, 2, 5, 6, 3, 6, 1, 1, 5, 3, 4, 4], \"k\": [2, 3, 6, 7, 6, 7, 4, 4, 7, 7, 6, 6], \"opacity\": 0.05, \"type\": \"mesh3d\", \"x\": [0.35968530071390464, 0.37158944690640444, 0.36007239149892734, 0.37197653769142713, 0.2712913082105307, 0.2831954544030305, 0.27167839899555346, 0.28358254518805326], \"y\": [-0.21511465515898484, -0.1644342651098561, -0.21469313593435124, -0.16401274588522247, -0.19435144882780256, -0.14367105877867384, -0.19392992960316893, -0.1432495395540402], \"z\": [-0.0012321080633676614, -0.001413850200374367, 0.141666750946752, 0.1414850088097453, -0.0010539092345443239, -0.0012356513715510297, 0.14184494977557535, 0.14166320763856863]}, {\"marker\": {\"color\": \"black\", \"colorscale\": [[0.0, \"#440154\"], [0.1111111111111111, \"#482878\"], [0.2222222222222222, \"#3e4989\"], [0.3333333333333333, \"#31688e\"], [0.4444444444444444, \"#26828e\"], [0.5555555555555556, \"#1f9e89\"], [0.6666666666666666, \"#35b779\"], [0.7777777777777778, \"#6ece58\"], [0.8888888888888888, \"#b5de2b\"], [1.0, \"#fde725\"]], \"opacity\": 0.8, \"size\": 3.0}, \"mode\": \"markers\", \"type\": \"scatter3d\", \"x\": [0.35968530071390464, 0.37158944690640444, 0.36007239149892734, 0.37197653769142713, 0.2712913082105307, 0.2831954544030305, 0.27167839899555346, 0.28358254518805326], \"y\": [-0.21511465515898484, -0.1644342651098561, -0.21469313593435124, -0.16401274588522247, -0.19435144882780256, -0.14367105877867384, -0.19392992960316893, -0.1432495395540402], \"z\": [-0.0012321080633676614, -0.001413850200374367, 0.141666750946752, 0.1414850088097453, -0.0010539092345443239, -0.0012356513715510297, 0.14184494977557535, 0.14166320763856863]}, {\"color\": \"blue\", \"delaunayaxis\": \"z\", \"flatshading\": true, \"i\": [0, 1, 4, 5, 2, 3, 0, 5, 1, 1, 0, 2], \"j\": [1, 2, 5, 6, 3, 6, 1, 1, 5, 3, 4, 4], \"k\": [2, 3, 6, 7, 6, 7, 4, 4, 7, 7, 6, 6], \"opacity\": 0.05, \"type\": \"mesh3d\", \"x\": [0.3977911229270539, 0.4023968278697053, 0.39764679452335333, 0.4022524994660048, 0.30734720166741825, 0.3119529066100697, 0.3072028732637177, 0.3118085782063692], \"y\": [-0.16302290286048485, -0.11116715594392781, -0.1633200989426143, -0.11146435202605723, -0.1549897254981994, -0.10313397858164233, -0.1552869215803288, -0.10343117466377175], \"z\": [-0.00021943683106926917, -0.00010693787187943132, 0.14268018621926384, 0.14279268517845367, -0.0002940780212489244, -0.00018157906205908657, 0.14260554502908418, 0.14271804398827403]}, {\"marker\": {\"color\": \"black\", \"colorscale\": [[0.0, \"#440154\"], [0.1111111111111111, \"#482878\"], [0.2222222222222222, \"#3e4989\"], [0.3333333333333333, \"#31688e\"], [0.4444444444444444, \"#26828e\"], [0.5555555555555556, \"#1f9e89\"], [0.6666666666666666, \"#35b779\"], [0.7777777777777778, \"#6ece58\"], [0.8888888888888888, \"#b5de2b\"], [1.0, \"#fde725\"]], \"opacity\": 0.8, \"size\": 3.0}, \"mode\": \"markers\", \"type\": \"scatter3d\", \"x\": [0.3977911229270539, 0.4023968278697053, 0.39764679452335333, 0.4022524994660048, 0.30734720166741825, 0.3119529066100697, 0.3072028732637177, 0.3118085782063692], \"y\": [-0.16302290286048485, -0.11116715594392781, -0.1633200989426143, -0.11146435202605723, -0.1549897254981994, -0.10313397858164233, -0.1552869215803288, -0.10343117466377175], \"z\": [-0.00021943683106926917, -0.00010693787187943132, 0.14268018621926384, 0.14279268517845367, -0.0002940780212489244, -0.00018157906205908657, 0.14260554502908418, 0.14271804398827403]}, {\"color\": \"blue\", \"delaunayaxis\": \"z\", \"flatshading\": true, \"i\": [0, 1, 4, 5, 2, 3, 0, 5, 1, 1, 0, 2], \"j\": [1, 2, 5, 6, 3, 6, 1, 1, 5, 3, 4, 4], \"k\": [2, 3, 6, 7, 6, 7, 4, 4, 7, 7, 6, 6], \"opacity\": 0.05, \"type\": \"mesh3d\", \"x\": [0.26401009537272024, 0.2937341824223335, 0.2644307198887351, 0.2941548069383484, 0.1894656709819191, 0.2191897580315324, 0.18988629549793393, 0.21961038254754725], \"y\": [-0.31534093009994335, -0.2726013680025301, -0.3148699841864871, -0.2721304220890738, -0.2634972531807749, -0.2207576910833616, -0.26302630726731857, -0.22028674516990532], \"z\": [0.0014899798318156578, 0.0012616312015066675, 0.14438858972389884, 0.14416024109358985, 0.0015385432478810543, 0.0013101946175720638, 0.14443715313996422, 0.14420880450965523]}, {\"marker\": {\"color\": \"black\", \"colorscale\": [[0.0, \"#440154\"], [0.1111111111111111, \"#482878\"], [0.2222222222222222, \"#3e4989\"], [0.3333333333333333, \"#31688e\"], [0.4444444444444444, \"#26828e\"], [0.5555555555555556, \"#1f9e89\"], [0.6666666666666666, \"#35b779\"], [0.7777777777777778, \"#6ece58\"], [0.8888888888888888, \"#b5de2b\"], [1.0, \"#fde725\"]], \"opacity\": 0.8, \"size\": 3.0}, \"mode\": \"markers\", \"type\": \"scatter3d\", \"x\": [0.26401009537272024, 0.2937341824223335, 0.2644307198887351, 0.2941548069383484, 0.1894656709819191, 0.2191897580315324, 0.18988629549793393, 0.21961038254754725], \"y\": [-0.31534093009994335, -0.2726013680025301, -0.3148699841864871, -0.2721304220890738, -0.2634972531807749, -0.2207576910833616, -0.26302630726731857, -0.22028674516990532], \"z\": [0.0014899798318156578, 0.0012616312015066675, 0.14438858972389884, 0.14416024109358985, 0.0015385432478810543, 0.0013101946175720638, 0.14443715313996422, 0.14420880450965523]}, {\"color\": \"blue\", \"delaunayaxis\": \"z\", \"flatshading\": true, \"i\": [0, 1, 4, 5, 2, 3, 0, 5, 1, 1, 0, 2], \"j\": [1, 2, 5, 6, 3, 6, 1, 1, 5, 3, 4, 4], \"k\": [2, 3, 6, 7, 6, 7, 4, 4, 7, 7, 6, 6], \"opacity\": 0.05, \"type\": \"mesh3d\", \"x\": [0.42015483797556485, 0.41535528721919024, 0.42043722919938653, 0.41563767844301186, 0.329741714084058, 0.32494216332768344, 0.3300241053078797, 0.32522455455150506], \"y\": [-0.09584127480629276, -0.0440030673957688, -0.09606516918895372, -0.04422696177842973, -0.10421265598085089, -0.052374448570326915, -0.10443655036351182, -0.05259834295298785], \"z\": [-0.0015378988362891085, -0.0014471943210726573, 0.14136165172503617, 0.14145235624025265, -0.0013723450091970629, -0.001281640493980612, 0.14152720555212822, 0.14161791006734467]}, {\"marker\": {\"color\": \"black\", \"colorscale\": [[0.0, \"#440154\"], [0.1111111111111111, \"#482878\"], [0.2222222222222222, \"#3e4989\"], [0.3333333333333333, \"#31688e\"], [0.4444444444444444, \"#26828e\"], [0.5555555555555556, \"#1f9e89\"], [0.6666666666666666, \"#35b779\"], [0.7777777777777778, \"#6ece58\"], [0.8888888888888888, \"#b5de2b\"], [1.0, \"#fde725\"]], \"opacity\": 0.8, \"size\": 3.0}, \"mode\": \"markers\", \"type\": \"scatter3d\", \"x\": [0.42015483797556485, 0.41535528721919024, 0.42043722919938653, 0.41563767844301186, 0.329741714084058, 0.32494216332768344, 0.3300241053078797, 0.32522455455150506], \"y\": [-0.09584127480629276, -0.0440030673957688, -0.09606516918895372, -0.04422696177842973, -0.10421265598085089, -0.052374448570326915, -0.10443655036351182, -0.05259834295298785], \"z\": [-0.0015378988362891085, -0.0014471943210726573, 0.14136165172503617, 0.14145235624025265, -0.0013723450091970629, -0.001281640493980612, 0.14152720555212822, 0.14161791006734467]}, {\"color\": \"blue\", \"delaunayaxis\": \"z\", \"flatshading\": true, \"i\": [0, 1, 4, 5, 2, 3, 0, 5, 1, 1, 0, 2], \"j\": [1, 2, 5, 6, 3, 6, 1, 1, 5, 3, 4, 4], \"k\": [2, 3, 6, 7, 6, 7, 4, 4, 7, 7, 6, 6], \"opacity\": 0.05, \"type\": \"mesh3d\", \"x\": [0.384462832742429, 0.39148774937223974, 0.3847457250109606, 0.39177064164077136, 0.29449347344754817, 0.30151839007735903, 0.29477636571607985, 0.30180128234589065], \"y\": [-0.17746451713240488, -0.12588082210666982, -0.17714594840057718, -0.1255622533748421, -0.16521167859942562, -0.11362798357369056, -0.1648931098675979, -0.11330941484186283], \"z\": [-0.0004619420847084286, -0.0005908457105633404, 0.14243742778812954, 0.14230852416227463, -0.00031114880314461654, -0.00044005242899952847, 0.14258822106969335, 0.14245931744383844]}, {\"marker\": {\"color\": \"black\", \"colorscale\": [[0.0, \"#440154\"], [0.1111111111111111, \"#482878\"], [0.2222222222222222, \"#3e4989\"], [0.3333333333333333, \"#31688e\"], [0.4444444444444444, \"#26828e\"], [0.5555555555555556, \"#1f9e89\"], [0.6666666666666666, \"#35b779\"], [0.7777777777777778, \"#6ece58\"], [0.8888888888888888, \"#b5de2b\"], [1.0, \"#fde725\"]], \"opacity\": 0.8, \"size\": 3.0}, \"mode\": \"markers\", \"type\": \"scatter3d\", \"x\": [0.384462832742429, 0.39148774937223974, 0.3847457250109606, 0.39177064164077136, 0.29449347344754817, 0.30151839007735903, 0.29477636571607985, 0.30180128234589065], \"y\": [-0.17746451713240488, -0.12588082210666982, -0.17714594840057718, -0.1255622533748421, -0.16521167859942562, -0.11362798357369056, -0.1648931098675979, -0.11330941484186283], \"z\": [-0.0004619420847084286, -0.0005908457105633404, 0.14243742778812954, 0.14230852416227463, -0.00031114880314461654, -0.00044005242899952847, 0.14258822106969335, 0.14245931744383844]}, {\"color\": \"blue\", \"delaunayaxis\": \"z\", \"flatshading\": true, \"i\": [0, 1, 4, 5, 2, 3, 0, 5, 1, 1, 0, 2], \"j\": [1, 2, 5, 6, 3, 6, 1, 1, 5, 3, 4, 4], \"k\": [2, 3, 6, 7, 6, 7, 4, 4, 7, 7, 6, 6], \"opacity\": 0.05, \"type\": \"mesh3d\", \"x\": [0.4245241672411876, 0.4198594922041231, 0.42441834315985094, 0.41975366812278647, 0.334089418500479, 0.3294247434634146, 0.3339835944191424, 0.32931891938207797], \"y\": [-0.09639821912388744, -0.044547743271289686, -0.09671738086864395, -0.04486690501604618, -0.10453390432472148, -0.05268342847212372, -0.10485306606947797, -0.05300259021688021], \"z\": [-0.00018751985588190442, -7.516788054333778e-05, 0.14271208952486883, 0.14282444150020737, -0.0002726619618862982, -0.00016030998654773153, 0.14262694741886442, 0.142739299394203]}, {\"marker\": {\"color\": \"black\", \"colorscale\": [[0.0, \"#440154\"], [0.1111111111111111, \"#482878\"], [0.2222222222222222, \"#3e4989\"], [0.3333333333333333, \"#31688e\"], [0.4444444444444444, \"#26828e\"], [0.5555555555555556, \"#1f9e89\"], [0.6666666666666666, \"#35b779\"], [0.7777777777777778, \"#6ece58\"], [0.8888888888888888, \"#b5de2b\"], [1.0, \"#fde725\"]], \"opacity\": 0.8, \"size\": 3.0}, \"mode\": \"markers\", \"type\": \"scatter3d\", \"x\": [0.4245241672411876, 0.4198594922041231, 0.42441834315985094, 0.41975366812278647, 0.334089418500479, 0.3294247434634146, 0.3339835944191424, 0.32931891938207797], \"y\": [-0.09639821912388744, -0.044547743271289686, -0.09671738086864395, -0.04486690501604618, -0.10453390432472148, -0.05268342847212372, -0.10485306606947797, -0.05300259021688021], \"z\": [-0.00018751985588190442, -7.516788054333778e-05, 0.14271208952486883, 0.14282444150020737, -0.0002726619618862982, -0.00016030998654773153, 0.14262694741886442, 0.142739299394203]}, {\"color\": \"blue\", \"delaunayaxis\": \"z\", \"flatshading\": true, \"i\": [0, 1, 4, 5, 2, 3, 0, 5, 1, 1, 0, 2], \"j\": [1, 2, 5, 6, 3, 6, 1, 1, 5, 3, 4, 4], \"k\": [2, 3, 6, 7, 6, 7, 4, 4, 7, 7, 6, 6], \"opacity\": 0.05, \"type\": \"mesh3d\", \"x\": [0.34248363732924475, 0.3599618695070977, 0.34208212215775385, 0.3595603543356068, 0.2569542852526329, 0.2744325174304859, 0.25655277008114197, 0.274031002258995], \"y\": [-0.24872541365325695, -0.19968745276342323, -0.24911529652863285, -0.20007733563879912, -0.2182402428021353, -0.1692022819123016, -0.2186301256775112, -0.1695921647876775], \"z\": [-0.0007136565930600898, -0.0005307522114762365, 0.14218525243369629, 0.14236815681528014, -0.0008708004547713348, -0.0006878960731874814, 0.14202810857198506, 0.1422110129535689]}, {\"marker\": {\"color\": \"black\", \"colorscale\": [[0.0, \"#440154\"], [0.1111111111111111, \"#482878\"], [0.2222222222222222, \"#3e4989\"], [0.3333333333333333, \"#31688e\"], [0.4444444444444444, \"#26828e\"], [0.5555555555555556, \"#1f9e89\"], [0.6666666666666666, \"#35b779\"], [0.7777777777777778, \"#6ece58\"], [0.8888888888888888, \"#b5de2b\"], [1.0, \"#fde725\"]], \"opacity\": 0.8, \"size\": 3.0}, \"mode\": \"markers\", \"type\": \"scatter3d\", \"x\": [0.34248363732924475, 0.3599618695070977, 0.34208212215775385, 0.3595603543356068, 0.2569542852526329, 0.2744325174304859, 0.25655277008114197, 0.274031002258995], \"y\": [-0.24872541365325695, -0.19968745276342323, -0.24911529652863285, -0.20007733563879912, -0.2182402428021353, -0.1692022819123016, -0.2186301256775112, -0.1695921647876775], \"z\": [-0.0007136565930600898, -0.0005307522114762365, 0.14218525243369629, 0.14236815681528014, -0.0008708004547713348, -0.0006878960731874814, 0.14202810857198506, 0.1422110129535689]}, {\"color\": \"blue\", \"delaunayaxis\": \"z\", \"flatshading\": true, \"i\": [0, 1, 4, 5, 2, 3, 0, 5, 1, 1, 0, 2], \"j\": [1, 2, 5, 6, 3, 6, 1, 1, 5, 3, 4, 4], \"k\": [2, 3, 6, 7, 6, 7, 4, 4, 7, 7, 6, 6], \"opacity\": 0.05, \"type\": \"mesh3d\", \"x\": [0.2610607583363857, 0.2901132358620101, 0.26159708378946805, 0.29064956131509245, 0.18571548439116242, 0.2147679619167868, 0.18625180984424478, 0.21530428736986917], \"y\": [-0.31865069442481897, -0.2754512601883757, -0.3187531654309123, -0.275553731194469, -0.2679789245825993, -0.22477949034615602, -0.2680813955886926, -0.2248819613522493], \"z\": [-0.0018077779884168722, -0.001885839393090486, 0.1410911837951732, 0.1410131223904996, -0.0014886575773700242, -0.001566718982043638, 0.14141030420622006, 0.14133224280154644]}, {\"marker\": {\"color\": \"black\", \"colorscale\": [[0.0, \"#440154\"], [0.1111111111111111, \"#482878\"], [0.2222222222222222, \"#3e4989\"], [0.3333333333333333, \"#31688e\"], [0.4444444444444444, \"#26828e\"], [0.5555555555555556, \"#1f9e89\"], [0.6666666666666666, \"#35b779\"], [0.7777777777777778, \"#6ece58\"], [0.8888888888888888, \"#b5de2b\"], [1.0, \"#fde725\"]], \"opacity\": 0.8, \"size\": 3.0}, \"mode\": \"markers\", \"type\": \"scatter3d\", \"x\": [0.2610607583363857, 0.2901132358620101, 0.26159708378946805, 0.29064956131509245, 0.18571548439116242, 0.2147679619167868, 0.18625180984424478, 0.21530428736986917], \"y\": [-0.31865069442481897, -0.2754512601883757, -0.3187531654309123, -0.275553731194469, -0.2679789245825993, -0.22477949034615602, -0.2680813955886926, -0.2248819613522493], \"z\": [-0.0018077779884168722, -0.001885839393090486, 0.1410911837951732, 0.1410131223904996, -0.0014886575773700242, -0.001566718982043638, 0.14141030420622006, 0.14133224280154644]}],\n                        {\"margin\": {\"b\": 10, \"l\": 10, \"r\": 20, \"t\": 10}, \"scene\": {\"camera\": {\"center\": {\"x\": 0.45, \"y\": 0, \"z\": 0.0}, \"eye\": {\"x\": -1.0, \"y\": 0.0, \"z\": 0.01}, \"up\": {\"x\": 0, \"y\": 0, \"z\": 1}}, \"xaxis\": {\"nticks\": 10, \"range\": [-0.1, 0.9]}, \"yaxis\": {\"nticks\": 16, \"range\": [-0.5, 0.5]}, \"zaxis\": {\"nticks\": 8, \"range\": [-0.01, 0.99]}}, \"template\": {\"data\": {\"bar\": [{\"error_x\": {\"color\": \"#2a3f5f\"}, \"error_y\": {\"color\": \"#2a3f5f\"}, \"marker\": {\"line\": {\"color\": \"#E5ECF6\", \"width\": 0.5}}, \"type\": \"bar\"}], \"barpolar\": [{\"marker\": {\"line\": {\"color\": \"#E5ECF6\", \"width\": 0.5}}, \"type\": \"barpolar\"}], \"carpet\": [{\"aaxis\": {\"endlinecolor\": \"#2a3f5f\", \"gridcolor\": \"white\", \"linecolor\": \"white\", \"minorgridcolor\": \"white\", \"startlinecolor\": \"#2a3f5f\"}, \"baxis\": {\"endlinecolor\": \"#2a3f5f\", \"gridcolor\": \"white\", \"linecolor\": \"white\", \"minorgridcolor\": \"white\", \"startlinecolor\": \"#2a3f5f\"}, \"type\": \"carpet\"}], \"choropleth\": [{\"colorbar\": {\"outlinewidth\": 0, \"ticks\": \"\"}, \"type\": \"choropleth\"}], \"contour\": [{\"colorbar\": {\"outlinewidth\": 0, \"ticks\": \"\"}, \"colorscale\": [[0.0, \"#0d0887\"], [0.1111111111111111, \"#46039f\"], [0.2222222222222222, \"#7201a8\"], [0.3333333333333333, \"#9c179e\"], [0.4444444444444444, \"#bd3786\"], [0.5555555555555556, \"#d8576b\"], [0.6666666666666666, \"#ed7953\"], [0.7777777777777778, \"#fb9f3a\"], [0.8888888888888888, \"#fdca26\"], [1.0, \"#f0f921\"]], \"type\": \"contour\"}], \"contourcarpet\": [{\"colorbar\": {\"outlinewidth\": 0, \"ticks\": \"\"}, \"type\": \"contourcarpet\"}], \"heatmap\": [{\"colorbar\": {\"outlinewidth\": 0, \"ticks\": \"\"}, \"colorscale\": [[0.0, \"#0d0887\"], [0.1111111111111111, \"#46039f\"], [0.2222222222222222, \"#7201a8\"], [0.3333333333333333, \"#9c179e\"], [0.4444444444444444, \"#bd3786\"], [0.5555555555555556, \"#d8576b\"], [0.6666666666666666, \"#ed7953\"], [0.7777777777777778, \"#fb9f3a\"], [0.8888888888888888, \"#fdca26\"], [1.0, \"#f0f921\"]], \"type\": \"heatmap\"}], \"heatmapgl\": [{\"colorbar\": {\"outlinewidth\": 0, \"ticks\": \"\"}, \"colorscale\": [[0.0, \"#0d0887\"], [0.1111111111111111, \"#46039f\"], [0.2222222222222222, \"#7201a8\"], [0.3333333333333333, \"#9c179e\"], [0.4444444444444444, \"#bd3786\"], [0.5555555555555556, \"#d8576b\"], [0.6666666666666666, \"#ed7953\"], [0.7777777777777778, \"#fb9f3a\"], [0.8888888888888888, \"#fdca26\"], [1.0, \"#f0f921\"]], \"type\": \"heatmapgl\"}], \"histogram\": [{\"marker\": {\"colorbar\": {\"outlinewidth\": 0, \"ticks\": \"\"}}, \"type\": \"histogram\"}], \"histogram2d\": [{\"colorbar\": {\"outlinewidth\": 0, \"ticks\": \"\"}, \"colorscale\": [[0.0, \"#0d0887\"], [0.1111111111111111, \"#46039f\"], [0.2222222222222222, \"#7201a8\"], [0.3333333333333333, \"#9c179e\"], [0.4444444444444444, \"#bd3786\"], [0.5555555555555556, \"#d8576b\"], [0.6666666666666666, \"#ed7953\"], [0.7777777777777778, \"#fb9f3a\"], [0.8888888888888888, \"#fdca26\"], [1.0, \"#f0f921\"]], \"type\": \"histogram2d\"}], \"histogram2dcontour\": [{\"colorbar\": {\"outlinewidth\": 0, \"ticks\": \"\"}, \"colorscale\": [[0.0, \"#0d0887\"], [0.1111111111111111, \"#46039f\"], [0.2222222222222222, \"#7201a8\"], [0.3333333333333333, \"#9c179e\"], [0.4444444444444444, \"#bd3786\"], [0.5555555555555556, \"#d8576b\"], [0.6666666666666666, \"#ed7953\"], [0.7777777777777778, \"#fb9f3a\"], [0.8888888888888888, \"#fdca26\"], [1.0, \"#f0f921\"]], \"type\": \"histogram2dcontour\"}], \"mesh3d\": [{\"colorbar\": {\"outlinewidth\": 0, \"ticks\": \"\"}, \"type\": \"mesh3d\"}], \"parcoords\": [{\"line\": {\"colorbar\": {\"outlinewidth\": 0, \"ticks\": \"\"}}, \"type\": \"parcoords\"}], \"pie\": [{\"automargin\": true, \"type\": \"pie\"}], \"scatter\": [{\"marker\": {\"colorbar\": {\"outlinewidth\": 0, \"ticks\": \"\"}}, \"type\": \"scatter\"}], \"scatter3d\": [{\"line\": {\"colorbar\": {\"outlinewidth\": 0, \"ticks\": \"\"}}, \"marker\": {\"colorbar\": {\"outlinewidth\": 0, \"ticks\": \"\"}}, \"type\": \"scatter3d\"}], \"scattercarpet\": [{\"marker\": {\"colorbar\": {\"outlinewidth\": 0, \"ticks\": \"\"}}, \"type\": \"scattercarpet\"}], \"scattergeo\": [{\"marker\": {\"colorbar\": {\"outlinewidth\": 0, \"ticks\": \"\"}}, \"type\": \"scattergeo\"}], \"scattergl\": [{\"marker\": {\"colorbar\": {\"outlinewidth\": 0, \"ticks\": \"\"}}, \"type\": \"scattergl\"}], \"scattermapbox\": [{\"marker\": {\"colorbar\": {\"outlinewidth\": 0, \"ticks\": \"\"}}, \"type\": \"scattermapbox\"}], \"scatterpolar\": [{\"marker\": {\"colorbar\": {\"outlinewidth\": 0, \"ticks\": \"\"}}, \"type\": \"scatterpolar\"}], \"scatterpolargl\": [{\"marker\": {\"colorbar\": {\"outlinewidth\": 0, \"ticks\": \"\"}}, \"type\": \"scatterpolargl\"}], \"scatterternary\": [{\"marker\": {\"colorbar\": {\"outlinewidth\": 0, \"ticks\": \"\"}}, \"type\": \"scatterternary\"}], \"surface\": [{\"colorbar\": {\"outlinewidth\": 0, \"ticks\": \"\"}, \"colorscale\": [[0.0, \"#0d0887\"], [0.1111111111111111, \"#46039f\"], [0.2222222222222222, \"#7201a8\"], [0.3333333333333333, \"#9c179e\"], [0.4444444444444444, \"#bd3786\"], [0.5555555555555556, \"#d8576b\"], [0.6666666666666666, \"#ed7953\"], [0.7777777777777778, \"#fb9f3a\"], [0.8888888888888888, \"#fdca26\"], [1.0, \"#f0f921\"]], \"type\": \"surface\"}], \"table\": [{\"cells\": {\"fill\": {\"color\": \"#EBF0F8\"}, \"line\": {\"color\": \"white\"}}, \"header\": {\"fill\": {\"color\": \"#C8D4E3\"}, \"line\": {\"color\": \"white\"}}, \"type\": \"table\"}]}, \"layout\": {\"annotationdefaults\": {\"arrowcolor\": \"#2a3f5f\", \"arrowhead\": 0, \"arrowwidth\": 1}, \"coloraxis\": {\"colorbar\": {\"outlinewidth\": 0, \"ticks\": \"\"}}, \"colorscale\": {\"diverging\": [[0, \"#8e0152\"], [0.1, \"#c51b7d\"], [0.2, \"#de77ae\"], [0.3, \"#f1b6da\"], [0.4, \"#fde0ef\"], [0.5, \"#f7f7f7\"], [0.6, \"#e6f5d0\"], [0.7, \"#b8e186\"], [0.8, \"#7fbc41\"], [0.9, \"#4d9221\"], [1, \"#276419\"]], \"sequential\": [[0.0, \"#0d0887\"], [0.1111111111111111, \"#46039f\"], [0.2222222222222222, \"#7201a8\"], [0.3333333333333333, \"#9c179e\"], [0.4444444444444444, \"#bd3786\"], [0.5555555555555556, \"#d8576b\"], [0.6666666666666666, \"#ed7953\"], [0.7777777777777778, \"#fb9f3a\"], [0.8888888888888888, \"#fdca26\"], [1.0, \"#f0f921\"]], \"sequentialminus\": [[0.0, \"#0d0887\"], [0.1111111111111111, \"#46039f\"], [0.2222222222222222, \"#7201a8\"], [0.3333333333333333, \"#9c179e\"], [0.4444444444444444, \"#bd3786\"], [0.5555555555555556, \"#d8576b\"], [0.6666666666666666, \"#ed7953\"], [0.7777777777777778, \"#fb9f3a\"], [0.8888888888888888, \"#fdca26\"], [1.0, \"#f0f921\"]]}, \"colorway\": [\"#636efa\", \"#EF553B\", \"#00cc96\", \"#ab63fa\", \"#FFA15A\", \"#19d3f3\", \"#FF6692\", \"#B6E880\", \"#FF97FF\", \"#FECB52\"], \"font\": {\"color\": \"#2a3f5f\"}, \"geo\": {\"bgcolor\": \"white\", \"lakecolor\": \"white\", \"landcolor\": \"#E5ECF6\", \"showlakes\": true, \"showland\": true, \"subunitcolor\": \"white\"}, \"hoverlabel\": {\"align\": \"left\"}, \"hovermode\": \"closest\", \"mapbox\": {\"style\": \"light\"}, \"paper_bgcolor\": \"white\", \"plot_bgcolor\": \"#E5ECF6\", \"polar\": {\"angularaxis\": {\"gridcolor\": \"white\", \"linecolor\": \"white\", \"ticks\": \"\"}, \"bgcolor\": \"#E5ECF6\", \"radialaxis\": {\"gridcolor\": \"white\", \"linecolor\": \"white\", \"ticks\": \"\"}}, \"scene\": {\"xaxis\": {\"backgroundcolor\": \"#E5ECF6\", \"gridcolor\": \"white\", \"gridwidth\": 2, \"linecolor\": \"white\", \"showbackground\": true, \"ticks\": \"\", \"zerolinecolor\": \"white\"}, \"yaxis\": {\"backgroundcolor\": \"#E5ECF6\", \"gridcolor\": \"white\", \"gridwidth\": 2, \"linecolor\": \"white\", \"showbackground\": true, \"ticks\": \"\", \"zerolinecolor\": \"white\"}, \"zaxis\": {\"backgroundcolor\": \"#E5ECF6\", \"gridcolor\": \"white\", \"gridwidth\": 2, \"linecolor\": \"white\", \"showbackground\": true, \"ticks\": \"\", \"zerolinecolor\": \"white\"}}, \"shapedefaults\": {\"line\": {\"color\": \"#2a3f5f\"}}, \"ternary\": {\"aaxis\": {\"gridcolor\": \"white\", \"linecolor\": \"white\", \"ticks\": \"\"}, \"baxis\": {\"gridcolor\": \"white\", \"linecolor\": \"white\", \"ticks\": \"\"}, \"bgcolor\": \"#E5ECF6\", \"caxis\": {\"gridcolor\": \"white\", \"linecolor\": \"white\", \"ticks\": \"\"}}, \"title\": {\"x\": 0.05}, \"xaxis\": {\"automargin\": true, \"gridcolor\": \"white\", \"linecolor\": \"white\", \"ticks\": \"\", \"title\": {\"standoff\": 15}, \"zerolinecolor\": \"white\", \"zerolinewidth\": 2}, \"yaxis\": {\"automargin\": true, \"gridcolor\": \"white\", \"linecolor\": \"white\", \"ticks\": \"\", \"title\": {\"standoff\": 15}, \"zerolinecolor\": \"white\", \"zerolinewidth\": 2}}}, \"width\": 700},\n                        {\"responsive\": true}\n                    ).then(function(){\n                            \nvar gd = document.getElementById('3707fd37-bac7-4894-a4ca-a19a5c4b4b56');\nvar x = new MutationObserver(function (mutations, observer) {{\n        var display = window.getComputedStyle(gd).display;\n        if (!display || display === 'none') {{\n            console.log([gd, 'removed!']);\n            Plotly.purge(gd);\n            observer.disconnect();\n        }}\n}});\n\n// Listen for the removal of the full notebook cells\nvar notebookContainer = gd.closest('#notebook-container');\nif (notebookContainer) {{\n    x.observe(notebookContainer, {childList: true});\n}}\n\n// Listen for the clearing of the current output cell\nvar outputEl = gd.closest('.output');\nif (outputEl) {{\n    x.observe(outputEl, {childList: true});\n}}\n\n                        })\n                };\n                });\n            </script>\n        </div>"
     },
     "metadata": {},
     "output_type": "display_data"
    }
   ],
   "source": "out_pull = sample_pull_transformation(pull_trans_vae, pull_data_0, num_samples=20)\n\npull_fig = plot_keypoint_goal(out_pull)\npull_fig.show()"
  },
  {
   "cell_type": "code",
   "execution_count": 109,
   "metadata": {},
   "outputs": [
    {
     "name": "stdout",
     "output_type": "stream",
     "text": "realsense_box_experiments.stl\ntable_top.stl\nmpalms_all_coarse.stl\nrealsense_box_experiments.stl:AZTCCC7DFWJX\nrealsense_box_experiments.stl:AZU6PCVIHW7V\nrealsense_box_experiments.stl:AZVPTV9HN6XN\nrealsense_box_experiments.stl:AZUFLJPEQ4DM\nrealsense_box_experiments.stl:AZVW17MTSRZR\nrealsense_box_experiments.stl:AZVXZGGTOTQP\nrealsense_box_experiments.stl:AZUPF7RRFHDS\nrealsense_box_experiments.stl:AZVSUEQGJXTP\nrealsense_box_experiments.stl:AZVC8IJNJHHK\nrealsense_box_experiments.stl:AZUGULQW5IBY\n"
    },
    {
     "data": {
      "text/plain": "SceneViewer(width=1800, height=1350)"
     },
     "execution_count": 109,
     "metadata": {},
     "output_type": "execute_result"
    }
   ],
   "source": "vis_palms(out_pull, name='pull', goal='transformation',goal_number=10).show(viewer='gl')"
  },
  {
   "cell_type": "code",
   "execution_count": 111,
   "metadata": {},
   "outputs": [
    {
     "data": {
      "application/vnd.plotly.v1+json": {
       "config": {
        "plotlyServerURL": "https://plot.ly"
       },
       "data": [
        {
         "color": "red",
         "delaunayaxis": "z",
         "flatshading": true,
         "i": [
          0,
          1,
          4,
          5,
          2,
          3,
          0,
          5,
          1,
          1,
          0,
          2
         ],
         "j": [
          1,
          2,
          5,
          6,
          3,
          6,
          1,
          1,
          5,
          3,
          4,
          4
         ],
         "k": [
          2,
          3,
          6,
          7,
          6,
          7,
          4,
          4,
          7,
          7,
          6,
          6
         ],
         "opacity": 0.95,
         "type": "mesh3d",
         "x": [
          0.3724673359664754,
          0.399279027606088,
          0.37246813253317634,
          0.399279824172789,
          0.45029937672378234,
          0.477111068363395,
          0.45030017329048333,
          0.47711186493009594
         ],
         "y": [
          -0.03227983267262276,
          0.012345013002145203,
          -0.03227552492702349,
          0.012349320747744467,
          -0.07904321400097666,
          -0.03441836832620871,
          -0.0790389062553774,
          -0.034414060580609446
         ],
         "z": [
          0.1538205560473681,
          0.15382205072739596,
          0.010920551131568798,
          0.010922045811596656,
          0.15381958021578385,
          0.1538210748958117,
          0.010919575299984538,
          0.010921069980012396
         ]
        },
        {
         "color": "gray",
         "delaunayaxis": "z",
         "opacity": 0.5,
         "type": "mesh3d",
         "x": [
          -1,
          1,
          1,
          -1
         ],
         "y": [
          -1,
          -1,
          1,
          1
         ],
         "z": [
          0,
          0,
          0,
          0
         ]
        },
        {
         "color": "blue",
         "delaunayaxis": "z",
         "flatshading": true,
         "i": [
          0,
          1,
          4,
          5,
          2,
          3,
          0,
          5,
          1,
          1,
          0,
          2
         ],
         "j": [
          1,
          2,
          5,
          6,
          3,
          6,
          1,
          1,
          5,
          3,
          4,
          4
         ],
         "k": [
          2,
          3,
          6,
          7,
          6,
          7,
          4,
          4,
          7,
          7,
          6,
          6
         ],
         "opacity": 0.05,
         "type": "mesh3d",
         "x": [
          0.38084235172003406,
          0.38106826446976094,
          0.5237317091874556,
          0.5239576219371825,
          0.38187836329037633,
          0.3821042760401032,
          0.524767720757798,
          0.5249936335075248
         ],
         "y": [
          0.05430998602698106,
          0.05445981411568812,
          0.05593867321594581,
          0.056088501304652816,
          -0.03648374245008379,
          -0.036333914361376785,
          -0.034855055261119094,
          -0.03470522717241209
         ],
         "z": [
          0.005126751882363945,
          0.05718604670357666,
          0.0045019921568913435,
          0.056561286978104086,
          0.005383562940362546,
          0.05744285776157529,
          0.004758803214889973,
          0.05681809803610269
         ]
        },
        {
         "marker": {
          "color": "black",
          "colorscale": [
           [
            0,
            "#440154"
           ],
           [
            0.1111111111111111,
            "#482878"
           ],
           [
            0.2222222222222222,
            "#3e4989"
           ],
           [
            0.3333333333333333,
            "#31688e"
           ],
           [
            0.4444444444444444,
            "#26828e"
           ],
           [
            0.5555555555555556,
            "#1f9e89"
           ],
           [
            0.6666666666666666,
            "#35b779"
           ],
           [
            0.7777777777777778,
            "#6ece58"
           ],
           [
            0.8888888888888888,
            "#b5de2b"
           ],
           [
            1,
            "#fde725"
           ]
          ],
          "opacity": 0.8,
          "size": 3
         },
         "mode": "markers",
         "type": "scatter3d",
         "x": [
          0.38084235172003406,
          0.38106826446976094,
          0.5237317091874556,
          0.5239576219371825,
          0.38187836329037633,
          0.3821042760401032,
          0.524767720757798,
          0.5249936335075248
         ],
         "y": [
          0.05430998602698106,
          0.05445981411568812,
          0.05593867321594581,
          0.056088501304652816,
          -0.03648374245008379,
          -0.036333914361376785,
          -0.034855055261119094,
          -0.03470522717241209
         ],
         "z": [
          0.005126751882363945,
          0.05718604670357666,
          0.0045019921568913435,
          0.056561286978104086,
          0.005383562940362546,
          0.05744285776157529,
          0.004758803214889973,
          0.05681809803610269
         ]
        },
        {
         "color": "blue",
         "delaunayaxis": "z",
         "flatshading": true,
         "i": [
          0,
          1,
          4,
          5,
          2,
          3,
          0,
          5,
          1,
          1,
          0,
          2
         ],
         "j": [
          1,
          2,
          5,
          6,
          3,
          6,
          1,
          1,
          5,
          3,
          4,
          4
         ],
         "k": [
          2,
          3,
          6,
          7,
          6,
          7,
          4,
          4,
          7,
          7,
          6,
          6
         ],
         "opacity": 0.05,
         "type": "mesh3d",
         "x": [
          0.38355092593233314,
          0.3837501570517324,
          0.5264415105994698,
          0.526640741718869,
          0.384533896060823,
          0.38473312718022223,
          0.5274244807279597,
          0.5276237118473589
         ],
         "y": [
          0.05492154580606862,
          0.055515816129023954,
          0.05646220121048967,
          0.05705647153344501,
          -0.03586726270629115,
          -0.03527299238333592,
          -0.03432660730187015,
          -0.03373233697891481
         ],
         "z": [
          0.004724637066505083,
          0.056780864475460796,
          0.00416017401602789,
          0.056216401424983686,
          0.005757313827616045,
          0.05781354123657184,
          0.005192850777138908,
          0.05724907818609465
         ]
        },
        {
         "marker": {
          "color": "black",
          "colorscale": [
           [
            0,
            "#440154"
           ],
           [
            0.1111111111111111,
            "#482878"
           ],
           [
            0.2222222222222222,
            "#3e4989"
           ],
           [
            0.3333333333333333,
            "#31688e"
           ],
           [
            0.4444444444444444,
            "#26828e"
           ],
           [
            0.5555555555555556,
            "#1f9e89"
           ],
           [
            0.6666666666666666,
            "#35b779"
           ],
           [
            0.7777777777777778,
            "#6ece58"
           ],
           [
            0.8888888888888888,
            "#b5de2b"
           ],
           [
            1,
            "#fde725"
           ]
          ],
          "opacity": 0.8,
          "size": 3
         },
         "mode": "markers",
         "type": "scatter3d",
         "x": [
          0.38355092593233314,
          0.3837501570517324,
          0.5264415105994698,
          0.526640741718869,
          0.384533896060823,
          0.38473312718022223,
          0.5274244807279597,
          0.5276237118473589
         ],
         "y": [
          0.05492154580606862,
          0.055515816129023954,
          0.05646220121048967,
          0.05705647153344501,
          -0.03586726270629115,
          -0.03527299238333592,
          -0.03432660730187015,
          -0.03373233697891481
         ],
         "z": [
          0.004724637066505083,
          0.056780864475460796,
          0.00416017401602789,
          0.056216401424983686,
          0.005757313827616045,
          0.05781354123657184,
          0.005192850777138908,
          0.05724907818609465
         ]
        },
        {
         "color": "blue",
         "delaunayaxis": "z",
         "flatshading": true,
         "i": [
          0,
          1,
          4,
          5,
          2,
          3,
          0,
          5,
          1,
          1,
          0,
          2
         ],
         "j": [
          1,
          2,
          5,
          6,
          3,
          6,
          1,
          1,
          5,
          3,
          4,
          4
         ],
         "k": [
          2,
          3,
          6,
          7,
          6,
          7,
          4,
          4,
          7,
          7,
          6,
          6
         ],
         "opacity": 0.05,
         "type": "mesh3d",
         "x": [
          0.38245813513702853,
          0.38250765353405886,
          0.5253561261587991,
          0.5254056445558294,
          0.3829324037981723,
          0.38298192219520266,
          0.5258303948199429,
          0.5258799132169732
         ],
         "y": [
          0.05180035971830643,
          0.05352370446692867,
          0.05254185015764046,
          0.05426519490626264,
          -0.03894865595518482,
          -0.03722531120656264,
          -0.03820716551585085,
          -0.036483820767228725
         ],
         "z": [
          0.0008786069181061784,
          0.05291005215187178,
          0.0007180516409751592,
          0.05274949687474079,
          0.0038838733272392734,
          0.05591531856100487,
          0.0037233180501082264,
          0.05575476328387388
         ]
        },
        {
         "marker": {
          "color": "black",
          "colorscale": [
           [
            0,
            "#440154"
           ],
           [
            0.1111111111111111,
            "#482878"
           ],
           [
            0.2222222222222222,
            "#3e4989"
           ],
           [
            0.3333333333333333,
            "#31688e"
           ],
           [
            0.4444444444444444,
            "#26828e"
           ],
           [
            0.5555555555555556,
            "#1f9e89"
           ],
           [
            0.6666666666666666,
            "#35b779"
           ],
           [
            0.7777777777777778,
            "#6ece58"
           ],
           [
            0.8888888888888888,
            "#b5de2b"
           ],
           [
            1,
            "#fde725"
           ]
          ],
          "opacity": 0.8,
          "size": 3
         },
         "mode": "markers",
         "type": "scatter3d",
         "x": [
          0.38245813513702853,
          0.38250765353405886,
          0.5253561261587991,
          0.5254056445558294,
          0.3829324037981723,
          0.38298192219520266,
          0.5258303948199429,
          0.5258799132169732
         ],
         "y": [
          0.05180035971830643,
          0.05352370446692867,
          0.05254185015764046,
          0.05426519490626264,
          -0.03894865595518482,
          -0.03722531120656264,
          -0.03820716551585085,
          -0.036483820767228725
         ],
         "z": [
          0.0008786069181061784,
          0.05291005215187178,
          0.0007180516409751592,
          0.05274949687474079,
          0.0038838733272392734,
          0.05591531856100487,
          0.0037233180501082264,
          0.05575476328387388
         ]
        },
        {
         "color": "blue",
         "delaunayaxis": "z",
         "flatshading": true,
         "i": [
          0,
          1,
          4,
          5,
          2,
          3,
          0,
          5,
          1,
          1,
          0,
          2
         ],
         "j": [
          1,
          2,
          5,
          6,
          3,
          6,
          1,
          1,
          5,
          3,
          4,
          4
         ],
         "k": [
          2,
          3,
          6,
          7,
          6,
          7,
          4,
          4,
          7,
          7,
          6,
          6
         ],
         "opacity": 0.05,
         "type": "mesh3d",
         "x": [
          0.3770683262828666,
          0.37714491085166274,
          0.5199664983282452,
          0.5200430828970413,
          0.3775083942810959,
          0.37758497884989206,
          0.5204065663264744,
          0.5204831508952706
         ],
         "y": [
          0.0504589755690984,
          0.0535851528670353,
          0.051137677141665505,
          0.054263854439602355,
          -0.0401761430044939,
          -0.03704996570655711,
          -0.03949744143192685,
          -0.036371264133989945
         ],
         "z": [
          -0.0008619325039376791,
          0.051104064192116216,
          -0.001113357227156414,
          0.05085263946889751,
          0.004589858391554014,
          0.056555855087607965,
          0.00433843366833539,
          0.0563044303643892
         ]
        },
        {
         "marker": {
          "color": "black",
          "colorscale": [
           [
            0,
            "#440154"
           ],
           [
            0.1111111111111111,
            "#482878"
           ],
           [
            0.2222222222222222,
            "#3e4989"
           ],
           [
            0.3333333333333333,
            "#31688e"
           ],
           [
            0.4444444444444444,
            "#26828e"
           ],
           [
            0.5555555555555556,
            "#1f9e89"
           ],
           [
            0.6666666666666666,
            "#35b779"
           ],
           [
            0.7777777777777778,
            "#6ece58"
           ],
           [
            0.8888888888888888,
            "#b5de2b"
           ],
           [
            1,
            "#fde725"
           ]
          ],
          "opacity": 0.8,
          "size": 3
         },
         "mode": "markers",
         "type": "scatter3d",
         "x": [
          0.3770683262828666,
          0.37714491085166274,
          0.5199664983282452,
          0.5200430828970413,
          0.3775083942810959,
          0.37758497884989206,
          0.5204065663264744,
          0.5204831508952706
         ],
         "y": [
          0.0504589755690984,
          0.0535851528670353,
          0.051137677141665505,
          0.054263854439602355,
          -0.0401761430044939,
          -0.03704996570655711,
          -0.03949744143192685,
          -0.036371264133989945
         ],
         "z": [
          -0.0008619325039376791,
          0.051104064192116216,
          -0.001113357227156414,
          0.05085263946889751,
          0.004589858391554014,
          0.056555855087607965,
          0.00433843366833539,
          0.0563044303643892
         ]
        },
        {
         "color": "blue",
         "delaunayaxis": "z",
         "flatshading": true,
         "i": [
          0,
          1,
          4,
          5,
          2,
          3,
          0,
          5,
          1,
          1,
          0,
          2
         ],
         "j": [
          1,
          2,
          5,
          6,
          3,
          6,
          1,
          1,
          5,
          3,
          4,
          4
         ],
         "k": [
          2,
          3,
          6,
          7,
          6,
          7,
          4,
          4,
          7,
          7,
          6,
          6
         ],
         "opacity": 0.05,
         "type": "mesh3d",
         "x": [
          0.3873141675370557,
          0.38800985948528904,
          0.5301485520435633,
          0.5308442439917965,
          0.3897835657170814,
          0.39047925766531477,
          0.5326179502235889,
          0.5333136421718222
         ],
         "y": [
          0.042697686797113776,
          0.04343456726404954,
          0.04655693311908271,
          0.04729381358601831,
          -0.04806009695464536,
          -0.04732321648770976,
          -0.04420085063267665,
          -0.04346397016574094
         ],
         "z": [
          0.01631552214217019,
          0.06836565837829553,
          0.01435178982838517,
          0.06640192606451054,
          0.017567386255313344,
          0.06961752249143874,
          0.015603653941528323,
          0.06765379017765372
         ]
        },
        {
         "marker": {
          "color": "black",
          "colorscale": [
           [
            0,
            "#440154"
           ],
           [
            0.1111111111111111,
            "#482878"
           ],
           [
            0.2222222222222222,
            "#3e4989"
           ],
           [
            0.3333333333333333,
            "#31688e"
           ],
           [
            0.4444444444444444,
            "#26828e"
           ],
           [
            0.5555555555555556,
            "#1f9e89"
           ],
           [
            0.6666666666666666,
            "#35b779"
           ],
           [
            0.7777777777777778,
            "#6ece58"
           ],
           [
            0.8888888888888888,
            "#b5de2b"
           ],
           [
            1,
            "#fde725"
           ]
          ],
          "opacity": 0.8,
          "size": 3
         },
         "mode": "markers",
         "type": "scatter3d",
         "x": [
          0.3873141675370557,
          0.38800985948528904,
          0.5301485520435633,
          0.5308442439917965,
          0.3897835657170814,
          0.39047925766531477,
          0.5326179502235889,
          0.5333136421718222
         ],
         "y": [
          0.042697686797113776,
          0.04343456726404954,
          0.04655693311908271,
          0.04729381358601831,
          -0.04806009695464536,
          -0.04732321648770976,
          -0.04420085063267665,
          -0.04346397016574094
         ],
         "z": [
          0.01631552214217019,
          0.06836565837829553,
          0.01435178982838517,
          0.06640192606451054,
          0.017567386255313344,
          0.06961752249143874,
          0.015603653941528323,
          0.06765379017765372
         ]
        },
        {
         "color": "blue",
         "delaunayaxis": "z",
         "flatshading": true,
         "i": [
          0,
          1,
          4,
          5,
          2,
          3,
          0,
          5,
          1,
          1,
          0,
          2
         ],
         "j": [
          1,
          2,
          5,
          6,
          3,
          6,
          1,
          1,
          5,
          3,
          4,
          4
         ],
         "k": [
          2,
          3,
          6,
          7,
          6,
          7,
          4,
          4,
          7,
          7,
          6,
          6
         ],
         "opacity": 0.05,
         "type": "mesh3d",
         "x": [
          0.3823799279755158,
          0.3825261952295154,
          0.5252640969600607,
          0.5254103642140603,
          0.3837073836449326,
          0.3838536508989323,
          0.5265915526294775,
          0.5267378198834772
         ],
         "y": [
          0.04951654482530071,
          0.0491572747856544,
          0.0516084083032729,
          0.051249138263626426,
          -0.041271565672251154,
          -0.041630835711897685,
          -0.039179702194279076,
          -0.039538972233925496
         ],
         "z": [
          0.00612050750749038,
          0.058179062935370035,
          0.005733486949637268,
          0.05779204237751695,
          0.005490224721428322,
          0.057548780149308004,
          0.0051032041635752645,
          0.05716175959145492
         ]
        },
        {
         "marker": {
          "color": "black",
          "colorscale": [
           [
            0,
            "#440154"
           ],
           [
            0.1111111111111111,
            "#482878"
           ],
           [
            0.2222222222222222,
            "#3e4989"
           ],
           [
            0.3333333333333333,
            "#31688e"
           ],
           [
            0.4444444444444444,
            "#26828e"
           ],
           [
            0.5555555555555556,
            "#1f9e89"
           ],
           [
            0.6666666666666666,
            "#35b779"
           ],
           [
            0.7777777777777778,
            "#6ece58"
           ],
           [
            0.8888888888888888,
            "#b5de2b"
           ],
           [
            1,
            "#fde725"
           ]
          ],
          "opacity": 0.8,
          "size": 3
         },
         "mode": "markers",
         "type": "scatter3d",
         "x": [
          0.3823799279755158,
          0.3825261952295154,
          0.5252640969600607,
          0.5254103642140603,
          0.3837073836449326,
          0.3838536508989323,
          0.5265915526294775,
          0.5267378198834772
         ],
         "y": [
          0.04951654482530071,
          0.0491572747856544,
          0.0516084083032729,
          0.051249138263626426,
          -0.041271565672251154,
          -0.041630835711897685,
          -0.039179702194279076,
          -0.039538972233925496
         ],
         "z": [
          0.00612050750749038,
          0.058179062935370035,
          0.005733486949637268,
          0.05779204237751695,
          0.005490224721428322,
          0.057548780149308004,
          0.0051032041635752645,
          0.05716175959145492
         ]
        },
        {
         "color": "blue",
         "delaunayaxis": "z",
         "flatshading": true,
         "i": [
          0,
          1,
          4,
          5,
          2,
          3,
          0,
          5,
          1,
          1,
          0,
          2
         ],
         "j": [
          1,
          2,
          5,
          6,
          3,
          6,
          1,
          1,
          5,
          3,
          4,
          4
         ],
         "k": [
          2,
          3,
          6,
          7,
          6,
          7,
          4,
          4,
          7,
          7,
          6,
          6
         ],
         "opacity": 0.05,
         "type": "mesh3d",
         "x": [
          0.38192244634033723,
          0.3823966447719225,
          0.5247955732175621,
          0.5252697716491473,
          0.38347716138787746,
          0.38395135981946277,
          0.5263502882651023,
          0.5268244866966876
         ],
         "y": [
          0.04817895906889341,
          0.047836738243501375,
          0.05063435595390864,
          0.05029213512851649,
          -0.04260567601139703,
          -0.04294789683678912,
          -0.040150279126381916,
          -0.0404924999517739
         ],
         "z": [
          0.009063792645196689,
          0.06112050866784596,
          0.007778465220718095,
          0.05983518124336734,
          0.008452812187394465,
          0.06050952821004371,
          0.007167484762915843,
          0.05922420078556509
         ]
        },
        {
         "marker": {
          "color": "black",
          "colorscale": [
           [
            0,
            "#440154"
           ],
           [
            0.1111111111111111,
            "#482878"
           ],
           [
            0.2222222222222222,
            "#3e4989"
           ],
           [
            0.3333333333333333,
            "#31688e"
           ],
           [
            0.4444444444444444,
            "#26828e"
           ],
           [
            0.5555555555555556,
            "#1f9e89"
           ],
           [
            0.6666666666666666,
            "#35b779"
           ],
           [
            0.7777777777777778,
            "#6ece58"
           ],
           [
            0.8888888888888888,
            "#b5de2b"
           ],
           [
            1,
            "#fde725"
           ]
          ],
          "opacity": 0.8,
          "size": 3
         },
         "mode": "markers",
         "type": "scatter3d",
         "x": [
          0.38192244634033723,
          0.3823966447719225,
          0.5247955732175621,
          0.5252697716491473,
          0.38347716138787746,
          0.38395135981946277,
          0.5263502882651023,
          0.5268244866966876
         ],
         "y": [
          0.04817895906889341,
          0.047836738243501375,
          0.05063435595390864,
          0.05029213512851649,
          -0.04260567601139703,
          -0.04294789683678912,
          -0.040150279126381916,
          -0.0404924999517739
         ],
         "z": [
          0.009063792645196689,
          0.06112050866784596,
          0.007778465220718095,
          0.05983518124336734,
          0.008452812187394465,
          0.06050952821004371,
          0.007167484762915843,
          0.05922420078556509
         ]
        },
        {
         "color": "blue",
         "delaunayaxis": "z",
         "flatshading": true,
         "i": [
          0,
          1,
          4,
          5,
          2,
          3,
          0,
          5,
          1,
          1,
          0,
          2
         ],
         "j": [
          1,
          2,
          5,
          6,
          3,
          6,
          1,
          1,
          5,
          3,
          4,
          4
         ],
         "k": [
          2,
          3,
          6,
          7,
          6,
          7,
          4,
          4,
          7,
          7,
          6,
          6
         ],
         "opacity": 0.05,
         "type": "mesh3d",
         "x": [
          0.3845956451604215,
          0.3846685700075833,
          0.5274912531653224,
          0.5275641780124842,
          0.38529648993149734,
          0.38536941477865916,
          0.5281920979363983,
          0.5282650227835601
         ],
         "y": [
          0.05056591745244865,
          0.051814060231810566,
          0.0516637839687642,
          0.05291192674812606,
          -0.04020530434989361,
          -0.03895716157053175,
          -0.03910743783357812,
          -0.0378592950542162
         ],
         "z": [
          0.0017598163775496833,
          0.05380480157187548,
          0.001533263627176762,
          0.05357824882150261,
          0.0039357097060962465,
          0.055980694900422096,
          0.0037091569557233806,
          0.055754142150049174
         ]
        },
        {
         "marker": {
          "color": "black",
          "colorscale": [
           [
            0,
            "#440154"
           ],
           [
            0.1111111111111111,
            "#482878"
           ],
           [
            0.2222222222222222,
            "#3e4989"
           ],
           [
            0.3333333333333333,
            "#31688e"
           ],
           [
            0.4444444444444444,
            "#26828e"
           ],
           [
            0.5555555555555556,
            "#1f9e89"
           ],
           [
            0.6666666666666666,
            "#35b779"
           ],
           [
            0.7777777777777778,
            "#6ece58"
           ],
           [
            0.8888888888888888,
            "#b5de2b"
           ],
           [
            1,
            "#fde725"
           ]
          ],
          "opacity": 0.8,
          "size": 3
         },
         "mode": "markers",
         "type": "scatter3d",
         "x": [
          0.3845956451604215,
          0.3846685700075833,
          0.5274912531653224,
          0.5275641780124842,
          0.38529648993149734,
          0.38536941477865916,
          0.5281920979363983,
          0.5282650227835601
         ],
         "y": [
          0.05056591745244865,
          0.051814060231810566,
          0.0516637839687642,
          0.05291192674812606,
          -0.04020530434989361,
          -0.03895716157053175,
          -0.03910743783357812,
          -0.0378592950542162
         ],
         "z": [
          0.0017598163775496833,
          0.05380480157187548,
          0.001533263627176762,
          0.05357824882150261,
          0.0039357097060962465,
          0.055980694900422096,
          0.0037091569557233806,
          0.055754142150049174
         ]
        },
        {
         "color": "blue",
         "delaunayaxis": "z",
         "flatshading": true,
         "i": [
          0,
          1,
          4,
          5,
          2,
          3,
          0,
          5,
          1,
          1,
          0,
          2
         ],
         "j": [
          1,
          2,
          5,
          6,
          3,
          6,
          1,
          1,
          5,
          3,
          4,
          4
         ],
         "k": [
          2,
          3,
          6,
          7,
          6,
          7,
          4,
          4,
          7,
          7,
          6,
          6
         ],
         "opacity": 0.05,
         "type": "mesh3d",
         "x": [
          0.38117484004081126,
          0.3810297964210988,
          0.5240648933482474,
          0.5239198497285348,
          0.38221613256921705,
          0.3820710889495046,
          0.5251061858766531,
          0.5249611422569406
         ],
         "y": [
          0.061275419814482035,
          0.06113579709671141,
          0.06291312684645134,
          0.06277350412868077,
          -0.029518292641249555,
          -0.029657915359020126,
          -0.02788058560928025,
          -0.028020208327050822
         ],
         "z": [
          0.0009376928770037374,
          0.05299730419089721,
          0.0013401920722627414,
          0.053399803386156214,
          0.0006970873147277568,
          0.05275669862862123,
          0.0010995865099867885,
          0.053159197823880205
         ]
        },
        {
         "marker": {
          "color": "black",
          "colorscale": [
           [
            0,
            "#440154"
           ],
           [
            0.1111111111111111,
            "#482878"
           ],
           [
            0.2222222222222222,
            "#3e4989"
           ],
           [
            0.3333333333333333,
            "#31688e"
           ],
           [
            0.4444444444444444,
            "#26828e"
           ],
           [
            0.5555555555555556,
            "#1f9e89"
           ],
           [
            0.6666666666666666,
            "#35b779"
           ],
           [
            0.7777777777777778,
            "#6ece58"
           ],
           [
            0.8888888888888888,
            "#b5de2b"
           ],
           [
            1,
            "#fde725"
           ]
          ],
          "opacity": 0.8,
          "size": 3
         },
         "mode": "markers",
         "type": "scatter3d",
         "x": [
          0.38117484004081126,
          0.3810297964210988,
          0.5240648933482474,
          0.5239198497285348,
          0.38221613256921705,
          0.3820710889495046,
          0.5251061858766531,
          0.5249611422569406
         ],
         "y": [
          0.061275419814482035,
          0.06113579709671141,
          0.06291312684645134,
          0.06277350412868077,
          -0.029518292641249555,
          -0.029657915359020126,
          -0.02788058560928025,
          -0.028020208327050822
         ],
         "z": [
          0.0009376928770037374,
          0.05299730419089721,
          0.0013401920722627414,
          0.053399803386156214,
          0.0006970873147277568,
          0.05275669862862123,
          0.0010995865099867885,
          0.053159197823880205
         ]
        },
        {
         "color": "blue",
         "delaunayaxis": "z",
         "flatshading": true,
         "i": [
          0,
          1,
          4,
          5,
          2,
          3,
          0,
          5,
          1,
          1,
          0,
          2
         ],
         "j": [
          1,
          2,
          5,
          6,
          3,
          6,
          1,
          1,
          5,
          3,
          4,
          4
         ],
         "k": [
          2,
          3,
          6,
          7,
          6,
          7,
          4,
          4,
          7,
          7,
          6,
          6
         ],
         "opacity": 0.05,
         "type": "mesh3d",
         "x": [
          0.37636593320136197,
          0.37642418595589466,
          0.5192640649692588,
          0.5193223177237914,
          0.37681961452337853,
          0.37687786727791117,
          0.5197177462912753,
          0.519775999045808
         ],
         "y": [
          0.05164237288635409,
          0.0549033093213766,
          0.05234495412116724,
          0.0556058905561897,
          -0.03897822664940054,
          -0.035717290214378083,
          -0.038275645414587445,
          -0.03501470897956488
         ],
         "z": [
          -0.0016211533700482839,
          0.050336584864905026,
          -0.0018254594638242028,
          0.05013227877112919,
          0.004065806775654518,
          0.056023545010607884,
          0.0038615006818786546,
          0.05581923891683199
         ]
        },
        {
         "marker": {
          "color": "black",
          "colorscale": [
           [
            0,
            "#440154"
           ],
           [
            0.1111111111111111,
            "#482878"
           ],
           [
            0.2222222222222222,
            "#3e4989"
           ],
           [
            0.3333333333333333,
            "#31688e"
           ],
           [
            0.4444444444444444,
            "#26828e"
           ],
           [
            0.5555555555555556,
            "#1f9e89"
           ],
           [
            0.6666666666666666,
            "#35b779"
           ],
           [
            0.7777777777777778,
            "#6ece58"
           ],
           [
            0.8888888888888888,
            "#b5de2b"
           ],
           [
            1,
            "#fde725"
           ]
          ],
          "opacity": 0.8,
          "size": 3
         },
         "mode": "markers",
         "type": "scatter3d",
         "x": [
          0.37636593320136197,
          0.37642418595589466,
          0.5192640649692588,
          0.5193223177237914,
          0.37681961452337853,
          0.37687786727791117,
          0.5197177462912753,
          0.519775999045808
         ],
         "y": [
          0.05164237288635409,
          0.0549033093213766,
          0.05234495412116724,
          0.0556058905561897,
          -0.03897822664940054,
          -0.035717290214378083,
          -0.038275645414587445,
          -0.03501470897956488
         ],
         "z": [
          -0.0016211533700482839,
          0.050336584864905026,
          -0.0018254594638242028,
          0.05013227877112919,
          0.004065806775654518,
          0.056023545010607884,
          0.0038615006818786546,
          0.05581923891683199
         ]
        }
       ],
       "layout": {
        "margin": {
         "b": 10,
         "l": 10,
         "r": 20,
         "t": 10
        },
        "scene": {
         "camera": {
          "center": {
           "x": 0.4247896004482857,
           "y": -0.0333469466266161,
           "z": -0.41762918698630974
          },
          "eye": {
           "x": -1,
           "y": 0,
           "z": 0.01
          },
          "up": {
           "x": 0,
           "y": 0,
           "z": 1
          }
         },
         "xaxis": {
          "nticks": 10,
          "range": [
           -0.1,
           0.9
          ]
         },
         "yaxis": {
          "nticks": 16,
          "range": [
           -0.5,
           0.5
          ]
         },
         "zaxis": {
          "nticks": 8,
          "range": [
           -0.01,
           0.99
          ]
         }
        },
        "template": {
         "data": {
          "bar": [
           {
            "error_x": {
             "color": "#2a3f5f"
            },
            "error_y": {
             "color": "#2a3f5f"
            },
            "marker": {
             "line": {
              "color": "#E5ECF6",
              "width": 0.5
             }
            },
            "type": "bar"
           }
          ],
          "barpolar": [
           {
            "marker": {
             "line": {
              "color": "#E5ECF6",
              "width": 0.5
             }
            },
            "type": "barpolar"
           }
          ],
          "carpet": [
           {
            "aaxis": {
             "endlinecolor": "#2a3f5f",
             "gridcolor": "white",
             "linecolor": "white",
             "minorgridcolor": "white",
             "startlinecolor": "#2a3f5f"
            },
            "baxis": {
             "endlinecolor": "#2a3f5f",
             "gridcolor": "white",
             "linecolor": "white",
             "minorgridcolor": "white",
             "startlinecolor": "#2a3f5f"
            },
            "type": "carpet"
           }
          ],
          "choropleth": [
           {
            "colorbar": {
             "outlinewidth": 0,
             "ticks": ""
            },
            "type": "choropleth"
           }
          ],
          "contour": [
           {
            "colorbar": {
             "outlinewidth": 0,
             "ticks": ""
            },
            "colorscale": [
             [
              0,
              "#0d0887"
             ],
             [
              0.1111111111111111,
              "#46039f"
             ],
             [
              0.2222222222222222,
              "#7201a8"
             ],
             [
              0.3333333333333333,
              "#9c179e"
             ],
             [
              0.4444444444444444,
              "#bd3786"
             ],
             [
              0.5555555555555556,
              "#d8576b"
             ],
             [
              0.6666666666666666,
              "#ed7953"
             ],
             [
              0.7777777777777778,
              "#fb9f3a"
             ],
             [
              0.8888888888888888,
              "#fdca26"
             ],
             [
              1,
              "#f0f921"
             ]
            ],
            "type": "contour"
           }
          ],
          "contourcarpet": [
           {
            "colorbar": {
             "outlinewidth": 0,
             "ticks": ""
            },
            "type": "contourcarpet"
           }
          ],
          "heatmap": [
           {
            "colorbar": {
             "outlinewidth": 0,
             "ticks": ""
            },
            "colorscale": [
             [
              0,
              "#0d0887"
             ],
             [
              0.1111111111111111,
              "#46039f"
             ],
             [
              0.2222222222222222,
              "#7201a8"
             ],
             [
              0.3333333333333333,
              "#9c179e"
             ],
             [
              0.4444444444444444,
              "#bd3786"
             ],
             [
              0.5555555555555556,
              "#d8576b"
             ],
             [
              0.6666666666666666,
              "#ed7953"
             ],
             [
              0.7777777777777778,
              "#fb9f3a"
             ],
             [
              0.8888888888888888,
              "#fdca26"
             ],
             [
              1,
              "#f0f921"
             ]
            ],
            "type": "heatmap"
           }
          ],
          "heatmapgl": [
           {
            "colorbar": {
             "outlinewidth": 0,
             "ticks": ""
            },
            "colorscale": [
             [
              0,
              "#0d0887"
             ],
             [
              0.1111111111111111,
              "#46039f"
             ],
             [
              0.2222222222222222,
              "#7201a8"
             ],
             [
              0.3333333333333333,
              "#9c179e"
             ],
             [
              0.4444444444444444,
              "#bd3786"
             ],
             [
              0.5555555555555556,
              "#d8576b"
             ],
             [
              0.6666666666666666,
              "#ed7953"
             ],
             [
              0.7777777777777778,
              "#fb9f3a"
             ],
             [
              0.8888888888888888,
              "#fdca26"
             ],
             [
              1,
              "#f0f921"
             ]
            ],
            "type": "heatmapgl"
           }
          ],
          "histogram": [
           {
            "marker": {
             "colorbar": {
              "outlinewidth": 0,
              "ticks": ""
             }
            },
            "type": "histogram"
           }
          ],
          "histogram2d": [
           {
            "colorbar": {
             "outlinewidth": 0,
             "ticks": ""
            },
            "colorscale": [
             [
              0,
              "#0d0887"
             ],
             [
              0.1111111111111111,
              "#46039f"
             ],
             [
              0.2222222222222222,
              "#7201a8"
             ],
             [
              0.3333333333333333,
              "#9c179e"
             ],
             [
              0.4444444444444444,
              "#bd3786"
             ],
             [
              0.5555555555555556,
              "#d8576b"
             ],
             [
              0.6666666666666666,
              "#ed7953"
             ],
             [
              0.7777777777777778,
              "#fb9f3a"
             ],
             [
              0.8888888888888888,
              "#fdca26"
             ],
             [
              1,
              "#f0f921"
             ]
            ],
            "type": "histogram2d"
           }
          ],
          "histogram2dcontour": [
           {
            "colorbar": {
             "outlinewidth": 0,
             "ticks": ""
            },
            "colorscale": [
             [
              0,
              "#0d0887"
             ],
             [
              0.1111111111111111,
              "#46039f"
             ],
             [
              0.2222222222222222,
              "#7201a8"
             ],
             [
              0.3333333333333333,
              "#9c179e"
             ],
             [
              0.4444444444444444,
              "#bd3786"
             ],
             [
              0.5555555555555556,
              "#d8576b"
             ],
             [
              0.6666666666666666,
              "#ed7953"
             ],
             [
              0.7777777777777778,
              "#fb9f3a"
             ],
             [
              0.8888888888888888,
              "#fdca26"
             ],
             [
              1,
              "#f0f921"
             ]
            ],
            "type": "histogram2dcontour"
           }
          ],
          "mesh3d": [
           {
            "colorbar": {
             "outlinewidth": 0,
             "ticks": ""
            },
            "type": "mesh3d"
           }
          ],
          "parcoords": [
           {
            "line": {
             "colorbar": {
              "outlinewidth": 0,
              "ticks": ""
             }
            },
            "type": "parcoords"
           }
          ],
          "pie": [
           {
            "automargin": true,
            "type": "pie"
           }
          ],
          "scatter": [
           {
            "marker": {
             "colorbar": {
              "outlinewidth": 0,
              "ticks": ""
             }
            },
            "type": "scatter"
           }
          ],
          "scatter3d": [
           {
            "line": {
             "colorbar": {
              "outlinewidth": 0,
              "ticks": ""
             }
            },
            "marker": {
             "colorbar": {
              "outlinewidth": 0,
              "ticks": ""
             }
            },
            "type": "scatter3d"
           }
          ],
          "scattercarpet": [
           {
            "marker": {
             "colorbar": {
              "outlinewidth": 0,
              "ticks": ""
             }
            },
            "type": "scattercarpet"
           }
          ],
          "scattergeo": [
           {
            "marker": {
             "colorbar": {
              "outlinewidth": 0,
              "ticks": ""
             }
            },
            "type": "scattergeo"
           }
          ],
          "scattergl": [
           {
            "marker": {
             "colorbar": {
              "outlinewidth": 0,
              "ticks": ""
             }
            },
            "type": "scattergl"
           }
          ],
          "scattermapbox": [
           {
            "marker": {
             "colorbar": {
              "outlinewidth": 0,
              "ticks": ""
             }
            },
            "type": "scattermapbox"
           }
          ],
          "scatterpolar": [
           {
            "marker": {
             "colorbar": {
              "outlinewidth": 0,
              "ticks": ""
             }
            },
            "type": "scatterpolar"
           }
          ],
          "scatterpolargl": [
           {
            "marker": {
             "colorbar": {
              "outlinewidth": 0,
              "ticks": ""
             }
            },
            "type": "scatterpolargl"
           }
          ],
          "scatterternary": [
           {
            "marker": {
             "colorbar": {
              "outlinewidth": 0,
              "ticks": ""
             }
            },
            "type": "scatterternary"
           }
          ],
          "surface": [
           {
            "colorbar": {
             "outlinewidth": 0,
             "ticks": ""
            },
            "colorscale": [
             [
              0,
              "#0d0887"
             ],
             [
              0.1111111111111111,
              "#46039f"
             ],
             [
              0.2222222222222222,
              "#7201a8"
             ],
             [
              0.3333333333333333,
              "#9c179e"
             ],
             [
              0.4444444444444444,
              "#bd3786"
             ],
             [
              0.5555555555555556,
              "#d8576b"
             ],
             [
              0.6666666666666666,
              "#ed7953"
             ],
             [
              0.7777777777777778,
              "#fb9f3a"
             ],
             [
              0.8888888888888888,
              "#fdca26"
             ],
             [
              1,
              "#f0f921"
             ]
            ],
            "type": "surface"
           }
          ],
          "table": [
           {
            "cells": {
             "fill": {
              "color": "#EBF0F8"
             },
             "line": {
              "color": "white"
             }
            },
            "header": {
             "fill": {
              "color": "#C8D4E3"
             },
             "line": {
              "color": "white"
             }
            },
            "type": "table"
           }
          ]
         },
         "layout": {
          "annotationdefaults": {
           "arrowcolor": "#2a3f5f",
           "arrowhead": 0,
           "arrowwidth": 1
          },
          "coloraxis": {
           "colorbar": {
            "outlinewidth": 0,
            "ticks": ""
           }
          },
          "colorscale": {
           "diverging": [
            [
             0,
             "#8e0152"
            ],
            [
             0.1,
             "#c51b7d"
            ],
            [
             0.2,
             "#de77ae"
            ],
            [
             0.3,
             "#f1b6da"
            ],
            [
             0.4,
             "#fde0ef"
            ],
            [
             0.5,
             "#f7f7f7"
            ],
            [
             0.6,
             "#e6f5d0"
            ],
            [
             0.7,
             "#b8e186"
            ],
            [
             0.8,
             "#7fbc41"
            ],
            [
             0.9,
             "#4d9221"
            ],
            [
             1,
             "#276419"
            ]
           ],
           "sequential": [
            [
             0,
             "#0d0887"
            ],
            [
             0.1111111111111111,
             "#46039f"
            ],
            [
             0.2222222222222222,
             "#7201a8"
            ],
            [
             0.3333333333333333,
             "#9c179e"
            ],
            [
             0.4444444444444444,
             "#bd3786"
            ],
            [
             0.5555555555555556,
             "#d8576b"
            ],
            [
             0.6666666666666666,
             "#ed7953"
            ],
            [
             0.7777777777777778,
             "#fb9f3a"
            ],
            [
             0.8888888888888888,
             "#fdca26"
            ],
            [
             1,
             "#f0f921"
            ]
           ],
           "sequentialminus": [
            [
             0,
             "#0d0887"
            ],
            [
             0.1111111111111111,
             "#46039f"
            ],
            [
             0.2222222222222222,
             "#7201a8"
            ],
            [
             0.3333333333333333,
             "#9c179e"
            ],
            [
             0.4444444444444444,
             "#bd3786"
            ],
            [
             0.5555555555555556,
             "#d8576b"
            ],
            [
             0.6666666666666666,
             "#ed7953"
            ],
            [
             0.7777777777777778,
             "#fb9f3a"
            ],
            [
             0.8888888888888888,
             "#fdca26"
            ],
            [
             1,
             "#f0f921"
            ]
           ]
          },
          "colorway": [
           "#636efa",
           "#EF553B",
           "#00cc96",
           "#ab63fa",
           "#FFA15A",
           "#19d3f3",
           "#FF6692",
           "#B6E880",
           "#FF97FF",
           "#FECB52"
          ],
          "font": {
           "color": "#2a3f5f"
          },
          "geo": {
           "bgcolor": "white",
           "lakecolor": "white",
           "landcolor": "#E5ECF6",
           "showlakes": true,
           "showland": true,
           "subunitcolor": "white"
          },
          "hoverlabel": {
           "align": "left"
          },
          "hovermode": "closest",
          "mapbox": {
           "style": "light"
          },
          "paper_bgcolor": "white",
          "plot_bgcolor": "#E5ECF6",
          "polar": {
           "angularaxis": {
            "gridcolor": "white",
            "linecolor": "white",
            "ticks": ""
           },
           "bgcolor": "#E5ECF6",
           "radialaxis": {
            "gridcolor": "white",
            "linecolor": "white",
            "ticks": ""
           }
          },
          "scene": {
           "xaxis": {
            "backgroundcolor": "#E5ECF6",
            "gridcolor": "white",
            "gridwidth": 2,
            "linecolor": "white",
            "showbackground": true,
            "ticks": "",
            "zerolinecolor": "white"
           },
           "yaxis": {
            "backgroundcolor": "#E5ECF6",
            "gridcolor": "white",
            "gridwidth": 2,
            "linecolor": "white",
            "showbackground": true,
            "ticks": "",
            "zerolinecolor": "white"
           },
           "zaxis": {
            "backgroundcolor": "#E5ECF6",
            "gridcolor": "white",
            "gridwidth": 2,
            "linecolor": "white",
            "showbackground": true,
            "ticks": "",
            "zerolinecolor": "white"
           }
          },
          "shapedefaults": {
           "line": {
            "color": "#2a3f5f"
           }
          },
          "ternary": {
           "aaxis": {
            "gridcolor": "white",
            "linecolor": "white",
            "ticks": ""
           },
           "baxis": {
            "gridcolor": "white",
            "linecolor": "white",
            "ticks": ""
           },
           "bgcolor": "#E5ECF6",
           "caxis": {
            "gridcolor": "white",
            "linecolor": "white",
            "ticks": ""
           }
          },
          "title": {
           "x": 0.05
          },
          "xaxis": {
           "automargin": true,
           "gridcolor": "white",
           "linecolor": "white",
           "ticks": "",
           "title": {
            "standoff": 15
           },
           "zerolinecolor": "white",
           "zerolinewidth": 2
          },
          "yaxis": {
           "automargin": true,
           "gridcolor": "white",
           "linecolor": "white",
           "ticks": "",
           "title": {
            "standoff": 15
           },
           "zerolinecolor": "white",
           "zerolinewidth": 2
          }
         }
        },
        "width": 700
       }
      },
      "text/html": "<div>\n        \n        \n            <div id=\"e20fd14b-f091-4394-8e76-110841eb942f\" class=\"plotly-graph-div\" style=\"height:525px; width:700px;\"></div>\n            <script type=\"text/javascript\">\n                require([\"plotly\"], function(Plotly) {\n                    window.PLOTLYENV=window.PLOTLYENV || {};\n                    \n                if (document.getElementById(\"e20fd14b-f091-4394-8e76-110841eb942f\")) {\n                    Plotly.newPlot(\n                        'e20fd14b-f091-4394-8e76-110841eb942f',\n                        [{\"color\": \"red\", \"delaunayaxis\": \"z\", \"flatshading\": true, \"i\": [0, 1, 4, 5, 2, 3, 0, 5, 1, 1, 0, 2], \"j\": [1, 2, 5, 6, 3, 6, 1, 1, 5, 3, 4, 4], \"k\": [2, 3, 6, 7, 6, 7, 4, 4, 7, 7, 6, 6], \"opacity\": 0.95, \"type\": \"mesh3d\", \"x\": [0.3724673359664754, 0.399279027606088, 0.37246813253317634, 0.399279824172789, 0.45029937672378234, 0.477111068363395, 0.45030017329048333, 0.47711186493009594], \"y\": [-0.03227983267262276, 0.012345013002145203, -0.03227552492702349, 0.012349320747744467, -0.07904321400097666, -0.03441836832620871, -0.0790389062553774, -0.034414060580609446], \"z\": [0.1538205560473681, 0.15382205072739596, 0.010920551131568798, 0.010922045811596656, 0.15381958021578385, 0.1538210748958117, 0.010919575299984538, 0.010921069980012396]}, {\"color\": \"gray\", \"delaunayaxis\": \"z\", \"opacity\": 0.5, \"type\": \"mesh3d\", \"x\": [-1, 1, 1, -1], \"y\": [-1, -1, 1, 1], \"z\": [0, 0, 0, 0]}, {\"color\": \"blue\", \"delaunayaxis\": \"z\", \"flatshading\": true, \"i\": [0, 1, 4, 5, 2, 3, 0, 5, 1, 1, 0, 2], \"j\": [1, 2, 5, 6, 3, 6, 1, 1, 5, 3, 4, 4], \"k\": [2, 3, 6, 7, 6, 7, 4, 4, 7, 7, 6, 6], \"opacity\": 0.05, \"type\": \"mesh3d\", \"x\": [0.38084235172003406, 0.38106826446976094, 0.5237317091874556, 0.5239576219371825, 0.38187836329037633, 0.3821042760401032, 0.524767720757798, 0.5249936335075248], \"y\": [0.05430998602698106, 0.05445981411568812, 0.05593867321594581, 0.056088501304652816, -0.03648374245008379, -0.036333914361376785, -0.034855055261119094, -0.03470522717241209], \"z\": [0.005126751882363945, 0.05718604670357666, 0.0045019921568913435, 0.056561286978104086, 0.005383562940362546, 0.05744285776157529, 0.004758803214889973, 0.05681809803610269]}, {\"marker\": {\"color\": \"black\", \"colorscale\": [[0.0, \"#440154\"], [0.1111111111111111, \"#482878\"], [0.2222222222222222, \"#3e4989\"], [0.3333333333333333, \"#31688e\"], [0.4444444444444444, \"#26828e\"], [0.5555555555555556, \"#1f9e89\"], [0.6666666666666666, \"#35b779\"], [0.7777777777777778, \"#6ece58\"], [0.8888888888888888, \"#b5de2b\"], [1.0, \"#fde725\"]], \"opacity\": 0.8, \"size\": 3.0}, \"mode\": \"markers\", \"type\": \"scatter3d\", \"x\": [0.38084235172003406, 0.38106826446976094, 0.5237317091874556, 0.5239576219371825, 0.38187836329037633, 0.3821042760401032, 0.524767720757798, 0.5249936335075248], \"y\": [0.05430998602698106, 0.05445981411568812, 0.05593867321594581, 0.056088501304652816, -0.03648374245008379, -0.036333914361376785, -0.034855055261119094, -0.03470522717241209], \"z\": [0.005126751882363945, 0.05718604670357666, 0.0045019921568913435, 0.056561286978104086, 0.005383562940362546, 0.05744285776157529, 0.004758803214889973, 0.05681809803610269]}, {\"color\": \"blue\", \"delaunayaxis\": \"z\", \"flatshading\": true, \"i\": [0, 1, 4, 5, 2, 3, 0, 5, 1, 1, 0, 2], \"j\": [1, 2, 5, 6, 3, 6, 1, 1, 5, 3, 4, 4], \"k\": [2, 3, 6, 7, 6, 7, 4, 4, 7, 7, 6, 6], \"opacity\": 0.05, \"type\": \"mesh3d\", \"x\": [0.38355092593233314, 0.3837501570517324, 0.5264415105994698, 0.526640741718869, 0.384533896060823, 0.38473312718022223, 0.5274244807279597, 0.5276237118473589], \"y\": [0.05492154580606862, 0.055515816129023954, 0.05646220121048967, 0.05705647153344501, -0.03586726270629115, -0.03527299238333592, -0.03432660730187015, -0.03373233697891481], \"z\": [0.004724637066505083, 0.056780864475460796, 0.00416017401602789, 0.056216401424983686, 0.005757313827616045, 0.05781354123657184, 0.005192850777138908, 0.05724907818609465]}, {\"marker\": {\"color\": \"black\", \"colorscale\": [[0.0, \"#440154\"], [0.1111111111111111, \"#482878\"], [0.2222222222222222, \"#3e4989\"], [0.3333333333333333, \"#31688e\"], [0.4444444444444444, \"#26828e\"], [0.5555555555555556, \"#1f9e89\"], [0.6666666666666666, \"#35b779\"], [0.7777777777777778, \"#6ece58\"], [0.8888888888888888, \"#b5de2b\"], [1.0, \"#fde725\"]], \"opacity\": 0.8, \"size\": 3.0}, \"mode\": \"markers\", \"type\": \"scatter3d\", \"x\": [0.38355092593233314, 0.3837501570517324, 0.5264415105994698, 0.526640741718869, 0.384533896060823, 0.38473312718022223, 0.5274244807279597, 0.5276237118473589], \"y\": [0.05492154580606862, 0.055515816129023954, 0.05646220121048967, 0.05705647153344501, -0.03586726270629115, -0.03527299238333592, -0.03432660730187015, -0.03373233697891481], \"z\": [0.004724637066505083, 0.056780864475460796, 0.00416017401602789, 0.056216401424983686, 0.005757313827616045, 0.05781354123657184, 0.005192850777138908, 0.05724907818609465]}, {\"color\": \"blue\", \"delaunayaxis\": \"z\", \"flatshading\": true, \"i\": [0, 1, 4, 5, 2, 3, 0, 5, 1, 1, 0, 2], \"j\": [1, 2, 5, 6, 3, 6, 1, 1, 5, 3, 4, 4], \"k\": [2, 3, 6, 7, 6, 7, 4, 4, 7, 7, 6, 6], \"opacity\": 0.05, \"type\": \"mesh3d\", \"x\": [0.38245813513702853, 0.38250765353405886, 0.5253561261587991, 0.5254056445558294, 0.3829324037981723, 0.38298192219520266, 0.5258303948199429, 0.5258799132169732], \"y\": [0.05180035971830643, 0.05352370446692867, 0.05254185015764046, 0.05426519490626264, -0.03894865595518482, -0.03722531120656264, -0.03820716551585085, -0.036483820767228725], \"z\": [0.0008786069181061784, 0.05291005215187178, 0.0007180516409751592, 0.05274949687474079, 0.0038838733272392734, 0.05591531856100487, 0.0037233180501082264, 0.05575476328387388]}, {\"marker\": {\"color\": \"black\", \"colorscale\": [[0.0, \"#440154\"], [0.1111111111111111, \"#482878\"], [0.2222222222222222, \"#3e4989\"], [0.3333333333333333, \"#31688e\"], [0.4444444444444444, \"#26828e\"], [0.5555555555555556, \"#1f9e89\"], [0.6666666666666666, \"#35b779\"], [0.7777777777777778, \"#6ece58\"], [0.8888888888888888, \"#b5de2b\"], [1.0, \"#fde725\"]], \"opacity\": 0.8, \"size\": 3.0}, \"mode\": \"markers\", \"type\": \"scatter3d\", \"x\": [0.38245813513702853, 0.38250765353405886, 0.5253561261587991, 0.5254056445558294, 0.3829324037981723, 0.38298192219520266, 0.5258303948199429, 0.5258799132169732], \"y\": [0.05180035971830643, 0.05352370446692867, 0.05254185015764046, 0.05426519490626264, -0.03894865595518482, -0.03722531120656264, -0.03820716551585085, -0.036483820767228725], \"z\": [0.0008786069181061784, 0.05291005215187178, 0.0007180516409751592, 0.05274949687474079, 0.0038838733272392734, 0.05591531856100487, 0.0037233180501082264, 0.05575476328387388]}, {\"color\": \"blue\", \"delaunayaxis\": \"z\", \"flatshading\": true, \"i\": [0, 1, 4, 5, 2, 3, 0, 5, 1, 1, 0, 2], \"j\": [1, 2, 5, 6, 3, 6, 1, 1, 5, 3, 4, 4], \"k\": [2, 3, 6, 7, 6, 7, 4, 4, 7, 7, 6, 6], \"opacity\": 0.05, \"type\": \"mesh3d\", \"x\": [0.3770683262828666, 0.37714491085166274, 0.5199664983282452, 0.5200430828970413, 0.3775083942810959, 0.37758497884989206, 0.5204065663264744, 0.5204831508952706], \"y\": [0.0504589755690984, 0.0535851528670353, 0.051137677141665505, 0.054263854439602355, -0.0401761430044939, -0.03704996570655711, -0.03949744143192685, -0.036371264133989945], \"z\": [-0.0008619325039376791, 0.051104064192116216, -0.001113357227156414, 0.05085263946889751, 0.004589858391554014, 0.056555855087607965, 0.00433843366833539, 0.0563044303643892]}, {\"marker\": {\"color\": \"black\", \"colorscale\": [[0.0, \"#440154\"], [0.1111111111111111, \"#482878\"], [0.2222222222222222, \"#3e4989\"], [0.3333333333333333, \"#31688e\"], [0.4444444444444444, \"#26828e\"], [0.5555555555555556, \"#1f9e89\"], [0.6666666666666666, \"#35b779\"], [0.7777777777777778, \"#6ece58\"], [0.8888888888888888, \"#b5de2b\"], [1.0, \"#fde725\"]], \"opacity\": 0.8, \"size\": 3.0}, \"mode\": \"markers\", \"type\": \"scatter3d\", \"x\": [0.3770683262828666, 0.37714491085166274, 0.5199664983282452, 0.5200430828970413, 0.3775083942810959, 0.37758497884989206, 0.5204065663264744, 0.5204831508952706], \"y\": [0.0504589755690984, 0.0535851528670353, 0.051137677141665505, 0.054263854439602355, -0.0401761430044939, -0.03704996570655711, -0.03949744143192685, -0.036371264133989945], \"z\": [-0.0008619325039376791, 0.051104064192116216, -0.001113357227156414, 0.05085263946889751, 0.004589858391554014, 0.056555855087607965, 0.00433843366833539, 0.0563044303643892]}, {\"color\": \"blue\", \"delaunayaxis\": \"z\", \"flatshading\": true, \"i\": [0, 1, 4, 5, 2, 3, 0, 5, 1, 1, 0, 2], \"j\": [1, 2, 5, 6, 3, 6, 1, 1, 5, 3, 4, 4], \"k\": [2, 3, 6, 7, 6, 7, 4, 4, 7, 7, 6, 6], \"opacity\": 0.05, \"type\": \"mesh3d\", \"x\": [0.3873141675370557, 0.38800985948528904, 0.5301485520435633, 0.5308442439917965, 0.3897835657170814, 0.39047925766531477, 0.5326179502235889, 0.5333136421718222], \"y\": [0.042697686797113776, 0.04343456726404954, 0.04655693311908271, 0.04729381358601831, -0.04806009695464536, -0.04732321648770976, -0.04420085063267665, -0.04346397016574094], \"z\": [0.01631552214217019, 0.06836565837829553, 0.01435178982838517, 0.06640192606451054, 0.017567386255313344, 0.06961752249143874, 0.015603653941528323, 0.06765379017765372]}, {\"marker\": {\"color\": \"black\", \"colorscale\": [[0.0, \"#440154\"], [0.1111111111111111, \"#482878\"], [0.2222222222222222, \"#3e4989\"], [0.3333333333333333, \"#31688e\"], [0.4444444444444444, \"#26828e\"], [0.5555555555555556, \"#1f9e89\"], [0.6666666666666666, \"#35b779\"], [0.7777777777777778, \"#6ece58\"], [0.8888888888888888, \"#b5de2b\"], [1.0, \"#fde725\"]], \"opacity\": 0.8, \"size\": 3.0}, \"mode\": \"markers\", \"type\": \"scatter3d\", \"x\": [0.3873141675370557, 0.38800985948528904, 0.5301485520435633, 0.5308442439917965, 0.3897835657170814, 0.39047925766531477, 0.5326179502235889, 0.5333136421718222], \"y\": [0.042697686797113776, 0.04343456726404954, 0.04655693311908271, 0.04729381358601831, -0.04806009695464536, -0.04732321648770976, -0.04420085063267665, -0.04346397016574094], \"z\": [0.01631552214217019, 0.06836565837829553, 0.01435178982838517, 0.06640192606451054, 0.017567386255313344, 0.06961752249143874, 0.015603653941528323, 0.06765379017765372]}, {\"color\": \"blue\", \"delaunayaxis\": \"z\", \"flatshading\": true, \"i\": [0, 1, 4, 5, 2, 3, 0, 5, 1, 1, 0, 2], \"j\": [1, 2, 5, 6, 3, 6, 1, 1, 5, 3, 4, 4], \"k\": [2, 3, 6, 7, 6, 7, 4, 4, 7, 7, 6, 6], \"opacity\": 0.05, \"type\": \"mesh3d\", \"x\": [0.3823799279755158, 0.3825261952295154, 0.5252640969600607, 0.5254103642140603, 0.3837073836449326, 0.3838536508989323, 0.5265915526294775, 0.5267378198834772], \"y\": [0.04951654482530071, 0.0491572747856544, 0.0516084083032729, 0.051249138263626426, -0.041271565672251154, -0.041630835711897685, -0.039179702194279076, -0.039538972233925496], \"z\": [0.00612050750749038, 0.058179062935370035, 0.005733486949637268, 0.05779204237751695, 0.005490224721428322, 0.057548780149308004, 0.0051032041635752645, 0.05716175959145492]}, {\"marker\": {\"color\": \"black\", \"colorscale\": [[0.0, \"#440154\"], [0.1111111111111111, \"#482878\"], [0.2222222222222222, \"#3e4989\"], [0.3333333333333333, \"#31688e\"], [0.4444444444444444, \"#26828e\"], [0.5555555555555556, \"#1f9e89\"], [0.6666666666666666, \"#35b779\"], [0.7777777777777778, \"#6ece58\"], [0.8888888888888888, \"#b5de2b\"], [1.0, \"#fde725\"]], \"opacity\": 0.8, \"size\": 3.0}, \"mode\": \"markers\", \"type\": \"scatter3d\", \"x\": [0.3823799279755158, 0.3825261952295154, 0.5252640969600607, 0.5254103642140603, 0.3837073836449326, 0.3838536508989323, 0.5265915526294775, 0.5267378198834772], \"y\": [0.04951654482530071, 0.0491572747856544, 0.0516084083032729, 0.051249138263626426, -0.041271565672251154, -0.041630835711897685, -0.039179702194279076, -0.039538972233925496], \"z\": [0.00612050750749038, 0.058179062935370035, 0.005733486949637268, 0.05779204237751695, 0.005490224721428322, 0.057548780149308004, 0.0051032041635752645, 0.05716175959145492]}, {\"color\": \"blue\", \"delaunayaxis\": \"z\", \"flatshading\": true, \"i\": [0, 1, 4, 5, 2, 3, 0, 5, 1, 1, 0, 2], \"j\": [1, 2, 5, 6, 3, 6, 1, 1, 5, 3, 4, 4], \"k\": [2, 3, 6, 7, 6, 7, 4, 4, 7, 7, 6, 6], \"opacity\": 0.05, \"type\": \"mesh3d\", \"x\": [0.38192244634033723, 0.3823966447719225, 0.5247955732175621, 0.5252697716491473, 0.38347716138787746, 0.38395135981946277, 0.5263502882651023, 0.5268244866966876], \"y\": [0.04817895906889341, 0.047836738243501375, 0.05063435595390864, 0.05029213512851649, -0.04260567601139703, -0.04294789683678912, -0.040150279126381916, -0.0404924999517739], \"z\": [0.009063792645196689, 0.06112050866784596, 0.007778465220718095, 0.05983518124336734, 0.008452812187394465, 0.06050952821004371, 0.007167484762915843, 0.05922420078556509]}, {\"marker\": {\"color\": \"black\", \"colorscale\": [[0.0, \"#440154\"], [0.1111111111111111, \"#482878\"], [0.2222222222222222, \"#3e4989\"], [0.3333333333333333, \"#31688e\"], [0.4444444444444444, \"#26828e\"], [0.5555555555555556, \"#1f9e89\"], [0.6666666666666666, \"#35b779\"], [0.7777777777777778, \"#6ece58\"], [0.8888888888888888, \"#b5de2b\"], [1.0, \"#fde725\"]], \"opacity\": 0.8, \"size\": 3.0}, \"mode\": \"markers\", \"type\": \"scatter3d\", \"x\": [0.38192244634033723, 0.3823966447719225, 0.5247955732175621, 0.5252697716491473, 0.38347716138787746, 0.38395135981946277, 0.5263502882651023, 0.5268244866966876], \"y\": [0.04817895906889341, 0.047836738243501375, 0.05063435595390864, 0.05029213512851649, -0.04260567601139703, -0.04294789683678912, -0.040150279126381916, -0.0404924999517739], \"z\": [0.009063792645196689, 0.06112050866784596, 0.007778465220718095, 0.05983518124336734, 0.008452812187394465, 0.06050952821004371, 0.007167484762915843, 0.05922420078556509]}, {\"color\": \"blue\", \"delaunayaxis\": \"z\", \"flatshading\": true, \"i\": [0, 1, 4, 5, 2, 3, 0, 5, 1, 1, 0, 2], \"j\": [1, 2, 5, 6, 3, 6, 1, 1, 5, 3, 4, 4], \"k\": [2, 3, 6, 7, 6, 7, 4, 4, 7, 7, 6, 6], \"opacity\": 0.05, \"type\": \"mesh3d\", \"x\": [0.3845956451604215, 0.3846685700075833, 0.5274912531653224, 0.5275641780124842, 0.38529648993149734, 0.38536941477865916, 0.5281920979363983, 0.5282650227835601], \"y\": [0.05056591745244865, 0.051814060231810566, 0.0516637839687642, 0.05291192674812606, -0.04020530434989361, -0.03895716157053175, -0.03910743783357812, -0.0378592950542162], \"z\": [0.0017598163775496833, 0.05380480157187548, 0.001533263627176762, 0.05357824882150261, 0.0039357097060962465, 0.055980694900422096, 0.0037091569557233806, 0.055754142150049174]}, {\"marker\": {\"color\": \"black\", \"colorscale\": [[0.0, \"#440154\"], [0.1111111111111111, \"#482878\"], [0.2222222222222222, \"#3e4989\"], [0.3333333333333333, \"#31688e\"], [0.4444444444444444, \"#26828e\"], [0.5555555555555556, \"#1f9e89\"], [0.6666666666666666, \"#35b779\"], [0.7777777777777778, \"#6ece58\"], [0.8888888888888888, \"#b5de2b\"], [1.0, \"#fde725\"]], \"opacity\": 0.8, \"size\": 3.0}, \"mode\": \"markers\", \"type\": \"scatter3d\", \"x\": [0.3845956451604215, 0.3846685700075833, 0.5274912531653224, 0.5275641780124842, 0.38529648993149734, 0.38536941477865916, 0.5281920979363983, 0.5282650227835601], \"y\": [0.05056591745244865, 0.051814060231810566, 0.0516637839687642, 0.05291192674812606, -0.04020530434989361, -0.03895716157053175, -0.03910743783357812, -0.0378592950542162], \"z\": [0.0017598163775496833, 0.05380480157187548, 0.001533263627176762, 0.05357824882150261, 0.0039357097060962465, 0.055980694900422096, 0.0037091569557233806, 0.055754142150049174]}, {\"color\": \"blue\", \"delaunayaxis\": \"z\", \"flatshading\": true, \"i\": [0, 1, 4, 5, 2, 3, 0, 5, 1, 1, 0, 2], \"j\": [1, 2, 5, 6, 3, 6, 1, 1, 5, 3, 4, 4], \"k\": [2, 3, 6, 7, 6, 7, 4, 4, 7, 7, 6, 6], \"opacity\": 0.05, \"type\": \"mesh3d\", \"x\": [0.38117484004081126, 0.3810297964210988, 0.5240648933482474, 0.5239198497285348, 0.38221613256921705, 0.3820710889495046, 0.5251061858766531, 0.5249611422569406], \"y\": [0.061275419814482035, 0.06113579709671141, 0.06291312684645134, 0.06277350412868077, -0.029518292641249555, -0.029657915359020126, -0.02788058560928025, -0.028020208327050822], \"z\": [0.0009376928770037374, 0.05299730419089721, 0.0013401920722627414, 0.053399803386156214, 0.0006970873147277568, 0.05275669862862123, 0.0010995865099867885, 0.053159197823880205]}, {\"marker\": {\"color\": \"black\", \"colorscale\": [[0.0, \"#440154\"], [0.1111111111111111, \"#482878\"], [0.2222222222222222, \"#3e4989\"], [0.3333333333333333, \"#31688e\"], [0.4444444444444444, \"#26828e\"], [0.5555555555555556, \"#1f9e89\"], [0.6666666666666666, \"#35b779\"], [0.7777777777777778, \"#6ece58\"], [0.8888888888888888, \"#b5de2b\"], [1.0, \"#fde725\"]], \"opacity\": 0.8, \"size\": 3.0}, \"mode\": \"markers\", \"type\": \"scatter3d\", \"x\": [0.38117484004081126, 0.3810297964210988, 0.5240648933482474, 0.5239198497285348, 0.38221613256921705, 0.3820710889495046, 0.5251061858766531, 0.5249611422569406], \"y\": [0.061275419814482035, 0.06113579709671141, 0.06291312684645134, 0.06277350412868077, -0.029518292641249555, -0.029657915359020126, -0.02788058560928025, -0.028020208327050822], \"z\": [0.0009376928770037374, 0.05299730419089721, 0.0013401920722627414, 0.053399803386156214, 0.0006970873147277568, 0.05275669862862123, 0.0010995865099867885, 0.053159197823880205]}, {\"color\": \"blue\", \"delaunayaxis\": \"z\", \"flatshading\": true, \"i\": [0, 1, 4, 5, 2, 3, 0, 5, 1, 1, 0, 2], \"j\": [1, 2, 5, 6, 3, 6, 1, 1, 5, 3, 4, 4], \"k\": [2, 3, 6, 7, 6, 7, 4, 4, 7, 7, 6, 6], \"opacity\": 0.05, \"type\": \"mesh3d\", \"x\": [0.37636593320136197, 0.37642418595589466, 0.5192640649692588, 0.5193223177237914, 0.37681961452337853, 0.37687786727791117, 0.5197177462912753, 0.519775999045808], \"y\": [0.05164237288635409, 0.0549033093213766, 0.05234495412116724, 0.0556058905561897, -0.03897822664940054, -0.035717290214378083, -0.038275645414587445, -0.03501470897956488], \"z\": [-0.0016211533700482839, 0.050336584864905026, -0.0018254594638242028, 0.05013227877112919, 0.004065806775654518, 0.056023545010607884, 0.0038615006818786546, 0.05581923891683199]}, {\"marker\": {\"color\": \"black\", \"colorscale\": [[0.0, \"#440154\"], [0.1111111111111111, \"#482878\"], [0.2222222222222222, \"#3e4989\"], [0.3333333333333333, \"#31688e\"], [0.4444444444444444, \"#26828e\"], [0.5555555555555556, \"#1f9e89\"], [0.6666666666666666, \"#35b779\"], [0.7777777777777778, \"#6ece58\"], [0.8888888888888888, \"#b5de2b\"], [1.0, \"#fde725\"]], \"opacity\": 0.8, \"size\": 3.0}, \"mode\": \"markers\", \"type\": \"scatter3d\", \"x\": [0.37636593320136197, 0.37642418595589466, 0.5192640649692588, 0.5193223177237914, 0.37681961452337853, 0.37687786727791117, 0.5197177462912753, 0.519775999045808], \"y\": [0.05164237288635409, 0.0549033093213766, 0.05234495412116724, 0.0556058905561897, -0.03897822664940054, -0.035717290214378083, -0.038275645414587445, -0.03501470897956488], \"z\": [-0.0016211533700482839, 0.050336584864905026, -0.0018254594638242028, 0.05013227877112919, 0.004065806775654518, 0.056023545010607884, 0.0038615006818786546, 0.05581923891683199]}],\n                        {\"margin\": {\"b\": 10, \"l\": 10, \"r\": 20, \"t\": 10}, \"scene\": {\"camera\": {\"center\": {\"x\": 0.4247896004482857, \"y\": -0.0333469466266161, \"z\": -0.41762918698630974}, \"eye\": {\"x\": -1.0, \"y\": 0.0, \"z\": 0.01}, \"up\": {\"x\": 0, \"y\": 0, \"z\": 1}}, \"xaxis\": {\"nticks\": 10, \"range\": [-0.1, 0.9]}, \"yaxis\": {\"nticks\": 16, \"range\": [-0.5, 0.5]}, \"zaxis\": {\"nticks\": 8, \"range\": [-0.01, 0.99]}}, \"template\": {\"data\": {\"bar\": [{\"error_x\": {\"color\": \"#2a3f5f\"}, \"error_y\": {\"color\": \"#2a3f5f\"}, \"marker\": {\"line\": {\"color\": \"#E5ECF6\", \"width\": 0.5}}, \"type\": \"bar\"}], \"barpolar\": [{\"marker\": {\"line\": {\"color\": \"#E5ECF6\", \"width\": 0.5}}, \"type\": \"barpolar\"}], \"carpet\": [{\"aaxis\": {\"endlinecolor\": \"#2a3f5f\", \"gridcolor\": \"white\", \"linecolor\": \"white\", \"minorgridcolor\": \"white\", \"startlinecolor\": \"#2a3f5f\"}, \"baxis\": {\"endlinecolor\": \"#2a3f5f\", \"gridcolor\": \"white\", \"linecolor\": \"white\", \"minorgridcolor\": \"white\", \"startlinecolor\": \"#2a3f5f\"}, \"type\": \"carpet\"}], \"choropleth\": [{\"colorbar\": {\"outlinewidth\": 0, \"ticks\": \"\"}, \"type\": \"choropleth\"}], \"contour\": [{\"colorbar\": {\"outlinewidth\": 0, \"ticks\": \"\"}, \"colorscale\": [[0.0, \"#0d0887\"], [0.1111111111111111, \"#46039f\"], [0.2222222222222222, \"#7201a8\"], [0.3333333333333333, \"#9c179e\"], [0.4444444444444444, \"#bd3786\"], [0.5555555555555556, \"#d8576b\"], [0.6666666666666666, \"#ed7953\"], [0.7777777777777778, \"#fb9f3a\"], [0.8888888888888888, \"#fdca26\"], [1.0, \"#f0f921\"]], \"type\": \"contour\"}], \"contourcarpet\": [{\"colorbar\": {\"outlinewidth\": 0, \"ticks\": \"\"}, \"type\": \"contourcarpet\"}], \"heatmap\": [{\"colorbar\": {\"outlinewidth\": 0, \"ticks\": \"\"}, \"colorscale\": [[0.0, \"#0d0887\"], [0.1111111111111111, \"#46039f\"], [0.2222222222222222, \"#7201a8\"], [0.3333333333333333, \"#9c179e\"], [0.4444444444444444, \"#bd3786\"], [0.5555555555555556, \"#d8576b\"], [0.6666666666666666, \"#ed7953\"], [0.7777777777777778, \"#fb9f3a\"], [0.8888888888888888, \"#fdca26\"], [1.0, \"#f0f921\"]], \"type\": \"heatmap\"}], \"heatmapgl\": [{\"colorbar\": {\"outlinewidth\": 0, \"ticks\": \"\"}, \"colorscale\": [[0.0, \"#0d0887\"], [0.1111111111111111, \"#46039f\"], [0.2222222222222222, \"#7201a8\"], [0.3333333333333333, \"#9c179e\"], [0.4444444444444444, \"#bd3786\"], [0.5555555555555556, \"#d8576b\"], [0.6666666666666666, \"#ed7953\"], [0.7777777777777778, \"#fb9f3a\"], [0.8888888888888888, \"#fdca26\"], [1.0, \"#f0f921\"]], \"type\": \"heatmapgl\"}], \"histogram\": [{\"marker\": {\"colorbar\": {\"outlinewidth\": 0, \"ticks\": \"\"}}, \"type\": \"histogram\"}], \"histogram2d\": [{\"colorbar\": {\"outlinewidth\": 0, \"ticks\": \"\"}, \"colorscale\": [[0.0, \"#0d0887\"], [0.1111111111111111, \"#46039f\"], [0.2222222222222222, \"#7201a8\"], [0.3333333333333333, \"#9c179e\"], [0.4444444444444444, \"#bd3786\"], [0.5555555555555556, \"#d8576b\"], [0.6666666666666666, \"#ed7953\"], [0.7777777777777778, \"#fb9f3a\"], [0.8888888888888888, \"#fdca26\"], [1.0, \"#f0f921\"]], \"type\": \"histogram2d\"}], \"histogram2dcontour\": [{\"colorbar\": {\"outlinewidth\": 0, \"ticks\": \"\"}, \"colorscale\": [[0.0, \"#0d0887\"], [0.1111111111111111, \"#46039f\"], [0.2222222222222222, \"#7201a8\"], [0.3333333333333333, \"#9c179e\"], [0.4444444444444444, \"#bd3786\"], [0.5555555555555556, \"#d8576b\"], [0.6666666666666666, \"#ed7953\"], [0.7777777777777778, \"#fb9f3a\"], [0.8888888888888888, \"#fdca26\"], [1.0, \"#f0f921\"]], \"type\": \"histogram2dcontour\"}], \"mesh3d\": [{\"colorbar\": {\"outlinewidth\": 0, \"ticks\": \"\"}, \"type\": \"mesh3d\"}], \"parcoords\": [{\"line\": {\"colorbar\": {\"outlinewidth\": 0, \"ticks\": \"\"}}, \"type\": \"parcoords\"}], \"pie\": [{\"automargin\": true, \"type\": \"pie\"}], \"scatter\": [{\"marker\": {\"colorbar\": {\"outlinewidth\": 0, \"ticks\": \"\"}}, \"type\": \"scatter\"}], \"scatter3d\": [{\"line\": {\"colorbar\": {\"outlinewidth\": 0, \"ticks\": \"\"}}, \"marker\": {\"colorbar\": {\"outlinewidth\": 0, \"ticks\": \"\"}}, \"type\": \"scatter3d\"}], \"scattercarpet\": [{\"marker\": {\"colorbar\": {\"outlinewidth\": 0, \"ticks\": \"\"}}, \"type\": \"scattercarpet\"}], \"scattergeo\": [{\"marker\": {\"colorbar\": {\"outlinewidth\": 0, \"ticks\": \"\"}}, \"type\": \"scattergeo\"}], \"scattergl\": [{\"marker\": {\"colorbar\": {\"outlinewidth\": 0, \"ticks\": \"\"}}, \"type\": \"scattergl\"}], \"scattermapbox\": [{\"marker\": {\"colorbar\": {\"outlinewidth\": 0, \"ticks\": \"\"}}, \"type\": \"scattermapbox\"}], \"scatterpolar\": [{\"marker\": {\"colorbar\": {\"outlinewidth\": 0, \"ticks\": \"\"}}, \"type\": \"scatterpolar\"}], \"scatterpolargl\": [{\"marker\": {\"colorbar\": {\"outlinewidth\": 0, \"ticks\": \"\"}}, \"type\": \"scatterpolargl\"}], \"scatterternary\": [{\"marker\": {\"colorbar\": {\"outlinewidth\": 0, \"ticks\": \"\"}}, \"type\": \"scatterternary\"}], \"surface\": [{\"colorbar\": {\"outlinewidth\": 0, \"ticks\": \"\"}, \"colorscale\": [[0.0, \"#0d0887\"], [0.1111111111111111, \"#46039f\"], [0.2222222222222222, \"#7201a8\"], [0.3333333333333333, \"#9c179e\"], [0.4444444444444444, \"#bd3786\"], [0.5555555555555556, \"#d8576b\"], [0.6666666666666666, \"#ed7953\"], [0.7777777777777778, \"#fb9f3a\"], [0.8888888888888888, \"#fdca26\"], [1.0, \"#f0f921\"]], \"type\": \"surface\"}], \"table\": [{\"cells\": {\"fill\": {\"color\": \"#EBF0F8\"}, \"line\": {\"color\": \"white\"}}, \"header\": {\"fill\": {\"color\": \"#C8D4E3\"}, \"line\": {\"color\": \"white\"}}, \"type\": \"table\"}]}, \"layout\": {\"annotationdefaults\": {\"arrowcolor\": \"#2a3f5f\", \"arrowhead\": 0, \"arrowwidth\": 1}, \"coloraxis\": {\"colorbar\": {\"outlinewidth\": 0, \"ticks\": \"\"}}, \"colorscale\": {\"diverging\": [[0, \"#8e0152\"], [0.1, \"#c51b7d\"], [0.2, \"#de77ae\"], [0.3, \"#f1b6da\"], [0.4, \"#fde0ef\"], [0.5, \"#f7f7f7\"], [0.6, \"#e6f5d0\"], [0.7, \"#b8e186\"], [0.8, \"#7fbc41\"], [0.9, \"#4d9221\"], [1, \"#276419\"]], \"sequential\": [[0.0, \"#0d0887\"], [0.1111111111111111, \"#46039f\"], [0.2222222222222222, \"#7201a8\"], [0.3333333333333333, \"#9c179e\"], [0.4444444444444444, \"#bd3786\"], [0.5555555555555556, \"#d8576b\"], [0.6666666666666666, \"#ed7953\"], [0.7777777777777778, \"#fb9f3a\"], [0.8888888888888888, \"#fdca26\"], [1.0, \"#f0f921\"]], \"sequentialminus\": [[0.0, \"#0d0887\"], [0.1111111111111111, \"#46039f\"], [0.2222222222222222, \"#7201a8\"], [0.3333333333333333, \"#9c179e\"], [0.4444444444444444, \"#bd3786\"], [0.5555555555555556, \"#d8576b\"], [0.6666666666666666, \"#ed7953\"], [0.7777777777777778, \"#fb9f3a\"], [0.8888888888888888, \"#fdca26\"], [1.0, \"#f0f921\"]]}, \"colorway\": [\"#636efa\", \"#EF553B\", \"#00cc96\", \"#ab63fa\", \"#FFA15A\", \"#19d3f3\", \"#FF6692\", \"#B6E880\", \"#FF97FF\", \"#FECB52\"], \"font\": {\"color\": \"#2a3f5f\"}, \"geo\": {\"bgcolor\": \"white\", \"lakecolor\": \"white\", \"landcolor\": \"#E5ECF6\", \"showlakes\": true, \"showland\": true, \"subunitcolor\": \"white\"}, \"hoverlabel\": {\"align\": \"left\"}, \"hovermode\": \"closest\", \"mapbox\": {\"style\": \"light\"}, \"paper_bgcolor\": \"white\", \"plot_bgcolor\": \"#E5ECF6\", \"polar\": {\"angularaxis\": {\"gridcolor\": \"white\", \"linecolor\": \"white\", \"ticks\": \"\"}, \"bgcolor\": \"#E5ECF6\", \"radialaxis\": {\"gridcolor\": \"white\", \"linecolor\": \"white\", \"ticks\": \"\"}}, \"scene\": {\"xaxis\": {\"backgroundcolor\": \"#E5ECF6\", \"gridcolor\": \"white\", \"gridwidth\": 2, \"linecolor\": \"white\", \"showbackground\": true, \"ticks\": \"\", \"zerolinecolor\": \"white\"}, \"yaxis\": {\"backgroundcolor\": \"#E5ECF6\", \"gridcolor\": \"white\", \"gridwidth\": 2, \"linecolor\": \"white\", \"showbackground\": true, \"ticks\": \"\", \"zerolinecolor\": \"white\"}, \"zaxis\": {\"backgroundcolor\": \"#E5ECF6\", \"gridcolor\": \"white\", \"gridwidth\": 2, \"linecolor\": \"white\", \"showbackground\": true, \"ticks\": \"\", \"zerolinecolor\": \"white\"}}, \"shapedefaults\": {\"line\": {\"color\": \"#2a3f5f\"}}, \"ternary\": {\"aaxis\": {\"gridcolor\": \"white\", \"linecolor\": \"white\", \"ticks\": \"\"}, \"baxis\": {\"gridcolor\": \"white\", \"linecolor\": \"white\", \"ticks\": \"\"}, \"bgcolor\": \"#E5ECF6\", \"caxis\": {\"gridcolor\": \"white\", \"linecolor\": \"white\", \"ticks\": \"\"}}, \"title\": {\"x\": 0.05}, \"xaxis\": {\"automargin\": true, \"gridcolor\": \"white\", \"linecolor\": \"white\", \"ticks\": \"\", \"title\": {\"standoff\": 15}, \"zerolinecolor\": \"white\", \"zerolinewidth\": 2}, \"yaxis\": {\"automargin\": true, \"gridcolor\": \"white\", \"linecolor\": \"white\", \"ticks\": \"\", \"title\": {\"standoff\": 15}, \"zerolinecolor\": \"white\", \"zerolinewidth\": 2}}}, \"width\": 700},\n                        {\"responsive\": true}\n                    ).then(function(){\n                            \nvar gd = document.getElementById('e20fd14b-f091-4394-8e76-110841eb942f');\nvar x = new MutationObserver(function (mutations, observer) {{\n        var display = window.getComputedStyle(gd).display;\n        if (!display || display === 'none') {{\n            console.log([gd, 'removed!']);\n            Plotly.purge(gd);\n            observer.disconnect();\n        }}\n}});\n\n// Listen for the removal of the full notebook cells\nvar notebookContainer = gd.closest('#notebook-container');\nif (notebookContainer) {{\n    x.observe(notebookContainer, {childList: true});\n}}\n\n// Listen for the clearing of the current output cell\nvar outputEl = gd.closest('.output');\nif (outputEl) {{\n    x.observe(outputEl, {childList: true});\n}}\n\n                        })\n                };\n                });\n            </script>\n        </div>"
     },
     "metadata": {},
     "output_type": "display_data"
    }
   ],
   "source": "out_grasp = sample_grasp_transformation(grasp_trans_vae, grasp_trans_clf, grasp_data_eval, num_samples=10)\n\ngrasp_fig = plot_keypoint_goal(out_grasp)\ngrasp_fig.show()"
  },
  {
   "cell_type": "markdown",
   "metadata": {},
   "source": "# Planning sequences"
  },
  {
   "cell_type": "code",
   "execution_count": 262,
   "metadata": {},
   "outputs": [
    {
     "name": "stdout",
     "output_type": "stream",
     "text": "/root/catkin_ws/src/primitives/data/pull/pull_face_all_0/test/196/pkl/196.pkl\n['transformation_corrected', 'goal', 'contact_obj_frame', 'contact_world_frame', 'start', 'result', 'keypoints_start', 'contact_pcd', 'keypoints_goal', 'transformation', 'keypoints_goal_corrected']\nrealsense_box_experiments.stl\ntable_top.stl\nmpalms_all_coarse.stl\nrealsense_box_experiments.stl:4QPMYQCEBGTF\n"
    }
   ],
   "source": "pull_data_0 = get_rand_data(primitive='pull', train_test='test')\nvis_palms(pull_data_0, name='pull').show(viewer='gl')\npull_data_eval_0 = copy.deepcopy(pull_data_0)"
  },
  {
   "cell_type": "code",
   "execution_count": 182,
   "metadata": {},
   "outputs": [
    {
     "name": "stdout",
     "output_type": "stream",
     "text": "/root/catkin_ws/src/primitives/data/pull/pull_face_all_0/test/4893/pkl/4893.pkl\n['transformation_corrected', 'goal', 'contact_obj_frame', 'contact_world_frame', 'start', 'result', 'keypoints_start', 'contact_pcd', 'keypoints_goal', 'transformation', 'keypoints_goal_corrected']\nrealsense_box_experiments.stl\ntable_top.stl\nmpalms_all_coarse.stl\nrealsense_box_experiments.stl:4FA4F8ZVM0XY\n"
    }
   ],
   "source": "pull_data_1 = get_rand_data(primitive='pull', train_test='test')\nvis_palms(pull_data_1, name='pull').show(viewer='gl')\npull_data_eval_1 = copy.deepcopy(pull_data_1)"
  },
  {
   "cell_type": "code",
   "execution_count": 183,
   "metadata": {},
   "outputs": [
    {
     "name": "stdout",
     "output_type": "stream",
     "text": "/root/catkin_ws/src/primitives/data/grasp/face_ind_test_0_fixed/test/4569/pkl/4569.pkl\n['transformation_corrected', 'goal', 'keypoints_goal_corrected', 'contact_obj_frame', 'contact_world_frame', 'start', 'result', 'keypoints_start', 'contact_pcd', 'keypoints_goal', 'transformation', 'goal_face']\nrealsense_box_experiments.stl\ntable_top.stl\nmpalms_all_coarse.stl\nmpalms_all_coarse.stl:FYEAVSA5V7VP\nrealsense_box_experiments.stl:FY2BTM83QJMP\n"
    }
   ],
   "source": "grasp_data = get_rand_data(primitive='grasp', train_test='test')\nvis_palms(grasp_data, name='grasp').show(viewer='gl')\ngrasp_data_eval = copy.deepcopy(grasp_data)"
  },
  {
   "cell_type": "code",
   "execution_count": 184,
   "metadata": {},
   "outputs": [],
   "source": "def at_goal(current, goal, tol=0.003):\n    center_current_xyz = np.mean(current['keypoints_start'], axis=0)\n    center_goal_xyz = np.mean(goal['keypoints_goal_corrected'], axis=0)\n    \n    dist = np.linalg.norm(center_current_xyz - center_goal_xyz)\n    if dist < tol:\n        return True, dist\n    else:\n        return False, dist"
  },
  {
   "cell_type": "code",
   "execution_count": 283,
   "metadata": {},
   "outputs": [
    {
     "name": "stdout",
     "output_type": "stream",
     "text": "log probs after pulling: \ndist to grasp goal: 0.04708083659099241\nlog probs after pulling: \ndist to grasp goal: 0.04708083659099241\nlog probs after pulling: \ndist to grasp goal: 0.04708083659099241\nlog probs after pulling: \ndist to grasp goal: 0.04708083659099241\nlog probs after pulling: \ndist to grasp goal: 0.04708083659099241\nlog probs after pulling: \ndist to grasp goal: 0.04708083659099241\nlog probs after pulling: \ndist to grasp goal: 0.04708083659099241\nlog probs after pulling: \ndist to grasp goal: 0.04708083659099241\nlog probs after pulling: \ndist to grasp goal: 0.04708083659099241\nlog probs after pulling: \ndist to grasp goal: 0.04708083659099241\nlog probs after pulling: \ndist to grasp goal: 0.04708083659099241\nlog probs after pulling: \ndist to grasp goal: 0.04708083659099241\nlog probs after pulling: \ndist to grasp goal: 0.04708083659099241\nlog probs after pulling: \ndist to grasp goal: 0.04708083659099241\nlog probs after pulling: \ndist to grasp goal: 0.04708083659099241\nlog probs after pulling: \ndist to grasp goal: 0.04708083659099241\nlog probs after pulling: \ndist to grasp goal: 0.04708083659099241\nlog probs after pulling: \ndist to grasp goal: 0.04708083659099241\nlog probs after pulling: \ndist to grasp goal: 0.04708083659099241\nlog probs after pulling: \ndist to grasp goal: 0.04708083659099241\nlog probs after pulling: \ndist to grasp goal: 0.04708083659099241\nlog probs after pulling: \ndist to grasp goal: 0.04708083659099241\nlog probs after pulling: \ndist to grasp goal: 0.04708083659099241\nlog probs after pulling: \ndist to grasp goal: 0.04708083659099241\nlog probs after pulling: \ndist to grasp goal: 0.04708083659099241\nlog probs after pulling: \ndist to grasp goal: 0.04708083659099241\nlog probs after pulling: \ndist to grasp goal: 0.04708083659099241\nlog probs after pulling: \ndist to grasp goal: 0.04708083659099241\nlog probs after pulling: \ndist to grasp goal: 0.04708083659099241\nlog probs after pulling: \ndist to grasp goal: 0.04708083659099241\nlog probs after pulling: \ndist to grasp goal: 0.04708083659099241\nlog probs after pulling: \ndist to grasp goal: 0.04708083659099241\n"
    }
   ],
   "source": "start_state = copy.deepcopy(pull_data_0)\ngoal_state = copy.deepcopy(pull_data_1)\ngrasp_goal = {}\ngrasp_goal['keypoints_goal_corrected'] = grasp_data_eval['keypoints_start']\nkeypoint_plan = []\nkeypoint_plan.append(start_state)\n\ndone = False\nk = 0\nmax_k = 30\nbest_dist = 1.0\nbest_score = -100.0\n\nnodes = 20\nexecuted_grasp = False\n\ncurrent_state = start_state\nwhile not done:\n    \n    # get new pull transformations from current\n    new_pull_state = sample_pull_transformation(\n        pull_vae=pull_trans_vae, \n        start_data=current_state,\n        num_samples=nodes)\n#     new_pull_state = transform_keypoints(new_pull_state, number=nodes)\n    new_pull_state = transform_keypoints_full(new_pull_state, number=nodes)\n    \n    # get new grasp transformations from current\n    new_grasp_state = sample_grasp_transformation(\n        grasp_vae=grasp_trans_vae, \n        grasp_clf=grasp_trans_clf,\n        start_data=current_state,\n        num_samples=nodes)\n#     new_grasp_state = transform_keypoints(new_grasp_state, number=nodes)\n    new_grasp_state = transform_keypoints_full(new_grasp_state, number=nodes)\n    new_grasp_state_scores = []\n    \n    # evaluate grasp sample from current\n#     keypoints_start, trans = to_torch_trans_full(new_grasp_state)\n#     for i in range(nodes):\n#         log_prob = eval_grasp_trans_sample(\n#             keypoints_start=keypoints_start, \n#             trans_sample=trans[i, :], \n#             grasp_vae=grasp_trans_vae, \n#             grasp_clf=grasp_trans_clf)\n#         new_grasp_state_scores.append(log_prob)\n        \n#     print(\"Scores from current: \")\n#     for i, score in enumerate(new_grasp_state_scores):\n#         print(i, score)\n\n    # sample grasps for each node expanded from pulling\n    grasp_states_post_pull = []\n    grasp_state_post_pull_dists = []\n    grasp_state_post_pull_log_probs = []\n    for i in range(nodes):\n        pull_state_expand = {}\n        pull_state_expand['keypoints_start'] = new_pull_state['keypoints_goal_corrected'][i]\n        pull_state_expand['transformation_corrected'] = [new_pull_state['transformation_corrected'][i]]\n        _, dist = at_goal(pull_state_expand, grasp_goal)\n\n        if dist < 0.05:\n            grasp_state_post_pull = sample_grasp_transformation(\n                grasp_vae=grasp_trans_vae,\n                grasp_clf=grasp_trans_clf,\n                start_data=pull_state_expand,\n                num_samples=1\n            )\n#             grasp_state_post_pull = transform_keypoints(grasp_state_post_pull)\n            grasp_state_post_pull = transform_keypoints_full(grasp_state_post_pull)\n\n            keypoints_start, trans = to_torch_trans_full(grasp_state_post_pull)\n\n            log_prob = eval_grasp_trans_sample(\n                keypoints_start=keypoints_start,\n                trans_sample=trans[0],\n                grasp_vae=grasp_trans_vae,\n                grasp_clf=grasp_trans_clf)\n            grasp_state_post_pull_log_probs.append(log_prob)\n        else:\n            grasp_state_post_pull_log_probs.append(-100.0)\n        \n        grasp_states_post_pull.append(grasp_state_post_pull)\n        grasp_state_post_pull_dists.append(dist)\n        \n    if len(grasp_state_post_pull_log_probs) > 0:\n        print(\"log probs after pulling: \")\n        closest_score_ind = np.argmax(grasp_state_post_pull_log_probs)\n        closest_score = grasp_state_post_pull_log_probs[closest_score_ind]        \n        for i, log_prob in enumerate(grasp_state_post_pull_log_probs):\n            if log_prob > 0.0:\n                print(i, log_prob)\n    else:\n        closest_score = -1.0\n\n#     print(\"dists after pulling: \")\n#     for i, dist in enumerate(grasp_state_post_pull_dists):\n#         print(i, dist)\n        \n    closest_dist_ind = np.argmin(grasp_state_post_pull_dists)    \n    closest_dist = grasp_state_post_pull_dists[closest_dist_ind]\n\n    prev_state = copy.deepcopy(current_state)\n    current_state = {}\n#     if closest_score > 11.0:\n#     if closest_dist < 0.03 and closest_score > 15.0:\n    if closest_score > 9.0:\n        print(\"executed grasp!\")\n#         current_state['keypoints_start'] = grasp_states_post_pull[closest_dist_ind]['keypoints_goal_corrected'][0]\n        current_state['keypoints_start'] = grasp_states_post_pull[closest_score_ind]['keypoints_goal_corrected'][0]\n        current_state['start'] = grasp_states_post_pull[closest_score_ind]['goal'][0]\n        executed_grasp = True\n    else:\n#         if closest_dist < best_dist:\n        if closest_score > best_score:\n#             best_dist = closest_dist\n            best_score = closest_score\n#             current_state['keypoints_start'] = new_pull_state['keypoints_goal_corrected'][closest_dist_ind]\n            current_state['keypoints_start'] = new_pull_state['keypoints_goal_corrected'][closest_score_ind]\n            current_state['start'] = new_pull_state['goal'][closest_score_ind]\n        else:\n            current_state['keypoints_start'] = prev_state['keypoints_start']\n            current_state['start'] = prev_state['start']\n    keypoint_plan.append(current_state)\n    \n    close_to_goal, dist = at_goal(current_state, goal_state)\n    _, dist_grasp_goal = at_goal(current_state, grasp_goal)\n#     print(\"dist: \" + str(dist))\n    print(\"dist to grasp goal: \" + str(dist_grasp_goal))\n    \n    if close_to_goal or k > max_k or executed_grasp:\n        done = True\n    else:\n        k += 1\n    "
  },
  {
   "cell_type": "code",
   "execution_count": 273,
   "metadata": {},
   "outputs": [
    {
     "data": {
      "application/vnd.plotly.v1+json": {
       "config": {
        "plotlyServerURL": "https://plot.ly"
       },
       "data": [
        {
         "color": "red",
         "delaunayaxis": "z",
         "flatshading": true,
         "i": [
          0,
          1,
          4,
          5,
          2,
          3,
          0,
          5,
          1,
          1,
          0,
          2
         ],
         "j": [
          1,
          2,
          5,
          6,
          3,
          6,
          1,
          1,
          5,
          3,
          4,
          4
         ],
         "k": [
          2,
          3,
          6,
          7,
          6,
          7,
          4,
          4,
          7,
          7,
          6,
          6
         ],
         "opacity": 0.95,
         "type": "mesh3d",
         "x": [
          0.4234841912007213,
          0.44204221592153353,
          0.4234841912007213,
          0.44204221592153353,
          0.5083191172883512,
          0.5268771420091634,
          0.5083191172883512,
          0.5268771420091635
         ],
         "y": [
          -0.08666952817313521,
          -0.03802959210440337,
          -0.08666952817313517,
          -0.03802959210440333,
          -0.11903734735155302,
          -0.07039741128282118,
          -0.11903734735155297,
          -0.07039741128282113
         ],
         "z": [
          0.1429000049829483,
          0.14290000498294833,
          -2.7755575615628914e-17,
          0,
          0.1429000049829483,
          0.14290000498294833,
          -2.7755575615628914e-17,
          0
         ]
        },
        {
         "color": "gray",
         "delaunayaxis": "z",
         "opacity": 0.5,
         "type": "mesh3d",
         "x": [
          -1,
          1,
          1,
          -1
         ],
         "y": [
          -1,
          -1,
          1,
          1
         ],
         "z": [
          0,
          0,
          0,
          0
         ]
        },
        {
         "color": "blue",
         "delaunayaxis": "z",
         "flatshading": true,
         "i": [
          0,
          1,
          4,
          5,
          2,
          3,
          0,
          5,
          1,
          1,
          0,
          2
         ],
         "j": [
          1,
          2,
          5,
          6,
          3,
          6,
          1,
          1,
          5,
          3,
          4,
          4
         ],
         "k": [
          2,
          3,
          6,
          7,
          6,
          7,
          4,
          4,
          7,
          7,
          6,
          6
         ],
         "opacity": 0.05,
         "type": "mesh3d",
         "x": [
          0.4234841912007213,
          0.44204221592153353,
          0.4234841912007213,
          0.44204221592153353,
          0.5083191172883512,
          0.5268771420091634,
          0.5083191172883512,
          0.5268771420091635
         ],
         "y": [
          -0.08666952817313521,
          -0.03802959210440337,
          -0.08666952817313517,
          -0.03802959210440333,
          -0.11903734735155302,
          -0.07039741128282118,
          -0.11903734735155297,
          -0.07039741128282113
         ],
         "z": [
          0.1429000049829483,
          0.14290000498294833,
          -2.7755575615628914e-17,
          0,
          0.1429000049829483,
          0.14290000498294833,
          -2.7755575615628914e-17,
          0
         ]
        },
        {
         "marker": {
          "color": "black",
          "colorscale": [
           [
            0,
            "#440154"
           ],
           [
            0.1111111111111111,
            "#482878"
           ],
           [
            0.2222222222222222,
            "#3e4989"
           ],
           [
            0.3333333333333333,
            "#31688e"
           ],
           [
            0.4444444444444444,
            "#26828e"
           ],
           [
            0.5555555555555556,
            "#1f9e89"
           ],
           [
            0.6666666666666666,
            "#35b779"
           ],
           [
            0.7777777777777778,
            "#6ece58"
           ],
           [
            0.8888888888888888,
            "#b5de2b"
           ],
           [
            1,
            "#fde725"
           ]
          ],
          "opacity": 0.8,
          "size": 3
         },
         "mode": "markers",
         "type": "scatter3d",
         "x": [
          0.4234841912007213,
          0.44204221592153353,
          0.4234841912007213,
          0.44204221592153353,
          0.5083191172883512,
          0.5268771420091634,
          0.5083191172883512,
          0.5268771420091635
         ],
         "y": [
          -0.08666952817313521,
          -0.03802959210440337,
          -0.08666952817313517,
          -0.03802959210440333,
          -0.11903734735155302,
          -0.07039741128282118,
          -0.11903734735155297,
          -0.07039741128282113
         ],
         "z": [
          0.1429000049829483,
          0.14290000498294833,
          -2.7755575615628914e-17,
          0,
          0.1429000049829483,
          0.14290000498294833,
          -2.7755575615628914e-17,
          0
         ]
        },
        {
         "color": "blue",
         "delaunayaxis": "z",
         "flatshading": true,
         "i": [
          0,
          1,
          4,
          5,
          2,
          3,
          0,
          5,
          1,
          1,
          0,
          2
         ],
         "j": [
          1,
          2,
          5,
          6,
          3,
          6,
          1,
          1,
          5,
          3,
          4,
          4
         ],
         "k": [
          2,
          3,
          6,
          7,
          6,
          7,
          4,
          4,
          7,
          7,
          6,
          6
         ],
         "opacity": 0.05,
         "type": "mesh3d",
         "x": [
          0.4234841912007213,
          0.44204221592153353,
          0.4234841912007213,
          0.44204221592153353,
          0.5083191172883512,
          0.5268771420091634,
          0.5083191172883512,
          0.5268771420091635
         ],
         "y": [
          -0.08666952817313521,
          -0.03802959210440337,
          -0.08666952817313517,
          -0.03802959210440333,
          -0.11903734735155302,
          -0.07039741128282118,
          -0.11903734735155297,
          -0.07039741128282113
         ],
         "z": [
          0.1429000049829483,
          0.14290000498294833,
          -2.7755575615628914e-17,
          0,
          0.1429000049829483,
          0.14290000498294833,
          -2.7755575615628914e-17,
          0
         ]
        },
        {
         "marker": {
          "color": "black",
          "colorscale": [
           [
            0,
            "#440154"
           ],
           [
            0.1111111111111111,
            "#482878"
           ],
           [
            0.2222222222222222,
            "#3e4989"
           ],
           [
            0.3333333333333333,
            "#31688e"
           ],
           [
            0.4444444444444444,
            "#26828e"
           ],
           [
            0.5555555555555556,
            "#1f9e89"
           ],
           [
            0.6666666666666666,
            "#35b779"
           ],
           [
            0.7777777777777778,
            "#6ece58"
           ],
           [
            0.8888888888888888,
            "#b5de2b"
           ],
           [
            1,
            "#fde725"
           ]
          ],
          "opacity": 0.8,
          "size": 3
         },
         "mode": "markers",
         "type": "scatter3d",
         "x": [
          0.4234841912007213,
          0.44204221592153353,
          0.4234841912007213,
          0.44204221592153353,
          0.5083191172883512,
          0.5268771420091634,
          0.5083191172883512,
          0.5268771420091635
         ],
         "y": [
          -0.08666952817313521,
          -0.03802959210440337,
          -0.08666952817313517,
          -0.03802959210440333,
          -0.11903734735155302,
          -0.07039741128282118,
          -0.11903734735155297,
          -0.07039741128282113
         ],
         "z": [
          0.1429000049829483,
          0.14290000498294833,
          -2.7755575615628914e-17,
          0,
          0.1429000049829483,
          0.14290000498294833,
          -2.7755575615628914e-17,
          0
         ]
        },
        {
         "color": "blue",
         "delaunayaxis": "z",
         "flatshading": true,
         "i": [
          0,
          1,
          4,
          5,
          2,
          3,
          0,
          5,
          1,
          1,
          0,
          2
         ],
         "j": [
          1,
          2,
          5,
          6,
          3,
          6,
          1,
          1,
          5,
          3,
          4,
          4
         ],
         "k": [
          2,
          3,
          6,
          7,
          6,
          7,
          4,
          4,
          7,
          7,
          6,
          6
         ],
         "opacity": 0.05,
         "type": "mesh3d",
         "x": [
          0.4234841912007213,
          0.44204221592153353,
          0.4234841912007213,
          0.44204221592153353,
          0.5083191172883512,
          0.5268771420091634,
          0.5083191172883512,
          0.5268771420091635
         ],
         "y": [
          -0.08666952817313521,
          -0.03802959210440337,
          -0.08666952817313517,
          -0.03802959210440333,
          -0.11903734735155302,
          -0.07039741128282118,
          -0.11903734735155297,
          -0.07039741128282113
         ],
         "z": [
          0.1429000049829483,
          0.14290000498294833,
          -2.7755575615628914e-17,
          0,
          0.1429000049829483,
          0.14290000498294833,
          -2.7755575615628914e-17,
          0
         ]
        },
        {
         "marker": {
          "color": "black",
          "colorscale": [
           [
            0,
            "#440154"
           ],
           [
            0.1111111111111111,
            "#482878"
           ],
           [
            0.2222222222222222,
            "#3e4989"
           ],
           [
            0.3333333333333333,
            "#31688e"
           ],
           [
            0.4444444444444444,
            "#26828e"
           ],
           [
            0.5555555555555556,
            "#1f9e89"
           ],
           [
            0.6666666666666666,
            "#35b779"
           ],
           [
            0.7777777777777778,
            "#6ece58"
           ],
           [
            0.8888888888888888,
            "#b5de2b"
           ],
           [
            1,
            "#fde725"
           ]
          ],
          "opacity": 0.8,
          "size": 3
         },
         "mode": "markers",
         "type": "scatter3d",
         "x": [
          0.4234841912007213,
          0.44204221592153353,
          0.4234841912007213,
          0.44204221592153353,
          0.5083191172883512,
          0.5268771420091634,
          0.5083191172883512,
          0.5268771420091635
         ],
         "y": [
          -0.08666952817313521,
          -0.03802959210440337,
          -0.08666952817313517,
          -0.03802959210440333,
          -0.11903734735155302,
          -0.07039741128282118,
          -0.11903734735155297,
          -0.07039741128282113
         ],
         "z": [
          0.1429000049829483,
          0.14290000498294833,
          -2.7755575615628914e-17,
          0,
          0.1429000049829483,
          0.14290000498294833,
          -2.7755575615628914e-17,
          0
         ]
        },
        {
         "color": "blue",
         "delaunayaxis": "z",
         "flatshading": true,
         "i": [
          0,
          1,
          4,
          5,
          2,
          3,
          0,
          5,
          1,
          1,
          0,
          2
         ],
         "j": [
          1,
          2,
          5,
          6,
          3,
          6,
          1,
          1,
          5,
          3,
          4,
          4
         ],
         "k": [
          2,
          3,
          6,
          7,
          6,
          7,
          4,
          4,
          7,
          7,
          6,
          6
         ],
         "opacity": 0.05,
         "type": "mesh3d",
         "x": [
          0.4234841912007213,
          0.44204221592153353,
          0.4234841912007213,
          0.44204221592153353,
          0.5083191172883512,
          0.5268771420091634,
          0.5083191172883512,
          0.5268771420091635
         ],
         "y": [
          -0.08666952817313521,
          -0.03802959210440337,
          -0.08666952817313517,
          -0.03802959210440333,
          -0.11903734735155302,
          -0.07039741128282118,
          -0.11903734735155297,
          -0.07039741128282113
         ],
         "z": [
          0.1429000049829483,
          0.14290000498294833,
          -2.7755575615628914e-17,
          0,
          0.1429000049829483,
          0.14290000498294833,
          -2.7755575615628914e-17,
          0
         ]
        },
        {
         "marker": {
          "color": "black",
          "colorscale": [
           [
            0,
            "#440154"
           ],
           [
            0.1111111111111111,
            "#482878"
           ],
           [
            0.2222222222222222,
            "#3e4989"
           ],
           [
            0.3333333333333333,
            "#31688e"
           ],
           [
            0.4444444444444444,
            "#26828e"
           ],
           [
            0.5555555555555556,
            "#1f9e89"
           ],
           [
            0.6666666666666666,
            "#35b779"
           ],
           [
            0.7777777777777778,
            "#6ece58"
           ],
           [
            0.8888888888888888,
            "#b5de2b"
           ],
           [
            1,
            "#fde725"
           ]
          ],
          "opacity": 0.8,
          "size": 3
         },
         "mode": "markers",
         "type": "scatter3d",
         "x": [
          0.4234841912007213,
          0.44204221592153353,
          0.4234841912007213,
          0.44204221592153353,
          0.5083191172883512,
          0.5268771420091634,
          0.5083191172883512,
          0.5268771420091635
         ],
         "y": [
          -0.08666952817313521,
          -0.03802959210440337,
          -0.08666952817313517,
          -0.03802959210440333,
          -0.11903734735155302,
          -0.07039741128282118,
          -0.11903734735155297,
          -0.07039741128282113
         ],
         "z": [
          0.1429000049829483,
          0.14290000498294833,
          -2.7755575615628914e-17,
          0,
          0.1429000049829483,
          0.14290000498294833,
          -2.7755575615628914e-17,
          0
         ]
        },
        {
         "color": "blue",
         "delaunayaxis": "z",
         "flatshading": true,
         "i": [
          0,
          1,
          4,
          5,
          2,
          3,
          0,
          5,
          1,
          1,
          0,
          2
         ],
         "j": [
          1,
          2,
          5,
          6,
          3,
          6,
          1,
          1,
          5,
          3,
          4,
          4
         ],
         "k": [
          2,
          3,
          6,
          7,
          6,
          7,
          4,
          4,
          7,
          7,
          6,
          6
         ],
         "opacity": 0.05,
         "type": "mesh3d",
         "x": [
          0.4234841912007213,
          0.44204221592153353,
          0.4234841912007213,
          0.44204221592153353,
          0.5083191172883512,
          0.5268771420091634,
          0.5083191172883512,
          0.5268771420091635
         ],
         "y": [
          -0.08666952817313521,
          -0.03802959210440337,
          -0.08666952817313517,
          -0.03802959210440333,
          -0.11903734735155302,
          -0.07039741128282118,
          -0.11903734735155297,
          -0.07039741128282113
         ],
         "z": [
          0.1429000049829483,
          0.14290000498294833,
          -2.7755575615628914e-17,
          0,
          0.1429000049829483,
          0.14290000498294833,
          -2.7755575615628914e-17,
          0
         ]
        },
        {
         "marker": {
          "color": "black",
          "colorscale": [
           [
            0,
            "#440154"
           ],
           [
            0.1111111111111111,
            "#482878"
           ],
           [
            0.2222222222222222,
            "#3e4989"
           ],
           [
            0.3333333333333333,
            "#31688e"
           ],
           [
            0.4444444444444444,
            "#26828e"
           ],
           [
            0.5555555555555556,
            "#1f9e89"
           ],
           [
            0.6666666666666666,
            "#35b779"
           ],
           [
            0.7777777777777778,
            "#6ece58"
           ],
           [
            0.8888888888888888,
            "#b5de2b"
           ],
           [
            1,
            "#fde725"
           ]
          ],
          "opacity": 0.8,
          "size": 3
         },
         "mode": "markers",
         "type": "scatter3d",
         "x": [
          0.4234841912007213,
          0.44204221592153353,
          0.4234841912007213,
          0.44204221592153353,
          0.5083191172883512,
          0.5268771420091634,
          0.5083191172883512,
          0.5268771420091635
         ],
         "y": [
          -0.08666952817313521,
          -0.03802959210440337,
          -0.08666952817313517,
          -0.03802959210440333,
          -0.11903734735155302,
          -0.07039741128282118,
          -0.11903734735155297,
          -0.07039741128282113
         ],
         "z": [
          0.1429000049829483,
          0.14290000498294833,
          -2.7755575615628914e-17,
          0,
          0.1429000049829483,
          0.14290000498294833,
          -2.7755575615628914e-17,
          0
         ]
        },
        {
         "color": "blue",
         "delaunayaxis": "z",
         "flatshading": true,
         "i": [
          0,
          1,
          4,
          5,
          2,
          3,
          0,
          5,
          1,
          1,
          0,
          2
         ],
         "j": [
          1,
          2,
          5,
          6,
          3,
          6,
          1,
          1,
          5,
          3,
          4,
          4
         ],
         "k": [
          2,
          3,
          6,
          7,
          6,
          7,
          4,
          4,
          7,
          7,
          6,
          6
         ],
         "opacity": 0.05,
         "type": "mesh3d",
         "x": [
          0.4234841912007213,
          0.44204221592153353,
          0.4234841912007213,
          0.44204221592153353,
          0.5083191172883512,
          0.5268771420091634,
          0.5083191172883512,
          0.5268771420091635
         ],
         "y": [
          -0.08666952817313521,
          -0.03802959210440337,
          -0.08666952817313517,
          -0.03802959210440333,
          -0.11903734735155302,
          -0.07039741128282118,
          -0.11903734735155297,
          -0.07039741128282113
         ],
         "z": [
          0.1429000049829483,
          0.14290000498294833,
          -2.7755575615628914e-17,
          0,
          0.1429000049829483,
          0.14290000498294833,
          -2.7755575615628914e-17,
          0
         ]
        },
        {
         "marker": {
          "color": "black",
          "colorscale": [
           [
            0,
            "#440154"
           ],
           [
            0.1111111111111111,
            "#482878"
           ],
           [
            0.2222222222222222,
            "#3e4989"
           ],
           [
            0.3333333333333333,
            "#31688e"
           ],
           [
            0.4444444444444444,
            "#26828e"
           ],
           [
            0.5555555555555556,
            "#1f9e89"
           ],
           [
            0.6666666666666666,
            "#35b779"
           ],
           [
            0.7777777777777778,
            "#6ece58"
           ],
           [
            0.8888888888888888,
            "#b5de2b"
           ],
           [
            1,
            "#fde725"
           ]
          ],
          "opacity": 0.8,
          "size": 3
         },
         "mode": "markers",
         "type": "scatter3d",
         "x": [
          0.4234841912007213,
          0.44204221592153353,
          0.4234841912007213,
          0.44204221592153353,
          0.5083191172883512,
          0.5268771420091634,
          0.5083191172883512,
          0.5268771420091635
         ],
         "y": [
          -0.08666952817313521,
          -0.03802959210440337,
          -0.08666952817313517,
          -0.03802959210440333,
          -0.11903734735155302,
          -0.07039741128282118,
          -0.11903734735155297,
          -0.07039741128282113
         ],
         "z": [
          0.1429000049829483,
          0.14290000498294833,
          -2.7755575615628914e-17,
          0,
          0.1429000049829483,
          0.14290000498294833,
          -2.7755575615628914e-17,
          0
         ]
        },
        {
         "color": "blue",
         "delaunayaxis": "z",
         "flatshading": true,
         "i": [
          0,
          1,
          4,
          5,
          2,
          3,
          0,
          5,
          1,
          1,
          0,
          2
         ],
         "j": [
          1,
          2,
          5,
          6,
          3,
          6,
          1,
          1,
          5,
          3,
          4,
          4
         ],
         "k": [
          2,
          3,
          6,
          7,
          6,
          7,
          4,
          4,
          7,
          7,
          6,
          6
         ],
         "opacity": 0.05,
         "type": "mesh3d",
         "x": [
          0.4234841912007213,
          0.44204221592153353,
          0.4234841912007213,
          0.44204221592153353,
          0.5083191172883512,
          0.5268771420091634,
          0.5083191172883512,
          0.5268771420091635
         ],
         "y": [
          -0.08666952817313521,
          -0.03802959210440337,
          -0.08666952817313517,
          -0.03802959210440333,
          -0.11903734735155302,
          -0.07039741128282118,
          -0.11903734735155297,
          -0.07039741128282113
         ],
         "z": [
          0.1429000049829483,
          0.14290000498294833,
          -2.7755575615628914e-17,
          0,
          0.1429000049829483,
          0.14290000498294833,
          -2.7755575615628914e-17,
          0
         ]
        },
        {
         "marker": {
          "color": "black",
          "colorscale": [
           [
            0,
            "#440154"
           ],
           [
            0.1111111111111111,
            "#482878"
           ],
           [
            0.2222222222222222,
            "#3e4989"
           ],
           [
            0.3333333333333333,
            "#31688e"
           ],
           [
            0.4444444444444444,
            "#26828e"
           ],
           [
            0.5555555555555556,
            "#1f9e89"
           ],
           [
            0.6666666666666666,
            "#35b779"
           ],
           [
            0.7777777777777778,
            "#6ece58"
           ],
           [
            0.8888888888888888,
            "#b5de2b"
           ],
           [
            1,
            "#fde725"
           ]
          ],
          "opacity": 0.8,
          "size": 3
         },
         "mode": "markers",
         "type": "scatter3d",
         "x": [
          0.4234841912007213,
          0.44204221592153353,
          0.4234841912007213,
          0.44204221592153353,
          0.5083191172883512,
          0.5268771420091634,
          0.5083191172883512,
          0.5268771420091635
         ],
         "y": [
          -0.08666952817313521,
          -0.03802959210440337,
          -0.08666952817313517,
          -0.03802959210440333,
          -0.11903734735155302,
          -0.07039741128282118,
          -0.11903734735155297,
          -0.07039741128282113
         ],
         "z": [
          0.1429000049829483,
          0.14290000498294833,
          -2.7755575615628914e-17,
          0,
          0.1429000049829483,
          0.14290000498294833,
          -2.7755575615628914e-17,
          0
         ]
        },
        {
         "color": "blue",
         "delaunayaxis": "z",
         "flatshading": true,
         "i": [
          0,
          1,
          4,
          5,
          2,
          3,
          0,
          5,
          1,
          1,
          0,
          2
         ],
         "j": [
          1,
          2,
          5,
          6,
          3,
          6,
          1,
          1,
          5,
          3,
          4,
          4
         ],
         "k": [
          2,
          3,
          6,
          7,
          6,
          7,
          4,
          4,
          7,
          7,
          6,
          6
         ],
         "opacity": 0.05,
         "type": "mesh3d",
         "x": [
          0.4234841912007213,
          0.44204221592153353,
          0.4234841912007213,
          0.44204221592153353,
          0.5083191172883512,
          0.5268771420091634,
          0.5083191172883512,
          0.5268771420091635
         ],
         "y": [
          -0.08666952817313521,
          -0.03802959210440337,
          -0.08666952817313517,
          -0.03802959210440333,
          -0.11903734735155302,
          -0.07039741128282118,
          -0.11903734735155297,
          -0.07039741128282113
         ],
         "z": [
          0.1429000049829483,
          0.14290000498294833,
          -2.7755575615628914e-17,
          0,
          0.1429000049829483,
          0.14290000498294833,
          -2.7755575615628914e-17,
          0
         ]
        },
        {
         "marker": {
          "color": "black",
          "colorscale": [
           [
            0,
            "#440154"
           ],
           [
            0.1111111111111111,
            "#482878"
           ],
           [
            0.2222222222222222,
            "#3e4989"
           ],
           [
            0.3333333333333333,
            "#31688e"
           ],
           [
            0.4444444444444444,
            "#26828e"
           ],
           [
            0.5555555555555556,
            "#1f9e89"
           ],
           [
            0.6666666666666666,
            "#35b779"
           ],
           [
            0.7777777777777778,
            "#6ece58"
           ],
           [
            0.8888888888888888,
            "#b5de2b"
           ],
           [
            1,
            "#fde725"
           ]
          ],
          "opacity": 0.8,
          "size": 3
         },
         "mode": "markers",
         "type": "scatter3d",
         "x": [
          0.4234841912007213,
          0.44204221592153353,
          0.4234841912007213,
          0.44204221592153353,
          0.5083191172883512,
          0.5268771420091634,
          0.5083191172883512,
          0.5268771420091635
         ],
         "y": [
          -0.08666952817313521,
          -0.03802959210440337,
          -0.08666952817313517,
          -0.03802959210440333,
          -0.11903734735155302,
          -0.07039741128282118,
          -0.11903734735155297,
          -0.07039741128282113
         ],
         "z": [
          0.1429000049829483,
          0.14290000498294833,
          -2.7755575615628914e-17,
          0,
          0.1429000049829483,
          0.14290000498294833,
          -2.7755575615628914e-17,
          0
         ]
        },
        {
         "color": "blue",
         "delaunayaxis": "z",
         "flatshading": true,
         "i": [
          0,
          1,
          4,
          5,
          2,
          3,
          0,
          5,
          1,
          1,
          0,
          2
         ],
         "j": [
          1,
          2,
          5,
          6,
          3,
          6,
          1,
          1,
          5,
          3,
          4,
          4
         ],
         "k": [
          2,
          3,
          6,
          7,
          6,
          7,
          4,
          4,
          7,
          7,
          6,
          6
         ],
         "opacity": 0.05,
         "type": "mesh3d",
         "x": [
          0.4234841912007213,
          0.44204221592153353,
          0.4234841912007213,
          0.44204221592153353,
          0.5083191172883512,
          0.5268771420091634,
          0.5083191172883512,
          0.5268771420091635
         ],
         "y": [
          -0.08666952817313521,
          -0.03802959210440337,
          -0.08666952817313517,
          -0.03802959210440333,
          -0.11903734735155302,
          -0.07039741128282118,
          -0.11903734735155297,
          -0.07039741128282113
         ],
         "z": [
          0.1429000049829483,
          0.14290000498294833,
          -2.7755575615628914e-17,
          0,
          0.1429000049829483,
          0.14290000498294833,
          -2.7755575615628914e-17,
          0
         ]
        },
        {
         "marker": {
          "color": "black",
          "colorscale": [
           [
            0,
            "#440154"
           ],
           [
            0.1111111111111111,
            "#482878"
           ],
           [
            0.2222222222222222,
            "#3e4989"
           ],
           [
            0.3333333333333333,
            "#31688e"
           ],
           [
            0.4444444444444444,
            "#26828e"
           ],
           [
            0.5555555555555556,
            "#1f9e89"
           ],
           [
            0.6666666666666666,
            "#35b779"
           ],
           [
            0.7777777777777778,
            "#6ece58"
           ],
           [
            0.8888888888888888,
            "#b5de2b"
           ],
           [
            1,
            "#fde725"
           ]
          ],
          "opacity": 0.8,
          "size": 3
         },
         "mode": "markers",
         "type": "scatter3d",
         "x": [
          0.4234841912007213,
          0.44204221592153353,
          0.4234841912007213,
          0.44204221592153353,
          0.5083191172883512,
          0.5268771420091634,
          0.5083191172883512,
          0.5268771420091635
         ],
         "y": [
          -0.08666952817313521,
          -0.03802959210440337,
          -0.08666952817313517,
          -0.03802959210440333,
          -0.11903734735155302,
          -0.07039741128282118,
          -0.11903734735155297,
          -0.07039741128282113
         ],
         "z": [
          0.1429000049829483,
          0.14290000498294833,
          -2.7755575615628914e-17,
          0,
          0.1429000049829483,
          0.14290000498294833,
          -2.7755575615628914e-17,
          0
         ]
        },
        {
         "color": "blue",
         "delaunayaxis": "z",
         "flatshading": true,
         "i": [
          0,
          1,
          4,
          5,
          2,
          3,
          0,
          5,
          1,
          1,
          0,
          2
         ],
         "j": [
          1,
          2,
          5,
          6,
          3,
          6,
          1,
          1,
          5,
          3,
          4,
          4
         ],
         "k": [
          2,
          3,
          6,
          7,
          6,
          7,
          4,
          4,
          7,
          7,
          6,
          6
         ],
         "opacity": 0.05,
         "type": "mesh3d",
         "x": [
          0.4234841912007213,
          0.44204221592153353,
          0.4234841912007213,
          0.44204221592153353,
          0.5083191172883512,
          0.5268771420091634,
          0.5083191172883512,
          0.5268771420091635
         ],
         "y": [
          -0.08666952817313521,
          -0.03802959210440337,
          -0.08666952817313517,
          -0.03802959210440333,
          -0.11903734735155302,
          -0.07039741128282118,
          -0.11903734735155297,
          -0.07039741128282113
         ],
         "z": [
          0.1429000049829483,
          0.14290000498294833,
          -2.7755575615628914e-17,
          0,
          0.1429000049829483,
          0.14290000498294833,
          -2.7755575615628914e-17,
          0
         ]
        },
        {
         "marker": {
          "color": "black",
          "colorscale": [
           [
            0,
            "#440154"
           ],
           [
            0.1111111111111111,
            "#482878"
           ],
           [
            0.2222222222222222,
            "#3e4989"
           ],
           [
            0.3333333333333333,
            "#31688e"
           ],
           [
            0.4444444444444444,
            "#26828e"
           ],
           [
            0.5555555555555556,
            "#1f9e89"
           ],
           [
            0.6666666666666666,
            "#35b779"
           ],
           [
            0.7777777777777778,
            "#6ece58"
           ],
           [
            0.8888888888888888,
            "#b5de2b"
           ],
           [
            1,
            "#fde725"
           ]
          ],
          "opacity": 0.8,
          "size": 3
         },
         "mode": "markers",
         "type": "scatter3d",
         "x": [
          0.4234841912007213,
          0.44204221592153353,
          0.4234841912007213,
          0.44204221592153353,
          0.5083191172883512,
          0.5268771420091634,
          0.5083191172883512,
          0.5268771420091635
         ],
         "y": [
          -0.08666952817313521,
          -0.03802959210440337,
          -0.08666952817313517,
          -0.03802959210440333,
          -0.11903734735155302,
          -0.07039741128282118,
          -0.11903734735155297,
          -0.07039741128282113
         ],
         "z": [
          0.1429000049829483,
          0.14290000498294833,
          -2.7755575615628914e-17,
          0,
          0.1429000049829483,
          0.14290000498294833,
          -2.7755575615628914e-17,
          0
         ]
        },
        {
         "color": "blue",
         "delaunayaxis": "z",
         "flatshading": true,
         "i": [
          0,
          1,
          4,
          5,
          2,
          3,
          0,
          5,
          1,
          1,
          0,
          2
         ],
         "j": [
          1,
          2,
          5,
          6,
          3,
          6,
          1,
          1,
          5,
          3,
          4,
          4
         ],
         "k": [
          2,
          3,
          6,
          7,
          6,
          7,
          4,
          4,
          7,
          7,
          6,
          6
         ],
         "opacity": 0.05,
         "type": "mesh3d",
         "x": [
          0.4234841912007213,
          0.44204221592153353,
          0.4234841912007213,
          0.44204221592153353,
          0.5083191172883512,
          0.5268771420091634,
          0.5083191172883512,
          0.5268771420091635
         ],
         "y": [
          -0.08666952817313521,
          -0.03802959210440337,
          -0.08666952817313517,
          -0.03802959210440333,
          -0.11903734735155302,
          -0.07039741128282118,
          -0.11903734735155297,
          -0.07039741128282113
         ],
         "z": [
          0.1429000049829483,
          0.14290000498294833,
          -2.7755575615628914e-17,
          0,
          0.1429000049829483,
          0.14290000498294833,
          -2.7755575615628914e-17,
          0
         ]
        },
        {
         "marker": {
          "color": "black",
          "colorscale": [
           [
            0,
            "#440154"
           ],
           [
            0.1111111111111111,
            "#482878"
           ],
           [
            0.2222222222222222,
            "#3e4989"
           ],
           [
            0.3333333333333333,
            "#31688e"
           ],
           [
            0.4444444444444444,
            "#26828e"
           ],
           [
            0.5555555555555556,
            "#1f9e89"
           ],
           [
            0.6666666666666666,
            "#35b779"
           ],
           [
            0.7777777777777778,
            "#6ece58"
           ],
           [
            0.8888888888888888,
            "#b5de2b"
           ],
           [
            1,
            "#fde725"
           ]
          ],
          "opacity": 0.8,
          "size": 3
         },
         "mode": "markers",
         "type": "scatter3d",
         "x": [
          0.4234841912007213,
          0.44204221592153353,
          0.4234841912007213,
          0.44204221592153353,
          0.5083191172883512,
          0.5268771420091634,
          0.5083191172883512,
          0.5268771420091635
         ],
         "y": [
          -0.08666952817313521,
          -0.03802959210440337,
          -0.08666952817313517,
          -0.03802959210440333,
          -0.11903734735155302,
          -0.07039741128282118,
          -0.11903734735155297,
          -0.07039741128282113
         ],
         "z": [
          0.1429000049829483,
          0.14290000498294833,
          -2.7755575615628914e-17,
          0,
          0.1429000049829483,
          0.14290000498294833,
          -2.7755575615628914e-17,
          0
         ]
        },
        {
         "color": "blue",
         "delaunayaxis": "z",
         "flatshading": true,
         "i": [
          0,
          1,
          4,
          5,
          2,
          3,
          0,
          5,
          1,
          1,
          0,
          2
         ],
         "j": [
          1,
          2,
          5,
          6,
          3,
          6,
          1,
          1,
          5,
          3,
          4,
          4
         ],
         "k": [
          2,
          3,
          6,
          7,
          6,
          7,
          4,
          4,
          7,
          7,
          6,
          6
         ],
         "opacity": 0.05,
         "type": "mesh3d",
         "x": [
          0.4234841912007213,
          0.44204221592153353,
          0.4234841912007213,
          0.44204221592153353,
          0.5083191172883512,
          0.5268771420091634,
          0.5083191172883512,
          0.5268771420091635
         ],
         "y": [
          -0.08666952817313521,
          -0.03802959210440337,
          -0.08666952817313517,
          -0.03802959210440333,
          -0.11903734735155302,
          -0.07039741128282118,
          -0.11903734735155297,
          -0.07039741128282113
         ],
         "z": [
          0.1429000049829483,
          0.14290000498294833,
          -2.7755575615628914e-17,
          0,
          0.1429000049829483,
          0.14290000498294833,
          -2.7755575615628914e-17,
          0
         ]
        },
        {
         "marker": {
          "color": "black",
          "colorscale": [
           [
            0,
            "#440154"
           ],
           [
            0.1111111111111111,
            "#482878"
           ],
           [
            0.2222222222222222,
            "#3e4989"
           ],
           [
            0.3333333333333333,
            "#31688e"
           ],
           [
            0.4444444444444444,
            "#26828e"
           ],
           [
            0.5555555555555556,
            "#1f9e89"
           ],
           [
            0.6666666666666666,
            "#35b779"
           ],
           [
            0.7777777777777778,
            "#6ece58"
           ],
           [
            0.8888888888888888,
            "#b5de2b"
           ],
           [
            1,
            "#fde725"
           ]
          ],
          "opacity": 0.8,
          "size": 3
         },
         "mode": "markers",
         "type": "scatter3d",
         "x": [
          0.4234841912007213,
          0.44204221592153353,
          0.4234841912007213,
          0.44204221592153353,
          0.5083191172883512,
          0.5268771420091634,
          0.5083191172883512,
          0.5268771420091635
         ],
         "y": [
          -0.08666952817313521,
          -0.03802959210440337,
          -0.08666952817313517,
          -0.03802959210440333,
          -0.11903734735155302,
          -0.07039741128282118,
          -0.11903734735155297,
          -0.07039741128282113
         ],
         "z": [
          0.1429000049829483,
          0.14290000498294833,
          -2.7755575615628914e-17,
          0,
          0.1429000049829483,
          0.14290000498294833,
          -2.7755575615628914e-17,
          0
         ]
        },
        {
         "color": "blue",
         "delaunayaxis": "z",
         "flatshading": true,
         "i": [
          0,
          1,
          4,
          5,
          2,
          3,
          0,
          5,
          1,
          1,
          0,
          2
         ],
         "j": [
          1,
          2,
          5,
          6,
          3,
          6,
          1,
          1,
          5,
          3,
          4,
          4
         ],
         "k": [
          2,
          3,
          6,
          7,
          6,
          7,
          4,
          4,
          7,
          7,
          6,
          6
         ],
         "opacity": 0.05,
         "type": "mesh3d",
         "x": [
          0.4234841912007213,
          0.44204221592153353,
          0.4234841912007213,
          0.44204221592153353,
          0.5083191172883512,
          0.5268771420091634,
          0.5083191172883512,
          0.5268771420091635
         ],
         "y": [
          -0.08666952817313521,
          -0.03802959210440337,
          -0.08666952817313517,
          -0.03802959210440333,
          -0.11903734735155302,
          -0.07039741128282118,
          -0.11903734735155297,
          -0.07039741128282113
         ],
         "z": [
          0.1429000049829483,
          0.14290000498294833,
          -2.7755575615628914e-17,
          0,
          0.1429000049829483,
          0.14290000498294833,
          -2.7755575615628914e-17,
          0
         ]
        },
        {
         "marker": {
          "color": "black",
          "colorscale": [
           [
            0,
            "#440154"
           ],
           [
            0.1111111111111111,
            "#482878"
           ],
           [
            0.2222222222222222,
            "#3e4989"
           ],
           [
            0.3333333333333333,
            "#31688e"
           ],
           [
            0.4444444444444444,
            "#26828e"
           ],
           [
            0.5555555555555556,
            "#1f9e89"
           ],
           [
            0.6666666666666666,
            "#35b779"
           ],
           [
            0.7777777777777778,
            "#6ece58"
           ],
           [
            0.8888888888888888,
            "#b5de2b"
           ],
           [
            1,
            "#fde725"
           ]
          ],
          "opacity": 0.8,
          "size": 3
         },
         "mode": "markers",
         "type": "scatter3d",
         "x": [
          0.4234841912007213,
          0.44204221592153353,
          0.4234841912007213,
          0.44204221592153353,
          0.5083191172883512,
          0.5268771420091634,
          0.5083191172883512,
          0.5268771420091635
         ],
         "y": [
          -0.08666952817313521,
          -0.03802959210440337,
          -0.08666952817313517,
          -0.03802959210440333,
          -0.11903734735155302,
          -0.07039741128282118,
          -0.11903734735155297,
          -0.07039741128282113
         ],
         "z": [
          0.1429000049829483,
          0.14290000498294833,
          -2.7755575615628914e-17,
          0,
          0.1429000049829483,
          0.14290000498294833,
          -2.7755575615628914e-17,
          0
         ]
        },
        {
         "color": "blue",
         "delaunayaxis": "z",
         "flatshading": true,
         "i": [
          0,
          1,
          4,
          5,
          2,
          3,
          0,
          5,
          1,
          1,
          0,
          2
         ],
         "j": [
          1,
          2,
          5,
          6,
          3,
          6,
          1,
          1,
          5,
          3,
          4,
          4
         ],
         "k": [
          2,
          3,
          6,
          7,
          6,
          7,
          4,
          4,
          7,
          7,
          6,
          6
         ],
         "opacity": 0.05,
         "type": "mesh3d",
         "x": [
          0.4234841912007213,
          0.44204221592153353,
          0.4234841912007213,
          0.44204221592153353,
          0.5083191172883512,
          0.5268771420091634,
          0.5083191172883512,
          0.5268771420091635
         ],
         "y": [
          -0.08666952817313521,
          -0.03802959210440337,
          -0.08666952817313517,
          -0.03802959210440333,
          -0.11903734735155302,
          -0.07039741128282118,
          -0.11903734735155297,
          -0.07039741128282113
         ],
         "z": [
          0.1429000049829483,
          0.14290000498294833,
          -2.7755575615628914e-17,
          0,
          0.1429000049829483,
          0.14290000498294833,
          -2.7755575615628914e-17,
          0
         ]
        },
        {
         "marker": {
          "color": "black",
          "colorscale": [
           [
            0,
            "#440154"
           ],
           [
            0.1111111111111111,
            "#482878"
           ],
           [
            0.2222222222222222,
            "#3e4989"
           ],
           [
            0.3333333333333333,
            "#31688e"
           ],
           [
            0.4444444444444444,
            "#26828e"
           ],
           [
            0.5555555555555556,
            "#1f9e89"
           ],
           [
            0.6666666666666666,
            "#35b779"
           ],
           [
            0.7777777777777778,
            "#6ece58"
           ],
           [
            0.8888888888888888,
            "#b5de2b"
           ],
           [
            1,
            "#fde725"
           ]
          ],
          "opacity": 0.8,
          "size": 3
         },
         "mode": "markers",
         "type": "scatter3d",
         "x": [
          0.4234841912007213,
          0.44204221592153353,
          0.4234841912007213,
          0.44204221592153353,
          0.5083191172883512,
          0.5268771420091634,
          0.5083191172883512,
          0.5268771420091635
         ],
         "y": [
          -0.08666952817313521,
          -0.03802959210440337,
          -0.08666952817313517,
          -0.03802959210440333,
          -0.11903734735155302,
          -0.07039741128282118,
          -0.11903734735155297,
          -0.07039741128282113
         ],
         "z": [
          0.1429000049829483,
          0.14290000498294833,
          -2.7755575615628914e-17,
          0,
          0.1429000049829483,
          0.14290000498294833,
          -2.7755575615628914e-17,
          0
         ]
        },
        {
         "color": "blue",
         "delaunayaxis": "z",
         "flatshading": true,
         "i": [
          0,
          1,
          4,
          5,
          2,
          3,
          0,
          5,
          1,
          1,
          0,
          2
         ],
         "j": [
          1,
          2,
          5,
          6,
          3,
          6,
          1,
          1,
          5,
          3,
          4,
          4
         ],
         "k": [
          2,
          3,
          6,
          7,
          6,
          7,
          4,
          4,
          7,
          7,
          6,
          6
         ],
         "opacity": 0.05,
         "type": "mesh3d",
         "x": [
          0.4234841912007213,
          0.44204221592153353,
          0.4234841912007213,
          0.44204221592153353,
          0.5083191172883512,
          0.5268771420091634,
          0.5083191172883512,
          0.5268771420091635
         ],
         "y": [
          -0.08666952817313521,
          -0.03802959210440337,
          -0.08666952817313517,
          -0.03802959210440333,
          -0.11903734735155302,
          -0.07039741128282118,
          -0.11903734735155297,
          -0.07039741128282113
         ],
         "z": [
          0.1429000049829483,
          0.14290000498294833,
          -2.7755575615628914e-17,
          0,
          0.1429000049829483,
          0.14290000498294833,
          -2.7755575615628914e-17,
          0
         ]
        },
        {
         "marker": {
          "color": "black",
          "colorscale": [
           [
            0,
            "#440154"
           ],
           [
            0.1111111111111111,
            "#482878"
           ],
           [
            0.2222222222222222,
            "#3e4989"
           ],
           [
            0.3333333333333333,
            "#31688e"
           ],
           [
            0.4444444444444444,
            "#26828e"
           ],
           [
            0.5555555555555556,
            "#1f9e89"
           ],
           [
            0.6666666666666666,
            "#35b779"
           ],
           [
            0.7777777777777778,
            "#6ece58"
           ],
           [
            0.8888888888888888,
            "#b5de2b"
           ],
           [
            1,
            "#fde725"
           ]
          ],
          "opacity": 0.8,
          "size": 3
         },
         "mode": "markers",
         "type": "scatter3d",
         "x": [
          0.4234841912007213,
          0.44204221592153353,
          0.4234841912007213,
          0.44204221592153353,
          0.5083191172883512,
          0.5268771420091634,
          0.5083191172883512,
          0.5268771420091635
         ],
         "y": [
          -0.08666952817313521,
          -0.03802959210440337,
          -0.08666952817313517,
          -0.03802959210440333,
          -0.11903734735155302,
          -0.07039741128282118,
          -0.11903734735155297,
          -0.07039741128282113
         ],
         "z": [
          0.1429000049829483,
          0.14290000498294833,
          -2.7755575615628914e-17,
          0,
          0.1429000049829483,
          0.14290000498294833,
          -2.7755575615628914e-17,
          0
         ]
        },
        {
         "color": "blue",
         "delaunayaxis": "z",
         "flatshading": true,
         "i": [
          0,
          1,
          4,
          5,
          2,
          3,
          0,
          5,
          1,
          1,
          0,
          2
         ],
         "j": [
          1,
          2,
          5,
          6,
          3,
          6,
          1,
          1,
          5,
          3,
          4,
          4
         ],
         "k": [
          2,
          3,
          6,
          7,
          6,
          7,
          4,
          4,
          7,
          7,
          6,
          6
         ],
         "opacity": 0.05,
         "type": "mesh3d",
         "x": [
          0.4234841912007213,
          0.44204221592153353,
          0.4234841912007213,
          0.44204221592153353,
          0.5083191172883512,
          0.5268771420091634,
          0.5083191172883512,
          0.5268771420091635
         ],
         "y": [
          -0.08666952817313521,
          -0.03802959210440337,
          -0.08666952817313517,
          -0.03802959210440333,
          -0.11903734735155302,
          -0.07039741128282118,
          -0.11903734735155297,
          -0.07039741128282113
         ],
         "z": [
          0.1429000049829483,
          0.14290000498294833,
          -2.7755575615628914e-17,
          0,
          0.1429000049829483,
          0.14290000498294833,
          -2.7755575615628914e-17,
          0
         ]
        },
        {
         "marker": {
          "color": "black",
          "colorscale": [
           [
            0,
            "#440154"
           ],
           [
            0.1111111111111111,
            "#482878"
           ],
           [
            0.2222222222222222,
            "#3e4989"
           ],
           [
            0.3333333333333333,
            "#31688e"
           ],
           [
            0.4444444444444444,
            "#26828e"
           ],
           [
            0.5555555555555556,
            "#1f9e89"
           ],
           [
            0.6666666666666666,
            "#35b779"
           ],
           [
            0.7777777777777778,
            "#6ece58"
           ],
           [
            0.8888888888888888,
            "#b5de2b"
           ],
           [
            1,
            "#fde725"
           ]
          ],
          "opacity": 0.8,
          "size": 3
         },
         "mode": "markers",
         "type": "scatter3d",
         "x": [
          0.4234841912007213,
          0.44204221592153353,
          0.4234841912007213,
          0.44204221592153353,
          0.5083191172883512,
          0.5268771420091634,
          0.5083191172883512,
          0.5268771420091635
         ],
         "y": [
          -0.08666952817313521,
          -0.03802959210440337,
          -0.08666952817313517,
          -0.03802959210440333,
          -0.11903734735155302,
          -0.07039741128282118,
          -0.11903734735155297,
          -0.07039741128282113
         ],
         "z": [
          0.1429000049829483,
          0.14290000498294833,
          -2.7755575615628914e-17,
          0,
          0.1429000049829483,
          0.14290000498294833,
          -2.7755575615628914e-17,
          0
         ]
        },
        {
         "color": "blue",
         "delaunayaxis": "z",
         "flatshading": true,
         "i": [
          0,
          1,
          4,
          5,
          2,
          3,
          0,
          5,
          1,
          1,
          0,
          2
         ],
         "j": [
          1,
          2,
          5,
          6,
          3,
          6,
          1,
          1,
          5,
          3,
          4,
          4
         ],
         "k": [
          2,
          3,
          6,
          7,
          6,
          7,
          4,
          4,
          7,
          7,
          6,
          6
         ],
         "opacity": 0.05,
         "type": "mesh3d",
         "x": [
          0.4234841912007213,
          0.44204221592153353,
          0.4234841912007213,
          0.44204221592153353,
          0.5083191172883512,
          0.5268771420091634,
          0.5083191172883512,
          0.5268771420091635
         ],
         "y": [
          -0.08666952817313521,
          -0.03802959210440337,
          -0.08666952817313517,
          -0.03802959210440333,
          -0.11903734735155302,
          -0.07039741128282118,
          -0.11903734735155297,
          -0.07039741128282113
         ],
         "z": [
          0.1429000049829483,
          0.14290000498294833,
          -2.7755575615628914e-17,
          0,
          0.1429000049829483,
          0.14290000498294833,
          -2.7755575615628914e-17,
          0
         ]
        },
        {
         "marker": {
          "color": "black",
          "colorscale": [
           [
            0,
            "#440154"
           ],
           [
            0.1111111111111111,
            "#482878"
           ],
           [
            0.2222222222222222,
            "#3e4989"
           ],
           [
            0.3333333333333333,
            "#31688e"
           ],
           [
            0.4444444444444444,
            "#26828e"
           ],
           [
            0.5555555555555556,
            "#1f9e89"
           ],
           [
            0.6666666666666666,
            "#35b779"
           ],
           [
            0.7777777777777778,
            "#6ece58"
           ],
           [
            0.8888888888888888,
            "#b5de2b"
           ],
           [
            1,
            "#fde725"
           ]
          ],
          "opacity": 0.8,
          "size": 3
         },
         "mode": "markers",
         "type": "scatter3d",
         "x": [
          0.4234841912007213,
          0.44204221592153353,
          0.4234841912007213,
          0.44204221592153353,
          0.5083191172883512,
          0.5268771420091634,
          0.5083191172883512,
          0.5268771420091635
         ],
         "y": [
          -0.08666952817313521,
          -0.03802959210440337,
          -0.08666952817313517,
          -0.03802959210440333,
          -0.11903734735155302,
          -0.07039741128282118,
          -0.11903734735155297,
          -0.07039741128282113
         ],
         "z": [
          0.1429000049829483,
          0.14290000498294833,
          -2.7755575615628914e-17,
          0,
          0.1429000049829483,
          0.14290000498294833,
          -2.7755575615628914e-17,
          0
         ]
        },
        {
         "color": "blue",
         "delaunayaxis": "z",
         "flatshading": true,
         "i": [
          0,
          1,
          4,
          5,
          2,
          3,
          0,
          5,
          1,
          1,
          0,
          2
         ],
         "j": [
          1,
          2,
          5,
          6,
          3,
          6,
          1,
          1,
          5,
          3,
          4,
          4
         ],
         "k": [
          2,
          3,
          6,
          7,
          6,
          7,
          4,
          4,
          7,
          7,
          6,
          6
         ],
         "opacity": 0.05,
         "type": "mesh3d",
         "x": [
          0.4234841912007213,
          0.44204221592153353,
          0.4234841912007213,
          0.44204221592153353,
          0.5083191172883512,
          0.5268771420091634,
          0.5083191172883512,
          0.5268771420091635
         ],
         "y": [
          -0.08666952817313521,
          -0.03802959210440337,
          -0.08666952817313517,
          -0.03802959210440333,
          -0.11903734735155302,
          -0.07039741128282118,
          -0.11903734735155297,
          -0.07039741128282113
         ],
         "z": [
          0.1429000049829483,
          0.14290000498294833,
          -2.7755575615628914e-17,
          0,
          0.1429000049829483,
          0.14290000498294833,
          -2.7755575615628914e-17,
          0
         ]
        },
        {
         "marker": {
          "color": "black",
          "colorscale": [
           [
            0,
            "#440154"
           ],
           [
            0.1111111111111111,
            "#482878"
           ],
           [
            0.2222222222222222,
            "#3e4989"
           ],
           [
            0.3333333333333333,
            "#31688e"
           ],
           [
            0.4444444444444444,
            "#26828e"
           ],
           [
            0.5555555555555556,
            "#1f9e89"
           ],
           [
            0.6666666666666666,
            "#35b779"
           ],
           [
            0.7777777777777778,
            "#6ece58"
           ],
           [
            0.8888888888888888,
            "#b5de2b"
           ],
           [
            1,
            "#fde725"
           ]
          ],
          "opacity": 0.8,
          "size": 3
         },
         "mode": "markers",
         "type": "scatter3d",
         "x": [
          0.4234841912007213,
          0.44204221592153353,
          0.4234841912007213,
          0.44204221592153353,
          0.5083191172883512,
          0.5268771420091634,
          0.5083191172883512,
          0.5268771420091635
         ],
         "y": [
          -0.08666952817313521,
          -0.03802959210440337,
          -0.08666952817313517,
          -0.03802959210440333,
          -0.11903734735155302,
          -0.07039741128282118,
          -0.11903734735155297,
          -0.07039741128282113
         ],
         "z": [
          0.1429000049829483,
          0.14290000498294833,
          -2.7755575615628914e-17,
          0,
          0.1429000049829483,
          0.14290000498294833,
          -2.7755575615628914e-17,
          0
         ]
        },
        {
         "color": "blue",
         "delaunayaxis": "z",
         "flatshading": true,
         "i": [
          0,
          1,
          4,
          5,
          2,
          3,
          0,
          5,
          1,
          1,
          0,
          2
         ],
         "j": [
          1,
          2,
          5,
          6,
          3,
          6,
          1,
          1,
          5,
          3,
          4,
          4
         ],
         "k": [
          2,
          3,
          6,
          7,
          6,
          7,
          4,
          4,
          7,
          7,
          6,
          6
         ],
         "opacity": 0.05,
         "type": "mesh3d",
         "x": [
          0.4234841912007213,
          0.44204221592153353,
          0.4234841912007213,
          0.44204221592153353,
          0.5083191172883512,
          0.5268771420091634,
          0.5083191172883512,
          0.5268771420091635
         ],
         "y": [
          -0.08666952817313521,
          -0.03802959210440337,
          -0.08666952817313517,
          -0.03802959210440333,
          -0.11903734735155302,
          -0.07039741128282118,
          -0.11903734735155297,
          -0.07039741128282113
         ],
         "z": [
          0.1429000049829483,
          0.14290000498294833,
          -2.7755575615628914e-17,
          0,
          0.1429000049829483,
          0.14290000498294833,
          -2.7755575615628914e-17,
          0
         ]
        },
        {
         "marker": {
          "color": "black",
          "colorscale": [
           [
            0,
            "#440154"
           ],
           [
            0.1111111111111111,
            "#482878"
           ],
           [
            0.2222222222222222,
            "#3e4989"
           ],
           [
            0.3333333333333333,
            "#31688e"
           ],
           [
            0.4444444444444444,
            "#26828e"
           ],
           [
            0.5555555555555556,
            "#1f9e89"
           ],
           [
            0.6666666666666666,
            "#35b779"
           ],
           [
            0.7777777777777778,
            "#6ece58"
           ],
           [
            0.8888888888888888,
            "#b5de2b"
           ],
           [
            1,
            "#fde725"
           ]
          ],
          "opacity": 0.8,
          "size": 3
         },
         "mode": "markers",
         "type": "scatter3d",
         "x": [
          0.4234841912007213,
          0.44204221592153353,
          0.4234841912007213,
          0.44204221592153353,
          0.5083191172883512,
          0.5268771420091634,
          0.5083191172883512,
          0.5268771420091635
         ],
         "y": [
          -0.08666952817313521,
          -0.03802959210440337,
          -0.08666952817313517,
          -0.03802959210440333,
          -0.11903734735155302,
          -0.07039741128282118,
          -0.11903734735155297,
          -0.07039741128282113
         ],
         "z": [
          0.1429000049829483,
          0.14290000498294833,
          -2.7755575615628914e-17,
          0,
          0.1429000049829483,
          0.14290000498294833,
          -2.7755575615628914e-17,
          0
         ]
        },
        {
         "color": "blue",
         "delaunayaxis": "z",
         "flatshading": true,
         "i": [
          0,
          1,
          4,
          5,
          2,
          3,
          0,
          5,
          1,
          1,
          0,
          2
         ],
         "j": [
          1,
          2,
          5,
          6,
          3,
          6,
          1,
          1,
          5,
          3,
          4,
          4
         ],
         "k": [
          2,
          3,
          6,
          7,
          6,
          7,
          4,
          4,
          7,
          7,
          6,
          6
         ],
         "opacity": 0.05,
         "type": "mesh3d",
         "x": [
          0.4234841912007213,
          0.44204221592153353,
          0.4234841912007213,
          0.44204221592153353,
          0.5083191172883512,
          0.5268771420091634,
          0.5083191172883512,
          0.5268771420091635
         ],
         "y": [
          -0.08666952817313521,
          -0.03802959210440337,
          -0.08666952817313517,
          -0.03802959210440333,
          -0.11903734735155302,
          -0.07039741128282118,
          -0.11903734735155297,
          -0.07039741128282113
         ],
         "z": [
          0.1429000049829483,
          0.14290000498294833,
          -2.7755575615628914e-17,
          0,
          0.1429000049829483,
          0.14290000498294833,
          -2.7755575615628914e-17,
          0
         ]
        },
        {
         "marker": {
          "color": "black",
          "colorscale": [
           [
            0,
            "#440154"
           ],
           [
            0.1111111111111111,
            "#482878"
           ],
           [
            0.2222222222222222,
            "#3e4989"
           ],
           [
            0.3333333333333333,
            "#31688e"
           ],
           [
            0.4444444444444444,
            "#26828e"
           ],
           [
            0.5555555555555556,
            "#1f9e89"
           ],
           [
            0.6666666666666666,
            "#35b779"
           ],
           [
            0.7777777777777778,
            "#6ece58"
           ],
           [
            0.8888888888888888,
            "#b5de2b"
           ],
           [
            1,
            "#fde725"
           ]
          ],
          "opacity": 0.8,
          "size": 3
         },
         "mode": "markers",
         "type": "scatter3d",
         "x": [
          0.4234841912007213,
          0.44204221592153353,
          0.4234841912007213,
          0.44204221592153353,
          0.5083191172883512,
          0.5268771420091634,
          0.5083191172883512,
          0.5268771420091635
         ],
         "y": [
          -0.08666952817313521,
          -0.03802959210440337,
          -0.08666952817313517,
          -0.03802959210440333,
          -0.11903734735155302,
          -0.07039741128282118,
          -0.11903734735155297,
          -0.07039741128282113
         ],
         "z": [
          0.1429000049829483,
          0.14290000498294833,
          -2.7755575615628914e-17,
          0,
          0.1429000049829483,
          0.14290000498294833,
          -2.7755575615628914e-17,
          0
         ]
        },
        {
         "color": "blue",
         "delaunayaxis": "z",
         "flatshading": true,
         "i": [
          0,
          1,
          4,
          5,
          2,
          3,
          0,
          5,
          1,
          1,
          0,
          2
         ],
         "j": [
          1,
          2,
          5,
          6,
          3,
          6,
          1,
          1,
          5,
          3,
          4,
          4
         ],
         "k": [
          2,
          3,
          6,
          7,
          6,
          7,
          4,
          4,
          7,
          7,
          6,
          6
         ],
         "opacity": 0.05,
         "type": "mesh3d",
         "x": [
          0.4234841912007213,
          0.44204221592153353,
          0.4234841912007213,
          0.44204221592153353,
          0.5083191172883512,
          0.5268771420091634,
          0.5083191172883512,
          0.5268771420091635
         ],
         "y": [
          -0.08666952817313521,
          -0.03802959210440337,
          -0.08666952817313517,
          -0.03802959210440333,
          -0.11903734735155302,
          -0.07039741128282118,
          -0.11903734735155297,
          -0.07039741128282113
         ],
         "z": [
          0.1429000049829483,
          0.14290000498294833,
          -2.7755575615628914e-17,
          0,
          0.1429000049829483,
          0.14290000498294833,
          -2.7755575615628914e-17,
          0
         ]
        },
        {
         "marker": {
          "color": "black",
          "colorscale": [
           [
            0,
            "#440154"
           ],
           [
            0.1111111111111111,
            "#482878"
           ],
           [
            0.2222222222222222,
            "#3e4989"
           ],
           [
            0.3333333333333333,
            "#31688e"
           ],
           [
            0.4444444444444444,
            "#26828e"
           ],
           [
            0.5555555555555556,
            "#1f9e89"
           ],
           [
            0.6666666666666666,
            "#35b779"
           ],
           [
            0.7777777777777778,
            "#6ece58"
           ],
           [
            0.8888888888888888,
            "#b5de2b"
           ],
           [
            1,
            "#fde725"
           ]
          ],
          "opacity": 0.8,
          "size": 3
         },
         "mode": "markers",
         "type": "scatter3d",
         "x": [
          0.4234841912007213,
          0.44204221592153353,
          0.4234841912007213,
          0.44204221592153353,
          0.5083191172883512,
          0.5268771420091634,
          0.5083191172883512,
          0.5268771420091635
         ],
         "y": [
          -0.08666952817313521,
          -0.03802959210440337,
          -0.08666952817313517,
          -0.03802959210440333,
          -0.11903734735155302,
          -0.07039741128282118,
          -0.11903734735155297,
          -0.07039741128282113
         ],
         "z": [
          0.1429000049829483,
          0.14290000498294833,
          -2.7755575615628914e-17,
          0,
          0.1429000049829483,
          0.14290000498294833,
          -2.7755575615628914e-17,
          0
         ]
        },
        {
         "color": "blue",
         "delaunayaxis": "z",
         "flatshading": true,
         "i": [
          0,
          1,
          4,
          5,
          2,
          3,
          0,
          5,
          1,
          1,
          0,
          2
         ],
         "j": [
          1,
          2,
          5,
          6,
          3,
          6,
          1,
          1,
          5,
          3,
          4,
          4
         ],
         "k": [
          2,
          3,
          6,
          7,
          6,
          7,
          4,
          4,
          7,
          7,
          6,
          6
         ],
         "opacity": 0.05,
         "type": "mesh3d",
         "x": [
          0.4234841912007213,
          0.44204221592153353,
          0.4234841912007213,
          0.44204221592153353,
          0.5083191172883512,
          0.5268771420091634,
          0.5083191172883512,
          0.5268771420091635
         ],
         "y": [
          -0.08666952817313521,
          -0.03802959210440337,
          -0.08666952817313517,
          -0.03802959210440333,
          -0.11903734735155302,
          -0.07039741128282118,
          -0.11903734735155297,
          -0.07039741128282113
         ],
         "z": [
          0.1429000049829483,
          0.14290000498294833,
          -2.7755575615628914e-17,
          0,
          0.1429000049829483,
          0.14290000498294833,
          -2.7755575615628914e-17,
          0
         ]
        },
        {
         "marker": {
          "color": "black",
          "colorscale": [
           [
            0,
            "#440154"
           ],
           [
            0.1111111111111111,
            "#482878"
           ],
           [
            0.2222222222222222,
            "#3e4989"
           ],
           [
            0.3333333333333333,
            "#31688e"
           ],
           [
            0.4444444444444444,
            "#26828e"
           ],
           [
            0.5555555555555556,
            "#1f9e89"
           ],
           [
            0.6666666666666666,
            "#35b779"
           ],
           [
            0.7777777777777778,
            "#6ece58"
           ],
           [
            0.8888888888888888,
            "#b5de2b"
           ],
           [
            1,
            "#fde725"
           ]
          ],
          "opacity": 0.8,
          "size": 3
         },
         "mode": "markers",
         "type": "scatter3d",
         "x": [
          0.4234841912007213,
          0.44204221592153353,
          0.4234841912007213,
          0.44204221592153353,
          0.5083191172883512,
          0.5268771420091634,
          0.5083191172883512,
          0.5268771420091635
         ],
         "y": [
          -0.08666952817313521,
          -0.03802959210440337,
          -0.08666952817313517,
          -0.03802959210440333,
          -0.11903734735155302,
          -0.07039741128282118,
          -0.11903734735155297,
          -0.07039741128282113
         ],
         "z": [
          0.1429000049829483,
          0.14290000498294833,
          -2.7755575615628914e-17,
          0,
          0.1429000049829483,
          0.14290000498294833,
          -2.7755575615628914e-17,
          0
         ]
        },
        {
         "color": "blue",
         "delaunayaxis": "z",
         "flatshading": true,
         "i": [
          0,
          1,
          4,
          5,
          2,
          3,
          0,
          5,
          1,
          1,
          0,
          2
         ],
         "j": [
          1,
          2,
          5,
          6,
          3,
          6,
          1,
          1,
          5,
          3,
          4,
          4
         ],
         "k": [
          2,
          3,
          6,
          7,
          6,
          7,
          4,
          4,
          7,
          7,
          6,
          6
         ],
         "opacity": 0.05,
         "type": "mesh3d",
         "x": [
          0.4234841912007213,
          0.44204221592153353,
          0.4234841912007213,
          0.44204221592153353,
          0.5083191172883512,
          0.5268771420091634,
          0.5083191172883512,
          0.5268771420091635
         ],
         "y": [
          -0.08666952817313521,
          -0.03802959210440337,
          -0.08666952817313517,
          -0.03802959210440333,
          -0.11903734735155302,
          -0.07039741128282118,
          -0.11903734735155297,
          -0.07039741128282113
         ],
         "z": [
          0.1429000049829483,
          0.14290000498294833,
          -2.7755575615628914e-17,
          0,
          0.1429000049829483,
          0.14290000498294833,
          -2.7755575615628914e-17,
          0
         ]
        },
        {
         "marker": {
          "color": "black",
          "colorscale": [
           [
            0,
            "#440154"
           ],
           [
            0.1111111111111111,
            "#482878"
           ],
           [
            0.2222222222222222,
            "#3e4989"
           ],
           [
            0.3333333333333333,
            "#31688e"
           ],
           [
            0.4444444444444444,
            "#26828e"
           ],
           [
            0.5555555555555556,
            "#1f9e89"
           ],
           [
            0.6666666666666666,
            "#35b779"
           ],
           [
            0.7777777777777778,
            "#6ece58"
           ],
           [
            0.8888888888888888,
            "#b5de2b"
           ],
           [
            1,
            "#fde725"
           ]
          ],
          "opacity": 0.8,
          "size": 3
         },
         "mode": "markers",
         "type": "scatter3d",
         "x": [
          0.4234841912007213,
          0.44204221592153353,
          0.4234841912007213,
          0.44204221592153353,
          0.5083191172883512,
          0.5268771420091634,
          0.5083191172883512,
          0.5268771420091635
         ],
         "y": [
          -0.08666952817313521,
          -0.03802959210440337,
          -0.08666952817313517,
          -0.03802959210440333,
          -0.11903734735155302,
          -0.07039741128282118,
          -0.11903734735155297,
          -0.07039741128282113
         ],
         "z": [
          0.1429000049829483,
          0.14290000498294833,
          -2.7755575615628914e-17,
          0,
          0.1429000049829483,
          0.14290000498294833,
          -2.7755575615628914e-17,
          0
         ]
        },
        {
         "color": "blue",
         "delaunayaxis": "z",
         "flatshading": true,
         "i": [
          0,
          1,
          4,
          5,
          2,
          3,
          0,
          5,
          1,
          1,
          0,
          2
         ],
         "j": [
          1,
          2,
          5,
          6,
          3,
          6,
          1,
          1,
          5,
          3,
          4,
          4
         ],
         "k": [
          2,
          3,
          6,
          7,
          6,
          7,
          4,
          4,
          7,
          7,
          6,
          6
         ],
         "opacity": 0.05,
         "type": "mesh3d",
         "x": [
          0.4234841912007213,
          0.44204221592153353,
          0.4234841912007213,
          0.44204221592153353,
          0.5083191172883512,
          0.5268771420091634,
          0.5083191172883512,
          0.5268771420091635
         ],
         "y": [
          -0.08666952817313521,
          -0.03802959210440337,
          -0.08666952817313517,
          -0.03802959210440333,
          -0.11903734735155302,
          -0.07039741128282118,
          -0.11903734735155297,
          -0.07039741128282113
         ],
         "z": [
          0.1429000049829483,
          0.14290000498294833,
          -2.7755575615628914e-17,
          0,
          0.1429000049829483,
          0.14290000498294833,
          -2.7755575615628914e-17,
          0
         ]
        },
        {
         "marker": {
          "color": "black",
          "colorscale": [
           [
            0,
            "#440154"
           ],
           [
            0.1111111111111111,
            "#482878"
           ],
           [
            0.2222222222222222,
            "#3e4989"
           ],
           [
            0.3333333333333333,
            "#31688e"
           ],
           [
            0.4444444444444444,
            "#26828e"
           ],
           [
            0.5555555555555556,
            "#1f9e89"
           ],
           [
            0.6666666666666666,
            "#35b779"
           ],
           [
            0.7777777777777778,
            "#6ece58"
           ],
           [
            0.8888888888888888,
            "#b5de2b"
           ],
           [
            1,
            "#fde725"
           ]
          ],
          "opacity": 0.8,
          "size": 3
         },
         "mode": "markers",
         "type": "scatter3d",
         "x": [
          0.4234841912007213,
          0.44204221592153353,
          0.4234841912007213,
          0.44204221592153353,
          0.5083191172883512,
          0.5268771420091634,
          0.5083191172883512,
          0.5268771420091635
         ],
         "y": [
          -0.08666952817313521,
          -0.03802959210440337,
          -0.08666952817313517,
          -0.03802959210440333,
          -0.11903734735155302,
          -0.07039741128282118,
          -0.11903734735155297,
          -0.07039741128282113
         ],
         "z": [
          0.1429000049829483,
          0.14290000498294833,
          -2.7755575615628914e-17,
          0,
          0.1429000049829483,
          0.14290000498294833,
          -2.7755575615628914e-17,
          0
         ]
        },
        {
         "color": "blue",
         "delaunayaxis": "z",
         "flatshading": true,
         "i": [
          0,
          1,
          4,
          5,
          2,
          3,
          0,
          5,
          1,
          1,
          0,
          2
         ],
         "j": [
          1,
          2,
          5,
          6,
          3,
          6,
          1,
          1,
          5,
          3,
          4,
          4
         ],
         "k": [
          2,
          3,
          6,
          7,
          6,
          7,
          4,
          4,
          7,
          7,
          6,
          6
         ],
         "opacity": 0.05,
         "type": "mesh3d",
         "x": [
          0.4234841912007213,
          0.44204221592153353,
          0.4234841912007213,
          0.44204221592153353,
          0.5083191172883512,
          0.5268771420091634,
          0.5083191172883512,
          0.5268771420091635
         ],
         "y": [
          -0.08666952817313521,
          -0.03802959210440337,
          -0.08666952817313517,
          -0.03802959210440333,
          -0.11903734735155302,
          -0.07039741128282118,
          -0.11903734735155297,
          -0.07039741128282113
         ],
         "z": [
          0.1429000049829483,
          0.14290000498294833,
          -2.7755575615628914e-17,
          0,
          0.1429000049829483,
          0.14290000498294833,
          -2.7755575615628914e-17,
          0
         ]
        },
        {
         "marker": {
          "color": "black",
          "colorscale": [
           [
            0,
            "#440154"
           ],
           [
            0.1111111111111111,
            "#482878"
           ],
           [
            0.2222222222222222,
            "#3e4989"
           ],
           [
            0.3333333333333333,
            "#31688e"
           ],
           [
            0.4444444444444444,
            "#26828e"
           ],
           [
            0.5555555555555556,
            "#1f9e89"
           ],
           [
            0.6666666666666666,
            "#35b779"
           ],
           [
            0.7777777777777778,
            "#6ece58"
           ],
           [
            0.8888888888888888,
            "#b5de2b"
           ],
           [
            1,
            "#fde725"
           ]
          ],
          "opacity": 0.8,
          "size": 3
         },
         "mode": "markers",
         "type": "scatter3d",
         "x": [
          0.4234841912007213,
          0.44204221592153353,
          0.4234841912007213,
          0.44204221592153353,
          0.5083191172883512,
          0.5268771420091634,
          0.5083191172883512,
          0.5268771420091635
         ],
         "y": [
          -0.08666952817313521,
          -0.03802959210440337,
          -0.08666952817313517,
          -0.03802959210440333,
          -0.11903734735155302,
          -0.07039741128282118,
          -0.11903734735155297,
          -0.07039741128282113
         ],
         "z": [
          0.1429000049829483,
          0.14290000498294833,
          -2.7755575615628914e-17,
          0,
          0.1429000049829483,
          0.14290000498294833,
          -2.7755575615628914e-17,
          0
         ]
        },
        {
         "color": "blue",
         "delaunayaxis": "z",
         "flatshading": true,
         "i": [
          0,
          1,
          4,
          5,
          2,
          3,
          0,
          5,
          1,
          1,
          0,
          2
         ],
         "j": [
          1,
          2,
          5,
          6,
          3,
          6,
          1,
          1,
          5,
          3,
          4,
          4
         ],
         "k": [
          2,
          3,
          6,
          7,
          6,
          7,
          4,
          4,
          7,
          7,
          6,
          6
         ],
         "opacity": 0.05,
         "type": "mesh3d",
         "x": [
          0.4234841912007213,
          0.44204221592153353,
          0.4234841912007213,
          0.44204221592153353,
          0.5083191172883512,
          0.5268771420091634,
          0.5083191172883512,
          0.5268771420091635
         ],
         "y": [
          -0.08666952817313521,
          -0.03802959210440337,
          -0.08666952817313517,
          -0.03802959210440333,
          -0.11903734735155302,
          -0.07039741128282118,
          -0.11903734735155297,
          -0.07039741128282113
         ],
         "z": [
          0.1429000049829483,
          0.14290000498294833,
          -2.7755575615628914e-17,
          0,
          0.1429000049829483,
          0.14290000498294833,
          -2.7755575615628914e-17,
          0
         ]
        },
        {
         "marker": {
          "color": "black",
          "colorscale": [
           [
            0,
            "#440154"
           ],
           [
            0.1111111111111111,
            "#482878"
           ],
           [
            0.2222222222222222,
            "#3e4989"
           ],
           [
            0.3333333333333333,
            "#31688e"
           ],
           [
            0.4444444444444444,
            "#26828e"
           ],
           [
            0.5555555555555556,
            "#1f9e89"
           ],
           [
            0.6666666666666666,
            "#35b779"
           ],
           [
            0.7777777777777778,
            "#6ece58"
           ],
           [
            0.8888888888888888,
            "#b5de2b"
           ],
           [
            1,
            "#fde725"
           ]
          ],
          "opacity": 0.8,
          "size": 3
         },
         "mode": "markers",
         "type": "scatter3d",
         "x": [
          0.4234841912007213,
          0.44204221592153353,
          0.4234841912007213,
          0.44204221592153353,
          0.5083191172883512,
          0.5268771420091634,
          0.5083191172883512,
          0.5268771420091635
         ],
         "y": [
          -0.08666952817313521,
          -0.03802959210440337,
          -0.08666952817313517,
          -0.03802959210440333,
          -0.11903734735155302,
          -0.07039741128282118,
          -0.11903734735155297,
          -0.07039741128282113
         ],
         "z": [
          0.1429000049829483,
          0.14290000498294833,
          -2.7755575615628914e-17,
          0,
          0.1429000049829483,
          0.14290000498294833,
          -2.7755575615628914e-17,
          0
         ]
        },
        {
         "color": "blue",
         "delaunayaxis": "z",
         "flatshading": true,
         "i": [
          0,
          1,
          4,
          5,
          2,
          3,
          0,
          5,
          1,
          1,
          0,
          2
         ],
         "j": [
          1,
          2,
          5,
          6,
          3,
          6,
          1,
          1,
          5,
          3,
          4,
          4
         ],
         "k": [
          2,
          3,
          6,
          7,
          6,
          7,
          4,
          4,
          7,
          7,
          6,
          6
         ],
         "opacity": 0.05,
         "type": "mesh3d",
         "x": [
          0.4234841912007213,
          0.44204221592153353,
          0.4234841912007213,
          0.44204221592153353,
          0.5083191172883512,
          0.5268771420091634,
          0.5083191172883512,
          0.5268771420091635
         ],
         "y": [
          -0.08666952817313521,
          -0.03802959210440337,
          -0.08666952817313517,
          -0.03802959210440333,
          -0.11903734735155302,
          -0.07039741128282118,
          -0.11903734735155297,
          -0.07039741128282113
         ],
         "z": [
          0.1429000049829483,
          0.14290000498294833,
          -2.7755575615628914e-17,
          0,
          0.1429000049829483,
          0.14290000498294833,
          -2.7755575615628914e-17,
          0
         ]
        },
        {
         "marker": {
          "color": "black",
          "colorscale": [
           [
            0,
            "#440154"
           ],
           [
            0.1111111111111111,
            "#482878"
           ],
           [
            0.2222222222222222,
            "#3e4989"
           ],
           [
            0.3333333333333333,
            "#31688e"
           ],
           [
            0.4444444444444444,
            "#26828e"
           ],
           [
            0.5555555555555556,
            "#1f9e89"
           ],
           [
            0.6666666666666666,
            "#35b779"
           ],
           [
            0.7777777777777778,
            "#6ece58"
           ],
           [
            0.8888888888888888,
            "#b5de2b"
           ],
           [
            1,
            "#fde725"
           ]
          ],
          "opacity": 0.8,
          "size": 3
         },
         "mode": "markers",
         "type": "scatter3d",
         "x": [
          0.4234841912007213,
          0.44204221592153353,
          0.4234841912007213,
          0.44204221592153353,
          0.5083191172883512,
          0.5268771420091634,
          0.5083191172883512,
          0.5268771420091635
         ],
         "y": [
          -0.08666952817313521,
          -0.03802959210440337,
          -0.08666952817313517,
          -0.03802959210440333,
          -0.11903734735155302,
          -0.07039741128282118,
          -0.11903734735155297,
          -0.07039741128282113
         ],
         "z": [
          0.1429000049829483,
          0.14290000498294833,
          -2.7755575615628914e-17,
          0,
          0.1429000049829483,
          0.14290000498294833,
          -2.7755575615628914e-17,
          0
         ]
        },
        {
         "color": "blue",
         "delaunayaxis": "z",
         "flatshading": true,
         "i": [
          0,
          1,
          4,
          5,
          2,
          3,
          0,
          5,
          1,
          1,
          0,
          2
         ],
         "j": [
          1,
          2,
          5,
          6,
          3,
          6,
          1,
          1,
          5,
          3,
          4,
          4
         ],
         "k": [
          2,
          3,
          6,
          7,
          6,
          7,
          4,
          4,
          7,
          7,
          6,
          6
         ],
         "opacity": 0.05,
         "type": "mesh3d",
         "x": [
          0.4234841912007213,
          0.44204221592153353,
          0.4234841912007213,
          0.44204221592153353,
          0.5083191172883512,
          0.5268771420091634,
          0.5083191172883512,
          0.5268771420091635
         ],
         "y": [
          -0.08666952817313521,
          -0.03802959210440337,
          -0.08666952817313517,
          -0.03802959210440333,
          -0.11903734735155302,
          -0.07039741128282118,
          -0.11903734735155297,
          -0.07039741128282113
         ],
         "z": [
          0.1429000049829483,
          0.14290000498294833,
          -2.7755575615628914e-17,
          0,
          0.1429000049829483,
          0.14290000498294833,
          -2.7755575615628914e-17,
          0
         ]
        },
        {
         "marker": {
          "color": "black",
          "colorscale": [
           [
            0,
            "#440154"
           ],
           [
            0.1111111111111111,
            "#482878"
           ],
           [
            0.2222222222222222,
            "#3e4989"
           ],
           [
            0.3333333333333333,
            "#31688e"
           ],
           [
            0.4444444444444444,
            "#26828e"
           ],
           [
            0.5555555555555556,
            "#1f9e89"
           ],
           [
            0.6666666666666666,
            "#35b779"
           ],
           [
            0.7777777777777778,
            "#6ece58"
           ],
           [
            0.8888888888888888,
            "#b5de2b"
           ],
           [
            1,
            "#fde725"
           ]
          ],
          "opacity": 0.8,
          "size": 3
         },
         "mode": "markers",
         "type": "scatter3d",
         "x": [
          0.4234841912007213,
          0.44204221592153353,
          0.4234841912007213,
          0.44204221592153353,
          0.5083191172883512,
          0.5268771420091634,
          0.5083191172883512,
          0.5268771420091635
         ],
         "y": [
          -0.08666952817313521,
          -0.03802959210440337,
          -0.08666952817313517,
          -0.03802959210440333,
          -0.11903734735155302,
          -0.07039741128282118,
          -0.11903734735155297,
          -0.07039741128282113
         ],
         "z": [
          0.1429000049829483,
          0.14290000498294833,
          -2.7755575615628914e-17,
          0,
          0.1429000049829483,
          0.14290000498294833,
          -2.7755575615628914e-17,
          0
         ]
        },
        {
         "color": "blue",
         "delaunayaxis": "z",
         "flatshading": true,
         "i": [
          0,
          1,
          4,
          5,
          2,
          3,
          0,
          5,
          1,
          1,
          0,
          2
         ],
         "j": [
          1,
          2,
          5,
          6,
          3,
          6,
          1,
          1,
          5,
          3,
          4,
          4
         ],
         "k": [
          2,
          3,
          6,
          7,
          6,
          7,
          4,
          4,
          7,
          7,
          6,
          6
         ],
         "opacity": 0.05,
         "type": "mesh3d",
         "x": [
          0.4234841912007213,
          0.44204221592153353,
          0.4234841912007213,
          0.44204221592153353,
          0.5083191172883512,
          0.5268771420091634,
          0.5083191172883512,
          0.5268771420091635
         ],
         "y": [
          -0.08666952817313521,
          -0.03802959210440337,
          -0.08666952817313517,
          -0.03802959210440333,
          -0.11903734735155302,
          -0.07039741128282118,
          -0.11903734735155297,
          -0.07039741128282113
         ],
         "z": [
          0.1429000049829483,
          0.14290000498294833,
          -2.7755575615628914e-17,
          0,
          0.1429000049829483,
          0.14290000498294833,
          -2.7755575615628914e-17,
          0
         ]
        },
        {
         "marker": {
          "color": "black",
          "colorscale": [
           [
            0,
            "#440154"
           ],
           [
            0.1111111111111111,
            "#482878"
           ],
           [
            0.2222222222222222,
            "#3e4989"
           ],
           [
            0.3333333333333333,
            "#31688e"
           ],
           [
            0.4444444444444444,
            "#26828e"
           ],
           [
            0.5555555555555556,
            "#1f9e89"
           ],
           [
            0.6666666666666666,
            "#35b779"
           ],
           [
            0.7777777777777778,
            "#6ece58"
           ],
           [
            0.8888888888888888,
            "#b5de2b"
           ],
           [
            1,
            "#fde725"
           ]
          ],
          "opacity": 0.8,
          "size": 3
         },
         "mode": "markers",
         "type": "scatter3d",
         "x": [
          0.4234841912007213,
          0.44204221592153353,
          0.4234841912007213,
          0.44204221592153353,
          0.5083191172883512,
          0.5268771420091634,
          0.5083191172883512,
          0.5268771420091635
         ],
         "y": [
          -0.08666952817313521,
          -0.03802959210440337,
          -0.08666952817313517,
          -0.03802959210440333,
          -0.11903734735155302,
          -0.07039741128282118,
          -0.11903734735155297,
          -0.07039741128282113
         ],
         "z": [
          0.1429000049829483,
          0.14290000498294833,
          -2.7755575615628914e-17,
          0,
          0.1429000049829483,
          0.14290000498294833,
          -2.7755575615628914e-17,
          0
         ]
        },
        {
         "color": "blue",
         "delaunayaxis": "z",
         "flatshading": true,
         "i": [
          0,
          1,
          4,
          5,
          2,
          3,
          0,
          5,
          1,
          1,
          0,
          2
         ],
         "j": [
          1,
          2,
          5,
          6,
          3,
          6,
          1,
          1,
          5,
          3,
          4,
          4
         ],
         "k": [
          2,
          3,
          6,
          7,
          6,
          7,
          4,
          4,
          7,
          7,
          6,
          6
         ],
         "opacity": 0.05,
         "type": "mesh3d",
         "x": [
          0.4234841912007213,
          0.44204221592153353,
          0.4234841912007213,
          0.44204221592153353,
          0.5083191172883512,
          0.5268771420091634,
          0.5083191172883512,
          0.5268771420091635
         ],
         "y": [
          -0.08666952817313521,
          -0.03802959210440337,
          -0.08666952817313517,
          -0.03802959210440333,
          -0.11903734735155302,
          -0.07039741128282118,
          -0.11903734735155297,
          -0.07039741128282113
         ],
         "z": [
          0.1429000049829483,
          0.14290000498294833,
          -2.7755575615628914e-17,
          0,
          0.1429000049829483,
          0.14290000498294833,
          -2.7755575615628914e-17,
          0
         ]
        },
        {
         "marker": {
          "color": "black",
          "colorscale": [
           [
            0,
            "#440154"
           ],
           [
            0.1111111111111111,
            "#482878"
           ],
           [
            0.2222222222222222,
            "#3e4989"
           ],
           [
            0.3333333333333333,
            "#31688e"
           ],
           [
            0.4444444444444444,
            "#26828e"
           ],
           [
            0.5555555555555556,
            "#1f9e89"
           ],
           [
            0.6666666666666666,
            "#35b779"
           ],
           [
            0.7777777777777778,
            "#6ece58"
           ],
           [
            0.8888888888888888,
            "#b5de2b"
           ],
           [
            1,
            "#fde725"
           ]
          ],
          "opacity": 0.8,
          "size": 3
         },
         "mode": "markers",
         "type": "scatter3d",
         "x": [
          0.4234841912007213,
          0.44204221592153353,
          0.4234841912007213,
          0.44204221592153353,
          0.5083191172883512,
          0.5268771420091634,
          0.5083191172883512,
          0.5268771420091635
         ],
         "y": [
          -0.08666952817313521,
          -0.03802959210440337,
          -0.08666952817313517,
          -0.03802959210440333,
          -0.11903734735155302,
          -0.07039741128282118,
          -0.11903734735155297,
          -0.07039741128282113
         ],
         "z": [
          0.1429000049829483,
          0.14290000498294833,
          -2.7755575615628914e-17,
          0,
          0.1429000049829483,
          0.14290000498294833,
          -2.7755575615628914e-17,
          0
         ]
        },
        {
         "color": "blue",
         "delaunayaxis": "z",
         "flatshading": true,
         "i": [
          0,
          1,
          4,
          5,
          2,
          3,
          0,
          5,
          1,
          1,
          0,
          2
         ],
         "j": [
          1,
          2,
          5,
          6,
          3,
          6,
          1,
          1,
          5,
          3,
          4,
          4
         ],
         "k": [
          2,
          3,
          6,
          7,
          6,
          7,
          4,
          4,
          7,
          7,
          6,
          6
         ],
         "opacity": 0.05,
         "type": "mesh3d",
         "x": [
          0.4234841912007213,
          0.44204221592153353,
          0.4234841912007213,
          0.44204221592153353,
          0.5083191172883512,
          0.5268771420091634,
          0.5083191172883512,
          0.5268771420091635
         ],
         "y": [
          -0.08666952817313521,
          -0.03802959210440337,
          -0.08666952817313517,
          -0.03802959210440333,
          -0.11903734735155302,
          -0.07039741128282118,
          -0.11903734735155297,
          -0.07039741128282113
         ],
         "z": [
          0.1429000049829483,
          0.14290000498294833,
          -2.7755575615628914e-17,
          0,
          0.1429000049829483,
          0.14290000498294833,
          -2.7755575615628914e-17,
          0
         ]
        },
        {
         "marker": {
          "color": "black",
          "colorscale": [
           [
            0,
            "#440154"
           ],
           [
            0.1111111111111111,
            "#482878"
           ],
           [
            0.2222222222222222,
            "#3e4989"
           ],
           [
            0.3333333333333333,
            "#31688e"
           ],
           [
            0.4444444444444444,
            "#26828e"
           ],
           [
            0.5555555555555556,
            "#1f9e89"
           ],
           [
            0.6666666666666666,
            "#35b779"
           ],
           [
            0.7777777777777778,
            "#6ece58"
           ],
           [
            0.8888888888888888,
            "#b5de2b"
           ],
           [
            1,
            "#fde725"
           ]
          ],
          "opacity": 0.8,
          "size": 3
         },
         "mode": "markers",
         "type": "scatter3d",
         "x": [
          0.4234841912007213,
          0.44204221592153353,
          0.4234841912007213,
          0.44204221592153353,
          0.5083191172883512,
          0.5268771420091634,
          0.5083191172883512,
          0.5268771420091635
         ],
         "y": [
          -0.08666952817313521,
          -0.03802959210440337,
          -0.08666952817313517,
          -0.03802959210440333,
          -0.11903734735155302,
          -0.07039741128282118,
          -0.11903734735155297,
          -0.07039741128282113
         ],
         "z": [
          0.1429000049829483,
          0.14290000498294833,
          -2.7755575615628914e-17,
          0,
          0.1429000049829483,
          0.14290000498294833,
          -2.7755575615628914e-17,
          0
         ]
        },
        {
         "color": "blue",
         "delaunayaxis": "z",
         "flatshading": true,
         "i": [
          0,
          1,
          4,
          5,
          2,
          3,
          0,
          5,
          1,
          1,
          0,
          2
         ],
         "j": [
          1,
          2,
          5,
          6,
          3,
          6,
          1,
          1,
          5,
          3,
          4,
          4
         ],
         "k": [
          2,
          3,
          6,
          7,
          6,
          7,
          4,
          4,
          7,
          7,
          6,
          6
         ],
         "opacity": 0.05,
         "type": "mesh3d",
         "x": [
          0.4234841912007213,
          0.44204221592153353,
          0.4234841912007213,
          0.44204221592153353,
          0.5083191172883512,
          0.5268771420091634,
          0.5083191172883512,
          0.5268771420091635
         ],
         "y": [
          -0.08666952817313521,
          -0.03802959210440337,
          -0.08666952817313517,
          -0.03802959210440333,
          -0.11903734735155302,
          -0.07039741128282118,
          -0.11903734735155297,
          -0.07039741128282113
         ],
         "z": [
          0.1429000049829483,
          0.14290000498294833,
          -2.7755575615628914e-17,
          0,
          0.1429000049829483,
          0.14290000498294833,
          -2.7755575615628914e-17,
          0
         ]
        },
        {
         "marker": {
          "color": "black",
          "colorscale": [
           [
            0,
            "#440154"
           ],
           [
            0.1111111111111111,
            "#482878"
           ],
           [
            0.2222222222222222,
            "#3e4989"
           ],
           [
            0.3333333333333333,
            "#31688e"
           ],
           [
            0.4444444444444444,
            "#26828e"
           ],
           [
            0.5555555555555556,
            "#1f9e89"
           ],
           [
            0.6666666666666666,
            "#35b779"
           ],
           [
            0.7777777777777778,
            "#6ece58"
           ],
           [
            0.8888888888888888,
            "#b5de2b"
           ],
           [
            1,
            "#fde725"
           ]
          ],
          "opacity": 0.8,
          "size": 3
         },
         "mode": "markers",
         "type": "scatter3d",
         "x": [
          0.4234841912007213,
          0.44204221592153353,
          0.4234841912007213,
          0.44204221592153353,
          0.5083191172883512,
          0.5268771420091634,
          0.5083191172883512,
          0.5268771420091635
         ],
         "y": [
          -0.08666952817313521,
          -0.03802959210440337,
          -0.08666952817313517,
          -0.03802959210440333,
          -0.11903734735155302,
          -0.07039741128282118,
          -0.11903734735155297,
          -0.07039741128282113
         ],
         "z": [
          0.1429000049829483,
          0.14290000498294833,
          -2.7755575615628914e-17,
          0,
          0.1429000049829483,
          0.14290000498294833,
          -2.7755575615628914e-17,
          0
         ]
        }
       ],
       "layout": {
        "margin": {
         "b": 10,
         "l": 10,
         "r": 20,
         "t": 10
        },
        "scene": {
         "camera": {
          "center": {
           "x": 0.45,
           "y": 0,
           "z": 0
          },
          "eye": {
           "x": -1,
           "y": 0,
           "z": 0.01
          },
          "up": {
           "x": 0,
           "y": 0,
           "z": 1
          }
         },
         "xaxis": {
          "nticks": 10,
          "range": [
           -0.1,
           0.9
          ]
         },
         "yaxis": {
          "nticks": 16,
          "range": [
           -0.5,
           0.5
          ]
         },
         "zaxis": {
          "nticks": 8,
          "range": [
           -0.01,
           0.99
          ]
         }
        },
        "template": {
         "data": {
          "bar": [
           {
            "error_x": {
             "color": "#2a3f5f"
            },
            "error_y": {
             "color": "#2a3f5f"
            },
            "marker": {
             "line": {
              "color": "#E5ECF6",
              "width": 0.5
             }
            },
            "type": "bar"
           }
          ],
          "barpolar": [
           {
            "marker": {
             "line": {
              "color": "#E5ECF6",
              "width": 0.5
             }
            },
            "type": "barpolar"
           }
          ],
          "carpet": [
           {
            "aaxis": {
             "endlinecolor": "#2a3f5f",
             "gridcolor": "white",
             "linecolor": "white",
             "minorgridcolor": "white",
             "startlinecolor": "#2a3f5f"
            },
            "baxis": {
             "endlinecolor": "#2a3f5f",
             "gridcolor": "white",
             "linecolor": "white",
             "minorgridcolor": "white",
             "startlinecolor": "#2a3f5f"
            },
            "type": "carpet"
           }
          ],
          "choropleth": [
           {
            "colorbar": {
             "outlinewidth": 0,
             "ticks": ""
            },
            "type": "choropleth"
           }
          ],
          "contour": [
           {
            "colorbar": {
             "outlinewidth": 0,
             "ticks": ""
            },
            "colorscale": [
             [
              0,
              "#0d0887"
             ],
             [
              0.1111111111111111,
              "#46039f"
             ],
             [
              0.2222222222222222,
              "#7201a8"
             ],
             [
              0.3333333333333333,
              "#9c179e"
             ],
             [
              0.4444444444444444,
              "#bd3786"
             ],
             [
              0.5555555555555556,
              "#d8576b"
             ],
             [
              0.6666666666666666,
              "#ed7953"
             ],
             [
              0.7777777777777778,
              "#fb9f3a"
             ],
             [
              0.8888888888888888,
              "#fdca26"
             ],
             [
              1,
              "#f0f921"
             ]
            ],
            "type": "contour"
           }
          ],
          "contourcarpet": [
           {
            "colorbar": {
             "outlinewidth": 0,
             "ticks": ""
            },
            "type": "contourcarpet"
           }
          ],
          "heatmap": [
           {
            "colorbar": {
             "outlinewidth": 0,
             "ticks": ""
            },
            "colorscale": [
             [
              0,
              "#0d0887"
             ],
             [
              0.1111111111111111,
              "#46039f"
             ],
             [
              0.2222222222222222,
              "#7201a8"
             ],
             [
              0.3333333333333333,
              "#9c179e"
             ],
             [
              0.4444444444444444,
              "#bd3786"
             ],
             [
              0.5555555555555556,
              "#d8576b"
             ],
             [
              0.6666666666666666,
              "#ed7953"
             ],
             [
              0.7777777777777778,
              "#fb9f3a"
             ],
             [
              0.8888888888888888,
              "#fdca26"
             ],
             [
              1,
              "#f0f921"
             ]
            ],
            "type": "heatmap"
           }
          ],
          "heatmapgl": [
           {
            "colorbar": {
             "outlinewidth": 0,
             "ticks": ""
            },
            "colorscale": [
             [
              0,
              "#0d0887"
             ],
             [
              0.1111111111111111,
              "#46039f"
             ],
             [
              0.2222222222222222,
              "#7201a8"
             ],
             [
              0.3333333333333333,
              "#9c179e"
             ],
             [
              0.4444444444444444,
              "#bd3786"
             ],
             [
              0.5555555555555556,
              "#d8576b"
             ],
             [
              0.6666666666666666,
              "#ed7953"
             ],
             [
              0.7777777777777778,
              "#fb9f3a"
             ],
             [
              0.8888888888888888,
              "#fdca26"
             ],
             [
              1,
              "#f0f921"
             ]
            ],
            "type": "heatmapgl"
           }
          ],
          "histogram": [
           {
            "marker": {
             "colorbar": {
              "outlinewidth": 0,
              "ticks": ""
             }
            },
            "type": "histogram"
           }
          ],
          "histogram2d": [
           {
            "colorbar": {
             "outlinewidth": 0,
             "ticks": ""
            },
            "colorscale": [
             [
              0,
              "#0d0887"
             ],
             [
              0.1111111111111111,
              "#46039f"
             ],
             [
              0.2222222222222222,
              "#7201a8"
             ],
             [
              0.3333333333333333,
              "#9c179e"
             ],
             [
              0.4444444444444444,
              "#bd3786"
             ],
             [
              0.5555555555555556,
              "#d8576b"
             ],
             [
              0.6666666666666666,
              "#ed7953"
             ],
             [
              0.7777777777777778,
              "#fb9f3a"
             ],
             [
              0.8888888888888888,
              "#fdca26"
             ],
             [
              1,
              "#f0f921"
             ]
            ],
            "type": "histogram2d"
           }
          ],
          "histogram2dcontour": [
           {
            "colorbar": {
             "outlinewidth": 0,
             "ticks": ""
            },
            "colorscale": [
             [
              0,
              "#0d0887"
             ],
             [
              0.1111111111111111,
              "#46039f"
             ],
             [
              0.2222222222222222,
              "#7201a8"
             ],
             [
              0.3333333333333333,
              "#9c179e"
             ],
             [
              0.4444444444444444,
              "#bd3786"
             ],
             [
              0.5555555555555556,
              "#d8576b"
             ],
             [
              0.6666666666666666,
              "#ed7953"
             ],
             [
              0.7777777777777778,
              "#fb9f3a"
             ],
             [
              0.8888888888888888,
              "#fdca26"
             ],
             [
              1,
              "#f0f921"
             ]
            ],
            "type": "histogram2dcontour"
           }
          ],
          "mesh3d": [
           {
            "colorbar": {
             "outlinewidth": 0,
             "ticks": ""
            },
            "type": "mesh3d"
           }
          ],
          "parcoords": [
           {
            "line": {
             "colorbar": {
              "outlinewidth": 0,
              "ticks": ""
             }
            },
            "type": "parcoords"
           }
          ],
          "pie": [
           {
            "automargin": true,
            "type": "pie"
           }
          ],
          "scatter": [
           {
            "marker": {
             "colorbar": {
              "outlinewidth": 0,
              "ticks": ""
             }
            },
            "type": "scatter"
           }
          ],
          "scatter3d": [
           {
            "line": {
             "colorbar": {
              "outlinewidth": 0,
              "ticks": ""
             }
            },
            "marker": {
             "colorbar": {
              "outlinewidth": 0,
              "ticks": ""
             }
            },
            "type": "scatter3d"
           }
          ],
          "scattercarpet": [
           {
            "marker": {
             "colorbar": {
              "outlinewidth": 0,
              "ticks": ""
             }
            },
            "type": "scattercarpet"
           }
          ],
          "scattergeo": [
           {
            "marker": {
             "colorbar": {
              "outlinewidth": 0,
              "ticks": ""
             }
            },
            "type": "scattergeo"
           }
          ],
          "scattergl": [
           {
            "marker": {
             "colorbar": {
              "outlinewidth": 0,
              "ticks": ""
             }
            },
            "type": "scattergl"
           }
          ],
          "scattermapbox": [
           {
            "marker": {
             "colorbar": {
              "outlinewidth": 0,
              "ticks": ""
             }
            },
            "type": "scattermapbox"
           }
          ],
          "scatterpolar": [
           {
            "marker": {
             "colorbar": {
              "outlinewidth": 0,
              "ticks": ""
             }
            },
            "type": "scatterpolar"
           }
          ],
          "scatterpolargl": [
           {
            "marker": {
             "colorbar": {
              "outlinewidth": 0,
              "ticks": ""
             }
            },
            "type": "scatterpolargl"
           }
          ],
          "scatterternary": [
           {
            "marker": {
             "colorbar": {
              "outlinewidth": 0,
              "ticks": ""
             }
            },
            "type": "scatterternary"
           }
          ],
          "surface": [
           {
            "colorbar": {
             "outlinewidth": 0,
             "ticks": ""
            },
            "colorscale": [
             [
              0,
              "#0d0887"
             ],
             [
              0.1111111111111111,
              "#46039f"
             ],
             [
              0.2222222222222222,
              "#7201a8"
             ],
             [
              0.3333333333333333,
              "#9c179e"
             ],
             [
              0.4444444444444444,
              "#bd3786"
             ],
             [
              0.5555555555555556,
              "#d8576b"
             ],
             [
              0.6666666666666666,
              "#ed7953"
             ],
             [
              0.7777777777777778,
              "#fb9f3a"
             ],
             [
              0.8888888888888888,
              "#fdca26"
             ],
             [
              1,
              "#f0f921"
             ]
            ],
            "type": "surface"
           }
          ],
          "table": [
           {
            "cells": {
             "fill": {
              "color": "#EBF0F8"
             },
             "line": {
              "color": "white"
             }
            },
            "header": {
             "fill": {
              "color": "#C8D4E3"
             },
             "line": {
              "color": "white"
             }
            },
            "type": "table"
           }
          ]
         },
         "layout": {
          "annotationdefaults": {
           "arrowcolor": "#2a3f5f",
           "arrowhead": 0,
           "arrowwidth": 1
          },
          "coloraxis": {
           "colorbar": {
            "outlinewidth": 0,
            "ticks": ""
           }
          },
          "colorscale": {
           "diverging": [
            [
             0,
             "#8e0152"
            ],
            [
             0.1,
             "#c51b7d"
            ],
            [
             0.2,
             "#de77ae"
            ],
            [
             0.3,
             "#f1b6da"
            ],
            [
             0.4,
             "#fde0ef"
            ],
            [
             0.5,
             "#f7f7f7"
            ],
            [
             0.6,
             "#e6f5d0"
            ],
            [
             0.7,
             "#b8e186"
            ],
            [
             0.8,
             "#7fbc41"
            ],
            [
             0.9,
             "#4d9221"
            ],
            [
             1,
             "#276419"
            ]
           ],
           "sequential": [
            [
             0,
             "#0d0887"
            ],
            [
             0.1111111111111111,
             "#46039f"
            ],
            [
             0.2222222222222222,
             "#7201a8"
            ],
            [
             0.3333333333333333,
             "#9c179e"
            ],
            [
             0.4444444444444444,
             "#bd3786"
            ],
            [
             0.5555555555555556,
             "#d8576b"
            ],
            [
             0.6666666666666666,
             "#ed7953"
            ],
            [
             0.7777777777777778,
             "#fb9f3a"
            ],
            [
             0.8888888888888888,
             "#fdca26"
            ],
            [
             1,
             "#f0f921"
            ]
           ],
           "sequentialminus": [
            [
             0,
             "#0d0887"
            ],
            [
             0.1111111111111111,
             "#46039f"
            ],
            [
             0.2222222222222222,
             "#7201a8"
            ],
            [
             0.3333333333333333,
             "#9c179e"
            ],
            [
             0.4444444444444444,
             "#bd3786"
            ],
            [
             0.5555555555555556,
             "#d8576b"
            ],
            [
             0.6666666666666666,
             "#ed7953"
            ],
            [
             0.7777777777777778,
             "#fb9f3a"
            ],
            [
             0.8888888888888888,
             "#fdca26"
            ],
            [
             1,
             "#f0f921"
            ]
           ]
          },
          "colorway": [
           "#636efa",
           "#EF553B",
           "#00cc96",
           "#ab63fa",
           "#FFA15A",
           "#19d3f3",
           "#FF6692",
           "#B6E880",
           "#FF97FF",
           "#FECB52"
          ],
          "font": {
           "color": "#2a3f5f"
          },
          "geo": {
           "bgcolor": "white",
           "lakecolor": "white",
           "landcolor": "#E5ECF6",
           "showlakes": true,
           "showland": true,
           "subunitcolor": "white"
          },
          "hoverlabel": {
           "align": "left"
          },
          "hovermode": "closest",
          "mapbox": {
           "style": "light"
          },
          "paper_bgcolor": "white",
          "plot_bgcolor": "#E5ECF6",
          "polar": {
           "angularaxis": {
            "gridcolor": "white",
            "linecolor": "white",
            "ticks": ""
           },
           "bgcolor": "#E5ECF6",
           "radialaxis": {
            "gridcolor": "white",
            "linecolor": "white",
            "ticks": ""
           }
          },
          "scene": {
           "xaxis": {
            "backgroundcolor": "#E5ECF6",
            "gridcolor": "white",
            "gridwidth": 2,
            "linecolor": "white",
            "showbackground": true,
            "ticks": "",
            "zerolinecolor": "white"
           },
           "yaxis": {
            "backgroundcolor": "#E5ECF6",
            "gridcolor": "white",
            "gridwidth": 2,
            "linecolor": "white",
            "showbackground": true,
            "ticks": "",
            "zerolinecolor": "white"
           },
           "zaxis": {
            "backgroundcolor": "#E5ECF6",
            "gridcolor": "white",
            "gridwidth": 2,
            "linecolor": "white",
            "showbackground": true,
            "ticks": "",
            "zerolinecolor": "white"
           }
          },
          "shapedefaults": {
           "line": {
            "color": "#2a3f5f"
           }
          },
          "ternary": {
           "aaxis": {
            "gridcolor": "white",
            "linecolor": "white",
            "ticks": ""
           },
           "baxis": {
            "gridcolor": "white",
            "linecolor": "white",
            "ticks": ""
           },
           "bgcolor": "#E5ECF6",
           "caxis": {
            "gridcolor": "white",
            "linecolor": "white",
            "ticks": ""
           }
          },
          "title": {
           "x": 0.05
          },
          "xaxis": {
           "automargin": true,
           "gridcolor": "white",
           "linecolor": "white",
           "ticks": "",
           "title": {
            "standoff": 15
           },
           "zerolinecolor": "white",
           "zerolinewidth": 2
          },
          "yaxis": {
           "automargin": true,
           "gridcolor": "white",
           "linecolor": "white",
           "ticks": "",
           "title": {
            "standoff": 15
           },
           "zerolinecolor": "white",
           "zerolinewidth": 2
          }
         }
        },
        "width": 700
       }
      },
      "text/html": "<div>\n        \n        \n            <div id=\"d9b45070-48b4-4e5b-9934-707ecd16b81b\" class=\"plotly-graph-div\" style=\"height:525px; width:700px;\"></div>\n            <script type=\"text/javascript\">\n                require([\"plotly\"], function(Plotly) {\n                    window.PLOTLYENV=window.PLOTLYENV || {};\n                    \n                if (document.getElementById(\"d9b45070-48b4-4e5b-9934-707ecd16b81b\")) {\n                    Plotly.newPlot(\n                        'd9b45070-48b4-4e5b-9934-707ecd16b81b',\n                        [{\"color\": \"red\", \"delaunayaxis\": \"z\", \"flatshading\": true, \"i\": [0, 1, 4, 5, 2, 3, 0, 5, 1, 1, 0, 2], \"j\": [1, 2, 5, 6, 3, 6, 1, 1, 5, 3, 4, 4], \"k\": [2, 3, 6, 7, 6, 7, 4, 4, 7, 7, 6, 6], \"opacity\": 0.95, \"type\": \"mesh3d\", \"x\": [0.4234841912007213, 0.44204221592153353, 0.4234841912007213, 0.44204221592153353, 0.5083191172883512, 0.5268771420091634, 0.5083191172883512, 0.5268771420091635], \"y\": [-0.08666952817313521, -0.03802959210440337, -0.08666952817313517, -0.03802959210440333, -0.11903734735155302, -0.07039741128282118, -0.11903734735155297, -0.07039741128282113], \"z\": [0.1429000049829483, 0.14290000498294833, -2.7755575615628914e-17, 0.0, 0.1429000049829483, 0.14290000498294833, -2.7755575615628914e-17, 0.0]}, {\"color\": \"gray\", \"delaunayaxis\": \"z\", \"opacity\": 0.5, \"type\": \"mesh3d\", \"x\": [-1, 1, 1, -1], \"y\": [-1, -1, 1, 1], \"z\": [0, 0, 0, 0]}, {\"color\": \"blue\", \"delaunayaxis\": \"z\", \"flatshading\": true, \"i\": [0, 1, 4, 5, 2, 3, 0, 5, 1, 1, 0, 2], \"j\": [1, 2, 5, 6, 3, 6, 1, 1, 5, 3, 4, 4], \"k\": [2, 3, 6, 7, 6, 7, 4, 4, 7, 7, 6, 6], \"opacity\": 0.05, \"type\": \"mesh3d\", \"x\": [0.4234841912007213, 0.44204221592153353, 0.4234841912007213, 0.44204221592153353, 0.5083191172883512, 0.5268771420091634, 0.5083191172883512, 0.5268771420091635], \"y\": [-0.08666952817313521, -0.03802959210440337, -0.08666952817313517, -0.03802959210440333, -0.11903734735155302, -0.07039741128282118, -0.11903734735155297, -0.07039741128282113], \"z\": [0.1429000049829483, 0.14290000498294833, -2.7755575615628914e-17, 0.0, 0.1429000049829483, 0.14290000498294833, -2.7755575615628914e-17, 0.0]}, {\"marker\": {\"color\": \"black\", \"colorscale\": [[0.0, \"#440154\"], [0.1111111111111111, \"#482878\"], [0.2222222222222222, \"#3e4989\"], [0.3333333333333333, \"#31688e\"], [0.4444444444444444, \"#26828e\"], [0.5555555555555556, \"#1f9e89\"], [0.6666666666666666, \"#35b779\"], [0.7777777777777778, \"#6ece58\"], [0.8888888888888888, \"#b5de2b\"], [1.0, \"#fde725\"]], \"opacity\": 0.8, \"size\": 3.0}, \"mode\": \"markers\", \"type\": \"scatter3d\", \"x\": [0.4234841912007213, 0.44204221592153353, 0.4234841912007213, 0.44204221592153353, 0.5083191172883512, 0.5268771420091634, 0.5083191172883512, 0.5268771420091635], \"y\": [-0.08666952817313521, -0.03802959210440337, -0.08666952817313517, -0.03802959210440333, -0.11903734735155302, -0.07039741128282118, -0.11903734735155297, -0.07039741128282113], \"z\": [0.1429000049829483, 0.14290000498294833, -2.7755575615628914e-17, 0.0, 0.1429000049829483, 0.14290000498294833, -2.7755575615628914e-17, 0.0]}, {\"color\": \"blue\", \"delaunayaxis\": \"z\", \"flatshading\": true, \"i\": [0, 1, 4, 5, 2, 3, 0, 5, 1, 1, 0, 2], \"j\": [1, 2, 5, 6, 3, 6, 1, 1, 5, 3, 4, 4], \"k\": [2, 3, 6, 7, 6, 7, 4, 4, 7, 7, 6, 6], \"opacity\": 0.05, \"type\": \"mesh3d\", \"x\": [0.4234841912007213, 0.44204221592153353, 0.4234841912007213, 0.44204221592153353, 0.5083191172883512, 0.5268771420091634, 0.5083191172883512, 0.5268771420091635], \"y\": [-0.08666952817313521, -0.03802959210440337, -0.08666952817313517, -0.03802959210440333, -0.11903734735155302, -0.07039741128282118, -0.11903734735155297, -0.07039741128282113], \"z\": [0.1429000049829483, 0.14290000498294833, -2.7755575615628914e-17, 0.0, 0.1429000049829483, 0.14290000498294833, -2.7755575615628914e-17, 0.0]}, {\"marker\": {\"color\": \"black\", \"colorscale\": [[0.0, \"#440154\"], [0.1111111111111111, \"#482878\"], [0.2222222222222222, \"#3e4989\"], [0.3333333333333333, \"#31688e\"], [0.4444444444444444, \"#26828e\"], [0.5555555555555556, \"#1f9e89\"], [0.6666666666666666, \"#35b779\"], [0.7777777777777778, \"#6ece58\"], [0.8888888888888888, \"#b5de2b\"], [1.0, \"#fde725\"]], \"opacity\": 0.8, \"size\": 3.0}, \"mode\": \"markers\", \"type\": \"scatter3d\", \"x\": [0.4234841912007213, 0.44204221592153353, 0.4234841912007213, 0.44204221592153353, 0.5083191172883512, 0.5268771420091634, 0.5083191172883512, 0.5268771420091635], \"y\": [-0.08666952817313521, -0.03802959210440337, -0.08666952817313517, -0.03802959210440333, -0.11903734735155302, -0.07039741128282118, -0.11903734735155297, -0.07039741128282113], \"z\": [0.1429000049829483, 0.14290000498294833, -2.7755575615628914e-17, 0.0, 0.1429000049829483, 0.14290000498294833, -2.7755575615628914e-17, 0.0]}, {\"color\": \"blue\", \"delaunayaxis\": \"z\", \"flatshading\": true, \"i\": [0, 1, 4, 5, 2, 3, 0, 5, 1, 1, 0, 2], \"j\": [1, 2, 5, 6, 3, 6, 1, 1, 5, 3, 4, 4], \"k\": [2, 3, 6, 7, 6, 7, 4, 4, 7, 7, 6, 6], \"opacity\": 0.05, \"type\": \"mesh3d\", \"x\": [0.4234841912007213, 0.44204221592153353, 0.4234841912007213, 0.44204221592153353, 0.5083191172883512, 0.5268771420091634, 0.5083191172883512, 0.5268771420091635], \"y\": [-0.08666952817313521, -0.03802959210440337, -0.08666952817313517, -0.03802959210440333, -0.11903734735155302, -0.07039741128282118, -0.11903734735155297, -0.07039741128282113], \"z\": [0.1429000049829483, 0.14290000498294833, -2.7755575615628914e-17, 0.0, 0.1429000049829483, 0.14290000498294833, -2.7755575615628914e-17, 0.0]}, {\"marker\": {\"color\": \"black\", \"colorscale\": [[0.0, \"#440154\"], [0.1111111111111111, \"#482878\"], [0.2222222222222222, \"#3e4989\"], [0.3333333333333333, \"#31688e\"], [0.4444444444444444, \"#26828e\"], [0.5555555555555556, \"#1f9e89\"], [0.6666666666666666, \"#35b779\"], [0.7777777777777778, \"#6ece58\"], [0.8888888888888888, \"#b5de2b\"], [1.0, \"#fde725\"]], \"opacity\": 0.8, \"size\": 3.0}, \"mode\": \"markers\", \"type\": \"scatter3d\", \"x\": [0.4234841912007213, 0.44204221592153353, 0.4234841912007213, 0.44204221592153353, 0.5083191172883512, 0.5268771420091634, 0.5083191172883512, 0.5268771420091635], \"y\": [-0.08666952817313521, -0.03802959210440337, -0.08666952817313517, -0.03802959210440333, -0.11903734735155302, -0.07039741128282118, -0.11903734735155297, -0.07039741128282113], \"z\": [0.1429000049829483, 0.14290000498294833, -2.7755575615628914e-17, 0.0, 0.1429000049829483, 0.14290000498294833, -2.7755575615628914e-17, 0.0]}, {\"color\": \"blue\", \"delaunayaxis\": \"z\", \"flatshading\": true, \"i\": [0, 1, 4, 5, 2, 3, 0, 5, 1, 1, 0, 2], \"j\": [1, 2, 5, 6, 3, 6, 1, 1, 5, 3, 4, 4], \"k\": [2, 3, 6, 7, 6, 7, 4, 4, 7, 7, 6, 6], \"opacity\": 0.05, \"type\": \"mesh3d\", \"x\": [0.4234841912007213, 0.44204221592153353, 0.4234841912007213, 0.44204221592153353, 0.5083191172883512, 0.5268771420091634, 0.5083191172883512, 0.5268771420091635], \"y\": [-0.08666952817313521, -0.03802959210440337, -0.08666952817313517, -0.03802959210440333, -0.11903734735155302, -0.07039741128282118, -0.11903734735155297, -0.07039741128282113], \"z\": [0.1429000049829483, 0.14290000498294833, -2.7755575615628914e-17, 0.0, 0.1429000049829483, 0.14290000498294833, -2.7755575615628914e-17, 0.0]}, {\"marker\": {\"color\": \"black\", \"colorscale\": [[0.0, \"#440154\"], [0.1111111111111111, \"#482878\"], [0.2222222222222222, \"#3e4989\"], [0.3333333333333333, \"#31688e\"], [0.4444444444444444, \"#26828e\"], [0.5555555555555556, \"#1f9e89\"], [0.6666666666666666, \"#35b779\"], [0.7777777777777778, \"#6ece58\"], [0.8888888888888888, \"#b5de2b\"], [1.0, \"#fde725\"]], \"opacity\": 0.8, \"size\": 3.0}, \"mode\": \"markers\", \"type\": \"scatter3d\", \"x\": [0.4234841912007213, 0.44204221592153353, 0.4234841912007213, 0.44204221592153353, 0.5083191172883512, 0.5268771420091634, 0.5083191172883512, 0.5268771420091635], \"y\": [-0.08666952817313521, -0.03802959210440337, -0.08666952817313517, -0.03802959210440333, -0.11903734735155302, -0.07039741128282118, -0.11903734735155297, -0.07039741128282113], \"z\": [0.1429000049829483, 0.14290000498294833, -2.7755575615628914e-17, 0.0, 0.1429000049829483, 0.14290000498294833, -2.7755575615628914e-17, 0.0]}, {\"color\": \"blue\", \"delaunayaxis\": \"z\", \"flatshading\": true, \"i\": [0, 1, 4, 5, 2, 3, 0, 5, 1, 1, 0, 2], \"j\": [1, 2, 5, 6, 3, 6, 1, 1, 5, 3, 4, 4], \"k\": [2, 3, 6, 7, 6, 7, 4, 4, 7, 7, 6, 6], \"opacity\": 0.05, \"type\": \"mesh3d\", \"x\": [0.4234841912007213, 0.44204221592153353, 0.4234841912007213, 0.44204221592153353, 0.5083191172883512, 0.5268771420091634, 0.5083191172883512, 0.5268771420091635], \"y\": [-0.08666952817313521, -0.03802959210440337, -0.08666952817313517, -0.03802959210440333, -0.11903734735155302, -0.07039741128282118, -0.11903734735155297, -0.07039741128282113], \"z\": [0.1429000049829483, 0.14290000498294833, -2.7755575615628914e-17, 0.0, 0.1429000049829483, 0.14290000498294833, -2.7755575615628914e-17, 0.0]}, {\"marker\": {\"color\": \"black\", \"colorscale\": [[0.0, \"#440154\"], [0.1111111111111111, \"#482878\"], [0.2222222222222222, \"#3e4989\"], [0.3333333333333333, \"#31688e\"], [0.4444444444444444, \"#26828e\"], [0.5555555555555556, \"#1f9e89\"], [0.6666666666666666, \"#35b779\"], [0.7777777777777778, \"#6ece58\"], [0.8888888888888888, \"#b5de2b\"], [1.0, \"#fde725\"]], \"opacity\": 0.8, \"size\": 3.0}, \"mode\": \"markers\", \"type\": \"scatter3d\", \"x\": [0.4234841912007213, 0.44204221592153353, 0.4234841912007213, 0.44204221592153353, 0.5083191172883512, 0.5268771420091634, 0.5083191172883512, 0.5268771420091635], \"y\": [-0.08666952817313521, -0.03802959210440337, -0.08666952817313517, -0.03802959210440333, -0.11903734735155302, -0.07039741128282118, -0.11903734735155297, -0.07039741128282113], \"z\": [0.1429000049829483, 0.14290000498294833, -2.7755575615628914e-17, 0.0, 0.1429000049829483, 0.14290000498294833, -2.7755575615628914e-17, 0.0]}, {\"color\": \"blue\", \"delaunayaxis\": \"z\", \"flatshading\": true, \"i\": [0, 1, 4, 5, 2, 3, 0, 5, 1, 1, 0, 2], \"j\": [1, 2, 5, 6, 3, 6, 1, 1, 5, 3, 4, 4], \"k\": [2, 3, 6, 7, 6, 7, 4, 4, 7, 7, 6, 6], \"opacity\": 0.05, \"type\": \"mesh3d\", \"x\": [0.4234841912007213, 0.44204221592153353, 0.4234841912007213, 0.44204221592153353, 0.5083191172883512, 0.5268771420091634, 0.5083191172883512, 0.5268771420091635], \"y\": [-0.08666952817313521, -0.03802959210440337, -0.08666952817313517, -0.03802959210440333, -0.11903734735155302, -0.07039741128282118, -0.11903734735155297, -0.07039741128282113], \"z\": [0.1429000049829483, 0.14290000498294833, -2.7755575615628914e-17, 0.0, 0.1429000049829483, 0.14290000498294833, -2.7755575615628914e-17, 0.0]}, {\"marker\": {\"color\": \"black\", \"colorscale\": [[0.0, \"#440154\"], [0.1111111111111111, \"#482878\"], [0.2222222222222222, \"#3e4989\"], [0.3333333333333333, \"#31688e\"], [0.4444444444444444, \"#26828e\"], [0.5555555555555556, \"#1f9e89\"], [0.6666666666666666, \"#35b779\"], [0.7777777777777778, \"#6ece58\"], [0.8888888888888888, \"#b5de2b\"], [1.0, \"#fde725\"]], \"opacity\": 0.8, \"size\": 3.0}, \"mode\": \"markers\", \"type\": \"scatter3d\", \"x\": [0.4234841912007213, 0.44204221592153353, 0.4234841912007213, 0.44204221592153353, 0.5083191172883512, 0.5268771420091634, 0.5083191172883512, 0.5268771420091635], \"y\": [-0.08666952817313521, -0.03802959210440337, -0.08666952817313517, -0.03802959210440333, -0.11903734735155302, -0.07039741128282118, -0.11903734735155297, -0.07039741128282113], \"z\": [0.1429000049829483, 0.14290000498294833, -2.7755575615628914e-17, 0.0, 0.1429000049829483, 0.14290000498294833, -2.7755575615628914e-17, 0.0]}, {\"color\": \"blue\", \"delaunayaxis\": \"z\", \"flatshading\": true, \"i\": [0, 1, 4, 5, 2, 3, 0, 5, 1, 1, 0, 2], \"j\": [1, 2, 5, 6, 3, 6, 1, 1, 5, 3, 4, 4], \"k\": [2, 3, 6, 7, 6, 7, 4, 4, 7, 7, 6, 6], \"opacity\": 0.05, \"type\": \"mesh3d\", \"x\": [0.4234841912007213, 0.44204221592153353, 0.4234841912007213, 0.44204221592153353, 0.5083191172883512, 0.5268771420091634, 0.5083191172883512, 0.5268771420091635], \"y\": [-0.08666952817313521, -0.03802959210440337, -0.08666952817313517, -0.03802959210440333, -0.11903734735155302, -0.07039741128282118, -0.11903734735155297, -0.07039741128282113], \"z\": [0.1429000049829483, 0.14290000498294833, -2.7755575615628914e-17, 0.0, 0.1429000049829483, 0.14290000498294833, -2.7755575615628914e-17, 0.0]}, {\"marker\": {\"color\": \"black\", \"colorscale\": [[0.0, \"#440154\"], [0.1111111111111111, \"#482878\"], [0.2222222222222222, \"#3e4989\"], [0.3333333333333333, \"#31688e\"], [0.4444444444444444, \"#26828e\"], [0.5555555555555556, \"#1f9e89\"], [0.6666666666666666, \"#35b779\"], [0.7777777777777778, \"#6ece58\"], [0.8888888888888888, \"#b5de2b\"], [1.0, \"#fde725\"]], \"opacity\": 0.8, \"size\": 3.0}, \"mode\": \"markers\", \"type\": \"scatter3d\", \"x\": [0.4234841912007213, 0.44204221592153353, 0.4234841912007213, 0.44204221592153353, 0.5083191172883512, 0.5268771420091634, 0.5083191172883512, 0.5268771420091635], \"y\": [-0.08666952817313521, -0.03802959210440337, -0.08666952817313517, -0.03802959210440333, -0.11903734735155302, -0.07039741128282118, -0.11903734735155297, -0.07039741128282113], \"z\": [0.1429000049829483, 0.14290000498294833, -2.7755575615628914e-17, 0.0, 0.1429000049829483, 0.14290000498294833, -2.7755575615628914e-17, 0.0]}, {\"color\": \"blue\", \"delaunayaxis\": \"z\", \"flatshading\": true, \"i\": [0, 1, 4, 5, 2, 3, 0, 5, 1, 1, 0, 2], \"j\": [1, 2, 5, 6, 3, 6, 1, 1, 5, 3, 4, 4], \"k\": [2, 3, 6, 7, 6, 7, 4, 4, 7, 7, 6, 6], \"opacity\": 0.05, \"type\": \"mesh3d\", \"x\": [0.4234841912007213, 0.44204221592153353, 0.4234841912007213, 0.44204221592153353, 0.5083191172883512, 0.5268771420091634, 0.5083191172883512, 0.5268771420091635], \"y\": [-0.08666952817313521, -0.03802959210440337, -0.08666952817313517, -0.03802959210440333, -0.11903734735155302, -0.07039741128282118, -0.11903734735155297, -0.07039741128282113], \"z\": [0.1429000049829483, 0.14290000498294833, -2.7755575615628914e-17, 0.0, 0.1429000049829483, 0.14290000498294833, -2.7755575615628914e-17, 0.0]}, {\"marker\": {\"color\": \"black\", \"colorscale\": [[0.0, \"#440154\"], [0.1111111111111111, \"#482878\"], [0.2222222222222222, \"#3e4989\"], [0.3333333333333333, \"#31688e\"], [0.4444444444444444, \"#26828e\"], [0.5555555555555556, \"#1f9e89\"], [0.6666666666666666, \"#35b779\"], [0.7777777777777778, \"#6ece58\"], [0.8888888888888888, \"#b5de2b\"], [1.0, \"#fde725\"]], \"opacity\": 0.8, \"size\": 3.0}, \"mode\": \"markers\", \"type\": \"scatter3d\", \"x\": [0.4234841912007213, 0.44204221592153353, 0.4234841912007213, 0.44204221592153353, 0.5083191172883512, 0.5268771420091634, 0.5083191172883512, 0.5268771420091635], \"y\": [-0.08666952817313521, -0.03802959210440337, -0.08666952817313517, -0.03802959210440333, -0.11903734735155302, -0.07039741128282118, -0.11903734735155297, -0.07039741128282113], \"z\": [0.1429000049829483, 0.14290000498294833, -2.7755575615628914e-17, 0.0, 0.1429000049829483, 0.14290000498294833, -2.7755575615628914e-17, 0.0]}, {\"color\": \"blue\", \"delaunayaxis\": \"z\", \"flatshading\": true, \"i\": [0, 1, 4, 5, 2, 3, 0, 5, 1, 1, 0, 2], \"j\": [1, 2, 5, 6, 3, 6, 1, 1, 5, 3, 4, 4], \"k\": [2, 3, 6, 7, 6, 7, 4, 4, 7, 7, 6, 6], \"opacity\": 0.05, \"type\": \"mesh3d\", \"x\": [0.4234841912007213, 0.44204221592153353, 0.4234841912007213, 0.44204221592153353, 0.5083191172883512, 0.5268771420091634, 0.5083191172883512, 0.5268771420091635], \"y\": [-0.08666952817313521, -0.03802959210440337, -0.08666952817313517, -0.03802959210440333, -0.11903734735155302, -0.07039741128282118, -0.11903734735155297, -0.07039741128282113], \"z\": [0.1429000049829483, 0.14290000498294833, -2.7755575615628914e-17, 0.0, 0.1429000049829483, 0.14290000498294833, -2.7755575615628914e-17, 0.0]}, {\"marker\": {\"color\": \"black\", \"colorscale\": [[0.0, \"#440154\"], [0.1111111111111111, \"#482878\"], [0.2222222222222222, \"#3e4989\"], [0.3333333333333333, \"#31688e\"], [0.4444444444444444, \"#26828e\"], [0.5555555555555556, \"#1f9e89\"], [0.6666666666666666, \"#35b779\"], [0.7777777777777778, \"#6ece58\"], [0.8888888888888888, \"#b5de2b\"], [1.0, \"#fde725\"]], \"opacity\": 0.8, \"size\": 3.0}, \"mode\": \"markers\", \"type\": \"scatter3d\", \"x\": [0.4234841912007213, 0.44204221592153353, 0.4234841912007213, 0.44204221592153353, 0.5083191172883512, 0.5268771420091634, 0.5083191172883512, 0.5268771420091635], \"y\": [-0.08666952817313521, -0.03802959210440337, -0.08666952817313517, -0.03802959210440333, -0.11903734735155302, -0.07039741128282118, -0.11903734735155297, -0.07039741128282113], \"z\": [0.1429000049829483, 0.14290000498294833, -2.7755575615628914e-17, 0.0, 0.1429000049829483, 0.14290000498294833, -2.7755575615628914e-17, 0.0]}, {\"color\": \"blue\", \"delaunayaxis\": \"z\", \"flatshading\": true, \"i\": [0, 1, 4, 5, 2, 3, 0, 5, 1, 1, 0, 2], \"j\": [1, 2, 5, 6, 3, 6, 1, 1, 5, 3, 4, 4], \"k\": [2, 3, 6, 7, 6, 7, 4, 4, 7, 7, 6, 6], \"opacity\": 0.05, \"type\": \"mesh3d\", \"x\": [0.4234841912007213, 0.44204221592153353, 0.4234841912007213, 0.44204221592153353, 0.5083191172883512, 0.5268771420091634, 0.5083191172883512, 0.5268771420091635], \"y\": [-0.08666952817313521, -0.03802959210440337, -0.08666952817313517, -0.03802959210440333, -0.11903734735155302, -0.07039741128282118, -0.11903734735155297, -0.07039741128282113], \"z\": [0.1429000049829483, 0.14290000498294833, -2.7755575615628914e-17, 0.0, 0.1429000049829483, 0.14290000498294833, -2.7755575615628914e-17, 0.0]}, {\"marker\": {\"color\": \"black\", \"colorscale\": [[0.0, \"#440154\"], [0.1111111111111111, \"#482878\"], [0.2222222222222222, \"#3e4989\"], [0.3333333333333333, \"#31688e\"], [0.4444444444444444, \"#26828e\"], [0.5555555555555556, \"#1f9e89\"], [0.6666666666666666, \"#35b779\"], [0.7777777777777778, \"#6ece58\"], [0.8888888888888888, \"#b5de2b\"], [1.0, \"#fde725\"]], \"opacity\": 0.8, \"size\": 3.0}, \"mode\": \"markers\", \"type\": \"scatter3d\", \"x\": [0.4234841912007213, 0.44204221592153353, 0.4234841912007213, 0.44204221592153353, 0.5083191172883512, 0.5268771420091634, 0.5083191172883512, 0.5268771420091635], \"y\": [-0.08666952817313521, -0.03802959210440337, -0.08666952817313517, -0.03802959210440333, -0.11903734735155302, -0.07039741128282118, -0.11903734735155297, -0.07039741128282113], \"z\": [0.1429000049829483, 0.14290000498294833, -2.7755575615628914e-17, 0.0, 0.1429000049829483, 0.14290000498294833, -2.7755575615628914e-17, 0.0]}, {\"color\": \"blue\", \"delaunayaxis\": \"z\", \"flatshading\": true, \"i\": [0, 1, 4, 5, 2, 3, 0, 5, 1, 1, 0, 2], \"j\": [1, 2, 5, 6, 3, 6, 1, 1, 5, 3, 4, 4], \"k\": [2, 3, 6, 7, 6, 7, 4, 4, 7, 7, 6, 6], \"opacity\": 0.05, \"type\": \"mesh3d\", \"x\": [0.4234841912007213, 0.44204221592153353, 0.4234841912007213, 0.44204221592153353, 0.5083191172883512, 0.5268771420091634, 0.5083191172883512, 0.5268771420091635], \"y\": [-0.08666952817313521, -0.03802959210440337, -0.08666952817313517, -0.03802959210440333, -0.11903734735155302, -0.07039741128282118, -0.11903734735155297, -0.07039741128282113], \"z\": [0.1429000049829483, 0.14290000498294833, -2.7755575615628914e-17, 0.0, 0.1429000049829483, 0.14290000498294833, -2.7755575615628914e-17, 0.0]}, {\"marker\": {\"color\": \"black\", \"colorscale\": [[0.0, \"#440154\"], [0.1111111111111111, \"#482878\"], [0.2222222222222222, \"#3e4989\"], [0.3333333333333333, \"#31688e\"], [0.4444444444444444, \"#26828e\"], [0.5555555555555556, \"#1f9e89\"], [0.6666666666666666, \"#35b779\"], [0.7777777777777778, \"#6ece58\"], [0.8888888888888888, \"#b5de2b\"], [1.0, \"#fde725\"]], \"opacity\": 0.8, \"size\": 3.0}, \"mode\": \"markers\", \"type\": \"scatter3d\", \"x\": [0.4234841912007213, 0.44204221592153353, 0.4234841912007213, 0.44204221592153353, 0.5083191172883512, 0.5268771420091634, 0.5083191172883512, 0.5268771420091635], \"y\": [-0.08666952817313521, -0.03802959210440337, -0.08666952817313517, -0.03802959210440333, -0.11903734735155302, -0.07039741128282118, -0.11903734735155297, -0.07039741128282113], \"z\": [0.1429000049829483, 0.14290000498294833, -2.7755575615628914e-17, 0.0, 0.1429000049829483, 0.14290000498294833, -2.7755575615628914e-17, 0.0]}, {\"color\": \"blue\", \"delaunayaxis\": \"z\", \"flatshading\": true, \"i\": [0, 1, 4, 5, 2, 3, 0, 5, 1, 1, 0, 2], \"j\": [1, 2, 5, 6, 3, 6, 1, 1, 5, 3, 4, 4], \"k\": [2, 3, 6, 7, 6, 7, 4, 4, 7, 7, 6, 6], \"opacity\": 0.05, \"type\": \"mesh3d\", \"x\": [0.4234841912007213, 0.44204221592153353, 0.4234841912007213, 0.44204221592153353, 0.5083191172883512, 0.5268771420091634, 0.5083191172883512, 0.5268771420091635], \"y\": [-0.08666952817313521, -0.03802959210440337, -0.08666952817313517, -0.03802959210440333, -0.11903734735155302, -0.07039741128282118, -0.11903734735155297, -0.07039741128282113], \"z\": [0.1429000049829483, 0.14290000498294833, -2.7755575615628914e-17, 0.0, 0.1429000049829483, 0.14290000498294833, -2.7755575615628914e-17, 0.0]}, {\"marker\": {\"color\": \"black\", \"colorscale\": [[0.0, \"#440154\"], [0.1111111111111111, \"#482878\"], [0.2222222222222222, \"#3e4989\"], [0.3333333333333333, \"#31688e\"], [0.4444444444444444, \"#26828e\"], [0.5555555555555556, \"#1f9e89\"], [0.6666666666666666, \"#35b779\"], [0.7777777777777778, \"#6ece58\"], [0.8888888888888888, \"#b5de2b\"], [1.0, \"#fde725\"]], \"opacity\": 0.8, \"size\": 3.0}, \"mode\": \"markers\", \"type\": \"scatter3d\", \"x\": [0.4234841912007213, 0.44204221592153353, 0.4234841912007213, 0.44204221592153353, 0.5083191172883512, 0.5268771420091634, 0.5083191172883512, 0.5268771420091635], \"y\": [-0.08666952817313521, -0.03802959210440337, -0.08666952817313517, -0.03802959210440333, -0.11903734735155302, -0.07039741128282118, -0.11903734735155297, -0.07039741128282113], \"z\": [0.1429000049829483, 0.14290000498294833, -2.7755575615628914e-17, 0.0, 0.1429000049829483, 0.14290000498294833, -2.7755575615628914e-17, 0.0]}, {\"color\": \"blue\", \"delaunayaxis\": \"z\", \"flatshading\": true, \"i\": [0, 1, 4, 5, 2, 3, 0, 5, 1, 1, 0, 2], \"j\": [1, 2, 5, 6, 3, 6, 1, 1, 5, 3, 4, 4], \"k\": [2, 3, 6, 7, 6, 7, 4, 4, 7, 7, 6, 6], \"opacity\": 0.05, \"type\": \"mesh3d\", \"x\": [0.4234841912007213, 0.44204221592153353, 0.4234841912007213, 0.44204221592153353, 0.5083191172883512, 0.5268771420091634, 0.5083191172883512, 0.5268771420091635], \"y\": [-0.08666952817313521, -0.03802959210440337, -0.08666952817313517, -0.03802959210440333, -0.11903734735155302, -0.07039741128282118, -0.11903734735155297, -0.07039741128282113], \"z\": [0.1429000049829483, 0.14290000498294833, -2.7755575615628914e-17, 0.0, 0.1429000049829483, 0.14290000498294833, -2.7755575615628914e-17, 0.0]}, {\"marker\": {\"color\": \"black\", \"colorscale\": [[0.0, \"#440154\"], [0.1111111111111111, \"#482878\"], [0.2222222222222222, \"#3e4989\"], [0.3333333333333333, \"#31688e\"], [0.4444444444444444, \"#26828e\"], [0.5555555555555556, \"#1f9e89\"], [0.6666666666666666, \"#35b779\"], [0.7777777777777778, \"#6ece58\"], [0.8888888888888888, \"#b5de2b\"], [1.0, \"#fde725\"]], \"opacity\": 0.8, \"size\": 3.0}, \"mode\": \"markers\", \"type\": \"scatter3d\", \"x\": [0.4234841912007213, 0.44204221592153353, 0.4234841912007213, 0.44204221592153353, 0.5083191172883512, 0.5268771420091634, 0.5083191172883512, 0.5268771420091635], \"y\": [-0.08666952817313521, -0.03802959210440337, -0.08666952817313517, -0.03802959210440333, -0.11903734735155302, -0.07039741128282118, -0.11903734735155297, -0.07039741128282113], \"z\": [0.1429000049829483, 0.14290000498294833, -2.7755575615628914e-17, 0.0, 0.1429000049829483, 0.14290000498294833, -2.7755575615628914e-17, 0.0]}, {\"color\": \"blue\", \"delaunayaxis\": \"z\", \"flatshading\": true, \"i\": [0, 1, 4, 5, 2, 3, 0, 5, 1, 1, 0, 2], \"j\": [1, 2, 5, 6, 3, 6, 1, 1, 5, 3, 4, 4], \"k\": [2, 3, 6, 7, 6, 7, 4, 4, 7, 7, 6, 6], \"opacity\": 0.05, \"type\": \"mesh3d\", \"x\": [0.4234841912007213, 0.44204221592153353, 0.4234841912007213, 0.44204221592153353, 0.5083191172883512, 0.5268771420091634, 0.5083191172883512, 0.5268771420091635], \"y\": [-0.08666952817313521, -0.03802959210440337, -0.08666952817313517, -0.03802959210440333, -0.11903734735155302, -0.07039741128282118, -0.11903734735155297, -0.07039741128282113], \"z\": [0.1429000049829483, 0.14290000498294833, -2.7755575615628914e-17, 0.0, 0.1429000049829483, 0.14290000498294833, -2.7755575615628914e-17, 0.0]}, {\"marker\": {\"color\": \"black\", \"colorscale\": [[0.0, \"#440154\"], [0.1111111111111111, \"#482878\"], [0.2222222222222222, \"#3e4989\"], [0.3333333333333333, \"#31688e\"], [0.4444444444444444, \"#26828e\"], [0.5555555555555556, \"#1f9e89\"], [0.6666666666666666, \"#35b779\"], [0.7777777777777778, \"#6ece58\"], [0.8888888888888888, \"#b5de2b\"], [1.0, \"#fde725\"]], \"opacity\": 0.8, \"size\": 3.0}, \"mode\": \"markers\", \"type\": \"scatter3d\", \"x\": [0.4234841912007213, 0.44204221592153353, 0.4234841912007213, 0.44204221592153353, 0.5083191172883512, 0.5268771420091634, 0.5083191172883512, 0.5268771420091635], \"y\": [-0.08666952817313521, -0.03802959210440337, -0.08666952817313517, -0.03802959210440333, -0.11903734735155302, -0.07039741128282118, -0.11903734735155297, -0.07039741128282113], \"z\": [0.1429000049829483, 0.14290000498294833, -2.7755575615628914e-17, 0.0, 0.1429000049829483, 0.14290000498294833, -2.7755575615628914e-17, 0.0]}, {\"color\": \"blue\", \"delaunayaxis\": \"z\", \"flatshading\": true, \"i\": [0, 1, 4, 5, 2, 3, 0, 5, 1, 1, 0, 2], \"j\": [1, 2, 5, 6, 3, 6, 1, 1, 5, 3, 4, 4], \"k\": [2, 3, 6, 7, 6, 7, 4, 4, 7, 7, 6, 6], \"opacity\": 0.05, \"type\": \"mesh3d\", \"x\": [0.4234841912007213, 0.44204221592153353, 0.4234841912007213, 0.44204221592153353, 0.5083191172883512, 0.5268771420091634, 0.5083191172883512, 0.5268771420091635], \"y\": [-0.08666952817313521, -0.03802959210440337, -0.08666952817313517, -0.03802959210440333, -0.11903734735155302, -0.07039741128282118, -0.11903734735155297, -0.07039741128282113], \"z\": [0.1429000049829483, 0.14290000498294833, -2.7755575615628914e-17, 0.0, 0.1429000049829483, 0.14290000498294833, -2.7755575615628914e-17, 0.0]}, {\"marker\": {\"color\": \"black\", \"colorscale\": [[0.0, \"#440154\"], [0.1111111111111111, \"#482878\"], [0.2222222222222222, \"#3e4989\"], [0.3333333333333333, \"#31688e\"], [0.4444444444444444, \"#26828e\"], [0.5555555555555556, \"#1f9e89\"], [0.6666666666666666, \"#35b779\"], [0.7777777777777778, \"#6ece58\"], [0.8888888888888888, \"#b5de2b\"], [1.0, \"#fde725\"]], \"opacity\": 0.8, \"size\": 3.0}, \"mode\": \"markers\", \"type\": \"scatter3d\", \"x\": [0.4234841912007213, 0.44204221592153353, 0.4234841912007213, 0.44204221592153353, 0.5083191172883512, 0.5268771420091634, 0.5083191172883512, 0.5268771420091635], \"y\": [-0.08666952817313521, -0.03802959210440337, -0.08666952817313517, -0.03802959210440333, -0.11903734735155302, -0.07039741128282118, -0.11903734735155297, -0.07039741128282113], \"z\": [0.1429000049829483, 0.14290000498294833, -2.7755575615628914e-17, 0.0, 0.1429000049829483, 0.14290000498294833, -2.7755575615628914e-17, 0.0]}, {\"color\": \"blue\", \"delaunayaxis\": \"z\", \"flatshading\": true, \"i\": [0, 1, 4, 5, 2, 3, 0, 5, 1, 1, 0, 2], \"j\": [1, 2, 5, 6, 3, 6, 1, 1, 5, 3, 4, 4], \"k\": [2, 3, 6, 7, 6, 7, 4, 4, 7, 7, 6, 6], \"opacity\": 0.05, \"type\": \"mesh3d\", \"x\": [0.4234841912007213, 0.44204221592153353, 0.4234841912007213, 0.44204221592153353, 0.5083191172883512, 0.5268771420091634, 0.5083191172883512, 0.5268771420091635], \"y\": [-0.08666952817313521, -0.03802959210440337, -0.08666952817313517, -0.03802959210440333, -0.11903734735155302, -0.07039741128282118, -0.11903734735155297, -0.07039741128282113], \"z\": [0.1429000049829483, 0.14290000498294833, -2.7755575615628914e-17, 0.0, 0.1429000049829483, 0.14290000498294833, -2.7755575615628914e-17, 0.0]}, {\"marker\": {\"color\": \"black\", \"colorscale\": [[0.0, \"#440154\"], [0.1111111111111111, \"#482878\"], [0.2222222222222222, \"#3e4989\"], [0.3333333333333333, \"#31688e\"], [0.4444444444444444, \"#26828e\"], [0.5555555555555556, \"#1f9e89\"], [0.6666666666666666, \"#35b779\"], [0.7777777777777778, \"#6ece58\"], [0.8888888888888888, \"#b5de2b\"], [1.0, \"#fde725\"]], \"opacity\": 0.8, \"size\": 3.0}, \"mode\": \"markers\", \"type\": \"scatter3d\", \"x\": [0.4234841912007213, 0.44204221592153353, 0.4234841912007213, 0.44204221592153353, 0.5083191172883512, 0.5268771420091634, 0.5083191172883512, 0.5268771420091635], \"y\": [-0.08666952817313521, -0.03802959210440337, -0.08666952817313517, -0.03802959210440333, -0.11903734735155302, -0.07039741128282118, -0.11903734735155297, -0.07039741128282113], \"z\": [0.1429000049829483, 0.14290000498294833, -2.7755575615628914e-17, 0.0, 0.1429000049829483, 0.14290000498294833, -2.7755575615628914e-17, 0.0]}, {\"color\": \"blue\", \"delaunayaxis\": \"z\", \"flatshading\": true, \"i\": [0, 1, 4, 5, 2, 3, 0, 5, 1, 1, 0, 2], \"j\": [1, 2, 5, 6, 3, 6, 1, 1, 5, 3, 4, 4], \"k\": [2, 3, 6, 7, 6, 7, 4, 4, 7, 7, 6, 6], \"opacity\": 0.05, \"type\": \"mesh3d\", \"x\": [0.4234841912007213, 0.44204221592153353, 0.4234841912007213, 0.44204221592153353, 0.5083191172883512, 0.5268771420091634, 0.5083191172883512, 0.5268771420091635], \"y\": [-0.08666952817313521, -0.03802959210440337, -0.08666952817313517, -0.03802959210440333, -0.11903734735155302, -0.07039741128282118, -0.11903734735155297, -0.07039741128282113], \"z\": [0.1429000049829483, 0.14290000498294833, -2.7755575615628914e-17, 0.0, 0.1429000049829483, 0.14290000498294833, -2.7755575615628914e-17, 0.0]}, {\"marker\": {\"color\": \"black\", \"colorscale\": [[0.0, \"#440154\"], [0.1111111111111111, \"#482878\"], [0.2222222222222222, \"#3e4989\"], [0.3333333333333333, \"#31688e\"], [0.4444444444444444, \"#26828e\"], [0.5555555555555556, \"#1f9e89\"], [0.6666666666666666, \"#35b779\"], [0.7777777777777778, \"#6ece58\"], [0.8888888888888888, \"#b5de2b\"], [1.0, \"#fde725\"]], \"opacity\": 0.8, \"size\": 3.0}, \"mode\": \"markers\", \"type\": \"scatter3d\", \"x\": [0.4234841912007213, 0.44204221592153353, 0.4234841912007213, 0.44204221592153353, 0.5083191172883512, 0.5268771420091634, 0.5083191172883512, 0.5268771420091635], \"y\": [-0.08666952817313521, -0.03802959210440337, -0.08666952817313517, -0.03802959210440333, -0.11903734735155302, -0.07039741128282118, -0.11903734735155297, -0.07039741128282113], \"z\": [0.1429000049829483, 0.14290000498294833, -2.7755575615628914e-17, 0.0, 0.1429000049829483, 0.14290000498294833, -2.7755575615628914e-17, 0.0]}, {\"color\": \"blue\", \"delaunayaxis\": \"z\", \"flatshading\": true, \"i\": [0, 1, 4, 5, 2, 3, 0, 5, 1, 1, 0, 2], \"j\": [1, 2, 5, 6, 3, 6, 1, 1, 5, 3, 4, 4], \"k\": [2, 3, 6, 7, 6, 7, 4, 4, 7, 7, 6, 6], \"opacity\": 0.05, \"type\": \"mesh3d\", \"x\": [0.4234841912007213, 0.44204221592153353, 0.4234841912007213, 0.44204221592153353, 0.5083191172883512, 0.5268771420091634, 0.5083191172883512, 0.5268771420091635], \"y\": [-0.08666952817313521, -0.03802959210440337, -0.08666952817313517, -0.03802959210440333, -0.11903734735155302, -0.07039741128282118, -0.11903734735155297, -0.07039741128282113], \"z\": [0.1429000049829483, 0.14290000498294833, -2.7755575615628914e-17, 0.0, 0.1429000049829483, 0.14290000498294833, -2.7755575615628914e-17, 0.0]}, {\"marker\": {\"color\": \"black\", \"colorscale\": [[0.0, \"#440154\"], [0.1111111111111111, \"#482878\"], [0.2222222222222222, \"#3e4989\"], [0.3333333333333333, \"#31688e\"], [0.4444444444444444, \"#26828e\"], [0.5555555555555556, \"#1f9e89\"], [0.6666666666666666, \"#35b779\"], [0.7777777777777778, \"#6ece58\"], [0.8888888888888888, \"#b5de2b\"], [1.0, \"#fde725\"]], \"opacity\": 0.8, \"size\": 3.0}, \"mode\": \"markers\", \"type\": \"scatter3d\", \"x\": [0.4234841912007213, 0.44204221592153353, 0.4234841912007213, 0.44204221592153353, 0.5083191172883512, 0.5268771420091634, 0.5083191172883512, 0.5268771420091635], \"y\": [-0.08666952817313521, -0.03802959210440337, -0.08666952817313517, -0.03802959210440333, -0.11903734735155302, -0.07039741128282118, -0.11903734735155297, -0.07039741128282113], \"z\": [0.1429000049829483, 0.14290000498294833, -2.7755575615628914e-17, 0.0, 0.1429000049829483, 0.14290000498294833, -2.7755575615628914e-17, 0.0]}, {\"color\": \"blue\", \"delaunayaxis\": \"z\", \"flatshading\": true, \"i\": [0, 1, 4, 5, 2, 3, 0, 5, 1, 1, 0, 2], \"j\": [1, 2, 5, 6, 3, 6, 1, 1, 5, 3, 4, 4], \"k\": [2, 3, 6, 7, 6, 7, 4, 4, 7, 7, 6, 6], \"opacity\": 0.05, \"type\": \"mesh3d\", \"x\": [0.4234841912007213, 0.44204221592153353, 0.4234841912007213, 0.44204221592153353, 0.5083191172883512, 0.5268771420091634, 0.5083191172883512, 0.5268771420091635], \"y\": [-0.08666952817313521, -0.03802959210440337, -0.08666952817313517, -0.03802959210440333, -0.11903734735155302, -0.07039741128282118, -0.11903734735155297, -0.07039741128282113], \"z\": [0.1429000049829483, 0.14290000498294833, -2.7755575615628914e-17, 0.0, 0.1429000049829483, 0.14290000498294833, -2.7755575615628914e-17, 0.0]}, {\"marker\": {\"color\": \"black\", \"colorscale\": [[0.0, \"#440154\"], [0.1111111111111111, \"#482878\"], [0.2222222222222222, \"#3e4989\"], [0.3333333333333333, \"#31688e\"], [0.4444444444444444, \"#26828e\"], [0.5555555555555556, \"#1f9e89\"], [0.6666666666666666, \"#35b779\"], [0.7777777777777778, \"#6ece58\"], [0.8888888888888888, \"#b5de2b\"], [1.0, \"#fde725\"]], \"opacity\": 0.8, \"size\": 3.0}, \"mode\": \"markers\", \"type\": \"scatter3d\", \"x\": [0.4234841912007213, 0.44204221592153353, 0.4234841912007213, 0.44204221592153353, 0.5083191172883512, 0.5268771420091634, 0.5083191172883512, 0.5268771420091635], \"y\": [-0.08666952817313521, -0.03802959210440337, -0.08666952817313517, -0.03802959210440333, -0.11903734735155302, -0.07039741128282118, -0.11903734735155297, -0.07039741128282113], \"z\": [0.1429000049829483, 0.14290000498294833, -2.7755575615628914e-17, 0.0, 0.1429000049829483, 0.14290000498294833, -2.7755575615628914e-17, 0.0]}, {\"color\": \"blue\", \"delaunayaxis\": \"z\", \"flatshading\": true, \"i\": [0, 1, 4, 5, 2, 3, 0, 5, 1, 1, 0, 2], \"j\": [1, 2, 5, 6, 3, 6, 1, 1, 5, 3, 4, 4], \"k\": [2, 3, 6, 7, 6, 7, 4, 4, 7, 7, 6, 6], \"opacity\": 0.05, \"type\": \"mesh3d\", \"x\": [0.4234841912007213, 0.44204221592153353, 0.4234841912007213, 0.44204221592153353, 0.5083191172883512, 0.5268771420091634, 0.5083191172883512, 0.5268771420091635], \"y\": [-0.08666952817313521, -0.03802959210440337, -0.08666952817313517, -0.03802959210440333, -0.11903734735155302, -0.07039741128282118, -0.11903734735155297, -0.07039741128282113], \"z\": [0.1429000049829483, 0.14290000498294833, -2.7755575615628914e-17, 0.0, 0.1429000049829483, 0.14290000498294833, -2.7755575615628914e-17, 0.0]}, {\"marker\": {\"color\": \"black\", \"colorscale\": [[0.0, \"#440154\"], [0.1111111111111111, \"#482878\"], [0.2222222222222222, \"#3e4989\"], [0.3333333333333333, \"#31688e\"], [0.4444444444444444, \"#26828e\"], [0.5555555555555556, \"#1f9e89\"], [0.6666666666666666, \"#35b779\"], [0.7777777777777778, \"#6ece58\"], [0.8888888888888888, \"#b5de2b\"], [1.0, \"#fde725\"]], \"opacity\": 0.8, \"size\": 3.0}, \"mode\": \"markers\", \"type\": \"scatter3d\", \"x\": [0.4234841912007213, 0.44204221592153353, 0.4234841912007213, 0.44204221592153353, 0.5083191172883512, 0.5268771420091634, 0.5083191172883512, 0.5268771420091635], \"y\": [-0.08666952817313521, -0.03802959210440337, -0.08666952817313517, -0.03802959210440333, -0.11903734735155302, -0.07039741128282118, -0.11903734735155297, -0.07039741128282113], \"z\": [0.1429000049829483, 0.14290000498294833, -2.7755575615628914e-17, 0.0, 0.1429000049829483, 0.14290000498294833, -2.7755575615628914e-17, 0.0]}, {\"color\": \"blue\", \"delaunayaxis\": \"z\", \"flatshading\": true, \"i\": [0, 1, 4, 5, 2, 3, 0, 5, 1, 1, 0, 2], \"j\": [1, 2, 5, 6, 3, 6, 1, 1, 5, 3, 4, 4], \"k\": [2, 3, 6, 7, 6, 7, 4, 4, 7, 7, 6, 6], \"opacity\": 0.05, \"type\": \"mesh3d\", \"x\": [0.4234841912007213, 0.44204221592153353, 0.4234841912007213, 0.44204221592153353, 0.5083191172883512, 0.5268771420091634, 0.5083191172883512, 0.5268771420091635], \"y\": [-0.08666952817313521, -0.03802959210440337, -0.08666952817313517, -0.03802959210440333, -0.11903734735155302, -0.07039741128282118, -0.11903734735155297, -0.07039741128282113], \"z\": [0.1429000049829483, 0.14290000498294833, -2.7755575615628914e-17, 0.0, 0.1429000049829483, 0.14290000498294833, -2.7755575615628914e-17, 0.0]}, {\"marker\": {\"color\": \"black\", \"colorscale\": [[0.0, \"#440154\"], [0.1111111111111111, \"#482878\"], [0.2222222222222222, \"#3e4989\"], [0.3333333333333333, \"#31688e\"], [0.4444444444444444, \"#26828e\"], [0.5555555555555556, \"#1f9e89\"], [0.6666666666666666, \"#35b779\"], [0.7777777777777778, \"#6ece58\"], [0.8888888888888888, \"#b5de2b\"], [1.0, \"#fde725\"]], \"opacity\": 0.8, \"size\": 3.0}, \"mode\": \"markers\", \"type\": \"scatter3d\", \"x\": [0.4234841912007213, 0.44204221592153353, 0.4234841912007213, 0.44204221592153353, 0.5083191172883512, 0.5268771420091634, 0.5083191172883512, 0.5268771420091635], \"y\": [-0.08666952817313521, -0.03802959210440337, -0.08666952817313517, -0.03802959210440333, -0.11903734735155302, -0.07039741128282118, -0.11903734735155297, -0.07039741128282113], \"z\": [0.1429000049829483, 0.14290000498294833, -2.7755575615628914e-17, 0.0, 0.1429000049829483, 0.14290000498294833, -2.7755575615628914e-17, 0.0]}, {\"color\": \"blue\", \"delaunayaxis\": \"z\", \"flatshading\": true, \"i\": [0, 1, 4, 5, 2, 3, 0, 5, 1, 1, 0, 2], \"j\": [1, 2, 5, 6, 3, 6, 1, 1, 5, 3, 4, 4], \"k\": [2, 3, 6, 7, 6, 7, 4, 4, 7, 7, 6, 6], \"opacity\": 0.05, \"type\": \"mesh3d\", \"x\": [0.4234841912007213, 0.44204221592153353, 0.4234841912007213, 0.44204221592153353, 0.5083191172883512, 0.5268771420091634, 0.5083191172883512, 0.5268771420091635], \"y\": [-0.08666952817313521, -0.03802959210440337, -0.08666952817313517, -0.03802959210440333, -0.11903734735155302, -0.07039741128282118, -0.11903734735155297, -0.07039741128282113], \"z\": [0.1429000049829483, 0.14290000498294833, -2.7755575615628914e-17, 0.0, 0.1429000049829483, 0.14290000498294833, -2.7755575615628914e-17, 0.0]}, {\"marker\": {\"color\": \"black\", \"colorscale\": [[0.0, \"#440154\"], [0.1111111111111111, \"#482878\"], [0.2222222222222222, \"#3e4989\"], [0.3333333333333333, \"#31688e\"], [0.4444444444444444, \"#26828e\"], [0.5555555555555556, \"#1f9e89\"], [0.6666666666666666, \"#35b779\"], [0.7777777777777778, \"#6ece58\"], [0.8888888888888888, \"#b5de2b\"], [1.0, \"#fde725\"]], \"opacity\": 0.8, \"size\": 3.0}, \"mode\": \"markers\", \"type\": \"scatter3d\", \"x\": [0.4234841912007213, 0.44204221592153353, 0.4234841912007213, 0.44204221592153353, 0.5083191172883512, 0.5268771420091634, 0.5083191172883512, 0.5268771420091635], \"y\": [-0.08666952817313521, -0.03802959210440337, -0.08666952817313517, -0.03802959210440333, -0.11903734735155302, -0.07039741128282118, -0.11903734735155297, -0.07039741128282113], \"z\": [0.1429000049829483, 0.14290000498294833, -2.7755575615628914e-17, 0.0, 0.1429000049829483, 0.14290000498294833, -2.7755575615628914e-17, 0.0]}, {\"color\": \"blue\", \"delaunayaxis\": \"z\", \"flatshading\": true, \"i\": [0, 1, 4, 5, 2, 3, 0, 5, 1, 1, 0, 2], \"j\": [1, 2, 5, 6, 3, 6, 1, 1, 5, 3, 4, 4], \"k\": [2, 3, 6, 7, 6, 7, 4, 4, 7, 7, 6, 6], \"opacity\": 0.05, \"type\": \"mesh3d\", \"x\": [0.4234841912007213, 0.44204221592153353, 0.4234841912007213, 0.44204221592153353, 0.5083191172883512, 0.5268771420091634, 0.5083191172883512, 0.5268771420091635], \"y\": [-0.08666952817313521, -0.03802959210440337, -0.08666952817313517, -0.03802959210440333, -0.11903734735155302, -0.07039741128282118, -0.11903734735155297, -0.07039741128282113], \"z\": [0.1429000049829483, 0.14290000498294833, -2.7755575615628914e-17, 0.0, 0.1429000049829483, 0.14290000498294833, -2.7755575615628914e-17, 0.0]}, {\"marker\": {\"color\": \"black\", \"colorscale\": [[0.0, \"#440154\"], [0.1111111111111111, \"#482878\"], [0.2222222222222222, \"#3e4989\"], [0.3333333333333333, \"#31688e\"], [0.4444444444444444, \"#26828e\"], [0.5555555555555556, \"#1f9e89\"], [0.6666666666666666, \"#35b779\"], [0.7777777777777778, \"#6ece58\"], [0.8888888888888888, \"#b5de2b\"], [1.0, \"#fde725\"]], \"opacity\": 0.8, \"size\": 3.0}, \"mode\": \"markers\", \"type\": \"scatter3d\", \"x\": [0.4234841912007213, 0.44204221592153353, 0.4234841912007213, 0.44204221592153353, 0.5083191172883512, 0.5268771420091634, 0.5083191172883512, 0.5268771420091635], \"y\": [-0.08666952817313521, -0.03802959210440337, -0.08666952817313517, -0.03802959210440333, -0.11903734735155302, -0.07039741128282118, -0.11903734735155297, -0.07039741128282113], \"z\": [0.1429000049829483, 0.14290000498294833, -2.7755575615628914e-17, 0.0, 0.1429000049829483, 0.14290000498294833, -2.7755575615628914e-17, 0.0]}, {\"color\": \"blue\", \"delaunayaxis\": \"z\", \"flatshading\": true, \"i\": [0, 1, 4, 5, 2, 3, 0, 5, 1, 1, 0, 2], \"j\": [1, 2, 5, 6, 3, 6, 1, 1, 5, 3, 4, 4], \"k\": [2, 3, 6, 7, 6, 7, 4, 4, 7, 7, 6, 6], \"opacity\": 0.05, \"type\": \"mesh3d\", \"x\": [0.4234841912007213, 0.44204221592153353, 0.4234841912007213, 0.44204221592153353, 0.5083191172883512, 0.5268771420091634, 0.5083191172883512, 0.5268771420091635], \"y\": [-0.08666952817313521, -0.03802959210440337, -0.08666952817313517, -0.03802959210440333, -0.11903734735155302, -0.07039741128282118, -0.11903734735155297, -0.07039741128282113], \"z\": [0.1429000049829483, 0.14290000498294833, -2.7755575615628914e-17, 0.0, 0.1429000049829483, 0.14290000498294833, -2.7755575615628914e-17, 0.0]}, {\"marker\": {\"color\": \"black\", \"colorscale\": [[0.0, \"#440154\"], [0.1111111111111111, \"#482878\"], [0.2222222222222222, \"#3e4989\"], [0.3333333333333333, \"#31688e\"], [0.4444444444444444, \"#26828e\"], [0.5555555555555556, \"#1f9e89\"], [0.6666666666666666, \"#35b779\"], [0.7777777777777778, \"#6ece58\"], [0.8888888888888888, \"#b5de2b\"], [1.0, \"#fde725\"]], \"opacity\": 0.8, \"size\": 3.0}, \"mode\": \"markers\", \"type\": \"scatter3d\", \"x\": [0.4234841912007213, 0.44204221592153353, 0.4234841912007213, 0.44204221592153353, 0.5083191172883512, 0.5268771420091634, 0.5083191172883512, 0.5268771420091635], \"y\": [-0.08666952817313521, -0.03802959210440337, -0.08666952817313517, -0.03802959210440333, -0.11903734735155302, -0.07039741128282118, -0.11903734735155297, -0.07039741128282113], \"z\": [0.1429000049829483, 0.14290000498294833, -2.7755575615628914e-17, 0.0, 0.1429000049829483, 0.14290000498294833, -2.7755575615628914e-17, 0.0]}, {\"color\": \"blue\", \"delaunayaxis\": \"z\", \"flatshading\": true, \"i\": [0, 1, 4, 5, 2, 3, 0, 5, 1, 1, 0, 2], \"j\": [1, 2, 5, 6, 3, 6, 1, 1, 5, 3, 4, 4], \"k\": [2, 3, 6, 7, 6, 7, 4, 4, 7, 7, 6, 6], \"opacity\": 0.05, \"type\": \"mesh3d\", \"x\": [0.4234841912007213, 0.44204221592153353, 0.4234841912007213, 0.44204221592153353, 0.5083191172883512, 0.5268771420091634, 0.5083191172883512, 0.5268771420091635], \"y\": [-0.08666952817313521, -0.03802959210440337, -0.08666952817313517, -0.03802959210440333, -0.11903734735155302, -0.07039741128282118, -0.11903734735155297, -0.07039741128282113], \"z\": [0.1429000049829483, 0.14290000498294833, -2.7755575615628914e-17, 0.0, 0.1429000049829483, 0.14290000498294833, -2.7755575615628914e-17, 0.0]}, {\"marker\": {\"color\": \"black\", \"colorscale\": [[0.0, \"#440154\"], [0.1111111111111111, \"#482878\"], [0.2222222222222222, \"#3e4989\"], [0.3333333333333333, \"#31688e\"], [0.4444444444444444, \"#26828e\"], [0.5555555555555556, \"#1f9e89\"], [0.6666666666666666, \"#35b779\"], [0.7777777777777778, \"#6ece58\"], [0.8888888888888888, \"#b5de2b\"], [1.0, \"#fde725\"]], \"opacity\": 0.8, \"size\": 3.0}, \"mode\": \"markers\", \"type\": \"scatter3d\", \"x\": [0.4234841912007213, 0.44204221592153353, 0.4234841912007213, 0.44204221592153353, 0.5083191172883512, 0.5268771420091634, 0.5083191172883512, 0.5268771420091635], \"y\": [-0.08666952817313521, -0.03802959210440337, -0.08666952817313517, -0.03802959210440333, -0.11903734735155302, -0.07039741128282118, -0.11903734735155297, -0.07039741128282113], \"z\": [0.1429000049829483, 0.14290000498294833, -2.7755575615628914e-17, 0.0, 0.1429000049829483, 0.14290000498294833, -2.7755575615628914e-17, 0.0]}, {\"color\": \"blue\", \"delaunayaxis\": \"z\", \"flatshading\": true, \"i\": [0, 1, 4, 5, 2, 3, 0, 5, 1, 1, 0, 2], \"j\": [1, 2, 5, 6, 3, 6, 1, 1, 5, 3, 4, 4], \"k\": [2, 3, 6, 7, 6, 7, 4, 4, 7, 7, 6, 6], \"opacity\": 0.05, \"type\": \"mesh3d\", \"x\": [0.4234841912007213, 0.44204221592153353, 0.4234841912007213, 0.44204221592153353, 0.5083191172883512, 0.5268771420091634, 0.5083191172883512, 0.5268771420091635], \"y\": [-0.08666952817313521, -0.03802959210440337, -0.08666952817313517, -0.03802959210440333, -0.11903734735155302, -0.07039741128282118, -0.11903734735155297, -0.07039741128282113], \"z\": [0.1429000049829483, 0.14290000498294833, -2.7755575615628914e-17, 0.0, 0.1429000049829483, 0.14290000498294833, -2.7755575615628914e-17, 0.0]}, {\"marker\": {\"color\": \"black\", \"colorscale\": [[0.0, \"#440154\"], [0.1111111111111111, \"#482878\"], [0.2222222222222222, \"#3e4989\"], [0.3333333333333333, \"#31688e\"], [0.4444444444444444, \"#26828e\"], [0.5555555555555556, \"#1f9e89\"], [0.6666666666666666, \"#35b779\"], [0.7777777777777778, \"#6ece58\"], [0.8888888888888888, \"#b5de2b\"], [1.0, \"#fde725\"]], \"opacity\": 0.8, \"size\": 3.0}, \"mode\": \"markers\", \"type\": \"scatter3d\", \"x\": [0.4234841912007213, 0.44204221592153353, 0.4234841912007213, 0.44204221592153353, 0.5083191172883512, 0.5268771420091634, 0.5083191172883512, 0.5268771420091635], \"y\": [-0.08666952817313521, -0.03802959210440337, -0.08666952817313517, -0.03802959210440333, -0.11903734735155302, -0.07039741128282118, -0.11903734735155297, -0.07039741128282113], \"z\": [0.1429000049829483, 0.14290000498294833, -2.7755575615628914e-17, 0.0, 0.1429000049829483, 0.14290000498294833, -2.7755575615628914e-17, 0.0]}, {\"color\": \"blue\", \"delaunayaxis\": \"z\", \"flatshading\": true, \"i\": [0, 1, 4, 5, 2, 3, 0, 5, 1, 1, 0, 2], \"j\": [1, 2, 5, 6, 3, 6, 1, 1, 5, 3, 4, 4], \"k\": [2, 3, 6, 7, 6, 7, 4, 4, 7, 7, 6, 6], \"opacity\": 0.05, \"type\": \"mesh3d\", \"x\": [0.4234841912007213, 0.44204221592153353, 0.4234841912007213, 0.44204221592153353, 0.5083191172883512, 0.5268771420091634, 0.5083191172883512, 0.5268771420091635], \"y\": [-0.08666952817313521, -0.03802959210440337, -0.08666952817313517, -0.03802959210440333, -0.11903734735155302, -0.07039741128282118, -0.11903734735155297, -0.07039741128282113], \"z\": [0.1429000049829483, 0.14290000498294833, -2.7755575615628914e-17, 0.0, 0.1429000049829483, 0.14290000498294833, -2.7755575615628914e-17, 0.0]}, {\"marker\": {\"color\": \"black\", \"colorscale\": [[0.0, \"#440154\"], [0.1111111111111111, \"#482878\"], [0.2222222222222222, \"#3e4989\"], [0.3333333333333333, \"#31688e\"], [0.4444444444444444, \"#26828e\"], [0.5555555555555556, \"#1f9e89\"], [0.6666666666666666, \"#35b779\"], [0.7777777777777778, \"#6ece58\"], [0.8888888888888888, \"#b5de2b\"], [1.0, \"#fde725\"]], \"opacity\": 0.8, \"size\": 3.0}, \"mode\": \"markers\", \"type\": \"scatter3d\", \"x\": [0.4234841912007213, 0.44204221592153353, 0.4234841912007213, 0.44204221592153353, 0.5083191172883512, 0.5268771420091634, 0.5083191172883512, 0.5268771420091635], \"y\": [-0.08666952817313521, -0.03802959210440337, -0.08666952817313517, -0.03802959210440333, -0.11903734735155302, -0.07039741128282118, -0.11903734735155297, -0.07039741128282113], \"z\": [0.1429000049829483, 0.14290000498294833, -2.7755575615628914e-17, 0.0, 0.1429000049829483, 0.14290000498294833, -2.7755575615628914e-17, 0.0]}, {\"color\": \"blue\", \"delaunayaxis\": \"z\", \"flatshading\": true, \"i\": [0, 1, 4, 5, 2, 3, 0, 5, 1, 1, 0, 2], \"j\": [1, 2, 5, 6, 3, 6, 1, 1, 5, 3, 4, 4], \"k\": [2, 3, 6, 7, 6, 7, 4, 4, 7, 7, 6, 6], \"opacity\": 0.05, \"type\": \"mesh3d\", \"x\": [0.4234841912007213, 0.44204221592153353, 0.4234841912007213, 0.44204221592153353, 0.5083191172883512, 0.5268771420091634, 0.5083191172883512, 0.5268771420091635], \"y\": [-0.08666952817313521, -0.03802959210440337, -0.08666952817313517, -0.03802959210440333, -0.11903734735155302, -0.07039741128282118, -0.11903734735155297, -0.07039741128282113], \"z\": [0.1429000049829483, 0.14290000498294833, -2.7755575615628914e-17, 0.0, 0.1429000049829483, 0.14290000498294833, -2.7755575615628914e-17, 0.0]}, {\"marker\": {\"color\": \"black\", \"colorscale\": [[0.0, \"#440154\"], [0.1111111111111111, \"#482878\"], [0.2222222222222222, \"#3e4989\"], [0.3333333333333333, \"#31688e\"], [0.4444444444444444, \"#26828e\"], [0.5555555555555556, \"#1f9e89\"], [0.6666666666666666, \"#35b779\"], [0.7777777777777778, \"#6ece58\"], [0.8888888888888888, \"#b5de2b\"], [1.0, \"#fde725\"]], \"opacity\": 0.8, \"size\": 3.0}, \"mode\": \"markers\", \"type\": \"scatter3d\", \"x\": [0.4234841912007213, 0.44204221592153353, 0.4234841912007213, 0.44204221592153353, 0.5083191172883512, 0.5268771420091634, 0.5083191172883512, 0.5268771420091635], \"y\": [-0.08666952817313521, -0.03802959210440337, -0.08666952817313517, -0.03802959210440333, -0.11903734735155302, -0.07039741128282118, -0.11903734735155297, -0.07039741128282113], \"z\": [0.1429000049829483, 0.14290000498294833, -2.7755575615628914e-17, 0.0, 0.1429000049829483, 0.14290000498294833, -2.7755575615628914e-17, 0.0]}, {\"color\": \"blue\", \"delaunayaxis\": \"z\", \"flatshading\": true, \"i\": [0, 1, 4, 5, 2, 3, 0, 5, 1, 1, 0, 2], \"j\": [1, 2, 5, 6, 3, 6, 1, 1, 5, 3, 4, 4], \"k\": [2, 3, 6, 7, 6, 7, 4, 4, 7, 7, 6, 6], \"opacity\": 0.05, \"type\": \"mesh3d\", \"x\": [0.4234841912007213, 0.44204221592153353, 0.4234841912007213, 0.44204221592153353, 0.5083191172883512, 0.5268771420091634, 0.5083191172883512, 0.5268771420091635], \"y\": [-0.08666952817313521, -0.03802959210440337, -0.08666952817313517, -0.03802959210440333, -0.11903734735155302, -0.07039741128282118, -0.11903734735155297, -0.07039741128282113], \"z\": [0.1429000049829483, 0.14290000498294833, -2.7755575615628914e-17, 0.0, 0.1429000049829483, 0.14290000498294833, -2.7755575615628914e-17, 0.0]}, {\"marker\": {\"color\": \"black\", \"colorscale\": [[0.0, \"#440154\"], [0.1111111111111111, \"#482878\"], [0.2222222222222222, \"#3e4989\"], [0.3333333333333333, \"#31688e\"], [0.4444444444444444, \"#26828e\"], [0.5555555555555556, \"#1f9e89\"], [0.6666666666666666, \"#35b779\"], [0.7777777777777778, \"#6ece58\"], [0.8888888888888888, \"#b5de2b\"], [1.0, \"#fde725\"]], \"opacity\": 0.8, \"size\": 3.0}, \"mode\": \"markers\", \"type\": \"scatter3d\", \"x\": [0.4234841912007213, 0.44204221592153353, 0.4234841912007213, 0.44204221592153353, 0.5083191172883512, 0.5268771420091634, 0.5083191172883512, 0.5268771420091635], \"y\": [-0.08666952817313521, -0.03802959210440337, -0.08666952817313517, -0.03802959210440333, -0.11903734735155302, -0.07039741128282118, -0.11903734735155297, -0.07039741128282113], \"z\": [0.1429000049829483, 0.14290000498294833, -2.7755575615628914e-17, 0.0, 0.1429000049829483, 0.14290000498294833, -2.7755575615628914e-17, 0.0]}, {\"color\": \"blue\", \"delaunayaxis\": \"z\", \"flatshading\": true, \"i\": [0, 1, 4, 5, 2, 3, 0, 5, 1, 1, 0, 2], \"j\": [1, 2, 5, 6, 3, 6, 1, 1, 5, 3, 4, 4], \"k\": [2, 3, 6, 7, 6, 7, 4, 4, 7, 7, 6, 6], \"opacity\": 0.05, \"type\": \"mesh3d\", \"x\": [0.4234841912007213, 0.44204221592153353, 0.4234841912007213, 0.44204221592153353, 0.5083191172883512, 0.5268771420091634, 0.5083191172883512, 0.5268771420091635], \"y\": [-0.08666952817313521, -0.03802959210440337, -0.08666952817313517, -0.03802959210440333, -0.11903734735155302, -0.07039741128282118, -0.11903734735155297, -0.07039741128282113], \"z\": [0.1429000049829483, 0.14290000498294833, -2.7755575615628914e-17, 0.0, 0.1429000049829483, 0.14290000498294833, -2.7755575615628914e-17, 0.0]}, {\"marker\": {\"color\": \"black\", \"colorscale\": [[0.0, \"#440154\"], [0.1111111111111111, \"#482878\"], [0.2222222222222222, \"#3e4989\"], [0.3333333333333333, \"#31688e\"], [0.4444444444444444, \"#26828e\"], [0.5555555555555556, \"#1f9e89\"], [0.6666666666666666, \"#35b779\"], [0.7777777777777778, \"#6ece58\"], [0.8888888888888888, \"#b5de2b\"], [1.0, \"#fde725\"]], \"opacity\": 0.8, \"size\": 3.0}, \"mode\": \"markers\", \"type\": \"scatter3d\", \"x\": [0.4234841912007213, 0.44204221592153353, 0.4234841912007213, 0.44204221592153353, 0.5083191172883512, 0.5268771420091634, 0.5083191172883512, 0.5268771420091635], \"y\": [-0.08666952817313521, -0.03802959210440337, -0.08666952817313517, -0.03802959210440333, -0.11903734735155302, -0.07039741128282118, -0.11903734735155297, -0.07039741128282113], \"z\": [0.1429000049829483, 0.14290000498294833, -2.7755575615628914e-17, 0.0, 0.1429000049829483, 0.14290000498294833, -2.7755575615628914e-17, 0.0]}, {\"color\": \"blue\", \"delaunayaxis\": \"z\", \"flatshading\": true, \"i\": [0, 1, 4, 5, 2, 3, 0, 5, 1, 1, 0, 2], \"j\": [1, 2, 5, 6, 3, 6, 1, 1, 5, 3, 4, 4], \"k\": [2, 3, 6, 7, 6, 7, 4, 4, 7, 7, 6, 6], \"opacity\": 0.05, \"type\": \"mesh3d\", \"x\": [0.4234841912007213, 0.44204221592153353, 0.4234841912007213, 0.44204221592153353, 0.5083191172883512, 0.5268771420091634, 0.5083191172883512, 0.5268771420091635], \"y\": [-0.08666952817313521, -0.03802959210440337, -0.08666952817313517, -0.03802959210440333, -0.11903734735155302, -0.07039741128282118, -0.11903734735155297, -0.07039741128282113], \"z\": [0.1429000049829483, 0.14290000498294833, -2.7755575615628914e-17, 0.0, 0.1429000049829483, 0.14290000498294833, -2.7755575615628914e-17, 0.0]}, {\"marker\": {\"color\": \"black\", \"colorscale\": [[0.0, \"#440154\"], [0.1111111111111111, \"#482878\"], [0.2222222222222222, \"#3e4989\"], [0.3333333333333333, \"#31688e\"], [0.4444444444444444, \"#26828e\"], [0.5555555555555556, \"#1f9e89\"], [0.6666666666666666, \"#35b779\"], [0.7777777777777778, \"#6ece58\"], [0.8888888888888888, \"#b5de2b\"], [1.0, \"#fde725\"]], \"opacity\": 0.8, \"size\": 3.0}, \"mode\": \"markers\", \"type\": \"scatter3d\", \"x\": [0.4234841912007213, 0.44204221592153353, 0.4234841912007213, 0.44204221592153353, 0.5083191172883512, 0.5268771420091634, 0.5083191172883512, 0.5268771420091635], \"y\": [-0.08666952817313521, -0.03802959210440337, -0.08666952817313517, -0.03802959210440333, -0.11903734735155302, -0.07039741128282118, -0.11903734735155297, -0.07039741128282113], \"z\": [0.1429000049829483, 0.14290000498294833, -2.7755575615628914e-17, 0.0, 0.1429000049829483, 0.14290000498294833, -2.7755575615628914e-17, 0.0]}, {\"color\": \"blue\", \"delaunayaxis\": \"z\", \"flatshading\": true, \"i\": [0, 1, 4, 5, 2, 3, 0, 5, 1, 1, 0, 2], \"j\": [1, 2, 5, 6, 3, 6, 1, 1, 5, 3, 4, 4], \"k\": [2, 3, 6, 7, 6, 7, 4, 4, 7, 7, 6, 6], \"opacity\": 0.05, \"type\": \"mesh3d\", \"x\": [0.4234841912007213, 0.44204221592153353, 0.4234841912007213, 0.44204221592153353, 0.5083191172883512, 0.5268771420091634, 0.5083191172883512, 0.5268771420091635], \"y\": [-0.08666952817313521, -0.03802959210440337, -0.08666952817313517, -0.03802959210440333, -0.11903734735155302, -0.07039741128282118, -0.11903734735155297, -0.07039741128282113], \"z\": [0.1429000049829483, 0.14290000498294833, -2.7755575615628914e-17, 0.0, 0.1429000049829483, 0.14290000498294833, -2.7755575615628914e-17, 0.0]}, {\"marker\": {\"color\": \"black\", \"colorscale\": [[0.0, \"#440154\"], [0.1111111111111111, \"#482878\"], [0.2222222222222222, \"#3e4989\"], [0.3333333333333333, \"#31688e\"], [0.4444444444444444, \"#26828e\"], [0.5555555555555556, \"#1f9e89\"], [0.6666666666666666, \"#35b779\"], [0.7777777777777778, \"#6ece58\"], [0.8888888888888888, \"#b5de2b\"], [1.0, \"#fde725\"]], \"opacity\": 0.8, \"size\": 3.0}, \"mode\": \"markers\", \"type\": \"scatter3d\", \"x\": [0.4234841912007213, 0.44204221592153353, 0.4234841912007213, 0.44204221592153353, 0.5083191172883512, 0.5268771420091634, 0.5083191172883512, 0.5268771420091635], \"y\": [-0.08666952817313521, -0.03802959210440337, -0.08666952817313517, -0.03802959210440333, -0.11903734735155302, -0.07039741128282118, -0.11903734735155297, -0.07039741128282113], \"z\": [0.1429000049829483, 0.14290000498294833, -2.7755575615628914e-17, 0.0, 0.1429000049829483, 0.14290000498294833, -2.7755575615628914e-17, 0.0]}],\n                        {\"margin\": {\"b\": 10, \"l\": 10, \"r\": 20, \"t\": 10}, \"scene\": {\"camera\": {\"center\": {\"x\": 0.45, \"y\": 0, \"z\": 0.0}, \"eye\": {\"x\": -1.0, \"y\": 0.0, \"z\": 0.01}, \"up\": {\"x\": 0, \"y\": 0, \"z\": 1}}, \"xaxis\": {\"nticks\": 10, \"range\": [-0.1, 0.9]}, \"yaxis\": {\"nticks\": 16, \"range\": [-0.5, 0.5]}, \"zaxis\": {\"nticks\": 8, \"range\": [-0.01, 0.99]}}, \"template\": {\"data\": {\"bar\": [{\"error_x\": {\"color\": \"#2a3f5f\"}, \"error_y\": {\"color\": \"#2a3f5f\"}, \"marker\": {\"line\": {\"color\": \"#E5ECF6\", \"width\": 0.5}}, \"type\": \"bar\"}], \"barpolar\": [{\"marker\": {\"line\": {\"color\": \"#E5ECF6\", \"width\": 0.5}}, \"type\": \"barpolar\"}], \"carpet\": [{\"aaxis\": {\"endlinecolor\": \"#2a3f5f\", \"gridcolor\": \"white\", \"linecolor\": \"white\", \"minorgridcolor\": \"white\", \"startlinecolor\": \"#2a3f5f\"}, \"baxis\": {\"endlinecolor\": \"#2a3f5f\", \"gridcolor\": \"white\", \"linecolor\": \"white\", \"minorgridcolor\": \"white\", \"startlinecolor\": \"#2a3f5f\"}, \"type\": \"carpet\"}], \"choropleth\": [{\"colorbar\": {\"outlinewidth\": 0, \"ticks\": \"\"}, \"type\": \"choropleth\"}], \"contour\": [{\"colorbar\": {\"outlinewidth\": 0, \"ticks\": \"\"}, \"colorscale\": [[0.0, \"#0d0887\"], [0.1111111111111111, \"#46039f\"], [0.2222222222222222, \"#7201a8\"], [0.3333333333333333, \"#9c179e\"], [0.4444444444444444, \"#bd3786\"], [0.5555555555555556, \"#d8576b\"], [0.6666666666666666, \"#ed7953\"], [0.7777777777777778, \"#fb9f3a\"], [0.8888888888888888, \"#fdca26\"], [1.0, \"#f0f921\"]], \"type\": \"contour\"}], \"contourcarpet\": [{\"colorbar\": {\"outlinewidth\": 0, \"ticks\": \"\"}, \"type\": \"contourcarpet\"}], \"heatmap\": [{\"colorbar\": {\"outlinewidth\": 0, \"ticks\": \"\"}, \"colorscale\": [[0.0, \"#0d0887\"], [0.1111111111111111, \"#46039f\"], [0.2222222222222222, \"#7201a8\"], [0.3333333333333333, \"#9c179e\"], [0.4444444444444444, \"#bd3786\"], [0.5555555555555556, \"#d8576b\"], [0.6666666666666666, \"#ed7953\"], [0.7777777777777778, \"#fb9f3a\"], [0.8888888888888888, \"#fdca26\"], [1.0, \"#f0f921\"]], \"type\": \"heatmap\"}], \"heatmapgl\": [{\"colorbar\": {\"outlinewidth\": 0, \"ticks\": \"\"}, \"colorscale\": [[0.0, \"#0d0887\"], [0.1111111111111111, \"#46039f\"], [0.2222222222222222, \"#7201a8\"], [0.3333333333333333, \"#9c179e\"], [0.4444444444444444, \"#bd3786\"], [0.5555555555555556, \"#d8576b\"], [0.6666666666666666, \"#ed7953\"], [0.7777777777777778, \"#fb9f3a\"], [0.8888888888888888, \"#fdca26\"], [1.0, \"#f0f921\"]], \"type\": \"heatmapgl\"}], \"histogram\": [{\"marker\": {\"colorbar\": {\"outlinewidth\": 0, \"ticks\": \"\"}}, \"type\": \"histogram\"}], \"histogram2d\": [{\"colorbar\": {\"outlinewidth\": 0, \"ticks\": \"\"}, \"colorscale\": [[0.0, \"#0d0887\"], [0.1111111111111111, \"#46039f\"], [0.2222222222222222, \"#7201a8\"], [0.3333333333333333, \"#9c179e\"], [0.4444444444444444, \"#bd3786\"], [0.5555555555555556, \"#d8576b\"], [0.6666666666666666, \"#ed7953\"], [0.7777777777777778, \"#fb9f3a\"], [0.8888888888888888, \"#fdca26\"], [1.0, \"#f0f921\"]], \"type\": \"histogram2d\"}], \"histogram2dcontour\": [{\"colorbar\": {\"outlinewidth\": 0, \"ticks\": \"\"}, \"colorscale\": [[0.0, \"#0d0887\"], [0.1111111111111111, \"#46039f\"], [0.2222222222222222, \"#7201a8\"], [0.3333333333333333, \"#9c179e\"], [0.4444444444444444, \"#bd3786\"], [0.5555555555555556, \"#d8576b\"], [0.6666666666666666, \"#ed7953\"], [0.7777777777777778, \"#fb9f3a\"], [0.8888888888888888, \"#fdca26\"], [1.0, \"#f0f921\"]], \"type\": \"histogram2dcontour\"}], \"mesh3d\": [{\"colorbar\": {\"outlinewidth\": 0, \"ticks\": \"\"}, \"type\": \"mesh3d\"}], \"parcoords\": [{\"line\": {\"colorbar\": {\"outlinewidth\": 0, \"ticks\": \"\"}}, \"type\": \"parcoords\"}], \"pie\": [{\"automargin\": true, \"type\": \"pie\"}], \"scatter\": [{\"marker\": {\"colorbar\": {\"outlinewidth\": 0, \"ticks\": \"\"}}, \"type\": \"scatter\"}], \"scatter3d\": [{\"line\": {\"colorbar\": {\"outlinewidth\": 0, \"ticks\": \"\"}}, \"marker\": {\"colorbar\": {\"outlinewidth\": 0, \"ticks\": \"\"}}, \"type\": \"scatter3d\"}], \"scattercarpet\": [{\"marker\": {\"colorbar\": {\"outlinewidth\": 0, \"ticks\": \"\"}}, \"type\": \"scattercarpet\"}], \"scattergeo\": [{\"marker\": {\"colorbar\": {\"outlinewidth\": 0, \"ticks\": \"\"}}, \"type\": \"scattergeo\"}], \"scattergl\": [{\"marker\": {\"colorbar\": {\"outlinewidth\": 0, \"ticks\": \"\"}}, \"type\": \"scattergl\"}], \"scattermapbox\": [{\"marker\": {\"colorbar\": {\"outlinewidth\": 0, \"ticks\": \"\"}}, \"type\": \"scattermapbox\"}], \"scatterpolar\": [{\"marker\": {\"colorbar\": {\"outlinewidth\": 0, \"ticks\": \"\"}}, \"type\": \"scatterpolar\"}], \"scatterpolargl\": [{\"marker\": {\"colorbar\": {\"outlinewidth\": 0, \"ticks\": \"\"}}, \"type\": \"scatterpolargl\"}], \"scatterternary\": [{\"marker\": {\"colorbar\": {\"outlinewidth\": 0, \"ticks\": \"\"}}, \"type\": \"scatterternary\"}], \"surface\": [{\"colorbar\": {\"outlinewidth\": 0, \"ticks\": \"\"}, \"colorscale\": [[0.0, \"#0d0887\"], [0.1111111111111111, \"#46039f\"], [0.2222222222222222, \"#7201a8\"], [0.3333333333333333, \"#9c179e\"], [0.4444444444444444, \"#bd3786\"], [0.5555555555555556, \"#d8576b\"], [0.6666666666666666, \"#ed7953\"], [0.7777777777777778, \"#fb9f3a\"], [0.8888888888888888, \"#fdca26\"], [1.0, \"#f0f921\"]], \"type\": \"surface\"}], \"table\": [{\"cells\": {\"fill\": {\"color\": \"#EBF0F8\"}, \"line\": {\"color\": \"white\"}}, \"header\": {\"fill\": {\"color\": \"#C8D4E3\"}, \"line\": {\"color\": \"white\"}}, \"type\": \"table\"}]}, \"layout\": {\"annotationdefaults\": {\"arrowcolor\": \"#2a3f5f\", \"arrowhead\": 0, \"arrowwidth\": 1}, \"coloraxis\": {\"colorbar\": {\"outlinewidth\": 0, \"ticks\": \"\"}}, \"colorscale\": {\"diverging\": [[0, \"#8e0152\"], [0.1, \"#c51b7d\"], [0.2, \"#de77ae\"], [0.3, \"#f1b6da\"], [0.4, \"#fde0ef\"], [0.5, \"#f7f7f7\"], [0.6, \"#e6f5d0\"], [0.7, \"#b8e186\"], [0.8, \"#7fbc41\"], [0.9, \"#4d9221\"], [1, \"#276419\"]], \"sequential\": [[0.0, \"#0d0887\"], [0.1111111111111111, \"#46039f\"], [0.2222222222222222, \"#7201a8\"], [0.3333333333333333, \"#9c179e\"], [0.4444444444444444, \"#bd3786\"], [0.5555555555555556, \"#d8576b\"], [0.6666666666666666, \"#ed7953\"], [0.7777777777777778, \"#fb9f3a\"], [0.8888888888888888, \"#fdca26\"], [1.0, \"#f0f921\"]], \"sequentialminus\": [[0.0, \"#0d0887\"], [0.1111111111111111, \"#46039f\"], [0.2222222222222222, \"#7201a8\"], [0.3333333333333333, \"#9c179e\"], [0.4444444444444444, \"#bd3786\"], [0.5555555555555556, \"#d8576b\"], [0.6666666666666666, \"#ed7953\"], [0.7777777777777778, \"#fb9f3a\"], [0.8888888888888888, \"#fdca26\"], [1.0, \"#f0f921\"]]}, \"colorway\": [\"#636efa\", \"#EF553B\", \"#00cc96\", \"#ab63fa\", \"#FFA15A\", \"#19d3f3\", \"#FF6692\", \"#B6E880\", \"#FF97FF\", \"#FECB52\"], \"font\": {\"color\": \"#2a3f5f\"}, \"geo\": {\"bgcolor\": \"white\", \"lakecolor\": \"white\", \"landcolor\": \"#E5ECF6\", \"showlakes\": true, \"showland\": true, \"subunitcolor\": \"white\"}, \"hoverlabel\": {\"align\": \"left\"}, \"hovermode\": \"closest\", \"mapbox\": {\"style\": \"light\"}, \"paper_bgcolor\": \"white\", \"plot_bgcolor\": \"#E5ECF6\", \"polar\": {\"angularaxis\": {\"gridcolor\": \"white\", \"linecolor\": \"white\", \"ticks\": \"\"}, \"bgcolor\": \"#E5ECF6\", \"radialaxis\": {\"gridcolor\": \"white\", \"linecolor\": \"white\", \"ticks\": \"\"}}, \"scene\": {\"xaxis\": {\"backgroundcolor\": \"#E5ECF6\", \"gridcolor\": \"white\", \"gridwidth\": 2, \"linecolor\": \"white\", \"showbackground\": true, \"ticks\": \"\", \"zerolinecolor\": \"white\"}, \"yaxis\": {\"backgroundcolor\": \"#E5ECF6\", \"gridcolor\": \"white\", \"gridwidth\": 2, \"linecolor\": \"white\", \"showbackground\": true, \"ticks\": \"\", \"zerolinecolor\": \"white\"}, \"zaxis\": {\"backgroundcolor\": \"#E5ECF6\", \"gridcolor\": \"white\", \"gridwidth\": 2, \"linecolor\": \"white\", \"showbackground\": true, \"ticks\": \"\", \"zerolinecolor\": \"white\"}}, \"shapedefaults\": {\"line\": {\"color\": \"#2a3f5f\"}}, \"ternary\": {\"aaxis\": {\"gridcolor\": \"white\", \"linecolor\": \"white\", \"ticks\": \"\"}, \"baxis\": {\"gridcolor\": \"white\", \"linecolor\": \"white\", \"ticks\": \"\"}, \"bgcolor\": \"#E5ECF6\", \"caxis\": {\"gridcolor\": \"white\", \"linecolor\": \"white\", \"ticks\": \"\"}}, \"title\": {\"x\": 0.05}, \"xaxis\": {\"automargin\": true, \"gridcolor\": \"white\", \"linecolor\": \"white\", \"ticks\": \"\", \"title\": {\"standoff\": 15}, \"zerolinecolor\": \"white\", \"zerolinewidth\": 2}, \"yaxis\": {\"automargin\": true, \"gridcolor\": \"white\", \"linecolor\": \"white\", \"ticks\": \"\", \"title\": {\"standoff\": 15}, \"zerolinecolor\": \"white\", \"zerolinewidth\": 2}}}, \"width\": 700},\n                        {\"responsive\": true}\n                    ).then(function(){\n                            \nvar gd = document.getElementById('d9b45070-48b4-4e5b-9934-707ecd16b81b');\nvar x = new MutationObserver(function (mutations, observer) {{\n        var display = window.getComputedStyle(gd).display;\n        if (!display || display === 'none') {{\n            console.log([gd, 'removed!']);\n            Plotly.purge(gd);\n            observer.disconnect();\n        }}\n}});\n\n// Listen for the removal of the full notebook cells\nvar notebookContainer = gd.closest('#notebook-container');\nif (notebookContainer) {{\n    x.observe(notebookContainer, {childList: true});\n}}\n\n// Listen for the clearing of the current output cell\nvar outputEl = gd.closest('.output');\nif (outputEl) {{\n    x.observe(outputEl, {childList: true});\n}}\n\n                        })\n                };\n                });\n            </script>\n        </div>"
     },
     "metadata": {},
     "output_type": "display_data"
    }
   ],
   "source": "plan_fig = plot_keypoint_plan(keypoint_plan)\n\nplan_fig.show()"
  },
  {
   "cell_type": "code",
   "execution_count": 274,
   "metadata": {},
   "outputs": [
    {
     "data": {
      "application/vnd.plotly.v1+json": {
       "config": {
        "plotlyServerURL": "https://plot.ly"
       },
       "data": [
        {
         "color": "red",
         "delaunayaxis": "z",
         "flatshading": true,
         "i": [
          0,
          1,
          4,
          5,
          2,
          3,
          0,
          5,
          1,
          1,
          0,
          2
         ],
         "j": [
          1,
          2,
          5,
          6,
          3,
          6,
          1,
          1,
          5,
          3,
          4,
          4
         ],
         "k": [
          2,
          3,
          6,
          7,
          6,
          7,
          4,
          4,
          7,
          7,
          6,
          6
         ],
         "opacity": 0.95,
         "type": "mesh3d",
         "x": [
          0.4234841912007213,
          0.44204221592153353,
          0.4234841912007213,
          0.44204221592153353,
          0.5083191172883512,
          0.5268771420091634,
          0.5083191172883512,
          0.5268771420091635
         ],
         "y": [
          -0.08666952817313521,
          -0.03802959210440337,
          -0.08666952817313517,
          -0.03802959210440333,
          -0.11903734735155302,
          -0.07039741128282118,
          -0.11903734735155297,
          -0.07039741128282113
         ],
         "z": [
          0.1429000049829483,
          0.14290000498294833,
          -2.7755575615628914e-17,
          0,
          0.1429000049829483,
          0.14290000498294833,
          -2.7755575615628914e-17,
          0
         ]
        },
        {
         "color": "gray",
         "delaunayaxis": "z",
         "opacity": 0.5,
         "type": "mesh3d",
         "x": [
          -1,
          1,
          1,
          -1
         ],
         "y": [
          -1,
          -1,
          1,
          1
         ],
         "z": [
          0,
          0,
          0,
          0
         ]
        },
        {
         "color": "blue",
         "delaunayaxis": "z",
         "flatshading": true,
         "i": [
          0,
          1,
          4,
          5,
          2,
          3,
          0,
          5,
          1,
          1,
          0,
          2
         ],
         "j": [
          1,
          2,
          5,
          6,
          3,
          6,
          1,
          1,
          5,
          3,
          4,
          4
         ],
         "k": [
          2,
          3,
          6,
          7,
          6,
          7,
          4,
          4,
          7,
          7,
          6,
          6
         ],
         "opacity": 0.05,
         "type": "mesh3d",
         "x": [
          0.4512022839059884,
          0.4792195425669823,
          0.45103338573070834,
          0.47905064439170225,
          0.5277316050727803,
          0.555748863733774,
          0.5275627068975002,
          0.5555799655584941
         ],
         "y": [
          -0.14472030912732098,
          -0.1008423751464336,
          -0.1448129323932845,
          -0.10093499841239709,
          -0.1935864523087921,
          -0.1497085183279047,
          -0.19367907557475558,
          -0.1498011415938682
         ],
         "z": [
          0.1405731246943707,
          0.14051156983714025,
          -0.0023267504576519114,
          -0.002388305314882342,
          0.14051434563025292,
          0.1404527907730225,
          -0.0023855295217696743,
          -0.0024470843790001047
         ]
        },
        {
         "marker": {
          "color": "black",
          "colorscale": [
           [
            0,
            "#440154"
           ],
           [
            0.1111111111111111,
            "#482878"
           ],
           [
            0.2222222222222222,
            "#3e4989"
           ],
           [
            0.3333333333333333,
            "#31688e"
           ],
           [
            0.4444444444444444,
            "#26828e"
           ],
           [
            0.5555555555555556,
            "#1f9e89"
           ],
           [
            0.6666666666666666,
            "#35b779"
           ],
           [
            0.7777777777777778,
            "#6ece58"
           ],
           [
            0.8888888888888888,
            "#b5de2b"
           ],
           [
            1,
            "#fde725"
           ]
          ],
          "opacity": 0.8,
          "size": 3
         },
         "mode": "markers",
         "type": "scatter3d",
         "x": [
          0.4512022839059884,
          0.4792195425669823,
          0.45103338573070834,
          0.47905064439170225,
          0.5277316050727803,
          0.555748863733774,
          0.5275627068975002,
          0.5555799655584941
         ],
         "y": [
          -0.14472030912732098,
          -0.1008423751464336,
          -0.1448129323932845,
          -0.10093499841239709,
          -0.1935864523087921,
          -0.1497085183279047,
          -0.19367907557475558,
          -0.1498011415938682
         ],
         "z": [
          0.1405731246943707,
          0.14051156983714025,
          -0.0023267504576519114,
          -0.002388305314882342,
          0.14051434563025292,
          0.1404527907730225,
          -0.0023855295217696743,
          -0.0024470843790001047
         ]
        },
        {
         "color": "blue",
         "delaunayaxis": "z",
         "flatshading": true,
         "i": [
          0,
          1,
          4,
          5,
          2,
          3,
          0,
          5,
          1,
          1,
          0,
          2
         ],
         "j": [
          1,
          2,
          5,
          6,
          3,
          6,
          1,
          1,
          5,
          3,
          4,
          4
         ],
         "k": [
          2,
          3,
          6,
          7,
          6,
          7,
          4,
          4,
          7,
          7,
          6,
          6
         ],
         "opacity": 0.05,
         "type": "mesh3d",
         "x": [
          0.45481635041343527,
          0.48109572636474934,
          0.4545607619378,
          0.48084013788911406,
          0.5331985653275749,
          0.5594779412788887,
          0.5329429768519397,
          0.5592223528032536
         ],
         "y": [
          -0.12849354740811988,
          -0.08355316961097568,
          -0.1284155715823808,
          -0.08347519378523656,
          -0.17432848490627567,
          -0.12938810710913143,
          -0.17425050908053655,
          -0.12931013128339236
         ],
         "z": [
          0.14116015192935064,
          0.1411376715369302,
          -0.0017396032083975364,
          -0.001762083600817964,
          0.14099494795189677,
          0.14097246755947634,
          -0.0019048071858513902,
          -0.0019272875782718178
         ]
        },
        {
         "marker": {
          "color": "black",
          "colorscale": [
           [
            0,
            "#440154"
           ],
           [
            0.1111111111111111,
            "#482878"
           ],
           [
            0.2222222222222222,
            "#3e4989"
           ],
           [
            0.3333333333333333,
            "#31688e"
           ],
           [
            0.4444444444444444,
            "#26828e"
           ],
           [
            0.5555555555555556,
            "#1f9e89"
           ],
           [
            0.6666666666666666,
            "#35b779"
           ],
           [
            0.7777777777777778,
            "#6ece58"
           ],
           [
            0.8888888888888888,
            "#b5de2b"
           ],
           [
            1,
            "#fde725"
           ]
          ],
          "opacity": 0.8,
          "size": 3
         },
         "mode": "markers",
         "type": "scatter3d",
         "x": [
          0.45481635041343527,
          0.48109572636474934,
          0.4545607619378,
          0.48084013788911406,
          0.5331985653275749,
          0.5594779412788887,
          0.5329429768519397,
          0.5592223528032536
         ],
         "y": [
          -0.12849354740811988,
          -0.08355316961097568,
          -0.1284155715823808,
          -0.08347519378523656,
          -0.17432848490627567,
          -0.12938810710913143,
          -0.17425050908053655,
          -0.12931013128339236
         ],
         "z": [
          0.14116015192935064,
          0.1411376715369302,
          -0.0017396032083975364,
          -0.001762083600817964,
          0.14099494795189677,
          0.14097246755947634,
          -0.0019048071858513902,
          -0.0019272875782718178
         ]
        },
        {
         "color": "blue",
         "delaunayaxis": "z",
         "flatshading": true,
         "i": [
          0,
          1,
          4,
          5,
          2,
          3,
          0,
          5,
          1,
          1,
          0,
          2
         ],
         "j": [
          1,
          2,
          5,
          6,
          3,
          6,
          1,
          1,
          5,
          3,
          4,
          4
         ],
         "k": [
          2,
          3,
          6,
          7,
          6,
          7,
          4,
          4,
          7,
          7,
          6,
          6
         ],
         "opacity": 0.05,
         "type": "mesh3d",
         "x": [
          0.4835089872220825,
          0.49037994904349064,
          0.4837583684838509,
          0.490629330305259,
          0.5735145467177262,
          0.5803855085391342,
          0.5737639279794944,
          0.5806348898009026
         ],
         "y": [
          0.04460440557394285,
          0.09620830358889076,
          0.045310386254083006,
          0.09691428426903093,
          0.0326198286169951,
          0.084223726631943,
          0.033325809297135266,
          0.08492970731208317
         ],
         "z": [
          0.14420713117660328,
          0.14447406866030663,
          0.001309087717666406,
          0.0015760252013697737,
          0.1443049968986483,
          0.1445719343823517,
          0.0014069534397114602,
          0.001673890923414828
         ]
        },
        {
         "marker": {
          "color": "black",
          "colorscale": [
           [
            0,
            "#440154"
           ],
           [
            0.1111111111111111,
            "#482878"
           ],
           [
            0.2222222222222222,
            "#3e4989"
           ],
           [
            0.3333333333333333,
            "#31688e"
           ],
           [
            0.4444444444444444,
            "#26828e"
           ],
           [
            0.5555555555555556,
            "#1f9e89"
           ],
           [
            0.6666666666666666,
            "#35b779"
           ],
           [
            0.7777777777777778,
            "#6ece58"
           ],
           [
            0.8888888888888888,
            "#b5de2b"
           ],
           [
            1,
            "#fde725"
           ]
          ],
          "opacity": 0.8,
          "size": 3
         },
         "mode": "markers",
         "type": "scatter3d",
         "x": [
          0.4835089872220825,
          0.49037994904349064,
          0.4837583684838509,
          0.490629330305259,
          0.5735145467177262,
          0.5803855085391342,
          0.5737639279794944,
          0.5806348898009026
         ],
         "y": [
          0.04460440557394285,
          0.09620830358889076,
          0.045310386254083006,
          0.09691428426903093,
          0.0326198286169951,
          0.084223726631943,
          0.033325809297135266,
          0.08492970731208317
         ],
         "z": [
          0.14420713117660328,
          0.14447406866030663,
          0.001309087717666406,
          0.0015760252013697737,
          0.1443049968986483,
          0.1445719343823517,
          0.0014069534397114602,
          0.001673890923414828
         ]
        },
        {
         "color": "blue",
         "delaunayaxis": "z",
         "flatshading": true,
         "i": [
          0,
          1,
          4,
          5,
          2,
          3,
          0,
          5,
          1,
          1,
          0,
          2
         ],
         "j": [
          1,
          2,
          5,
          6,
          3,
          6,
          1,
          1,
          5,
          3,
          4,
          4
         ],
         "k": [
          2,
          3,
          6,
          7,
          6,
          7,
          4,
          4,
          7,
          7,
          6,
          6
         ],
         "opacity": 0.05,
         "type": "mesh3d",
         "x": [
          0.38287735687280544,
          0.4238954160293365,
          0.38282129849917185,
          0.4238393576557029,
          0.43879231228291415,
          0.4798103714394451,
          0.43873625390928056,
          0.4797543130658116
         ],
         "y": [
          -0.2713538356420198,
          -0.2392951229009566,
          -0.2714502413699545,
          -0.23939152862889124,
          -0.3428951346999872,
          -0.31083642195892386,
          -0.34299154042792185,
          -0.3109328276868586
         ],
         "z": [
          0.14157655032570535,
          0.14153883128667272,
          -0.0013234111421726934,
          -0.0013611301812053184,
          0.14160287986080347,
          0.14156516082177084,
          -0.001297081607074561,
          -0.0013348006461071861
         ]
        },
        {
         "marker": {
          "color": "black",
          "colorscale": [
           [
            0,
            "#440154"
           ],
           [
            0.1111111111111111,
            "#482878"
           ],
           [
            0.2222222222222222,
            "#3e4989"
           ],
           [
            0.3333333333333333,
            "#31688e"
           ],
           [
            0.4444444444444444,
            "#26828e"
           ],
           [
            0.5555555555555556,
            "#1f9e89"
           ],
           [
            0.6666666666666666,
            "#35b779"
           ],
           [
            0.7777777777777778,
            "#6ece58"
           ],
           [
            0.8888888888888888,
            "#b5de2b"
           ],
           [
            1,
            "#fde725"
           ]
          ],
          "opacity": 0.8,
          "size": 3
         },
         "mode": "markers",
         "type": "scatter3d",
         "x": [
          0.38287735687280544,
          0.4238954160293365,
          0.38282129849917185,
          0.4238393576557029,
          0.43879231228291415,
          0.4798103714394451,
          0.43873625390928056,
          0.4797543130658116
         ],
         "y": [
          -0.2713538356420198,
          -0.2392951229009566,
          -0.2714502413699545,
          -0.23939152862889124,
          -0.3428951346999872,
          -0.31083642195892386,
          -0.34299154042792185,
          -0.3109328276868586
         ],
         "z": [
          0.14157655032570535,
          0.14153883128667272,
          -0.0013234111421726934,
          -0.0013611301812053184,
          0.14160287986080347,
          0.14156516082177084,
          -0.001297081607074561,
          -0.0013348006461071861
         ]
        },
        {
         "color": "blue",
         "delaunayaxis": "z",
         "flatshading": true,
         "i": [
          0,
          1,
          4,
          5,
          2,
          3,
          0,
          5,
          1,
          1,
          0,
          2
         ],
         "j": [
          1,
          2,
          5,
          6,
          3,
          6,
          1,
          1,
          5,
          3,
          4,
          4
         ],
         "k": [
          2,
          3,
          6,
          7,
          6,
          7,
          4,
          4,
          7,
          7,
          6,
          6
         ],
         "opacity": 0.05,
         "type": "mesh3d",
         "x": [
          0.46238989436024375,
          0.4867480453751904,
          0.46236833262385807,
          0.48672648363880466,
          0.5426379155082968,
          0.5669960665232433,
          0.5426163537719111,
          0.5669745047868577
         ],
         "y": [
          -0.10857728277779607,
          -0.06256724316673794,
          -0.10862770688753984,
          -0.06261766727648169,
          -0.15106134445005384,
          -0.10505130483899566,
          -0.15111176855979758,
          -0.10510172894873943
         ],
         "z": [
          0.14082766101126146,
          0.14080775044843433,
          -0.0020723334485961576,
          -0.0020922440114232777,
          0.14083054368674516,
          0.14081063312391806,
          -0.002069450773112441,
          -0.0020893613359395614
         ]
        },
        {
         "marker": {
          "color": "black",
          "colorscale": [
           [
            0,
            "#440154"
           ],
           [
            0.1111111111111111,
            "#482878"
           ],
           [
            0.2222222222222222,
            "#3e4989"
           ],
           [
            0.3333333333333333,
            "#31688e"
           ],
           [
            0.4444444444444444,
            "#26828e"
           ],
           [
            0.5555555555555556,
            "#1f9e89"
           ],
           [
            0.6666666666666666,
            "#35b779"
           ],
           [
            0.7777777777777778,
            "#6ece58"
           ],
           [
            0.8888888888888888,
            "#b5de2b"
           ],
           [
            1,
            "#fde725"
           ]
          ],
          "opacity": 0.8,
          "size": 3
         },
         "mode": "markers",
         "type": "scatter3d",
         "x": [
          0.46238989436024375,
          0.4867480453751904,
          0.46236833262385807,
          0.48672648363880466,
          0.5426379155082968,
          0.5669960665232433,
          0.5426163537719111,
          0.5669745047868577
         ],
         "y": [
          -0.10857728277779607,
          -0.06256724316673794,
          -0.10862770688753984,
          -0.06261766727648169,
          -0.15106134445005384,
          -0.10505130483899566,
          -0.15111176855979758,
          -0.10510172894873943
         ],
         "z": [
          0.14082766101126146,
          0.14080775044843433,
          -0.0020723334485961576,
          -0.0020922440114232777,
          0.14083054368674516,
          0.14081063312391806,
          -0.002069450773112441,
          -0.0020893613359395614
         ]
        },
        {
         "color": "blue",
         "delaunayaxis": "z",
         "flatshading": true,
         "i": [
          0,
          1,
          4,
          5,
          2,
          3,
          0,
          5,
          1,
          1,
          0,
          2
         ],
         "j": [
          1,
          2,
          5,
          6,
          3,
          6,
          1,
          1,
          5,
          3,
          4,
          4
         ],
         "k": [
          2,
          3,
          6,
          7,
          6,
          7,
          4,
          4,
          7,
          7,
          6,
          6
         ],
         "opacity": 0.05,
         "type": "mesh3d",
         "x": [
          0.47674092006077434,
          0.49724658321452725,
          0.4768643048928526,
          0.4973699680466055,
          0.5602005812988516,
          0.5807062444526044,
          0.5603239661309299,
          0.5808296292846828
         ],
         "y": [
          -0.07358613646523247,
          -0.02573469462339982,
          -0.07354674341189175,
          -0.025695301570059094,
          -0.10935094430061998,
          -0.0614995024587873,
          -0.10931155124727923,
          -0.06146010940544658
         ],
         "z": [
          0.1430107673771532,
          0.14304166383527334,
          0.0001108210913087823,
          0.00014171754942889536,
          0.14307297013884362,
          0.14310386659696372,
          0.0001730238529991846,
          0.00020392031111929766
         ]
        },
        {
         "marker": {
          "color": "black",
          "colorscale": [
           [
            0,
            "#440154"
           ],
           [
            0.1111111111111111,
            "#482878"
           ],
           [
            0.2222222222222222,
            "#3e4989"
           ],
           [
            0.3333333333333333,
            "#31688e"
           ],
           [
            0.4444444444444444,
            "#26828e"
           ],
           [
            0.5555555555555556,
            "#1f9e89"
           ],
           [
            0.6666666666666666,
            "#35b779"
           ],
           [
            0.7777777777777778,
            "#6ece58"
           ],
           [
            0.8888888888888888,
            "#b5de2b"
           ],
           [
            1,
            "#fde725"
           ]
          ],
          "opacity": 0.8,
          "size": 3
         },
         "mode": "markers",
         "type": "scatter3d",
         "x": [
          0.47674092006077434,
          0.49724658321452725,
          0.4768643048928526,
          0.4973699680466055,
          0.5602005812988516,
          0.5807062444526044,
          0.5603239661309299,
          0.5808296292846828
         ],
         "y": [
          -0.07358613646523247,
          -0.02573469462339982,
          -0.07354674341189175,
          -0.025695301570059094,
          -0.10935094430061998,
          -0.0614995024587873,
          -0.10931155124727923,
          -0.06146010940544658
         ],
         "z": [
          0.1430107673771532,
          0.14304166383527334,
          0.0001108210913087823,
          0.00014171754942889536,
          0.14307297013884362,
          0.14310386659696372,
          0.0001730238529991846,
          0.00020392031111929766
         ]
        },
        {
         "color": "blue",
         "delaunayaxis": "z",
         "flatshading": true,
         "i": [
          0,
          1,
          4,
          5,
          2,
          3,
          0,
          5,
          1,
          1,
          0,
          2
         ],
         "j": [
          1,
          2,
          5,
          6,
          3,
          6,
          1,
          1,
          5,
          3,
          4,
          4
         ],
         "k": [
          2,
          3,
          6,
          7,
          6,
          7,
          4,
          4,
          7,
          7,
          6,
          6
         ],
         "opacity": 0.05,
         "type": "mesh3d",
         "x": [
          0.47765867332576045,
          0.48845311168165817,
          0.47692413851908283,
          0.4877185768749805,
          0.566484151805944,
          0.5772785901618416,
          0.5657496169992664,
          0.5765440553551641
         ],
         "y": [
          0.01327188783402676,
          0.06420044518722437,
          0.013213724626709743,
          0.06414228197990735,
          -0.005555571978060142,
          0.04537298537513746,
          -0.005613735185377146,
          0.04531482216782046
         ],
         "z": [
          0.13944570542706605,
          0.13936948986838263,
          -0.003452399878028001,
          -0.003528615436711433,
          0.13899678176864372,
          0.1389205662099603,
          -0.003901323536450349,
          -0.0039775390951337815
         ]
        },
        {
         "marker": {
          "color": "black",
          "colorscale": [
           [
            0,
            "#440154"
           ],
           [
            0.1111111111111111,
            "#482878"
           ],
           [
            0.2222222222222222,
            "#3e4989"
           ],
           [
            0.3333333333333333,
            "#31688e"
           ],
           [
            0.4444444444444444,
            "#26828e"
           ],
           [
            0.5555555555555556,
            "#1f9e89"
           ],
           [
            0.6666666666666666,
            "#35b779"
           ],
           [
            0.7777777777777778,
            "#6ece58"
           ],
           [
            0.8888888888888888,
            "#b5de2b"
           ],
           [
            1,
            "#fde725"
           ]
          ],
          "opacity": 0.8,
          "size": 3
         },
         "mode": "markers",
         "type": "scatter3d",
         "x": [
          0.47765867332576045,
          0.48845311168165817,
          0.47692413851908283,
          0.4877185768749805,
          0.566484151805944,
          0.5772785901618416,
          0.5657496169992664,
          0.5765440553551641
         ],
         "y": [
          0.01327188783402676,
          0.06420044518722437,
          0.013213724626709743,
          0.06414228197990735,
          -0.005555571978060142,
          0.04537298537513746,
          -0.005613735185377146,
          0.04531482216782046
         ],
         "z": [
          0.13944570542706605,
          0.13936948986838263,
          -0.003452399878028001,
          -0.003528615436711433,
          0.13899678176864372,
          0.1389205662099603,
          -0.003901323536450349,
          -0.0039775390951337815
         ]
        },
        {
         "color": "blue",
         "delaunayaxis": "z",
         "flatshading": true,
         "i": [
          0,
          1,
          4,
          5,
          2,
          3,
          0,
          5,
          1,
          1,
          0,
          2
         ],
         "j": [
          1,
          2,
          5,
          6,
          3,
          6,
          1,
          1,
          5,
          3,
          4,
          4
         ],
         "k": [
          2,
          3,
          6,
          7,
          6,
          7,
          4,
          4,
          7,
          7,
          6,
          6
         ],
         "opacity": 0.05,
         "type": "mesh3d",
         "x": [
          0.466472546826328,
          0.4916321041482962,
          0.46608992447686554,
          0.49124948179883376,
          0.5459644752668744,
          0.5711240325888425,
          0.545581852917412,
          0.5707414102393803
         ],
         "y": [
          -0.11581667286498223,
          -0.0702403620175889,
          -0.11623430701433624,
          -0.0706579961669429,
          -0.1596990902901506,
          -0.11412277944275726,
          -0.16011672443950462,
          -0.11454041359211128
         ],
         "z": [
          0.1404562413446339,
          0.14025567411657966,
          -0.002442641107195115,
          -0.0026432083352493363,
          0.14037164591503465,
          0.14017107868698042,
          -0.0025272365367943477,
          -0.0027278037648485686
         ]
        },
        {
         "marker": {
          "color": "black",
          "colorscale": [
           [
            0,
            "#440154"
           ],
           [
            0.1111111111111111,
            "#482878"
           ],
           [
            0.2222222222222222,
            "#3e4989"
           ],
           [
            0.3333333333333333,
            "#31688e"
           ],
           [
            0.4444444444444444,
            "#26828e"
           ],
           [
            0.5555555555555556,
            "#1f9e89"
           ],
           [
            0.6666666666666666,
            "#35b779"
           ],
           [
            0.7777777777777778,
            "#6ece58"
           ],
           [
            0.8888888888888888,
            "#b5de2b"
           ],
           [
            1,
            "#fde725"
           ]
          ],
          "opacity": 0.8,
          "size": 3
         },
         "mode": "markers",
         "type": "scatter3d",
         "x": [
          0.466472546826328,
          0.4916321041482962,
          0.46608992447686554,
          0.49124948179883376,
          0.5459644752668744,
          0.5711240325888425,
          0.545581852917412,
          0.5707414102393803
         ],
         "y": [
          -0.11581667286498223,
          -0.0702403620175889,
          -0.11623430701433624,
          -0.0706579961669429,
          -0.1596990902901506,
          -0.11412277944275726,
          -0.16011672443950462,
          -0.11454041359211128
         ],
         "z": [
          0.1404562413446339,
          0.14025567411657966,
          -0.002442641107195115,
          -0.0026432083352493363,
          0.14037164591503465,
          0.14017107868698042,
          -0.0025272365367943477,
          -0.0027278037648485686
         ]
        },
        {
         "color": "blue",
         "delaunayaxis": "z",
         "flatshading": true,
         "i": [
          0,
          1,
          4,
          5,
          2,
          3,
          0,
          5,
          1,
          1,
          0,
          2
         ],
         "j": [
          1,
          2,
          5,
          6,
          3,
          6,
          1,
          1,
          5,
          3,
          4,
          4
         ],
         "k": [
          2,
          3,
          6,
          7,
          6,
          7,
          4,
          4,
          7,
          7,
          6,
          6
         ],
         "opacity": 0.05,
         "type": "mesh3d",
         "x": [
          0.47105401690817367,
          0.4902024610767707,
          0.4706643177392163,
          0.4898127619078133,
          0.5554884873024644,
          0.5746369314710613,
          0.555098788133507,
          0.5742472323021041
         ],
         "y": [
          -0.062239767920647324,
          -0.01382964901235928,
          -0.06268431226412471,
          -0.014274193355836663,
          -0.09563804099645298,
          -0.04722792208816494,
          -0.09608258533993036,
          -0.04767246643164233
         ],
         "z": [
          0.14004822043321846,
          0.13984540150872043,
          -0.0028505617134851266,
          -0.0030533806379831664,
          0.13992185805773152,
          0.1397190391332335,
          -0.002976924088972063,
          -0.0031797430134701027
         ]
        },
        {
         "marker": {
          "color": "black",
          "colorscale": [
           [
            0,
            "#440154"
           ],
           [
            0.1111111111111111,
            "#482878"
           ],
           [
            0.2222222222222222,
            "#3e4989"
           ],
           [
            0.3333333333333333,
            "#31688e"
           ],
           [
            0.4444444444444444,
            "#26828e"
           ],
           [
            0.5555555555555556,
            "#1f9e89"
           ],
           [
            0.6666666666666666,
            "#35b779"
           ],
           [
            0.7777777777777778,
            "#6ece58"
           ],
           [
            0.8888888888888888,
            "#b5de2b"
           ],
           [
            1,
            "#fde725"
           ]
          ],
          "opacity": 0.8,
          "size": 3
         },
         "mode": "markers",
         "type": "scatter3d",
         "x": [
          0.47105401690817367,
          0.4902024610767707,
          0.4706643177392163,
          0.4898127619078133,
          0.5554884873024644,
          0.5746369314710613,
          0.555098788133507,
          0.5742472323021041
         ],
         "y": [
          -0.062239767920647324,
          -0.01382964901235928,
          -0.06268431226412471,
          -0.014274193355836663,
          -0.09563804099645298,
          -0.04722792208816494,
          -0.09608258533993036,
          -0.04767246643164233
         ],
         "z": [
          0.14004822043321846,
          0.13984540150872043,
          -0.0028505617134851266,
          -0.0030533806379831664,
          0.13992185805773152,
          0.1397190391332335,
          -0.002976924088972063,
          -0.0031797430134701027
         ]
        },
        {
         "color": "blue",
         "delaunayaxis": "z",
         "flatshading": true,
         "i": [
          0,
          1,
          4,
          5,
          2,
          3,
          0,
          5,
          1,
          1,
          0,
          2
         ],
         "j": [
          1,
          2,
          5,
          6,
          3,
          6,
          1,
          1,
          5,
          3,
          4,
          4
         ],
         "k": [
          2,
          3,
          6,
          7,
          6,
          7,
          4,
          4,
          7,
          7,
          6,
          6
         ],
         "opacity": 0.05,
         "type": "mesh3d",
         "x": [
          0.4398243624713965,
          0.47100034533618773,
          0.4403555146956461,
          0.47153149756043733,
          0.5125419725674949,
          0.543717955432286,
          0.5130731247917445,
          0.5442491076565357
         ],
         "y": [
          -0.17521618024767557,
          -0.13352359262091545,
          -0.17502077602331428,
          -0.1333281883965542,
          -0.22959219696696226,
          -0.1878996093402021,
          -0.22939679274260094,
          -0.18770420511584085
         ],
         "z": [
          0.1437890998625057,
          0.143961992047907,
          0.0008902156169300465,
          0.001063107802331335,
          0.1439850343312847,
          0.144157926516686,
          0.001086150085709039,
          0.001259042271110328
         ]
        },
        {
         "marker": {
          "color": "black",
          "colorscale": [
           [
            0,
            "#440154"
           ],
           [
            0.1111111111111111,
            "#482878"
           ],
           [
            0.2222222222222222,
            "#3e4989"
           ],
           [
            0.3333333333333333,
            "#31688e"
           ],
           [
            0.4444444444444444,
            "#26828e"
           ],
           [
            0.5555555555555556,
            "#1f9e89"
           ],
           [
            0.6666666666666666,
            "#35b779"
           ],
           [
            0.7777777777777778,
            "#6ece58"
           ],
           [
            0.8888888888888888,
            "#b5de2b"
           ],
           [
            1,
            "#fde725"
           ]
          ],
          "opacity": 0.8,
          "size": 3
         },
         "mode": "markers",
         "type": "scatter3d",
         "x": [
          0.4398243624713965,
          0.47100034533618773,
          0.4403555146956461,
          0.47153149756043733,
          0.5125419725674949,
          0.543717955432286,
          0.5130731247917445,
          0.5442491076565357
         ],
         "y": [
          -0.17521618024767557,
          -0.13352359262091545,
          -0.17502077602331428,
          -0.1333281883965542,
          -0.22959219696696226,
          -0.1878996093402021,
          -0.22939679274260094,
          -0.18770420511584085
         ],
         "z": [
          0.1437890998625057,
          0.143961992047907,
          0.0008902156169300465,
          0.001063107802331335,
          0.1439850343312847,
          0.144157926516686,
          0.001086150085709039,
          0.001259042271110328
         ]
        }
       ],
       "layout": {
        "margin": {
         "b": 10,
         "l": 10,
         "r": 20,
         "t": 10
        },
        "scene": {
         "camera": {
          "center": {
           "x": 0.45,
           "y": 0,
           "z": 0
          },
          "eye": {
           "x": -1,
           "y": 0,
           "z": 0.01
          },
          "up": {
           "x": 0,
           "y": 0,
           "z": 1
          }
         },
         "xaxis": {
          "nticks": 10,
          "range": [
           -0.1,
           0.9
          ]
         },
         "yaxis": {
          "nticks": 16,
          "range": [
           -0.5,
           0.5
          ]
         },
         "zaxis": {
          "nticks": 8,
          "range": [
           -0.01,
           0.99
          ]
         }
        },
        "template": {
         "data": {
          "bar": [
           {
            "error_x": {
             "color": "#2a3f5f"
            },
            "error_y": {
             "color": "#2a3f5f"
            },
            "marker": {
             "line": {
              "color": "#E5ECF6",
              "width": 0.5
             }
            },
            "type": "bar"
           }
          ],
          "barpolar": [
           {
            "marker": {
             "line": {
              "color": "#E5ECF6",
              "width": 0.5
             }
            },
            "type": "barpolar"
           }
          ],
          "carpet": [
           {
            "aaxis": {
             "endlinecolor": "#2a3f5f",
             "gridcolor": "white",
             "linecolor": "white",
             "minorgridcolor": "white",
             "startlinecolor": "#2a3f5f"
            },
            "baxis": {
             "endlinecolor": "#2a3f5f",
             "gridcolor": "white",
             "linecolor": "white",
             "minorgridcolor": "white",
             "startlinecolor": "#2a3f5f"
            },
            "type": "carpet"
           }
          ],
          "choropleth": [
           {
            "colorbar": {
             "outlinewidth": 0,
             "ticks": ""
            },
            "type": "choropleth"
           }
          ],
          "contour": [
           {
            "colorbar": {
             "outlinewidth": 0,
             "ticks": ""
            },
            "colorscale": [
             [
              0,
              "#0d0887"
             ],
             [
              0.1111111111111111,
              "#46039f"
             ],
             [
              0.2222222222222222,
              "#7201a8"
             ],
             [
              0.3333333333333333,
              "#9c179e"
             ],
             [
              0.4444444444444444,
              "#bd3786"
             ],
             [
              0.5555555555555556,
              "#d8576b"
             ],
             [
              0.6666666666666666,
              "#ed7953"
             ],
             [
              0.7777777777777778,
              "#fb9f3a"
             ],
             [
              0.8888888888888888,
              "#fdca26"
             ],
             [
              1,
              "#f0f921"
             ]
            ],
            "type": "contour"
           }
          ],
          "contourcarpet": [
           {
            "colorbar": {
             "outlinewidth": 0,
             "ticks": ""
            },
            "type": "contourcarpet"
           }
          ],
          "heatmap": [
           {
            "colorbar": {
             "outlinewidth": 0,
             "ticks": ""
            },
            "colorscale": [
             [
              0,
              "#0d0887"
             ],
             [
              0.1111111111111111,
              "#46039f"
             ],
             [
              0.2222222222222222,
              "#7201a8"
             ],
             [
              0.3333333333333333,
              "#9c179e"
             ],
             [
              0.4444444444444444,
              "#bd3786"
             ],
             [
              0.5555555555555556,
              "#d8576b"
             ],
             [
              0.6666666666666666,
              "#ed7953"
             ],
             [
              0.7777777777777778,
              "#fb9f3a"
             ],
             [
              0.8888888888888888,
              "#fdca26"
             ],
             [
              1,
              "#f0f921"
             ]
            ],
            "type": "heatmap"
           }
          ],
          "heatmapgl": [
           {
            "colorbar": {
             "outlinewidth": 0,
             "ticks": ""
            },
            "colorscale": [
             [
              0,
              "#0d0887"
             ],
             [
              0.1111111111111111,
              "#46039f"
             ],
             [
              0.2222222222222222,
              "#7201a8"
             ],
             [
              0.3333333333333333,
              "#9c179e"
             ],
             [
              0.4444444444444444,
              "#bd3786"
             ],
             [
              0.5555555555555556,
              "#d8576b"
             ],
             [
              0.6666666666666666,
              "#ed7953"
             ],
             [
              0.7777777777777778,
              "#fb9f3a"
             ],
             [
              0.8888888888888888,
              "#fdca26"
             ],
             [
              1,
              "#f0f921"
             ]
            ],
            "type": "heatmapgl"
           }
          ],
          "histogram": [
           {
            "marker": {
             "colorbar": {
              "outlinewidth": 0,
              "ticks": ""
             }
            },
            "type": "histogram"
           }
          ],
          "histogram2d": [
           {
            "colorbar": {
             "outlinewidth": 0,
             "ticks": ""
            },
            "colorscale": [
             [
              0,
              "#0d0887"
             ],
             [
              0.1111111111111111,
              "#46039f"
             ],
             [
              0.2222222222222222,
              "#7201a8"
             ],
             [
              0.3333333333333333,
              "#9c179e"
             ],
             [
              0.4444444444444444,
              "#bd3786"
             ],
             [
              0.5555555555555556,
              "#d8576b"
             ],
             [
              0.6666666666666666,
              "#ed7953"
             ],
             [
              0.7777777777777778,
              "#fb9f3a"
             ],
             [
              0.8888888888888888,
              "#fdca26"
             ],
             [
              1,
              "#f0f921"
             ]
            ],
            "type": "histogram2d"
           }
          ],
          "histogram2dcontour": [
           {
            "colorbar": {
             "outlinewidth": 0,
             "ticks": ""
            },
            "colorscale": [
             [
              0,
              "#0d0887"
             ],
             [
              0.1111111111111111,
              "#46039f"
             ],
             [
              0.2222222222222222,
              "#7201a8"
             ],
             [
              0.3333333333333333,
              "#9c179e"
             ],
             [
              0.4444444444444444,
              "#bd3786"
             ],
             [
              0.5555555555555556,
              "#d8576b"
             ],
             [
              0.6666666666666666,
              "#ed7953"
             ],
             [
              0.7777777777777778,
              "#fb9f3a"
             ],
             [
              0.8888888888888888,
              "#fdca26"
             ],
             [
              1,
              "#f0f921"
             ]
            ],
            "type": "histogram2dcontour"
           }
          ],
          "mesh3d": [
           {
            "colorbar": {
             "outlinewidth": 0,
             "ticks": ""
            },
            "type": "mesh3d"
           }
          ],
          "parcoords": [
           {
            "line": {
             "colorbar": {
              "outlinewidth": 0,
              "ticks": ""
             }
            },
            "type": "parcoords"
           }
          ],
          "pie": [
           {
            "automargin": true,
            "type": "pie"
           }
          ],
          "scatter": [
           {
            "marker": {
             "colorbar": {
              "outlinewidth": 0,
              "ticks": ""
             }
            },
            "type": "scatter"
           }
          ],
          "scatter3d": [
           {
            "line": {
             "colorbar": {
              "outlinewidth": 0,
              "ticks": ""
             }
            },
            "marker": {
             "colorbar": {
              "outlinewidth": 0,
              "ticks": ""
             }
            },
            "type": "scatter3d"
           }
          ],
          "scattercarpet": [
           {
            "marker": {
             "colorbar": {
              "outlinewidth": 0,
              "ticks": ""
             }
            },
            "type": "scattercarpet"
           }
          ],
          "scattergeo": [
           {
            "marker": {
             "colorbar": {
              "outlinewidth": 0,
              "ticks": ""
             }
            },
            "type": "scattergeo"
           }
          ],
          "scattergl": [
           {
            "marker": {
             "colorbar": {
              "outlinewidth": 0,
              "ticks": ""
             }
            },
            "type": "scattergl"
           }
          ],
          "scattermapbox": [
           {
            "marker": {
             "colorbar": {
              "outlinewidth": 0,
              "ticks": ""
             }
            },
            "type": "scattermapbox"
           }
          ],
          "scatterpolar": [
           {
            "marker": {
             "colorbar": {
              "outlinewidth": 0,
              "ticks": ""
             }
            },
            "type": "scatterpolar"
           }
          ],
          "scatterpolargl": [
           {
            "marker": {
             "colorbar": {
              "outlinewidth": 0,
              "ticks": ""
             }
            },
            "type": "scatterpolargl"
           }
          ],
          "scatterternary": [
           {
            "marker": {
             "colorbar": {
              "outlinewidth": 0,
              "ticks": ""
             }
            },
            "type": "scatterternary"
           }
          ],
          "surface": [
           {
            "colorbar": {
             "outlinewidth": 0,
             "ticks": ""
            },
            "colorscale": [
             [
              0,
              "#0d0887"
             ],
             [
              0.1111111111111111,
              "#46039f"
             ],
             [
              0.2222222222222222,
              "#7201a8"
             ],
             [
              0.3333333333333333,
              "#9c179e"
             ],
             [
              0.4444444444444444,
              "#bd3786"
             ],
             [
              0.5555555555555556,
              "#d8576b"
             ],
             [
              0.6666666666666666,
              "#ed7953"
             ],
             [
              0.7777777777777778,
              "#fb9f3a"
             ],
             [
              0.8888888888888888,
              "#fdca26"
             ],
             [
              1,
              "#f0f921"
             ]
            ],
            "type": "surface"
           }
          ],
          "table": [
           {
            "cells": {
             "fill": {
              "color": "#EBF0F8"
             },
             "line": {
              "color": "white"
             }
            },
            "header": {
             "fill": {
              "color": "#C8D4E3"
             },
             "line": {
              "color": "white"
             }
            },
            "type": "table"
           }
          ]
         },
         "layout": {
          "annotationdefaults": {
           "arrowcolor": "#2a3f5f",
           "arrowhead": 0,
           "arrowwidth": 1
          },
          "coloraxis": {
           "colorbar": {
            "outlinewidth": 0,
            "ticks": ""
           }
          },
          "colorscale": {
           "diverging": [
            [
             0,
             "#8e0152"
            ],
            [
             0.1,
             "#c51b7d"
            ],
            [
             0.2,
             "#de77ae"
            ],
            [
             0.3,
             "#f1b6da"
            ],
            [
             0.4,
             "#fde0ef"
            ],
            [
             0.5,
             "#f7f7f7"
            ],
            [
             0.6,
             "#e6f5d0"
            ],
            [
             0.7,
             "#b8e186"
            ],
            [
             0.8,
             "#7fbc41"
            ],
            [
             0.9,
             "#4d9221"
            ],
            [
             1,
             "#276419"
            ]
           ],
           "sequential": [
            [
             0,
             "#0d0887"
            ],
            [
             0.1111111111111111,
             "#46039f"
            ],
            [
             0.2222222222222222,
             "#7201a8"
            ],
            [
             0.3333333333333333,
             "#9c179e"
            ],
            [
             0.4444444444444444,
             "#bd3786"
            ],
            [
             0.5555555555555556,
             "#d8576b"
            ],
            [
             0.6666666666666666,
             "#ed7953"
            ],
            [
             0.7777777777777778,
             "#fb9f3a"
            ],
            [
             0.8888888888888888,
             "#fdca26"
            ],
            [
             1,
             "#f0f921"
            ]
           ],
           "sequentialminus": [
            [
             0,
             "#0d0887"
            ],
            [
             0.1111111111111111,
             "#46039f"
            ],
            [
             0.2222222222222222,
             "#7201a8"
            ],
            [
             0.3333333333333333,
             "#9c179e"
            ],
            [
             0.4444444444444444,
             "#bd3786"
            ],
            [
             0.5555555555555556,
             "#d8576b"
            ],
            [
             0.6666666666666666,
             "#ed7953"
            ],
            [
             0.7777777777777778,
             "#fb9f3a"
            ],
            [
             0.8888888888888888,
             "#fdca26"
            ],
            [
             1,
             "#f0f921"
            ]
           ]
          },
          "colorway": [
           "#636efa",
           "#EF553B",
           "#00cc96",
           "#ab63fa",
           "#FFA15A",
           "#19d3f3",
           "#FF6692",
           "#B6E880",
           "#FF97FF",
           "#FECB52"
          ],
          "font": {
           "color": "#2a3f5f"
          },
          "geo": {
           "bgcolor": "white",
           "lakecolor": "white",
           "landcolor": "#E5ECF6",
           "showlakes": true,
           "showland": true,
           "subunitcolor": "white"
          },
          "hoverlabel": {
           "align": "left"
          },
          "hovermode": "closest",
          "mapbox": {
           "style": "light"
          },
          "paper_bgcolor": "white",
          "plot_bgcolor": "#E5ECF6",
          "polar": {
           "angularaxis": {
            "gridcolor": "white",
            "linecolor": "white",
            "ticks": ""
           },
           "bgcolor": "#E5ECF6",
           "radialaxis": {
            "gridcolor": "white",
            "linecolor": "white",
            "ticks": ""
           }
          },
          "scene": {
           "xaxis": {
            "backgroundcolor": "#E5ECF6",
            "gridcolor": "white",
            "gridwidth": 2,
            "linecolor": "white",
            "showbackground": true,
            "ticks": "",
            "zerolinecolor": "white"
           },
           "yaxis": {
            "backgroundcolor": "#E5ECF6",
            "gridcolor": "white",
            "gridwidth": 2,
            "linecolor": "white",
            "showbackground": true,
            "ticks": "",
            "zerolinecolor": "white"
           },
           "zaxis": {
            "backgroundcolor": "#E5ECF6",
            "gridcolor": "white",
            "gridwidth": 2,
            "linecolor": "white",
            "showbackground": true,
            "ticks": "",
            "zerolinecolor": "white"
           }
          },
          "shapedefaults": {
           "line": {
            "color": "#2a3f5f"
           }
          },
          "ternary": {
           "aaxis": {
            "gridcolor": "white",
            "linecolor": "white",
            "ticks": ""
           },
           "baxis": {
            "gridcolor": "white",
            "linecolor": "white",
            "ticks": ""
           },
           "bgcolor": "#E5ECF6",
           "caxis": {
            "gridcolor": "white",
            "linecolor": "white",
            "ticks": ""
           }
          },
          "title": {
           "x": 0.05
          },
          "xaxis": {
           "automargin": true,
           "gridcolor": "white",
           "linecolor": "white",
           "ticks": "",
           "title": {
            "standoff": 15
           },
           "zerolinecolor": "white",
           "zerolinewidth": 2
          },
          "yaxis": {
           "automargin": true,
           "gridcolor": "white",
           "linecolor": "white",
           "ticks": "",
           "title": {
            "standoff": 15
           },
           "zerolinecolor": "white",
           "zerolinewidth": 2
          }
         }
        },
        "width": 700
       }
      },
      "text/html": "<div>\n        \n        \n            <div id=\"15453659-9215-4bfe-b13c-05a261fe6245\" class=\"plotly-graph-div\" style=\"height:525px; width:700px;\"></div>\n            <script type=\"text/javascript\">\n                require([\"plotly\"], function(Plotly) {\n                    window.PLOTLYENV=window.PLOTLYENV || {};\n                    \n                if (document.getElementById(\"15453659-9215-4bfe-b13c-05a261fe6245\")) {\n                    Plotly.newPlot(\n                        '15453659-9215-4bfe-b13c-05a261fe6245',\n                        [{\"color\": \"red\", \"delaunayaxis\": \"z\", \"flatshading\": true, \"i\": [0, 1, 4, 5, 2, 3, 0, 5, 1, 1, 0, 2], \"j\": [1, 2, 5, 6, 3, 6, 1, 1, 5, 3, 4, 4], \"k\": [2, 3, 6, 7, 6, 7, 4, 4, 7, 7, 6, 6], \"opacity\": 0.95, \"type\": \"mesh3d\", \"x\": [0.4234841912007213, 0.44204221592153353, 0.4234841912007213, 0.44204221592153353, 0.5083191172883512, 0.5268771420091634, 0.5083191172883512, 0.5268771420091635], \"y\": [-0.08666952817313521, -0.03802959210440337, -0.08666952817313517, -0.03802959210440333, -0.11903734735155302, -0.07039741128282118, -0.11903734735155297, -0.07039741128282113], \"z\": [0.1429000049829483, 0.14290000498294833, -2.7755575615628914e-17, 0.0, 0.1429000049829483, 0.14290000498294833, -2.7755575615628914e-17, 0.0]}, {\"color\": \"gray\", \"delaunayaxis\": \"z\", \"opacity\": 0.5, \"type\": \"mesh3d\", \"x\": [-1, 1, 1, -1], \"y\": [-1, -1, 1, 1], \"z\": [0, 0, 0, 0]}, {\"color\": \"blue\", \"delaunayaxis\": \"z\", \"flatshading\": true, \"i\": [0, 1, 4, 5, 2, 3, 0, 5, 1, 1, 0, 2], \"j\": [1, 2, 5, 6, 3, 6, 1, 1, 5, 3, 4, 4], \"k\": [2, 3, 6, 7, 6, 7, 4, 4, 7, 7, 6, 6], \"opacity\": 0.05, \"type\": \"mesh3d\", \"x\": [0.4512022839059884, 0.4792195425669823, 0.45103338573070834, 0.47905064439170225, 0.5277316050727803, 0.555748863733774, 0.5275627068975002, 0.5555799655584941], \"y\": [-0.14472030912732098, -0.1008423751464336, -0.1448129323932845, -0.10093499841239709, -0.1935864523087921, -0.1497085183279047, -0.19367907557475558, -0.1498011415938682], \"z\": [0.1405731246943707, 0.14051156983714025, -0.0023267504576519114, -0.002388305314882342, 0.14051434563025292, 0.1404527907730225, -0.0023855295217696743, -0.0024470843790001047]}, {\"marker\": {\"color\": \"black\", \"colorscale\": [[0.0, \"#440154\"], [0.1111111111111111, \"#482878\"], [0.2222222222222222, \"#3e4989\"], [0.3333333333333333, \"#31688e\"], [0.4444444444444444, \"#26828e\"], [0.5555555555555556, \"#1f9e89\"], [0.6666666666666666, \"#35b779\"], [0.7777777777777778, \"#6ece58\"], [0.8888888888888888, \"#b5de2b\"], [1.0, \"#fde725\"]], \"opacity\": 0.8, \"size\": 3.0}, \"mode\": \"markers\", \"type\": \"scatter3d\", \"x\": [0.4512022839059884, 0.4792195425669823, 0.45103338573070834, 0.47905064439170225, 0.5277316050727803, 0.555748863733774, 0.5275627068975002, 0.5555799655584941], \"y\": [-0.14472030912732098, -0.1008423751464336, -0.1448129323932845, -0.10093499841239709, -0.1935864523087921, -0.1497085183279047, -0.19367907557475558, -0.1498011415938682], \"z\": [0.1405731246943707, 0.14051156983714025, -0.0023267504576519114, -0.002388305314882342, 0.14051434563025292, 0.1404527907730225, -0.0023855295217696743, -0.0024470843790001047]}, {\"color\": \"blue\", \"delaunayaxis\": \"z\", \"flatshading\": true, \"i\": [0, 1, 4, 5, 2, 3, 0, 5, 1, 1, 0, 2], \"j\": [1, 2, 5, 6, 3, 6, 1, 1, 5, 3, 4, 4], \"k\": [2, 3, 6, 7, 6, 7, 4, 4, 7, 7, 6, 6], \"opacity\": 0.05, \"type\": \"mesh3d\", \"x\": [0.45481635041343527, 0.48109572636474934, 0.4545607619378, 0.48084013788911406, 0.5331985653275749, 0.5594779412788887, 0.5329429768519397, 0.5592223528032536], \"y\": [-0.12849354740811988, -0.08355316961097568, -0.1284155715823808, -0.08347519378523656, -0.17432848490627567, -0.12938810710913143, -0.17425050908053655, -0.12931013128339236], \"z\": [0.14116015192935064, 0.1411376715369302, -0.0017396032083975364, -0.001762083600817964, 0.14099494795189677, 0.14097246755947634, -0.0019048071858513902, -0.0019272875782718178]}, {\"marker\": {\"color\": \"black\", \"colorscale\": [[0.0, \"#440154\"], [0.1111111111111111, \"#482878\"], [0.2222222222222222, \"#3e4989\"], [0.3333333333333333, \"#31688e\"], [0.4444444444444444, \"#26828e\"], [0.5555555555555556, \"#1f9e89\"], [0.6666666666666666, \"#35b779\"], [0.7777777777777778, \"#6ece58\"], [0.8888888888888888, \"#b5de2b\"], [1.0, \"#fde725\"]], \"opacity\": 0.8, \"size\": 3.0}, \"mode\": \"markers\", \"type\": \"scatter3d\", \"x\": [0.45481635041343527, 0.48109572636474934, 0.4545607619378, 0.48084013788911406, 0.5331985653275749, 0.5594779412788887, 0.5329429768519397, 0.5592223528032536], \"y\": [-0.12849354740811988, -0.08355316961097568, -0.1284155715823808, -0.08347519378523656, -0.17432848490627567, -0.12938810710913143, -0.17425050908053655, -0.12931013128339236], \"z\": [0.14116015192935064, 0.1411376715369302, -0.0017396032083975364, -0.001762083600817964, 0.14099494795189677, 0.14097246755947634, -0.0019048071858513902, -0.0019272875782718178]}, {\"color\": \"blue\", \"delaunayaxis\": \"z\", \"flatshading\": true, \"i\": [0, 1, 4, 5, 2, 3, 0, 5, 1, 1, 0, 2], \"j\": [1, 2, 5, 6, 3, 6, 1, 1, 5, 3, 4, 4], \"k\": [2, 3, 6, 7, 6, 7, 4, 4, 7, 7, 6, 6], \"opacity\": 0.05, \"type\": \"mesh3d\", \"x\": [0.4835089872220825, 0.49037994904349064, 0.4837583684838509, 0.490629330305259, 0.5735145467177262, 0.5803855085391342, 0.5737639279794944, 0.5806348898009026], \"y\": [0.04460440557394285, 0.09620830358889076, 0.045310386254083006, 0.09691428426903093, 0.0326198286169951, 0.084223726631943, 0.033325809297135266, 0.08492970731208317], \"z\": [0.14420713117660328, 0.14447406866030663, 0.001309087717666406, 0.0015760252013697737, 0.1443049968986483, 0.1445719343823517, 0.0014069534397114602, 0.001673890923414828]}, {\"marker\": {\"color\": \"black\", \"colorscale\": [[0.0, \"#440154\"], [0.1111111111111111, \"#482878\"], [0.2222222222222222, \"#3e4989\"], [0.3333333333333333, \"#31688e\"], [0.4444444444444444, \"#26828e\"], [0.5555555555555556, \"#1f9e89\"], [0.6666666666666666, \"#35b779\"], [0.7777777777777778, \"#6ece58\"], [0.8888888888888888, \"#b5de2b\"], [1.0, \"#fde725\"]], \"opacity\": 0.8, \"size\": 3.0}, \"mode\": \"markers\", \"type\": \"scatter3d\", \"x\": [0.4835089872220825, 0.49037994904349064, 0.4837583684838509, 0.490629330305259, 0.5735145467177262, 0.5803855085391342, 0.5737639279794944, 0.5806348898009026], \"y\": [0.04460440557394285, 0.09620830358889076, 0.045310386254083006, 0.09691428426903093, 0.0326198286169951, 0.084223726631943, 0.033325809297135266, 0.08492970731208317], \"z\": [0.14420713117660328, 0.14447406866030663, 0.001309087717666406, 0.0015760252013697737, 0.1443049968986483, 0.1445719343823517, 0.0014069534397114602, 0.001673890923414828]}, {\"color\": \"blue\", \"delaunayaxis\": \"z\", \"flatshading\": true, \"i\": [0, 1, 4, 5, 2, 3, 0, 5, 1, 1, 0, 2], \"j\": [1, 2, 5, 6, 3, 6, 1, 1, 5, 3, 4, 4], \"k\": [2, 3, 6, 7, 6, 7, 4, 4, 7, 7, 6, 6], \"opacity\": 0.05, \"type\": \"mesh3d\", \"x\": [0.38287735687280544, 0.4238954160293365, 0.38282129849917185, 0.4238393576557029, 0.43879231228291415, 0.4798103714394451, 0.43873625390928056, 0.4797543130658116], \"y\": [-0.2713538356420198, -0.2392951229009566, -0.2714502413699545, -0.23939152862889124, -0.3428951346999872, -0.31083642195892386, -0.34299154042792185, -0.3109328276868586], \"z\": [0.14157655032570535, 0.14153883128667272, -0.0013234111421726934, -0.0013611301812053184, 0.14160287986080347, 0.14156516082177084, -0.001297081607074561, -0.0013348006461071861]}, {\"marker\": {\"color\": \"black\", \"colorscale\": [[0.0, \"#440154\"], [0.1111111111111111, \"#482878\"], [0.2222222222222222, \"#3e4989\"], [0.3333333333333333, \"#31688e\"], [0.4444444444444444, \"#26828e\"], [0.5555555555555556, \"#1f9e89\"], [0.6666666666666666, \"#35b779\"], [0.7777777777777778, \"#6ece58\"], [0.8888888888888888, \"#b5de2b\"], [1.0, \"#fde725\"]], \"opacity\": 0.8, \"size\": 3.0}, \"mode\": \"markers\", \"type\": \"scatter3d\", \"x\": [0.38287735687280544, 0.4238954160293365, 0.38282129849917185, 0.4238393576557029, 0.43879231228291415, 0.4798103714394451, 0.43873625390928056, 0.4797543130658116], \"y\": [-0.2713538356420198, -0.2392951229009566, -0.2714502413699545, -0.23939152862889124, -0.3428951346999872, -0.31083642195892386, -0.34299154042792185, -0.3109328276868586], \"z\": [0.14157655032570535, 0.14153883128667272, -0.0013234111421726934, -0.0013611301812053184, 0.14160287986080347, 0.14156516082177084, -0.001297081607074561, -0.0013348006461071861]}, {\"color\": \"blue\", \"delaunayaxis\": \"z\", \"flatshading\": true, \"i\": [0, 1, 4, 5, 2, 3, 0, 5, 1, 1, 0, 2], \"j\": [1, 2, 5, 6, 3, 6, 1, 1, 5, 3, 4, 4], \"k\": [2, 3, 6, 7, 6, 7, 4, 4, 7, 7, 6, 6], \"opacity\": 0.05, \"type\": \"mesh3d\", \"x\": [0.46238989436024375, 0.4867480453751904, 0.46236833262385807, 0.48672648363880466, 0.5426379155082968, 0.5669960665232433, 0.5426163537719111, 0.5669745047868577], \"y\": [-0.10857728277779607, -0.06256724316673794, -0.10862770688753984, -0.06261766727648169, -0.15106134445005384, -0.10505130483899566, -0.15111176855979758, -0.10510172894873943], \"z\": [0.14082766101126146, 0.14080775044843433, -0.0020723334485961576, -0.0020922440114232777, 0.14083054368674516, 0.14081063312391806, -0.002069450773112441, -0.0020893613359395614]}, {\"marker\": {\"color\": \"black\", \"colorscale\": [[0.0, \"#440154\"], [0.1111111111111111, \"#482878\"], [0.2222222222222222, \"#3e4989\"], [0.3333333333333333, \"#31688e\"], [0.4444444444444444, \"#26828e\"], [0.5555555555555556, \"#1f9e89\"], [0.6666666666666666, \"#35b779\"], [0.7777777777777778, \"#6ece58\"], [0.8888888888888888, \"#b5de2b\"], [1.0, \"#fde725\"]], \"opacity\": 0.8, \"size\": 3.0}, \"mode\": \"markers\", \"type\": \"scatter3d\", \"x\": [0.46238989436024375, 0.4867480453751904, 0.46236833262385807, 0.48672648363880466, 0.5426379155082968, 0.5669960665232433, 0.5426163537719111, 0.5669745047868577], \"y\": [-0.10857728277779607, -0.06256724316673794, -0.10862770688753984, -0.06261766727648169, -0.15106134445005384, -0.10505130483899566, -0.15111176855979758, -0.10510172894873943], \"z\": [0.14082766101126146, 0.14080775044843433, -0.0020723334485961576, -0.0020922440114232777, 0.14083054368674516, 0.14081063312391806, -0.002069450773112441, -0.0020893613359395614]}, {\"color\": \"blue\", \"delaunayaxis\": \"z\", \"flatshading\": true, \"i\": [0, 1, 4, 5, 2, 3, 0, 5, 1, 1, 0, 2], \"j\": [1, 2, 5, 6, 3, 6, 1, 1, 5, 3, 4, 4], \"k\": [2, 3, 6, 7, 6, 7, 4, 4, 7, 7, 6, 6], \"opacity\": 0.05, \"type\": \"mesh3d\", \"x\": [0.47674092006077434, 0.49724658321452725, 0.4768643048928526, 0.4973699680466055, 0.5602005812988516, 0.5807062444526044, 0.5603239661309299, 0.5808296292846828], \"y\": [-0.07358613646523247, -0.02573469462339982, -0.07354674341189175, -0.025695301570059094, -0.10935094430061998, -0.0614995024587873, -0.10931155124727923, -0.06146010940544658], \"z\": [0.1430107673771532, 0.14304166383527334, 0.0001108210913087823, 0.00014171754942889536, 0.14307297013884362, 0.14310386659696372, 0.0001730238529991846, 0.00020392031111929766]}, {\"marker\": {\"color\": \"black\", \"colorscale\": [[0.0, \"#440154\"], [0.1111111111111111, \"#482878\"], [0.2222222222222222, \"#3e4989\"], [0.3333333333333333, \"#31688e\"], [0.4444444444444444, \"#26828e\"], [0.5555555555555556, \"#1f9e89\"], [0.6666666666666666, \"#35b779\"], [0.7777777777777778, \"#6ece58\"], [0.8888888888888888, \"#b5de2b\"], [1.0, \"#fde725\"]], \"opacity\": 0.8, \"size\": 3.0}, \"mode\": \"markers\", \"type\": \"scatter3d\", \"x\": [0.47674092006077434, 0.49724658321452725, 0.4768643048928526, 0.4973699680466055, 0.5602005812988516, 0.5807062444526044, 0.5603239661309299, 0.5808296292846828], \"y\": [-0.07358613646523247, -0.02573469462339982, -0.07354674341189175, -0.025695301570059094, -0.10935094430061998, -0.0614995024587873, -0.10931155124727923, -0.06146010940544658], \"z\": [0.1430107673771532, 0.14304166383527334, 0.0001108210913087823, 0.00014171754942889536, 0.14307297013884362, 0.14310386659696372, 0.0001730238529991846, 0.00020392031111929766]}, {\"color\": \"blue\", \"delaunayaxis\": \"z\", \"flatshading\": true, \"i\": [0, 1, 4, 5, 2, 3, 0, 5, 1, 1, 0, 2], \"j\": [1, 2, 5, 6, 3, 6, 1, 1, 5, 3, 4, 4], \"k\": [2, 3, 6, 7, 6, 7, 4, 4, 7, 7, 6, 6], \"opacity\": 0.05, \"type\": \"mesh3d\", \"x\": [0.47765867332576045, 0.48845311168165817, 0.47692413851908283, 0.4877185768749805, 0.566484151805944, 0.5772785901618416, 0.5657496169992664, 0.5765440553551641], \"y\": [0.01327188783402676, 0.06420044518722437, 0.013213724626709743, 0.06414228197990735, -0.005555571978060142, 0.04537298537513746, -0.005613735185377146, 0.04531482216782046], \"z\": [0.13944570542706605, 0.13936948986838263, -0.003452399878028001, -0.003528615436711433, 0.13899678176864372, 0.1389205662099603, -0.003901323536450349, -0.0039775390951337815]}, {\"marker\": {\"color\": \"black\", \"colorscale\": [[0.0, \"#440154\"], [0.1111111111111111, \"#482878\"], [0.2222222222222222, \"#3e4989\"], [0.3333333333333333, \"#31688e\"], [0.4444444444444444, \"#26828e\"], [0.5555555555555556, \"#1f9e89\"], [0.6666666666666666, \"#35b779\"], [0.7777777777777778, \"#6ece58\"], [0.8888888888888888, \"#b5de2b\"], [1.0, \"#fde725\"]], \"opacity\": 0.8, \"size\": 3.0}, \"mode\": \"markers\", \"type\": \"scatter3d\", \"x\": [0.47765867332576045, 0.48845311168165817, 0.47692413851908283, 0.4877185768749805, 0.566484151805944, 0.5772785901618416, 0.5657496169992664, 0.5765440553551641], \"y\": [0.01327188783402676, 0.06420044518722437, 0.013213724626709743, 0.06414228197990735, -0.005555571978060142, 0.04537298537513746, -0.005613735185377146, 0.04531482216782046], \"z\": [0.13944570542706605, 0.13936948986838263, -0.003452399878028001, -0.003528615436711433, 0.13899678176864372, 0.1389205662099603, -0.003901323536450349, -0.0039775390951337815]}, {\"color\": \"blue\", \"delaunayaxis\": \"z\", \"flatshading\": true, \"i\": [0, 1, 4, 5, 2, 3, 0, 5, 1, 1, 0, 2], \"j\": [1, 2, 5, 6, 3, 6, 1, 1, 5, 3, 4, 4], \"k\": [2, 3, 6, 7, 6, 7, 4, 4, 7, 7, 6, 6], \"opacity\": 0.05, \"type\": \"mesh3d\", \"x\": [0.466472546826328, 0.4916321041482962, 0.46608992447686554, 0.49124948179883376, 0.5459644752668744, 0.5711240325888425, 0.545581852917412, 0.5707414102393803], \"y\": [-0.11581667286498223, -0.0702403620175889, -0.11623430701433624, -0.0706579961669429, -0.1596990902901506, -0.11412277944275726, -0.16011672443950462, -0.11454041359211128], \"z\": [0.1404562413446339, 0.14025567411657966, -0.002442641107195115, -0.0026432083352493363, 0.14037164591503465, 0.14017107868698042, -0.0025272365367943477, -0.0027278037648485686]}, {\"marker\": {\"color\": \"black\", \"colorscale\": [[0.0, \"#440154\"], [0.1111111111111111, \"#482878\"], [0.2222222222222222, \"#3e4989\"], [0.3333333333333333, \"#31688e\"], [0.4444444444444444, \"#26828e\"], [0.5555555555555556, \"#1f9e89\"], [0.6666666666666666, \"#35b779\"], [0.7777777777777778, \"#6ece58\"], [0.8888888888888888, \"#b5de2b\"], [1.0, \"#fde725\"]], \"opacity\": 0.8, \"size\": 3.0}, \"mode\": \"markers\", \"type\": \"scatter3d\", \"x\": [0.466472546826328, 0.4916321041482962, 0.46608992447686554, 0.49124948179883376, 0.5459644752668744, 0.5711240325888425, 0.545581852917412, 0.5707414102393803], \"y\": [-0.11581667286498223, -0.0702403620175889, -0.11623430701433624, -0.0706579961669429, -0.1596990902901506, -0.11412277944275726, -0.16011672443950462, -0.11454041359211128], \"z\": [0.1404562413446339, 0.14025567411657966, -0.002442641107195115, -0.0026432083352493363, 0.14037164591503465, 0.14017107868698042, -0.0025272365367943477, -0.0027278037648485686]}, {\"color\": \"blue\", \"delaunayaxis\": \"z\", \"flatshading\": true, \"i\": [0, 1, 4, 5, 2, 3, 0, 5, 1, 1, 0, 2], \"j\": [1, 2, 5, 6, 3, 6, 1, 1, 5, 3, 4, 4], \"k\": [2, 3, 6, 7, 6, 7, 4, 4, 7, 7, 6, 6], \"opacity\": 0.05, \"type\": \"mesh3d\", \"x\": [0.47105401690817367, 0.4902024610767707, 0.4706643177392163, 0.4898127619078133, 0.5554884873024644, 0.5746369314710613, 0.555098788133507, 0.5742472323021041], \"y\": [-0.062239767920647324, -0.01382964901235928, -0.06268431226412471, -0.014274193355836663, -0.09563804099645298, -0.04722792208816494, -0.09608258533993036, -0.04767246643164233], \"z\": [0.14004822043321846, 0.13984540150872043, -0.0028505617134851266, -0.0030533806379831664, 0.13992185805773152, 0.1397190391332335, -0.002976924088972063, -0.0031797430134701027]}, {\"marker\": {\"color\": \"black\", \"colorscale\": [[0.0, \"#440154\"], [0.1111111111111111, \"#482878\"], [0.2222222222222222, \"#3e4989\"], [0.3333333333333333, \"#31688e\"], [0.4444444444444444, \"#26828e\"], [0.5555555555555556, \"#1f9e89\"], [0.6666666666666666, \"#35b779\"], [0.7777777777777778, \"#6ece58\"], [0.8888888888888888, \"#b5de2b\"], [1.0, \"#fde725\"]], \"opacity\": 0.8, \"size\": 3.0}, \"mode\": \"markers\", \"type\": \"scatter3d\", \"x\": [0.47105401690817367, 0.4902024610767707, 0.4706643177392163, 0.4898127619078133, 0.5554884873024644, 0.5746369314710613, 0.555098788133507, 0.5742472323021041], \"y\": [-0.062239767920647324, -0.01382964901235928, -0.06268431226412471, -0.014274193355836663, -0.09563804099645298, -0.04722792208816494, -0.09608258533993036, -0.04767246643164233], \"z\": [0.14004822043321846, 0.13984540150872043, -0.0028505617134851266, -0.0030533806379831664, 0.13992185805773152, 0.1397190391332335, -0.002976924088972063, -0.0031797430134701027]}, {\"color\": \"blue\", \"delaunayaxis\": \"z\", \"flatshading\": true, \"i\": [0, 1, 4, 5, 2, 3, 0, 5, 1, 1, 0, 2], \"j\": [1, 2, 5, 6, 3, 6, 1, 1, 5, 3, 4, 4], \"k\": [2, 3, 6, 7, 6, 7, 4, 4, 7, 7, 6, 6], \"opacity\": 0.05, \"type\": \"mesh3d\", \"x\": [0.4398243624713965, 0.47100034533618773, 0.4403555146956461, 0.47153149756043733, 0.5125419725674949, 0.543717955432286, 0.5130731247917445, 0.5442491076565357], \"y\": [-0.17521618024767557, -0.13352359262091545, -0.17502077602331428, -0.1333281883965542, -0.22959219696696226, -0.1878996093402021, -0.22939679274260094, -0.18770420511584085], \"z\": [0.1437890998625057, 0.143961992047907, 0.0008902156169300465, 0.001063107802331335, 0.1439850343312847, 0.144157926516686, 0.001086150085709039, 0.001259042271110328]}, {\"marker\": {\"color\": \"black\", \"colorscale\": [[0.0, \"#440154\"], [0.1111111111111111, \"#482878\"], [0.2222222222222222, \"#3e4989\"], [0.3333333333333333, \"#31688e\"], [0.4444444444444444, \"#26828e\"], [0.5555555555555556, \"#1f9e89\"], [0.6666666666666666, \"#35b779\"], [0.7777777777777778, \"#6ece58\"], [0.8888888888888888, \"#b5de2b\"], [1.0, \"#fde725\"]], \"opacity\": 0.8, \"size\": 3.0}, \"mode\": \"markers\", \"type\": \"scatter3d\", \"x\": [0.4398243624713965, 0.47100034533618773, 0.4403555146956461, 0.47153149756043733, 0.5125419725674949, 0.543717955432286, 0.5130731247917445, 0.5442491076565357], \"y\": [-0.17521618024767557, -0.13352359262091545, -0.17502077602331428, -0.1333281883965542, -0.22959219696696226, -0.1878996093402021, -0.22939679274260094, -0.18770420511584085], \"z\": [0.1437890998625057, 0.143961992047907, 0.0008902156169300465, 0.001063107802331335, 0.1439850343312847, 0.144157926516686, 0.001086150085709039, 0.001259042271110328]}],\n                        {\"margin\": {\"b\": 10, \"l\": 10, \"r\": 20, \"t\": 10}, \"scene\": {\"camera\": {\"center\": {\"x\": 0.45, \"y\": 0, \"z\": 0.0}, \"eye\": {\"x\": -1.0, \"y\": 0.0, \"z\": 0.01}, \"up\": {\"x\": 0, \"y\": 0, \"z\": 1}}, \"xaxis\": {\"nticks\": 10, \"range\": [-0.1, 0.9]}, \"yaxis\": {\"nticks\": 16, \"range\": [-0.5, 0.5]}, \"zaxis\": {\"nticks\": 8, \"range\": [-0.01, 0.99]}}, \"template\": {\"data\": {\"bar\": [{\"error_x\": {\"color\": \"#2a3f5f\"}, \"error_y\": {\"color\": \"#2a3f5f\"}, \"marker\": {\"line\": {\"color\": \"#E5ECF6\", \"width\": 0.5}}, \"type\": \"bar\"}], \"barpolar\": [{\"marker\": {\"line\": {\"color\": \"#E5ECF6\", \"width\": 0.5}}, \"type\": \"barpolar\"}], \"carpet\": [{\"aaxis\": {\"endlinecolor\": \"#2a3f5f\", \"gridcolor\": \"white\", \"linecolor\": \"white\", \"minorgridcolor\": \"white\", \"startlinecolor\": \"#2a3f5f\"}, \"baxis\": {\"endlinecolor\": \"#2a3f5f\", \"gridcolor\": \"white\", \"linecolor\": \"white\", \"minorgridcolor\": \"white\", \"startlinecolor\": \"#2a3f5f\"}, \"type\": \"carpet\"}], \"choropleth\": [{\"colorbar\": {\"outlinewidth\": 0, \"ticks\": \"\"}, \"type\": \"choropleth\"}], \"contour\": [{\"colorbar\": {\"outlinewidth\": 0, \"ticks\": \"\"}, \"colorscale\": [[0.0, \"#0d0887\"], [0.1111111111111111, \"#46039f\"], [0.2222222222222222, \"#7201a8\"], [0.3333333333333333, \"#9c179e\"], [0.4444444444444444, \"#bd3786\"], [0.5555555555555556, \"#d8576b\"], [0.6666666666666666, \"#ed7953\"], [0.7777777777777778, \"#fb9f3a\"], [0.8888888888888888, \"#fdca26\"], [1.0, \"#f0f921\"]], \"type\": \"contour\"}], \"contourcarpet\": [{\"colorbar\": {\"outlinewidth\": 0, \"ticks\": \"\"}, \"type\": \"contourcarpet\"}], \"heatmap\": [{\"colorbar\": {\"outlinewidth\": 0, \"ticks\": \"\"}, \"colorscale\": [[0.0, \"#0d0887\"], [0.1111111111111111, \"#46039f\"], [0.2222222222222222, \"#7201a8\"], [0.3333333333333333, \"#9c179e\"], [0.4444444444444444, \"#bd3786\"], [0.5555555555555556, \"#d8576b\"], [0.6666666666666666, \"#ed7953\"], [0.7777777777777778, \"#fb9f3a\"], [0.8888888888888888, \"#fdca26\"], [1.0, \"#f0f921\"]], \"type\": \"heatmap\"}], \"heatmapgl\": [{\"colorbar\": {\"outlinewidth\": 0, \"ticks\": \"\"}, \"colorscale\": [[0.0, \"#0d0887\"], [0.1111111111111111, \"#46039f\"], [0.2222222222222222, \"#7201a8\"], [0.3333333333333333, \"#9c179e\"], [0.4444444444444444, \"#bd3786\"], [0.5555555555555556, \"#d8576b\"], [0.6666666666666666, \"#ed7953\"], [0.7777777777777778, \"#fb9f3a\"], [0.8888888888888888, \"#fdca26\"], [1.0, \"#f0f921\"]], \"type\": \"heatmapgl\"}], \"histogram\": [{\"marker\": {\"colorbar\": {\"outlinewidth\": 0, \"ticks\": \"\"}}, \"type\": \"histogram\"}], \"histogram2d\": [{\"colorbar\": {\"outlinewidth\": 0, \"ticks\": \"\"}, \"colorscale\": [[0.0, \"#0d0887\"], [0.1111111111111111, \"#46039f\"], [0.2222222222222222, \"#7201a8\"], [0.3333333333333333, \"#9c179e\"], [0.4444444444444444, \"#bd3786\"], [0.5555555555555556, \"#d8576b\"], [0.6666666666666666, \"#ed7953\"], [0.7777777777777778, \"#fb9f3a\"], [0.8888888888888888, \"#fdca26\"], [1.0, \"#f0f921\"]], \"type\": \"histogram2d\"}], \"histogram2dcontour\": [{\"colorbar\": {\"outlinewidth\": 0, \"ticks\": \"\"}, \"colorscale\": [[0.0, \"#0d0887\"], [0.1111111111111111, \"#46039f\"], [0.2222222222222222, \"#7201a8\"], [0.3333333333333333, \"#9c179e\"], [0.4444444444444444, \"#bd3786\"], [0.5555555555555556, \"#d8576b\"], [0.6666666666666666, \"#ed7953\"], [0.7777777777777778, \"#fb9f3a\"], [0.8888888888888888, \"#fdca26\"], [1.0, \"#f0f921\"]], \"type\": \"histogram2dcontour\"}], \"mesh3d\": [{\"colorbar\": {\"outlinewidth\": 0, \"ticks\": \"\"}, \"type\": \"mesh3d\"}], \"parcoords\": [{\"line\": {\"colorbar\": {\"outlinewidth\": 0, \"ticks\": \"\"}}, \"type\": \"parcoords\"}], \"pie\": [{\"automargin\": true, \"type\": \"pie\"}], \"scatter\": [{\"marker\": {\"colorbar\": {\"outlinewidth\": 0, \"ticks\": \"\"}}, \"type\": \"scatter\"}], \"scatter3d\": [{\"line\": {\"colorbar\": {\"outlinewidth\": 0, \"ticks\": \"\"}}, \"marker\": {\"colorbar\": {\"outlinewidth\": 0, \"ticks\": \"\"}}, \"type\": \"scatter3d\"}], \"scattercarpet\": [{\"marker\": {\"colorbar\": {\"outlinewidth\": 0, \"ticks\": \"\"}}, \"type\": \"scattercarpet\"}], \"scattergeo\": [{\"marker\": {\"colorbar\": {\"outlinewidth\": 0, \"ticks\": \"\"}}, \"type\": \"scattergeo\"}], \"scattergl\": [{\"marker\": {\"colorbar\": {\"outlinewidth\": 0, \"ticks\": \"\"}}, \"type\": \"scattergl\"}], \"scattermapbox\": [{\"marker\": {\"colorbar\": {\"outlinewidth\": 0, \"ticks\": \"\"}}, \"type\": \"scattermapbox\"}], \"scatterpolar\": [{\"marker\": {\"colorbar\": {\"outlinewidth\": 0, \"ticks\": \"\"}}, \"type\": \"scatterpolar\"}], \"scatterpolargl\": [{\"marker\": {\"colorbar\": {\"outlinewidth\": 0, \"ticks\": \"\"}}, \"type\": \"scatterpolargl\"}], \"scatterternary\": [{\"marker\": {\"colorbar\": {\"outlinewidth\": 0, \"ticks\": \"\"}}, \"type\": \"scatterternary\"}], \"surface\": [{\"colorbar\": {\"outlinewidth\": 0, \"ticks\": \"\"}, \"colorscale\": [[0.0, \"#0d0887\"], [0.1111111111111111, \"#46039f\"], [0.2222222222222222, \"#7201a8\"], [0.3333333333333333, \"#9c179e\"], [0.4444444444444444, \"#bd3786\"], [0.5555555555555556, \"#d8576b\"], [0.6666666666666666, \"#ed7953\"], [0.7777777777777778, \"#fb9f3a\"], [0.8888888888888888, \"#fdca26\"], [1.0, \"#f0f921\"]], \"type\": \"surface\"}], \"table\": [{\"cells\": {\"fill\": {\"color\": \"#EBF0F8\"}, \"line\": {\"color\": \"white\"}}, \"header\": {\"fill\": {\"color\": \"#C8D4E3\"}, \"line\": {\"color\": \"white\"}}, \"type\": \"table\"}]}, \"layout\": {\"annotationdefaults\": {\"arrowcolor\": \"#2a3f5f\", \"arrowhead\": 0, \"arrowwidth\": 1}, \"coloraxis\": {\"colorbar\": {\"outlinewidth\": 0, \"ticks\": \"\"}}, \"colorscale\": {\"diverging\": [[0, \"#8e0152\"], [0.1, \"#c51b7d\"], [0.2, \"#de77ae\"], [0.3, \"#f1b6da\"], [0.4, \"#fde0ef\"], [0.5, \"#f7f7f7\"], [0.6, \"#e6f5d0\"], [0.7, \"#b8e186\"], [0.8, \"#7fbc41\"], [0.9, \"#4d9221\"], [1, \"#276419\"]], \"sequential\": [[0.0, \"#0d0887\"], [0.1111111111111111, \"#46039f\"], [0.2222222222222222, \"#7201a8\"], [0.3333333333333333, \"#9c179e\"], [0.4444444444444444, \"#bd3786\"], [0.5555555555555556, \"#d8576b\"], [0.6666666666666666, \"#ed7953\"], [0.7777777777777778, \"#fb9f3a\"], [0.8888888888888888, \"#fdca26\"], [1.0, \"#f0f921\"]], \"sequentialminus\": [[0.0, \"#0d0887\"], [0.1111111111111111, \"#46039f\"], [0.2222222222222222, \"#7201a8\"], [0.3333333333333333, \"#9c179e\"], [0.4444444444444444, \"#bd3786\"], [0.5555555555555556, \"#d8576b\"], [0.6666666666666666, \"#ed7953\"], [0.7777777777777778, \"#fb9f3a\"], [0.8888888888888888, \"#fdca26\"], [1.0, \"#f0f921\"]]}, \"colorway\": [\"#636efa\", \"#EF553B\", \"#00cc96\", \"#ab63fa\", \"#FFA15A\", \"#19d3f3\", \"#FF6692\", \"#B6E880\", \"#FF97FF\", \"#FECB52\"], \"font\": {\"color\": \"#2a3f5f\"}, \"geo\": {\"bgcolor\": \"white\", \"lakecolor\": \"white\", \"landcolor\": \"#E5ECF6\", \"showlakes\": true, \"showland\": true, \"subunitcolor\": \"white\"}, \"hoverlabel\": {\"align\": \"left\"}, \"hovermode\": \"closest\", \"mapbox\": {\"style\": \"light\"}, \"paper_bgcolor\": \"white\", \"plot_bgcolor\": \"#E5ECF6\", \"polar\": {\"angularaxis\": {\"gridcolor\": \"white\", \"linecolor\": \"white\", \"ticks\": \"\"}, \"bgcolor\": \"#E5ECF6\", \"radialaxis\": {\"gridcolor\": \"white\", \"linecolor\": \"white\", \"ticks\": \"\"}}, \"scene\": {\"xaxis\": {\"backgroundcolor\": \"#E5ECF6\", \"gridcolor\": \"white\", \"gridwidth\": 2, \"linecolor\": \"white\", \"showbackground\": true, \"ticks\": \"\", \"zerolinecolor\": \"white\"}, \"yaxis\": {\"backgroundcolor\": \"#E5ECF6\", \"gridcolor\": \"white\", \"gridwidth\": 2, \"linecolor\": \"white\", \"showbackground\": true, \"ticks\": \"\", \"zerolinecolor\": \"white\"}, \"zaxis\": {\"backgroundcolor\": \"#E5ECF6\", \"gridcolor\": \"white\", \"gridwidth\": 2, \"linecolor\": \"white\", \"showbackground\": true, \"ticks\": \"\", \"zerolinecolor\": \"white\"}}, \"shapedefaults\": {\"line\": {\"color\": \"#2a3f5f\"}}, \"ternary\": {\"aaxis\": {\"gridcolor\": \"white\", \"linecolor\": \"white\", \"ticks\": \"\"}, \"baxis\": {\"gridcolor\": \"white\", \"linecolor\": \"white\", \"ticks\": \"\"}, \"bgcolor\": \"#E5ECF6\", \"caxis\": {\"gridcolor\": \"white\", \"linecolor\": \"white\", \"ticks\": \"\"}}, \"title\": {\"x\": 0.05}, \"xaxis\": {\"automargin\": true, \"gridcolor\": \"white\", \"linecolor\": \"white\", \"ticks\": \"\", \"title\": {\"standoff\": 15}, \"zerolinecolor\": \"white\", \"zerolinewidth\": 2}, \"yaxis\": {\"automargin\": true, \"gridcolor\": \"white\", \"linecolor\": \"white\", \"ticks\": \"\", \"title\": {\"standoff\": 15}, \"zerolinecolor\": \"white\", \"zerolinewidth\": 2}}}, \"width\": 700},\n                        {\"responsive\": true}\n                    ).then(function(){\n                            \nvar gd = document.getElementById('15453659-9215-4bfe-b13c-05a261fe6245');\nvar x = new MutationObserver(function (mutations, observer) {{\n        var display = window.getComputedStyle(gd).display;\n        if (!display || display === 'none') {{\n            console.log([gd, 'removed!']);\n            Plotly.purge(gd);\n            observer.disconnect();\n        }}\n}});\n\n// Listen for the removal of the full notebook cells\nvar notebookContainer = gd.closest('#notebook-container');\nif (notebookContainer) {{\n    x.observe(notebookContainer, {childList: true});\n}}\n\n// Listen for the clearing of the current output cell\nvar outputEl = gd.closest('.output');\nif (outputEl) {{\n    x.observe(outputEl, {childList: true});\n}}\n\n                        })\n                };\n                });\n            </script>\n        </div>"
     },
     "metadata": {},
     "output_type": "display_data"
    }
   ],
   "source": "pull_test = sample_pull_transformation(start_data=keypoint_plan[-2], pull_vae=pull_trans_vae, num_samples=10)\npull_test = transform_keypoints(pull_test, number=10)\nplot_keypoint_goal(pull_test).show()"
  },
  {
   "cell_type": "code",
   "execution_count": 291,
   "metadata": {},
   "outputs": [
    {
     "data": {
      "application/vnd.plotly.v1+json": {
       "config": {
        "plotlyServerURL": "https://plot.ly"
       },
       "data": [
        {
         "color": "red",
         "delaunayaxis": "z",
         "flatshading": true,
         "i": [
          0,
          1,
          4,
          5,
          2,
          3,
          0,
          5,
          1,
          1,
          0,
          2
         ],
         "j": [
          1,
          2,
          5,
          6,
          3,
          6,
          1,
          1,
          5,
          3,
          4,
          4
         ],
         "k": [
          2,
          3,
          6,
          7,
          6,
          7,
          4,
          4,
          7,
          7,
          6,
          6
         ],
         "opacity": 0.95,
         "type": "mesh3d",
         "x": [
          0.4234841912007213,
          0.44204221592153353,
          0.4234841912007213,
          0.44204221592153353,
          0.5083191172883512,
          0.5268771420091634,
          0.5083191172883512,
          0.5268771420091635
         ],
         "y": [
          -0.08666952817313521,
          -0.03802959210440337,
          -0.08666952817313517,
          -0.03802959210440333,
          -0.11903734735155302,
          -0.07039741128282118,
          -0.11903734735155297,
          -0.07039741128282113
         ],
         "z": [
          0.1429000049829483,
          0.14290000498294833,
          -2.7755575615628914e-17,
          0,
          0.1429000049829483,
          0.14290000498294833,
          -2.7755575615628914e-17,
          0
         ]
        },
        {
         "color": "gray",
         "delaunayaxis": "z",
         "opacity": 0.5,
         "type": "mesh3d",
         "x": [
          -1,
          1,
          1,
          -1
         ],
         "y": [
          -1,
          -1,
          1,
          1
         ],
         "z": [
          0,
          0,
          0,
          0
         ]
        },
        {
         "color": "blue",
         "delaunayaxis": "z",
         "flatshading": true,
         "i": [
          0,
          1,
          4,
          5,
          2,
          3,
          0,
          5,
          1,
          1,
          0,
          2
         ],
         "j": [
          1,
          2,
          5,
          6,
          3,
          6,
          1,
          1,
          5,
          3,
          4,
          4
         ],
         "k": [
          2,
          3,
          6,
          7,
          6,
          7,
          4,
          4,
          7,
          7,
          6,
          6
         ],
         "opacity": 0.05,
         "type": "mesh3d",
         "x": [
          0.3979369827846472,
          0.39816916936269864,
          0.5408224468180737,
          0.5410546333961251,
          0.3991673494639979,
          0.39939953604204936,
          0.5420528134974244,
          0.5422850000754759
         ],
         "y": [
          0.03873211676414451,
          0.04318544101076055,
          0.04060686106032335,
          0.04506018530693939,
          -0.05172721971093186,
          -0.047273895464315596,
          -0.04985247541475302,
          -0.045399151168136864
         ],
         "z": [
          -0.018722295164382757,
          0.03314636256700715,
          -0.019522873644601618,
          0.03234578408678829,
          -0.010961171213326362,
          0.04090748651806353,
          -0.011761749693545223,
          0.04010690803784467
         ]
        },
        {
         "marker": {
          "color": "black",
          "colorscale": [
           [
            0,
            "#440154"
           ],
           [
            0.1111111111111111,
            "#482878"
           ],
           [
            0.2222222222222222,
            "#3e4989"
           ],
           [
            0.3333333333333333,
            "#31688e"
           ],
           [
            0.4444444444444444,
            "#26828e"
           ],
           [
            0.5555555555555556,
            "#1f9e89"
           ],
           [
            0.6666666666666666,
            "#35b779"
           ],
           [
            0.7777777777777778,
            "#6ece58"
           ],
           [
            0.8888888888888888,
            "#b5de2b"
           ],
           [
            1,
            "#fde725"
           ]
          ],
          "opacity": 0.8,
          "size": 3
         },
         "mode": "markers",
         "type": "scatter3d",
         "x": [
          0.3979369827846472,
          0.39816916936269864,
          0.5408224468180737,
          0.5410546333961251,
          0.3991673494639979,
          0.39939953604204936,
          0.5420528134974244,
          0.5422850000754759
         ],
         "y": [
          0.03873211676414451,
          0.04318544101076055,
          0.04060686106032335,
          0.04506018530693939,
          -0.05172721971093186,
          -0.047273895464315596,
          -0.04985247541475302,
          -0.045399151168136864
         ],
         "z": [
          -0.018722295164382757,
          0.03314636256700715,
          -0.019522873644601618,
          0.03234578408678829,
          -0.010961171213326362,
          0.04090748651806353,
          -0.011761749693545223,
          0.04010690803784467
         ]
        },
        {
         "color": "blue",
         "delaunayaxis": "z",
         "flatshading": true,
         "i": [
          0,
          1,
          4,
          5,
          2,
          3,
          0,
          5,
          1,
          1,
          0,
          2
         ],
         "j": [
          1,
          2,
          5,
          6,
          3,
          6,
          1,
          1,
          5,
          3,
          4,
          4
         ],
         "k": [
          2,
          3,
          6,
          7,
          6,
          7,
          4,
          4,
          7,
          7,
          6,
          6
         ],
         "opacity": 0.05,
         "type": "mesh3d",
         "x": [
          0.410179067197207,
          0.41177189957521454,
          0.5528923346831325,
          0.55448516706114,
          0.41389600777472135,
          0.4154888401527289,
          0.5566092752606467,
          0.5582021076386543
         ],
         "y": [
          0.018137938376705243,
          0.02350621172083328,
          0.023508450525284108,
          0.028876723869412146,
          -0.07211353882173,
          -0.06674526547760196,
          -0.06674302667315113,
          -0.06137475332902309
         ],
         "z": [
          0.0033955265689395303,
          0.055153503622017014,
          -0.001553443715808872,
          0.0502045333372686,
          0.012641910667815143,
          0.06439988772089258,
          0.007692940383066768,
          0.059450917436144224
         ]
        },
        {
         "marker": {
          "color": "black",
          "colorscale": [
           [
            0,
            "#440154"
           ],
           [
            0.1111111111111111,
            "#482878"
           ],
           [
            0.2222222222222222,
            "#3e4989"
           ],
           [
            0.3333333333333333,
            "#31688e"
           ],
           [
            0.4444444444444444,
            "#26828e"
           ],
           [
            0.5555555555555556,
            "#1f9e89"
           ],
           [
            0.6666666666666666,
            "#35b779"
           ],
           [
            0.7777777777777778,
            "#6ece58"
           ],
           [
            0.8888888888888888,
            "#b5de2b"
           ],
           [
            1,
            "#fde725"
           ]
          ],
          "opacity": 0.8,
          "size": 3
         },
         "mode": "markers",
         "type": "scatter3d",
         "x": [
          0.410179067197207,
          0.41177189957521454,
          0.5528923346831325,
          0.55448516706114,
          0.41389600777472135,
          0.4154888401527289,
          0.5566092752606467,
          0.5582021076386543
         ],
         "y": [
          0.018137938376705243,
          0.02350621172083328,
          0.023508450525284108,
          0.028876723869412146,
          -0.07211353882173,
          -0.06674526547760196,
          -0.06674302667315113,
          -0.06137475332902309
         ],
         "z": [
          0.0033955265689395303,
          0.055153503622017014,
          -0.001553443715808872,
          0.0502045333372686,
          0.012641910667815143,
          0.06439988772089258,
          0.007692940383066768,
          0.059450917436144224
         ]
        },
        {
         "color": "blue",
         "delaunayaxis": "z",
         "flatshading": true,
         "i": [
          0,
          1,
          4,
          5,
          2,
          3,
          0,
          5,
          1,
          1,
          0,
          2
         ],
         "j": [
          1,
          2,
          5,
          6,
          3,
          6,
          1,
          1,
          5,
          3,
          4,
          4
         ],
         "k": [
          2,
          3,
          6,
          7,
          6,
          7,
          4,
          4,
          7,
          7,
          6,
          6
         ],
         "opacity": 0.05,
         "type": "mesh3d",
         "x": [
          0.4106648101169761,
          0.41254922714824216,
          0.5532707430321441,
          0.5551551600634101,
          0.41547062247760075,
          0.4173550395088668,
          0.5580765553927687,
          0.5599609724240349
         ],
         "y": [
          -0.0005481165936092047,
          0.003335661846247173,
          0.006613464189649365,
          0.010497242629505743,
          -0.090980676363416,
          -0.08709689792355946,
          -0.08381909558015732,
          -0.079935317140301
         ],
         "z": [
          -0.004704864342486834,
          0.047175853653614375,
          -0.010420726675165581,
          0.04145999132093564,
          0.0018903387396925764,
          0.05377105673579377,
          -0.0038255235929861714,
          0.04805519440311504
         ]
        },
        {
         "marker": {
          "color": "black",
          "colorscale": [
           [
            0,
            "#440154"
           ],
           [
            0.1111111111111111,
            "#482878"
           ],
           [
            0.2222222222222222,
            "#3e4989"
           ],
           [
            0.3333333333333333,
            "#31688e"
           ],
           [
            0.4444444444444444,
            "#26828e"
           ],
           [
            0.5555555555555556,
            "#1f9e89"
           ],
           [
            0.6666666666666666,
            "#35b779"
           ],
           [
            0.7777777777777778,
            "#6ece58"
           ],
           [
            0.8888888888888888,
            "#b5de2b"
           ],
           [
            1,
            "#fde725"
           ]
          ],
          "opacity": 0.8,
          "size": 3
         },
         "mode": "markers",
         "type": "scatter3d",
         "x": [
          0.4106648101169761,
          0.41254922714824216,
          0.5532707430321441,
          0.5551551600634101,
          0.41547062247760075,
          0.4173550395088668,
          0.5580765553927687,
          0.5599609724240349
         ],
         "y": [
          -0.0005481165936092047,
          0.003335661846247173,
          0.006613464189649365,
          0.010497242629505743,
          -0.090980676363416,
          -0.08709689792355946,
          -0.08381909558015732,
          -0.079935317140301
         ],
         "z": [
          -0.004704864342486834,
          0.047175853653614375,
          -0.010420726675165581,
          0.04145999132093564,
          0.0018903387396925764,
          0.05377105673579377,
          -0.0038255235929861714,
          0.04805519440311504
         ]
        },
        {
         "color": "blue",
         "delaunayaxis": "z",
         "flatshading": true,
         "i": [
          0,
          1,
          4,
          5,
          2,
          3,
          0,
          5,
          1,
          1,
          0,
          2
         ],
         "j": [
          1,
          2,
          5,
          6,
          3,
          6,
          1,
          1,
          5,
          3,
          4,
          4
         ],
         "k": [
          2,
          3,
          6,
          7,
          6,
          7,
          4,
          4,
          7,
          7,
          6,
          6
         ],
         "opacity": 0.05,
         "type": "mesh3d",
         "x": [
          0.4018626374668842,
          0.4021688554093762,
          0.5447513904257065,
          0.5450576083681984,
          0.4028691534789314,
          0.4031753714214233,
          0.5457579064377537,
          0.5460641243802455
         ],
         "y": [
          0.027409688778857022,
          0.03331266563695384,
          0.028888240237082474,
          0.034791217095179294,
          -0.06279983316120208,
          -0.05689685630310504,
          -0.06132128170297657,
          -0.05541830484487975
         ],
         "z": [
          -0.011539674006646877,
          0.04018367427140901,
          -0.012554359960378167,
          0.03916898831767773,
          -0.0012503844527522179,
          0.05047296382530367,
          -0.0022650704064834937,
          0.04945827787157242
         ]
        },
        {
         "marker": {
          "color": "black",
          "colorscale": [
           [
            0,
            "#440154"
           ],
           [
            0.1111111111111111,
            "#482878"
           ],
           [
            0.2222222222222222,
            "#3e4989"
           ],
           [
            0.3333333333333333,
            "#31688e"
           ],
           [
            0.4444444444444444,
            "#26828e"
           ],
           [
            0.5555555555555556,
            "#1f9e89"
           ],
           [
            0.6666666666666666,
            "#35b779"
           ],
           [
            0.7777777777777778,
            "#6ece58"
           ],
           [
            0.8888888888888888,
            "#b5de2b"
           ],
           [
            1,
            "#fde725"
           ]
          ],
          "opacity": 0.8,
          "size": 3
         },
         "mode": "markers",
         "type": "scatter3d",
         "x": [
          0.4018626374668842,
          0.4021688554093762,
          0.5447513904257065,
          0.5450576083681984,
          0.4028691534789314,
          0.4031753714214233,
          0.5457579064377537,
          0.5460641243802455
         ],
         "y": [
          0.027409688778857022,
          0.03331266563695384,
          0.028888240237082474,
          0.034791217095179294,
          -0.06279983316120208,
          -0.05689685630310504,
          -0.06132128170297657,
          -0.05541830484487975
         ],
         "z": [
          -0.011539674006646877,
          0.04018367427140901,
          -0.012554359960378167,
          0.03916898831767773,
          -0.0012503844527522179,
          0.05047296382530367,
          -0.0022650704064834937,
          0.04945827787157242
         ]
        },
        {
         "color": "blue",
         "delaunayaxis": "z",
         "flatshading": true,
         "i": [
          0,
          1,
          4,
          5,
          2,
          3,
          0,
          5,
          1,
          1,
          0,
          2
         ],
         "j": [
          1,
          2,
          5,
          6,
          3,
          6,
          1,
          1,
          5,
          3,
          4,
          4
         ],
         "k": [
          2,
          3,
          6,
          7,
          6,
          7,
          4,
          4,
          7,
          7,
          6,
          6
         ],
         "opacity": 0.05,
         "type": "mesh3d",
         "x": [
          0.40850264708606104,
          0.4099293026531254,
          0.5512538435149793,
          0.5526804990820435,
          0.4118148287641289,
          0.41324148433119323,
          0.5545660251930471,
          0.5559926807601114
         ],
         "y": [
          0.018989178488348024,
          0.024751879209297056,
          0.023738386297349146,
          0.029501087018298178,
          -0.07120235131116703,
          -0.06543965059021783,
          -0.0664531435021658,
          -0.060690442781216714
         ],
         "z": [
          0.002317367542019222,
          0.054037765806169646,
          -0.0021494397546951566,
          0.049570958509455254,
          0.012275168886445503,
          0.0639955671505959,
          0.007808361589731111,
          0.05952875985388156
         ]
        },
        {
         "marker": {
          "color": "black",
          "colorscale": [
           [
            0,
            "#440154"
           ],
           [
            0.1111111111111111,
            "#482878"
           ],
           [
            0.2222222222222222,
            "#3e4989"
           ],
           [
            0.3333333333333333,
            "#31688e"
           ],
           [
            0.4444444444444444,
            "#26828e"
           ],
           [
            0.5555555555555556,
            "#1f9e89"
           ],
           [
            0.6666666666666666,
            "#35b779"
           ],
           [
            0.7777777777777778,
            "#6ece58"
           ],
           [
            0.8888888888888888,
            "#b5de2b"
           ],
           [
            1,
            "#fde725"
           ]
          ],
          "opacity": 0.8,
          "size": 3
         },
         "mode": "markers",
         "type": "scatter3d",
         "x": [
          0.40850264708606104,
          0.4099293026531254,
          0.5512538435149793,
          0.5526804990820435,
          0.4118148287641289,
          0.41324148433119323,
          0.5545660251930471,
          0.5559926807601114
         ],
         "y": [
          0.018989178488348024,
          0.024751879209297056,
          0.023738386297349146,
          0.029501087018298178,
          -0.07120235131116703,
          -0.06543965059021783,
          -0.0664531435021658,
          -0.060690442781216714
         ],
         "z": [
          0.002317367542019222,
          0.054037765806169646,
          -0.0021494397546951566,
          0.049570958509455254,
          0.012275168886445503,
          0.0639955671505959,
          0.007808361589731111,
          0.05952875985388156
         ]
        },
        {
         "color": "blue",
         "delaunayaxis": "z",
         "flatshading": true,
         "i": [
          0,
          1,
          4,
          5,
          2,
          3,
          0,
          5,
          1,
          1,
          0,
          2
         ],
         "j": [
          1,
          2,
          5,
          6,
          3,
          6,
          1,
          1,
          5,
          3,
          4,
          4
         ],
         "k": [
          2,
          3,
          6,
          7,
          6,
          7,
          4,
          4,
          7,
          7,
          6,
          6
         ],
         "opacity": 0.05,
         "type": "mesh3d",
         "x": [
          0.3951256598333746,
          0.39520547057490774,
          0.5380249748481769,
          0.5381047855897101,
          0.39537109514192215,
          0.39545090588345533,
          0.5382704101567245,
          0.5383502208982577
         ],
         "y": [
          0.034745148013557436,
          0.04063407634798338,
          0.035104151436135544,
          0.040993079770561436,
          -0.05547177049176866,
          -0.049582842157342655,
          -0.05511276706919066,
          -0.04922383873476477
         ],
         "z": [
          -0.014847896923637888,
          0.036877897566404805,
          -0.015109256770433191,
          0.03661653771960949,
          -0.004577172529855844,
          0.04714862196018679,
          -0.0048385323766511334,
          0.04688726211339153
         ]
        },
        {
         "marker": {
          "color": "black",
          "colorscale": [
           [
            0,
            "#440154"
           ],
           [
            0.1111111111111111,
            "#482878"
           ],
           [
            0.2222222222222222,
            "#3e4989"
           ],
           [
            0.3333333333333333,
            "#31688e"
           ],
           [
            0.4444444444444444,
            "#26828e"
           ],
           [
            0.5555555555555556,
            "#1f9e89"
           ],
           [
            0.6666666666666666,
            "#35b779"
           ],
           [
            0.7777777777777778,
            "#6ece58"
           ],
           [
            0.8888888888888888,
            "#b5de2b"
           ],
           [
            1,
            "#fde725"
           ]
          ],
          "opacity": 0.8,
          "size": 3
         },
         "mode": "markers",
         "type": "scatter3d",
         "x": [
          0.3951256598333746,
          0.39520547057490774,
          0.5380249748481769,
          0.5381047855897101,
          0.39537109514192215,
          0.39545090588345533,
          0.5382704101567245,
          0.5383502208982577
         ],
         "y": [
          0.034745148013557436,
          0.04063407634798338,
          0.035104151436135544,
          0.040993079770561436,
          -0.05547177049176866,
          -0.049582842157342655,
          -0.05511276706919066,
          -0.04922383873476477
         ],
         "z": [
          -0.014847896923637888,
          0.036877897566404805,
          -0.015109256770433191,
          0.03661653771960949,
          -0.004577172529855844,
          0.04714862196018679,
          -0.0048385323766511334,
          0.04688726211339153
         ]
        },
        {
         "color": "blue",
         "delaunayaxis": "z",
         "flatshading": true,
         "i": [
          0,
          1,
          4,
          5,
          2,
          3,
          0,
          5,
          1,
          1,
          0,
          2
         ],
         "j": [
          1,
          2,
          5,
          6,
          3,
          6,
          1,
          1,
          5,
          3,
          4,
          4
         ],
         "k": [
          2,
          3,
          6,
          7,
          6,
          7,
          4,
          4,
          7,
          7,
          6,
          6
         ],
         "opacity": 0.05,
         "type": "mesh3d",
         "x": [
          0.39447767098755426,
          0.3946529522101436,
          0.537371997900984,
          0.5375472791235733,
          0.39522715052369195,
          0.3954024317462813,
          0.5381214774371216,
          0.5382967586597109
         ],
         "y": [
          0.03782320233001235,
          0.04451197293523945,
          0.038931140195561875,
          0.045619910800788976,
          -0.052221483608913766,
          -0.0455327130036865,
          -0.05111354574336413,
          -0.04442477513813703
         ],
         "z": [
          -0.022434077545771605,
          0.029194144257736754,
          -0.023062753750687268,
          0.02856546805282109,
          -0.010770749665381968,
          0.04085747213812635,
          -0.01139942587029763,
          0.040228795933210715
         ]
        },
        {
         "marker": {
          "color": "black",
          "colorscale": [
           [
            0,
            "#440154"
           ],
           [
            0.1111111111111111,
            "#482878"
           ],
           [
            0.2222222222222222,
            "#3e4989"
           ],
           [
            0.3333333333333333,
            "#31688e"
           ],
           [
            0.4444444444444444,
            "#26828e"
           ],
           [
            0.5555555555555556,
            "#1f9e89"
           ],
           [
            0.6666666666666666,
            "#35b779"
           ],
           [
            0.7777777777777778,
            "#6ece58"
           ],
           [
            0.8888888888888888,
            "#b5de2b"
           ],
           [
            1,
            "#fde725"
           ]
          ],
          "opacity": 0.8,
          "size": 3
         },
         "mode": "markers",
         "type": "scatter3d",
         "x": [
          0.39447767098755426,
          0.3946529522101436,
          0.537371997900984,
          0.5375472791235733,
          0.39522715052369195,
          0.3954024317462813,
          0.5381214774371216,
          0.5382967586597109
         ],
         "y": [
          0.03782320233001235,
          0.04451197293523945,
          0.038931140195561875,
          0.045619910800788976,
          -0.052221483608913766,
          -0.0455327130036865,
          -0.05111354574336413,
          -0.04442477513813703
         ],
         "z": [
          -0.022434077545771605,
          0.029194144257736754,
          -0.023062753750687268,
          0.02856546805282109,
          -0.010770749665381968,
          0.04085747213812635,
          -0.01139942587029763,
          0.040228795933210715
         ]
        },
        {
         "color": "blue",
         "delaunayaxis": "z",
         "flatshading": true,
         "i": [
          0,
          1,
          4,
          5,
          2,
          3,
          0,
          5,
          1,
          1,
          0,
          2
         ],
         "j": [
          1,
          2,
          5,
          6,
          3,
          6,
          1,
          1,
          5,
          3,
          4,
          4
         ],
         "k": [
          2,
          3,
          6,
          7,
          6,
          7,
          4,
          4,
          7,
          7,
          6,
          6
         ],
         "opacity": 0.05,
         "type": "mesh3d",
         "x": [
          0.39339164404100935,
          0.39361150289833013,
          0.5362864064911358,
          0.5365062653484566,
          0.3940683132479643,
          0.3942881721052851,
          0.5369630756980909,
          0.5371829345554117
         ],
         "y": [
          0.03757375571212035,
          0.044769777382893894,
          0.038545060116970675,
          0.045741081787744275,
          -0.052352519232637285,
          -0.04515649756186357,
          -0.051381214827787014,
          -0.0441851931570133
         ],
         "z": [
          -0.015101946269882927,
          0.036457850049586904,
          -0.015846832973811426,
          0.035712963345658405,
          -0.0025541338707192607,
          0.04900566244875049,
          -0.003299020574647732,
          0.04826077574482204
         ]
        },
        {
         "marker": {
          "color": "black",
          "colorscale": [
           [
            0,
            "#440154"
           ],
           [
            0.1111111111111111,
            "#482878"
           ],
           [
            0.2222222222222222,
            "#3e4989"
           ],
           [
            0.3333333333333333,
            "#31688e"
           ],
           [
            0.4444444444444444,
            "#26828e"
           ],
           [
            0.5555555555555556,
            "#1f9e89"
           ],
           [
            0.6666666666666666,
            "#35b779"
           ],
           [
            0.7777777777777778,
            "#6ece58"
           ],
           [
            0.8888888888888888,
            "#b5de2b"
           ],
           [
            1,
            "#fde725"
           ]
          ],
          "opacity": 0.8,
          "size": 3
         },
         "mode": "markers",
         "type": "scatter3d",
         "x": [
          0.39339164404100935,
          0.39361150289833013,
          0.5362864064911358,
          0.5365062653484566,
          0.3940683132479643,
          0.3942881721052851,
          0.5369630756980909,
          0.5371829345554117
         ],
         "y": [
          0.03757375571212035,
          0.044769777382893894,
          0.038545060116970675,
          0.045741081787744275,
          -0.052352519232637285,
          -0.04515649756186357,
          -0.051381214827787014,
          -0.0441851931570133
         ],
         "z": [
          -0.015101946269882927,
          0.036457850049586904,
          -0.015846832973811426,
          0.035712963345658405,
          -0.0025541338707192607,
          0.04900566244875049,
          -0.003299020574647732,
          0.04826077574482204
         ]
        },
        {
         "color": "blue",
         "delaunayaxis": "z",
         "flatshading": true,
         "i": [
          0,
          1,
          4,
          5,
          2,
          3,
          0,
          5,
          1,
          1,
          0,
          2
         ],
         "j": [
          1,
          2,
          5,
          6,
          3,
          6,
          1,
          1,
          5,
          3,
          4,
          4
         ],
         "k": [
          2,
          3,
          6,
          7,
          6,
          7,
          4,
          4,
          7,
          7,
          6,
          6
         ],
         "opacity": 0.05,
         "type": "mesh3d",
         "x": [
          0.3989958626778849,
          0.39925918248223685,
          0.541893399029783,
          0.542156718834135,
          0.3992677589368248,
          0.39953107874117677,
          0.5421652952887229,
          0.5424286150930748
         ],
         "y": [
          0.04233469005043955,
          0.04749387953313233,
          0.04268886664960886,
          0.04784805613230164,
          -0.048018059473490804,
          -0.04285886999079791,
          -0.04766388287432133,
          -0.042504693391628656
         ],
         "z": [
          -0.028764510609905966,
          0.023038550003062708,
          -0.029526145444472796,
          0.022276915168495892,
          -0.019767448392121703,
          0.032035612220846915,
          -0.020529083226688533,
          0.031273977386280155
         ]
        },
        {
         "marker": {
          "color": "black",
          "colorscale": [
           [
            0,
            "#440154"
           ],
           [
            0.1111111111111111,
            "#482878"
           ],
           [
            0.2222222222222222,
            "#3e4989"
           ],
           [
            0.3333333333333333,
            "#31688e"
           ],
           [
            0.4444444444444444,
            "#26828e"
           ],
           [
            0.5555555555555556,
            "#1f9e89"
           ],
           [
            0.6666666666666666,
            "#35b779"
           ],
           [
            0.7777777777777778,
            "#6ece58"
           ],
           [
            0.8888888888888888,
            "#b5de2b"
           ],
           [
            1,
            "#fde725"
           ]
          ],
          "opacity": 0.8,
          "size": 3
         },
         "mode": "markers",
         "type": "scatter3d",
         "x": [
          0.3989958626778849,
          0.39925918248223685,
          0.541893399029783,
          0.542156718834135,
          0.3992677589368248,
          0.39953107874117677,
          0.5421652952887229,
          0.5424286150930748
         ],
         "y": [
          0.04233469005043955,
          0.04749387953313233,
          0.04268886664960886,
          0.04784805613230164,
          -0.048018059473490804,
          -0.04285886999079791,
          -0.04766388287432133,
          -0.042504693391628656
         ],
         "z": [
          -0.028764510609905966,
          0.023038550003062708,
          -0.029526145444472796,
          0.022276915168495892,
          -0.019767448392121703,
          0.032035612220846915,
          -0.020529083226688533,
          0.031273977386280155
         ]
        },
        {
         "color": "blue",
         "delaunayaxis": "z",
         "flatshading": true,
         "i": [
          0,
          1,
          4,
          5,
          2,
          3,
          0,
          5,
          1,
          1,
          0,
          2
         ],
         "j": [
          1,
          2,
          5,
          6,
          3,
          6,
          1,
          1,
          5,
          3,
          4,
          4
         ],
         "k": [
          2,
          3,
          6,
          7,
          6,
          7,
          4,
          4,
          7,
          7,
          6,
          6
         ],
         "opacity": 0.05,
         "type": "mesh3d",
         "x": [
          0.3900800458076079,
          0.39041641415469497,
          0.5329754026778329,
          0.53331177102492,
          0.39051839757420737,
          0.3908547659212944,
          0.5334137544444325,
          0.5337501227915195
         ],
         "y": [
          0.022473778326515814,
          0.028833031922099406,
          0.023045714749507507,
          0.029404968345091098,
          -0.06764552231582543,
          -0.06128626872024173,
          -0.06707358589283374,
          -0.060714332297250095
         ],
         "z": [
          -0.021357427041830482,
          0.03031161990458353,
          -0.02235807572429656,
          0.029310971222117455,
          -0.010268698434617751,
          0.04140034851179619,
          -0.011269347117083828,
          0.040399699829330143
         ]
        },
        {
         "marker": {
          "color": "black",
          "colorscale": [
           [
            0,
            "#440154"
           ],
           [
            0.1111111111111111,
            "#482878"
           ],
           [
            0.2222222222222222,
            "#3e4989"
           ],
           [
            0.3333333333333333,
            "#31688e"
           ],
           [
            0.4444444444444444,
            "#26828e"
           ],
           [
            0.5555555555555556,
            "#1f9e89"
           ],
           [
            0.6666666666666666,
            "#35b779"
           ],
           [
            0.7777777777777778,
            "#6ece58"
           ],
           [
            0.8888888888888888,
            "#b5de2b"
           ],
           [
            1,
            "#fde725"
           ]
          ],
          "opacity": 0.8,
          "size": 3
         },
         "mode": "markers",
         "type": "scatter3d",
         "x": [
          0.3900800458076079,
          0.39041641415469497,
          0.5329754026778329,
          0.53331177102492,
          0.39051839757420737,
          0.3908547659212944,
          0.5334137544444325,
          0.5337501227915195
         ],
         "y": [
          0.022473778326515814,
          0.028833031922099406,
          0.023045714749507507,
          0.029404968345091098,
          -0.06764552231582543,
          -0.06128626872024173,
          -0.06707358589283374,
          -0.060714332297250095
         ],
         "z": [
          -0.021357427041830482,
          0.03031161990458353,
          -0.02235807572429656,
          0.029310971222117455,
          -0.010268698434617751,
          0.04140034851179619,
          -0.011269347117083828,
          0.040399699829330143
         ]
        }
       ],
       "layout": {
        "margin": {
         "b": 10,
         "l": 10,
         "r": 20,
         "t": 10
        },
        "scene": {
         "camera": {
          "center": {
           "x": 0.45,
           "y": 0,
           "z": 0
          },
          "eye": {
           "x": -1,
           "y": 0,
           "z": 0.01
          },
          "up": {
           "x": 0,
           "y": 0,
           "z": 1
          }
         },
         "xaxis": {
          "nticks": 10,
          "range": [
           -0.1,
           0.9
          ]
         },
         "yaxis": {
          "nticks": 16,
          "range": [
           -0.5,
           0.5
          ]
         },
         "zaxis": {
          "nticks": 8,
          "range": [
           -0.01,
           0.99
          ]
         }
        },
        "template": {
         "data": {
          "bar": [
           {
            "error_x": {
             "color": "#2a3f5f"
            },
            "error_y": {
             "color": "#2a3f5f"
            },
            "marker": {
             "line": {
              "color": "#E5ECF6",
              "width": 0.5
             }
            },
            "type": "bar"
           }
          ],
          "barpolar": [
           {
            "marker": {
             "line": {
              "color": "#E5ECF6",
              "width": 0.5
             }
            },
            "type": "barpolar"
           }
          ],
          "carpet": [
           {
            "aaxis": {
             "endlinecolor": "#2a3f5f",
             "gridcolor": "white",
             "linecolor": "white",
             "minorgridcolor": "white",
             "startlinecolor": "#2a3f5f"
            },
            "baxis": {
             "endlinecolor": "#2a3f5f",
             "gridcolor": "white",
             "linecolor": "white",
             "minorgridcolor": "white",
             "startlinecolor": "#2a3f5f"
            },
            "type": "carpet"
           }
          ],
          "choropleth": [
           {
            "colorbar": {
             "outlinewidth": 0,
             "ticks": ""
            },
            "type": "choropleth"
           }
          ],
          "contour": [
           {
            "colorbar": {
             "outlinewidth": 0,
             "ticks": ""
            },
            "colorscale": [
             [
              0,
              "#0d0887"
             ],
             [
              0.1111111111111111,
              "#46039f"
             ],
             [
              0.2222222222222222,
              "#7201a8"
             ],
             [
              0.3333333333333333,
              "#9c179e"
             ],
             [
              0.4444444444444444,
              "#bd3786"
             ],
             [
              0.5555555555555556,
              "#d8576b"
             ],
             [
              0.6666666666666666,
              "#ed7953"
             ],
             [
              0.7777777777777778,
              "#fb9f3a"
             ],
             [
              0.8888888888888888,
              "#fdca26"
             ],
             [
              1,
              "#f0f921"
             ]
            ],
            "type": "contour"
           }
          ],
          "contourcarpet": [
           {
            "colorbar": {
             "outlinewidth": 0,
             "ticks": ""
            },
            "type": "contourcarpet"
           }
          ],
          "heatmap": [
           {
            "colorbar": {
             "outlinewidth": 0,
             "ticks": ""
            },
            "colorscale": [
             [
              0,
              "#0d0887"
             ],
             [
              0.1111111111111111,
              "#46039f"
             ],
             [
              0.2222222222222222,
              "#7201a8"
             ],
             [
              0.3333333333333333,
              "#9c179e"
             ],
             [
              0.4444444444444444,
              "#bd3786"
             ],
             [
              0.5555555555555556,
              "#d8576b"
             ],
             [
              0.6666666666666666,
              "#ed7953"
             ],
             [
              0.7777777777777778,
              "#fb9f3a"
             ],
             [
              0.8888888888888888,
              "#fdca26"
             ],
             [
              1,
              "#f0f921"
             ]
            ],
            "type": "heatmap"
           }
          ],
          "heatmapgl": [
           {
            "colorbar": {
             "outlinewidth": 0,
             "ticks": ""
            },
            "colorscale": [
             [
              0,
              "#0d0887"
             ],
             [
              0.1111111111111111,
              "#46039f"
             ],
             [
              0.2222222222222222,
              "#7201a8"
             ],
             [
              0.3333333333333333,
              "#9c179e"
             ],
             [
              0.4444444444444444,
              "#bd3786"
             ],
             [
              0.5555555555555556,
              "#d8576b"
             ],
             [
              0.6666666666666666,
              "#ed7953"
             ],
             [
              0.7777777777777778,
              "#fb9f3a"
             ],
             [
              0.8888888888888888,
              "#fdca26"
             ],
             [
              1,
              "#f0f921"
             ]
            ],
            "type": "heatmapgl"
           }
          ],
          "histogram": [
           {
            "marker": {
             "colorbar": {
              "outlinewidth": 0,
              "ticks": ""
             }
            },
            "type": "histogram"
           }
          ],
          "histogram2d": [
           {
            "colorbar": {
             "outlinewidth": 0,
             "ticks": ""
            },
            "colorscale": [
             [
              0,
              "#0d0887"
             ],
             [
              0.1111111111111111,
              "#46039f"
             ],
             [
              0.2222222222222222,
              "#7201a8"
             ],
             [
              0.3333333333333333,
              "#9c179e"
             ],
             [
              0.4444444444444444,
              "#bd3786"
             ],
             [
              0.5555555555555556,
              "#d8576b"
             ],
             [
              0.6666666666666666,
              "#ed7953"
             ],
             [
              0.7777777777777778,
              "#fb9f3a"
             ],
             [
              0.8888888888888888,
              "#fdca26"
             ],
             [
              1,
              "#f0f921"
             ]
            ],
            "type": "histogram2d"
           }
          ],
          "histogram2dcontour": [
           {
            "colorbar": {
             "outlinewidth": 0,
             "ticks": ""
            },
            "colorscale": [
             [
              0,
              "#0d0887"
             ],
             [
              0.1111111111111111,
              "#46039f"
             ],
             [
              0.2222222222222222,
              "#7201a8"
             ],
             [
              0.3333333333333333,
              "#9c179e"
             ],
             [
              0.4444444444444444,
              "#bd3786"
             ],
             [
              0.5555555555555556,
              "#d8576b"
             ],
             [
              0.6666666666666666,
              "#ed7953"
             ],
             [
              0.7777777777777778,
              "#fb9f3a"
             ],
             [
              0.8888888888888888,
              "#fdca26"
             ],
             [
              1,
              "#f0f921"
             ]
            ],
            "type": "histogram2dcontour"
           }
          ],
          "mesh3d": [
           {
            "colorbar": {
             "outlinewidth": 0,
             "ticks": ""
            },
            "type": "mesh3d"
           }
          ],
          "parcoords": [
           {
            "line": {
             "colorbar": {
              "outlinewidth": 0,
              "ticks": ""
             }
            },
            "type": "parcoords"
           }
          ],
          "pie": [
           {
            "automargin": true,
            "type": "pie"
           }
          ],
          "scatter": [
           {
            "marker": {
             "colorbar": {
              "outlinewidth": 0,
              "ticks": ""
             }
            },
            "type": "scatter"
           }
          ],
          "scatter3d": [
           {
            "line": {
             "colorbar": {
              "outlinewidth": 0,
              "ticks": ""
             }
            },
            "marker": {
             "colorbar": {
              "outlinewidth": 0,
              "ticks": ""
             }
            },
            "type": "scatter3d"
           }
          ],
          "scattercarpet": [
           {
            "marker": {
             "colorbar": {
              "outlinewidth": 0,
              "ticks": ""
             }
            },
            "type": "scattercarpet"
           }
          ],
          "scattergeo": [
           {
            "marker": {
             "colorbar": {
              "outlinewidth": 0,
              "ticks": ""
             }
            },
            "type": "scattergeo"
           }
          ],
          "scattergl": [
           {
            "marker": {
             "colorbar": {
              "outlinewidth": 0,
              "ticks": ""
             }
            },
            "type": "scattergl"
           }
          ],
          "scattermapbox": [
           {
            "marker": {
             "colorbar": {
              "outlinewidth": 0,
              "ticks": ""
             }
            },
            "type": "scattermapbox"
           }
          ],
          "scatterpolar": [
           {
            "marker": {
             "colorbar": {
              "outlinewidth": 0,
              "ticks": ""
             }
            },
            "type": "scatterpolar"
           }
          ],
          "scatterpolargl": [
           {
            "marker": {
             "colorbar": {
              "outlinewidth": 0,
              "ticks": ""
             }
            },
            "type": "scatterpolargl"
           }
          ],
          "scatterternary": [
           {
            "marker": {
             "colorbar": {
              "outlinewidth": 0,
              "ticks": ""
             }
            },
            "type": "scatterternary"
           }
          ],
          "surface": [
           {
            "colorbar": {
             "outlinewidth": 0,
             "ticks": ""
            },
            "colorscale": [
             [
              0,
              "#0d0887"
             ],
             [
              0.1111111111111111,
              "#46039f"
             ],
             [
              0.2222222222222222,
              "#7201a8"
             ],
             [
              0.3333333333333333,
              "#9c179e"
             ],
             [
              0.4444444444444444,
              "#bd3786"
             ],
             [
              0.5555555555555556,
              "#d8576b"
             ],
             [
              0.6666666666666666,
              "#ed7953"
             ],
             [
              0.7777777777777778,
              "#fb9f3a"
             ],
             [
              0.8888888888888888,
              "#fdca26"
             ],
             [
              1,
              "#f0f921"
             ]
            ],
            "type": "surface"
           }
          ],
          "table": [
           {
            "cells": {
             "fill": {
              "color": "#EBF0F8"
             },
             "line": {
              "color": "white"
             }
            },
            "header": {
             "fill": {
              "color": "#C8D4E3"
             },
             "line": {
              "color": "white"
             }
            },
            "type": "table"
           }
          ]
         },
         "layout": {
          "annotationdefaults": {
           "arrowcolor": "#2a3f5f",
           "arrowhead": 0,
           "arrowwidth": 1
          },
          "coloraxis": {
           "colorbar": {
            "outlinewidth": 0,
            "ticks": ""
           }
          },
          "colorscale": {
           "diverging": [
            [
             0,
             "#8e0152"
            ],
            [
             0.1,
             "#c51b7d"
            ],
            [
             0.2,
             "#de77ae"
            ],
            [
             0.3,
             "#f1b6da"
            ],
            [
             0.4,
             "#fde0ef"
            ],
            [
             0.5,
             "#f7f7f7"
            ],
            [
             0.6,
             "#e6f5d0"
            ],
            [
             0.7,
             "#b8e186"
            ],
            [
             0.8,
             "#7fbc41"
            ],
            [
             0.9,
             "#4d9221"
            ],
            [
             1,
             "#276419"
            ]
           ],
           "sequential": [
            [
             0,
             "#0d0887"
            ],
            [
             0.1111111111111111,
             "#46039f"
            ],
            [
             0.2222222222222222,
             "#7201a8"
            ],
            [
             0.3333333333333333,
             "#9c179e"
            ],
            [
             0.4444444444444444,
             "#bd3786"
            ],
            [
             0.5555555555555556,
             "#d8576b"
            ],
            [
             0.6666666666666666,
             "#ed7953"
            ],
            [
             0.7777777777777778,
             "#fb9f3a"
            ],
            [
             0.8888888888888888,
             "#fdca26"
            ],
            [
             1,
             "#f0f921"
            ]
           ],
           "sequentialminus": [
            [
             0,
             "#0d0887"
            ],
            [
             0.1111111111111111,
             "#46039f"
            ],
            [
             0.2222222222222222,
             "#7201a8"
            ],
            [
             0.3333333333333333,
             "#9c179e"
            ],
            [
             0.4444444444444444,
             "#bd3786"
            ],
            [
             0.5555555555555556,
             "#d8576b"
            ],
            [
             0.6666666666666666,
             "#ed7953"
            ],
            [
             0.7777777777777778,
             "#fb9f3a"
            ],
            [
             0.8888888888888888,
             "#fdca26"
            ],
            [
             1,
             "#f0f921"
            ]
           ]
          },
          "colorway": [
           "#636efa",
           "#EF553B",
           "#00cc96",
           "#ab63fa",
           "#FFA15A",
           "#19d3f3",
           "#FF6692",
           "#B6E880",
           "#FF97FF",
           "#FECB52"
          ],
          "font": {
           "color": "#2a3f5f"
          },
          "geo": {
           "bgcolor": "white",
           "lakecolor": "white",
           "landcolor": "#E5ECF6",
           "showlakes": true,
           "showland": true,
           "subunitcolor": "white"
          },
          "hoverlabel": {
           "align": "left"
          },
          "hovermode": "closest",
          "mapbox": {
           "style": "light"
          },
          "paper_bgcolor": "white",
          "plot_bgcolor": "#E5ECF6",
          "polar": {
           "angularaxis": {
            "gridcolor": "white",
            "linecolor": "white",
            "ticks": ""
           },
           "bgcolor": "#E5ECF6",
           "radialaxis": {
            "gridcolor": "white",
            "linecolor": "white",
            "ticks": ""
           }
          },
          "scene": {
           "xaxis": {
            "backgroundcolor": "#E5ECF6",
            "gridcolor": "white",
            "gridwidth": 2,
            "linecolor": "white",
            "showbackground": true,
            "ticks": "",
            "zerolinecolor": "white"
           },
           "yaxis": {
            "backgroundcolor": "#E5ECF6",
            "gridcolor": "white",
            "gridwidth": 2,
            "linecolor": "white",
            "showbackground": true,
            "ticks": "",
            "zerolinecolor": "white"
           },
           "zaxis": {
            "backgroundcolor": "#E5ECF6",
            "gridcolor": "white",
            "gridwidth": 2,
            "linecolor": "white",
            "showbackground": true,
            "ticks": "",
            "zerolinecolor": "white"
           }
          },
          "shapedefaults": {
           "line": {
            "color": "#2a3f5f"
           }
          },
          "ternary": {
           "aaxis": {
            "gridcolor": "white",
            "linecolor": "white",
            "ticks": ""
           },
           "baxis": {
            "gridcolor": "white",
            "linecolor": "white",
            "ticks": ""
           },
           "bgcolor": "#E5ECF6",
           "caxis": {
            "gridcolor": "white",
            "linecolor": "white",
            "ticks": ""
           }
          },
          "title": {
           "x": 0.05
          },
          "xaxis": {
           "automargin": true,
           "gridcolor": "white",
           "linecolor": "white",
           "ticks": "",
           "title": {
            "standoff": 15
           },
           "zerolinecolor": "white",
           "zerolinewidth": 2
          },
          "yaxis": {
           "automargin": true,
           "gridcolor": "white",
           "linecolor": "white",
           "ticks": "",
           "title": {
            "standoff": 15
           },
           "zerolinecolor": "white",
           "zerolinewidth": 2
          }
         }
        },
        "width": 700
       }
      },
      "text/html": "<div>\n        \n        \n            <div id=\"8874f71e-022d-4877-80ef-f83745dbe936\" class=\"plotly-graph-div\" style=\"height:525px; width:700px;\"></div>\n            <script type=\"text/javascript\">\n                require([\"plotly\"], function(Plotly) {\n                    window.PLOTLYENV=window.PLOTLYENV || {};\n                    \n                if (document.getElementById(\"8874f71e-022d-4877-80ef-f83745dbe936\")) {\n                    Plotly.newPlot(\n                        '8874f71e-022d-4877-80ef-f83745dbe936',\n                        [{\"color\": \"red\", \"delaunayaxis\": \"z\", \"flatshading\": true, \"i\": [0, 1, 4, 5, 2, 3, 0, 5, 1, 1, 0, 2], \"j\": [1, 2, 5, 6, 3, 6, 1, 1, 5, 3, 4, 4], \"k\": [2, 3, 6, 7, 6, 7, 4, 4, 7, 7, 6, 6], \"opacity\": 0.95, \"type\": \"mesh3d\", \"x\": [0.4234841912007213, 0.44204221592153353, 0.4234841912007213, 0.44204221592153353, 0.5083191172883512, 0.5268771420091634, 0.5083191172883512, 0.5268771420091635], \"y\": [-0.08666952817313521, -0.03802959210440337, -0.08666952817313517, -0.03802959210440333, -0.11903734735155302, -0.07039741128282118, -0.11903734735155297, -0.07039741128282113], \"z\": [0.1429000049829483, 0.14290000498294833, -2.7755575615628914e-17, 0.0, 0.1429000049829483, 0.14290000498294833, -2.7755575615628914e-17, 0.0]}, {\"color\": \"gray\", \"delaunayaxis\": \"z\", \"opacity\": 0.5, \"type\": \"mesh3d\", \"x\": [-1, 1, 1, -1], \"y\": [-1, -1, 1, 1], \"z\": [0, 0, 0, 0]}, {\"color\": \"blue\", \"delaunayaxis\": \"z\", \"flatshading\": true, \"i\": [0, 1, 4, 5, 2, 3, 0, 5, 1, 1, 0, 2], \"j\": [1, 2, 5, 6, 3, 6, 1, 1, 5, 3, 4, 4], \"k\": [2, 3, 6, 7, 6, 7, 4, 4, 7, 7, 6, 6], \"opacity\": 0.05, \"type\": \"mesh3d\", \"x\": [0.3979369827846472, 0.39816916936269864, 0.5408224468180737, 0.5410546333961251, 0.3991673494639979, 0.39939953604204936, 0.5420528134974244, 0.5422850000754759], \"y\": [0.03873211676414451, 0.04318544101076055, 0.04060686106032335, 0.04506018530693939, -0.05172721971093186, -0.047273895464315596, -0.04985247541475302, -0.045399151168136864], \"z\": [-0.018722295164382757, 0.03314636256700715, -0.019522873644601618, 0.03234578408678829, -0.010961171213326362, 0.04090748651806353, -0.011761749693545223, 0.04010690803784467]}, {\"marker\": {\"color\": \"black\", \"colorscale\": [[0.0, \"#440154\"], [0.1111111111111111, \"#482878\"], [0.2222222222222222, \"#3e4989\"], [0.3333333333333333, \"#31688e\"], [0.4444444444444444, \"#26828e\"], [0.5555555555555556, \"#1f9e89\"], [0.6666666666666666, \"#35b779\"], [0.7777777777777778, \"#6ece58\"], [0.8888888888888888, \"#b5de2b\"], [1.0, \"#fde725\"]], \"opacity\": 0.8, \"size\": 3.0}, \"mode\": \"markers\", \"type\": \"scatter3d\", \"x\": [0.3979369827846472, 0.39816916936269864, 0.5408224468180737, 0.5410546333961251, 0.3991673494639979, 0.39939953604204936, 0.5420528134974244, 0.5422850000754759], \"y\": [0.03873211676414451, 0.04318544101076055, 0.04060686106032335, 0.04506018530693939, -0.05172721971093186, -0.047273895464315596, -0.04985247541475302, -0.045399151168136864], \"z\": [-0.018722295164382757, 0.03314636256700715, -0.019522873644601618, 0.03234578408678829, -0.010961171213326362, 0.04090748651806353, -0.011761749693545223, 0.04010690803784467]}, {\"color\": \"blue\", \"delaunayaxis\": \"z\", \"flatshading\": true, \"i\": [0, 1, 4, 5, 2, 3, 0, 5, 1, 1, 0, 2], \"j\": [1, 2, 5, 6, 3, 6, 1, 1, 5, 3, 4, 4], \"k\": [2, 3, 6, 7, 6, 7, 4, 4, 7, 7, 6, 6], \"opacity\": 0.05, \"type\": \"mesh3d\", \"x\": [0.410179067197207, 0.41177189957521454, 0.5528923346831325, 0.55448516706114, 0.41389600777472135, 0.4154888401527289, 0.5566092752606467, 0.5582021076386543], \"y\": [0.018137938376705243, 0.02350621172083328, 0.023508450525284108, 0.028876723869412146, -0.07211353882173, -0.06674526547760196, -0.06674302667315113, -0.06137475332902309], \"z\": [0.0033955265689395303, 0.055153503622017014, -0.001553443715808872, 0.0502045333372686, 0.012641910667815143, 0.06439988772089258, 0.007692940383066768, 0.059450917436144224]}, {\"marker\": {\"color\": \"black\", \"colorscale\": [[0.0, \"#440154\"], [0.1111111111111111, \"#482878\"], [0.2222222222222222, \"#3e4989\"], [0.3333333333333333, \"#31688e\"], [0.4444444444444444, \"#26828e\"], [0.5555555555555556, \"#1f9e89\"], [0.6666666666666666, \"#35b779\"], [0.7777777777777778, \"#6ece58\"], [0.8888888888888888, \"#b5de2b\"], [1.0, \"#fde725\"]], \"opacity\": 0.8, \"size\": 3.0}, \"mode\": \"markers\", \"type\": \"scatter3d\", \"x\": [0.410179067197207, 0.41177189957521454, 0.5528923346831325, 0.55448516706114, 0.41389600777472135, 0.4154888401527289, 0.5566092752606467, 0.5582021076386543], \"y\": [0.018137938376705243, 0.02350621172083328, 0.023508450525284108, 0.028876723869412146, -0.07211353882173, -0.06674526547760196, -0.06674302667315113, -0.06137475332902309], \"z\": [0.0033955265689395303, 0.055153503622017014, -0.001553443715808872, 0.0502045333372686, 0.012641910667815143, 0.06439988772089258, 0.007692940383066768, 0.059450917436144224]}, {\"color\": \"blue\", \"delaunayaxis\": \"z\", \"flatshading\": true, \"i\": [0, 1, 4, 5, 2, 3, 0, 5, 1, 1, 0, 2], \"j\": [1, 2, 5, 6, 3, 6, 1, 1, 5, 3, 4, 4], \"k\": [2, 3, 6, 7, 6, 7, 4, 4, 7, 7, 6, 6], \"opacity\": 0.05, \"type\": \"mesh3d\", \"x\": [0.4106648101169761, 0.41254922714824216, 0.5532707430321441, 0.5551551600634101, 0.41547062247760075, 0.4173550395088668, 0.5580765553927687, 0.5599609724240349], \"y\": [-0.0005481165936092047, 0.003335661846247173, 0.006613464189649365, 0.010497242629505743, -0.090980676363416, -0.08709689792355946, -0.08381909558015732, -0.079935317140301], \"z\": [-0.004704864342486834, 0.047175853653614375, -0.010420726675165581, 0.04145999132093564, 0.0018903387396925764, 0.05377105673579377, -0.0038255235929861714, 0.04805519440311504]}, {\"marker\": {\"color\": \"black\", \"colorscale\": [[0.0, \"#440154\"], [0.1111111111111111, \"#482878\"], [0.2222222222222222, \"#3e4989\"], [0.3333333333333333, \"#31688e\"], [0.4444444444444444, \"#26828e\"], [0.5555555555555556, \"#1f9e89\"], [0.6666666666666666, \"#35b779\"], [0.7777777777777778, \"#6ece58\"], [0.8888888888888888, \"#b5de2b\"], [1.0, \"#fde725\"]], \"opacity\": 0.8, \"size\": 3.0}, \"mode\": \"markers\", \"type\": \"scatter3d\", \"x\": [0.4106648101169761, 0.41254922714824216, 0.5532707430321441, 0.5551551600634101, 0.41547062247760075, 0.4173550395088668, 0.5580765553927687, 0.5599609724240349], \"y\": [-0.0005481165936092047, 0.003335661846247173, 0.006613464189649365, 0.010497242629505743, -0.090980676363416, -0.08709689792355946, -0.08381909558015732, -0.079935317140301], \"z\": [-0.004704864342486834, 0.047175853653614375, -0.010420726675165581, 0.04145999132093564, 0.0018903387396925764, 0.05377105673579377, -0.0038255235929861714, 0.04805519440311504]}, {\"color\": \"blue\", \"delaunayaxis\": \"z\", \"flatshading\": true, \"i\": [0, 1, 4, 5, 2, 3, 0, 5, 1, 1, 0, 2], \"j\": [1, 2, 5, 6, 3, 6, 1, 1, 5, 3, 4, 4], \"k\": [2, 3, 6, 7, 6, 7, 4, 4, 7, 7, 6, 6], \"opacity\": 0.05, \"type\": \"mesh3d\", \"x\": [0.4018626374668842, 0.4021688554093762, 0.5447513904257065, 0.5450576083681984, 0.4028691534789314, 0.4031753714214233, 0.5457579064377537, 0.5460641243802455], \"y\": [0.027409688778857022, 0.03331266563695384, 0.028888240237082474, 0.034791217095179294, -0.06279983316120208, -0.05689685630310504, -0.06132128170297657, -0.05541830484487975], \"z\": [-0.011539674006646877, 0.04018367427140901, -0.012554359960378167, 0.03916898831767773, -0.0012503844527522179, 0.05047296382530367, -0.0022650704064834937, 0.04945827787157242]}, {\"marker\": {\"color\": \"black\", \"colorscale\": [[0.0, \"#440154\"], [0.1111111111111111, \"#482878\"], [0.2222222222222222, \"#3e4989\"], [0.3333333333333333, \"#31688e\"], [0.4444444444444444, \"#26828e\"], [0.5555555555555556, \"#1f9e89\"], [0.6666666666666666, \"#35b779\"], [0.7777777777777778, \"#6ece58\"], [0.8888888888888888, \"#b5de2b\"], [1.0, \"#fde725\"]], \"opacity\": 0.8, \"size\": 3.0}, \"mode\": \"markers\", \"type\": \"scatter3d\", \"x\": [0.4018626374668842, 0.4021688554093762, 0.5447513904257065, 0.5450576083681984, 0.4028691534789314, 0.4031753714214233, 0.5457579064377537, 0.5460641243802455], \"y\": [0.027409688778857022, 0.03331266563695384, 0.028888240237082474, 0.034791217095179294, -0.06279983316120208, -0.05689685630310504, -0.06132128170297657, -0.05541830484487975], \"z\": [-0.011539674006646877, 0.04018367427140901, -0.012554359960378167, 0.03916898831767773, -0.0012503844527522179, 0.05047296382530367, -0.0022650704064834937, 0.04945827787157242]}, {\"color\": \"blue\", \"delaunayaxis\": \"z\", \"flatshading\": true, \"i\": [0, 1, 4, 5, 2, 3, 0, 5, 1, 1, 0, 2], \"j\": [1, 2, 5, 6, 3, 6, 1, 1, 5, 3, 4, 4], \"k\": [2, 3, 6, 7, 6, 7, 4, 4, 7, 7, 6, 6], \"opacity\": 0.05, \"type\": \"mesh3d\", \"x\": [0.40850264708606104, 0.4099293026531254, 0.5512538435149793, 0.5526804990820435, 0.4118148287641289, 0.41324148433119323, 0.5545660251930471, 0.5559926807601114], \"y\": [0.018989178488348024, 0.024751879209297056, 0.023738386297349146, 0.029501087018298178, -0.07120235131116703, -0.06543965059021783, -0.0664531435021658, -0.060690442781216714], \"z\": [0.002317367542019222, 0.054037765806169646, -0.0021494397546951566, 0.049570958509455254, 0.012275168886445503, 0.0639955671505959, 0.007808361589731111, 0.05952875985388156]}, {\"marker\": {\"color\": \"black\", \"colorscale\": [[0.0, \"#440154\"], [0.1111111111111111, \"#482878\"], [0.2222222222222222, \"#3e4989\"], [0.3333333333333333, \"#31688e\"], [0.4444444444444444, \"#26828e\"], [0.5555555555555556, \"#1f9e89\"], [0.6666666666666666, \"#35b779\"], [0.7777777777777778, \"#6ece58\"], [0.8888888888888888, \"#b5de2b\"], [1.0, \"#fde725\"]], \"opacity\": 0.8, \"size\": 3.0}, \"mode\": \"markers\", \"type\": \"scatter3d\", \"x\": [0.40850264708606104, 0.4099293026531254, 0.5512538435149793, 0.5526804990820435, 0.4118148287641289, 0.41324148433119323, 0.5545660251930471, 0.5559926807601114], \"y\": [0.018989178488348024, 0.024751879209297056, 0.023738386297349146, 0.029501087018298178, -0.07120235131116703, -0.06543965059021783, -0.0664531435021658, -0.060690442781216714], \"z\": [0.002317367542019222, 0.054037765806169646, -0.0021494397546951566, 0.049570958509455254, 0.012275168886445503, 0.0639955671505959, 0.007808361589731111, 0.05952875985388156]}, {\"color\": \"blue\", \"delaunayaxis\": \"z\", \"flatshading\": true, \"i\": [0, 1, 4, 5, 2, 3, 0, 5, 1, 1, 0, 2], \"j\": [1, 2, 5, 6, 3, 6, 1, 1, 5, 3, 4, 4], \"k\": [2, 3, 6, 7, 6, 7, 4, 4, 7, 7, 6, 6], \"opacity\": 0.05, \"type\": \"mesh3d\", \"x\": [0.3951256598333746, 0.39520547057490774, 0.5380249748481769, 0.5381047855897101, 0.39537109514192215, 0.39545090588345533, 0.5382704101567245, 0.5383502208982577], \"y\": [0.034745148013557436, 0.04063407634798338, 0.035104151436135544, 0.040993079770561436, -0.05547177049176866, -0.049582842157342655, -0.05511276706919066, -0.04922383873476477], \"z\": [-0.014847896923637888, 0.036877897566404805, -0.015109256770433191, 0.03661653771960949, -0.004577172529855844, 0.04714862196018679, -0.0048385323766511334, 0.04688726211339153]}, {\"marker\": {\"color\": \"black\", \"colorscale\": [[0.0, \"#440154\"], [0.1111111111111111, \"#482878\"], [0.2222222222222222, \"#3e4989\"], [0.3333333333333333, \"#31688e\"], [0.4444444444444444, \"#26828e\"], [0.5555555555555556, \"#1f9e89\"], [0.6666666666666666, \"#35b779\"], [0.7777777777777778, \"#6ece58\"], [0.8888888888888888, \"#b5de2b\"], [1.0, \"#fde725\"]], \"opacity\": 0.8, \"size\": 3.0}, \"mode\": \"markers\", \"type\": \"scatter3d\", \"x\": [0.3951256598333746, 0.39520547057490774, 0.5380249748481769, 0.5381047855897101, 0.39537109514192215, 0.39545090588345533, 0.5382704101567245, 0.5383502208982577], \"y\": [0.034745148013557436, 0.04063407634798338, 0.035104151436135544, 0.040993079770561436, -0.05547177049176866, -0.049582842157342655, -0.05511276706919066, -0.04922383873476477], \"z\": [-0.014847896923637888, 0.036877897566404805, -0.015109256770433191, 0.03661653771960949, -0.004577172529855844, 0.04714862196018679, -0.0048385323766511334, 0.04688726211339153]}, {\"color\": \"blue\", \"delaunayaxis\": \"z\", \"flatshading\": true, \"i\": [0, 1, 4, 5, 2, 3, 0, 5, 1, 1, 0, 2], \"j\": [1, 2, 5, 6, 3, 6, 1, 1, 5, 3, 4, 4], \"k\": [2, 3, 6, 7, 6, 7, 4, 4, 7, 7, 6, 6], \"opacity\": 0.05, \"type\": \"mesh3d\", \"x\": [0.39447767098755426, 0.3946529522101436, 0.537371997900984, 0.5375472791235733, 0.39522715052369195, 0.3954024317462813, 0.5381214774371216, 0.5382967586597109], \"y\": [0.03782320233001235, 0.04451197293523945, 0.038931140195561875, 0.045619910800788976, -0.052221483608913766, -0.0455327130036865, -0.05111354574336413, -0.04442477513813703], \"z\": [-0.022434077545771605, 0.029194144257736754, -0.023062753750687268, 0.02856546805282109, -0.010770749665381968, 0.04085747213812635, -0.01139942587029763, 0.040228795933210715]}, {\"marker\": {\"color\": \"black\", \"colorscale\": [[0.0, \"#440154\"], [0.1111111111111111, \"#482878\"], [0.2222222222222222, \"#3e4989\"], [0.3333333333333333, \"#31688e\"], [0.4444444444444444, \"#26828e\"], [0.5555555555555556, \"#1f9e89\"], [0.6666666666666666, \"#35b779\"], [0.7777777777777778, \"#6ece58\"], [0.8888888888888888, \"#b5de2b\"], [1.0, \"#fde725\"]], \"opacity\": 0.8, \"size\": 3.0}, \"mode\": \"markers\", \"type\": \"scatter3d\", \"x\": [0.39447767098755426, 0.3946529522101436, 0.537371997900984, 0.5375472791235733, 0.39522715052369195, 0.3954024317462813, 0.5381214774371216, 0.5382967586597109], \"y\": [0.03782320233001235, 0.04451197293523945, 0.038931140195561875, 0.045619910800788976, -0.052221483608913766, -0.0455327130036865, -0.05111354574336413, -0.04442477513813703], \"z\": [-0.022434077545771605, 0.029194144257736754, -0.023062753750687268, 0.02856546805282109, -0.010770749665381968, 0.04085747213812635, -0.01139942587029763, 0.040228795933210715]}, {\"color\": \"blue\", \"delaunayaxis\": \"z\", \"flatshading\": true, \"i\": [0, 1, 4, 5, 2, 3, 0, 5, 1, 1, 0, 2], \"j\": [1, 2, 5, 6, 3, 6, 1, 1, 5, 3, 4, 4], \"k\": [2, 3, 6, 7, 6, 7, 4, 4, 7, 7, 6, 6], \"opacity\": 0.05, \"type\": \"mesh3d\", \"x\": [0.39339164404100935, 0.39361150289833013, 0.5362864064911358, 0.5365062653484566, 0.3940683132479643, 0.3942881721052851, 0.5369630756980909, 0.5371829345554117], \"y\": [0.03757375571212035, 0.044769777382893894, 0.038545060116970675, 0.045741081787744275, -0.052352519232637285, -0.04515649756186357, -0.051381214827787014, -0.0441851931570133], \"z\": [-0.015101946269882927, 0.036457850049586904, -0.015846832973811426, 0.035712963345658405, -0.0025541338707192607, 0.04900566244875049, -0.003299020574647732, 0.04826077574482204]}, {\"marker\": {\"color\": \"black\", \"colorscale\": [[0.0, \"#440154\"], [0.1111111111111111, \"#482878\"], [0.2222222222222222, \"#3e4989\"], [0.3333333333333333, \"#31688e\"], [0.4444444444444444, \"#26828e\"], [0.5555555555555556, \"#1f9e89\"], [0.6666666666666666, \"#35b779\"], [0.7777777777777778, \"#6ece58\"], [0.8888888888888888, \"#b5de2b\"], [1.0, \"#fde725\"]], \"opacity\": 0.8, \"size\": 3.0}, \"mode\": \"markers\", \"type\": \"scatter3d\", \"x\": [0.39339164404100935, 0.39361150289833013, 0.5362864064911358, 0.5365062653484566, 0.3940683132479643, 0.3942881721052851, 0.5369630756980909, 0.5371829345554117], \"y\": [0.03757375571212035, 0.044769777382893894, 0.038545060116970675, 0.045741081787744275, -0.052352519232637285, -0.04515649756186357, -0.051381214827787014, -0.0441851931570133], \"z\": [-0.015101946269882927, 0.036457850049586904, -0.015846832973811426, 0.035712963345658405, -0.0025541338707192607, 0.04900566244875049, -0.003299020574647732, 0.04826077574482204]}, {\"color\": \"blue\", \"delaunayaxis\": \"z\", \"flatshading\": true, \"i\": [0, 1, 4, 5, 2, 3, 0, 5, 1, 1, 0, 2], \"j\": [1, 2, 5, 6, 3, 6, 1, 1, 5, 3, 4, 4], \"k\": [2, 3, 6, 7, 6, 7, 4, 4, 7, 7, 6, 6], \"opacity\": 0.05, \"type\": \"mesh3d\", \"x\": [0.3989958626778849, 0.39925918248223685, 0.541893399029783, 0.542156718834135, 0.3992677589368248, 0.39953107874117677, 0.5421652952887229, 0.5424286150930748], \"y\": [0.04233469005043955, 0.04749387953313233, 0.04268886664960886, 0.04784805613230164, -0.048018059473490804, -0.04285886999079791, -0.04766388287432133, -0.042504693391628656], \"z\": [-0.028764510609905966, 0.023038550003062708, -0.029526145444472796, 0.022276915168495892, -0.019767448392121703, 0.032035612220846915, -0.020529083226688533, 0.031273977386280155]}, {\"marker\": {\"color\": \"black\", \"colorscale\": [[0.0, \"#440154\"], [0.1111111111111111, \"#482878\"], [0.2222222222222222, \"#3e4989\"], [0.3333333333333333, \"#31688e\"], [0.4444444444444444, \"#26828e\"], [0.5555555555555556, \"#1f9e89\"], [0.6666666666666666, \"#35b779\"], [0.7777777777777778, \"#6ece58\"], [0.8888888888888888, \"#b5de2b\"], [1.0, \"#fde725\"]], \"opacity\": 0.8, \"size\": 3.0}, \"mode\": \"markers\", \"type\": \"scatter3d\", \"x\": [0.3989958626778849, 0.39925918248223685, 0.541893399029783, 0.542156718834135, 0.3992677589368248, 0.39953107874117677, 0.5421652952887229, 0.5424286150930748], \"y\": [0.04233469005043955, 0.04749387953313233, 0.04268886664960886, 0.04784805613230164, -0.048018059473490804, -0.04285886999079791, -0.04766388287432133, -0.042504693391628656], \"z\": [-0.028764510609905966, 0.023038550003062708, -0.029526145444472796, 0.022276915168495892, -0.019767448392121703, 0.032035612220846915, -0.020529083226688533, 0.031273977386280155]}, {\"color\": \"blue\", \"delaunayaxis\": \"z\", \"flatshading\": true, \"i\": [0, 1, 4, 5, 2, 3, 0, 5, 1, 1, 0, 2], \"j\": [1, 2, 5, 6, 3, 6, 1, 1, 5, 3, 4, 4], \"k\": [2, 3, 6, 7, 6, 7, 4, 4, 7, 7, 6, 6], \"opacity\": 0.05, \"type\": \"mesh3d\", \"x\": [0.3900800458076079, 0.39041641415469497, 0.5329754026778329, 0.53331177102492, 0.39051839757420737, 0.3908547659212944, 0.5334137544444325, 0.5337501227915195], \"y\": [0.022473778326515814, 0.028833031922099406, 0.023045714749507507, 0.029404968345091098, -0.06764552231582543, -0.06128626872024173, -0.06707358589283374, -0.060714332297250095], \"z\": [-0.021357427041830482, 0.03031161990458353, -0.02235807572429656, 0.029310971222117455, -0.010268698434617751, 0.04140034851179619, -0.011269347117083828, 0.040399699829330143]}, {\"marker\": {\"color\": \"black\", \"colorscale\": [[0.0, \"#440154\"], [0.1111111111111111, \"#482878\"], [0.2222222222222222, \"#3e4989\"], [0.3333333333333333, \"#31688e\"], [0.4444444444444444, \"#26828e\"], [0.5555555555555556, \"#1f9e89\"], [0.6666666666666666, \"#35b779\"], [0.7777777777777778, \"#6ece58\"], [0.8888888888888888, \"#b5de2b\"], [1.0, \"#fde725\"]], \"opacity\": 0.8, \"size\": 3.0}, \"mode\": \"markers\", \"type\": \"scatter3d\", \"x\": [0.3900800458076079, 0.39041641415469497, 0.5329754026778329, 0.53331177102492, 0.39051839757420737, 0.3908547659212944, 0.5334137544444325, 0.5337501227915195], \"y\": [0.022473778326515814, 0.028833031922099406, 0.023045714749507507, 0.029404968345091098, -0.06764552231582543, -0.06128626872024173, -0.06707358589283374, -0.060714332297250095], \"z\": [-0.021357427041830482, 0.03031161990458353, -0.02235807572429656, 0.029310971222117455, -0.010268698434617751, 0.04140034851179619, -0.011269347117083828, 0.040399699829330143]}],\n                        {\"margin\": {\"b\": 10, \"l\": 10, \"r\": 20, \"t\": 10}, \"scene\": {\"camera\": {\"center\": {\"x\": 0.45, \"y\": 0, \"z\": 0.0}, \"eye\": {\"x\": -1.0, \"y\": 0.0, \"z\": 0.01}, \"up\": {\"x\": 0, \"y\": 0, \"z\": 1}}, \"xaxis\": {\"nticks\": 10, \"range\": [-0.1, 0.9]}, \"yaxis\": {\"nticks\": 16, \"range\": [-0.5, 0.5]}, \"zaxis\": {\"nticks\": 8, \"range\": [-0.01, 0.99]}}, \"template\": {\"data\": {\"bar\": [{\"error_x\": {\"color\": \"#2a3f5f\"}, \"error_y\": {\"color\": \"#2a3f5f\"}, \"marker\": {\"line\": {\"color\": \"#E5ECF6\", \"width\": 0.5}}, \"type\": \"bar\"}], \"barpolar\": [{\"marker\": {\"line\": {\"color\": \"#E5ECF6\", \"width\": 0.5}}, \"type\": \"barpolar\"}], \"carpet\": [{\"aaxis\": {\"endlinecolor\": \"#2a3f5f\", \"gridcolor\": \"white\", \"linecolor\": \"white\", \"minorgridcolor\": \"white\", \"startlinecolor\": \"#2a3f5f\"}, \"baxis\": {\"endlinecolor\": \"#2a3f5f\", \"gridcolor\": \"white\", \"linecolor\": \"white\", \"minorgridcolor\": \"white\", \"startlinecolor\": \"#2a3f5f\"}, \"type\": \"carpet\"}], \"choropleth\": [{\"colorbar\": {\"outlinewidth\": 0, \"ticks\": \"\"}, \"type\": \"choropleth\"}], \"contour\": [{\"colorbar\": {\"outlinewidth\": 0, \"ticks\": \"\"}, \"colorscale\": [[0.0, \"#0d0887\"], [0.1111111111111111, \"#46039f\"], [0.2222222222222222, \"#7201a8\"], [0.3333333333333333, \"#9c179e\"], [0.4444444444444444, \"#bd3786\"], [0.5555555555555556, \"#d8576b\"], [0.6666666666666666, \"#ed7953\"], [0.7777777777777778, \"#fb9f3a\"], [0.8888888888888888, \"#fdca26\"], [1.0, \"#f0f921\"]], \"type\": \"contour\"}], \"contourcarpet\": [{\"colorbar\": {\"outlinewidth\": 0, \"ticks\": \"\"}, \"type\": \"contourcarpet\"}], \"heatmap\": [{\"colorbar\": {\"outlinewidth\": 0, \"ticks\": \"\"}, \"colorscale\": [[0.0, \"#0d0887\"], [0.1111111111111111, \"#46039f\"], [0.2222222222222222, \"#7201a8\"], [0.3333333333333333, \"#9c179e\"], [0.4444444444444444, \"#bd3786\"], [0.5555555555555556, \"#d8576b\"], [0.6666666666666666, \"#ed7953\"], [0.7777777777777778, \"#fb9f3a\"], [0.8888888888888888, \"#fdca26\"], [1.0, \"#f0f921\"]], \"type\": \"heatmap\"}], \"heatmapgl\": [{\"colorbar\": {\"outlinewidth\": 0, \"ticks\": \"\"}, \"colorscale\": [[0.0, \"#0d0887\"], [0.1111111111111111, \"#46039f\"], [0.2222222222222222, \"#7201a8\"], [0.3333333333333333, \"#9c179e\"], [0.4444444444444444, \"#bd3786\"], [0.5555555555555556, \"#d8576b\"], [0.6666666666666666, \"#ed7953\"], [0.7777777777777778, \"#fb9f3a\"], [0.8888888888888888, \"#fdca26\"], [1.0, \"#f0f921\"]], \"type\": \"heatmapgl\"}], \"histogram\": [{\"marker\": {\"colorbar\": {\"outlinewidth\": 0, \"ticks\": \"\"}}, \"type\": \"histogram\"}], \"histogram2d\": [{\"colorbar\": {\"outlinewidth\": 0, \"ticks\": \"\"}, \"colorscale\": [[0.0, \"#0d0887\"], [0.1111111111111111, \"#46039f\"], [0.2222222222222222, \"#7201a8\"], [0.3333333333333333, \"#9c179e\"], [0.4444444444444444, \"#bd3786\"], [0.5555555555555556, \"#d8576b\"], [0.6666666666666666, \"#ed7953\"], [0.7777777777777778, \"#fb9f3a\"], [0.8888888888888888, \"#fdca26\"], [1.0, \"#f0f921\"]], \"type\": \"histogram2d\"}], \"histogram2dcontour\": [{\"colorbar\": {\"outlinewidth\": 0, \"ticks\": \"\"}, \"colorscale\": [[0.0, \"#0d0887\"], [0.1111111111111111, \"#46039f\"], [0.2222222222222222, \"#7201a8\"], [0.3333333333333333, \"#9c179e\"], [0.4444444444444444, \"#bd3786\"], [0.5555555555555556, \"#d8576b\"], [0.6666666666666666, \"#ed7953\"], [0.7777777777777778, \"#fb9f3a\"], [0.8888888888888888, \"#fdca26\"], [1.0, \"#f0f921\"]], \"type\": \"histogram2dcontour\"}], \"mesh3d\": [{\"colorbar\": {\"outlinewidth\": 0, \"ticks\": \"\"}, \"type\": \"mesh3d\"}], \"parcoords\": [{\"line\": {\"colorbar\": {\"outlinewidth\": 0, \"ticks\": \"\"}}, \"type\": \"parcoords\"}], \"pie\": [{\"automargin\": true, \"type\": \"pie\"}], \"scatter\": [{\"marker\": {\"colorbar\": {\"outlinewidth\": 0, \"ticks\": \"\"}}, \"type\": \"scatter\"}], \"scatter3d\": [{\"line\": {\"colorbar\": {\"outlinewidth\": 0, \"ticks\": \"\"}}, \"marker\": {\"colorbar\": {\"outlinewidth\": 0, \"ticks\": \"\"}}, \"type\": \"scatter3d\"}], \"scattercarpet\": [{\"marker\": {\"colorbar\": {\"outlinewidth\": 0, \"ticks\": \"\"}}, \"type\": \"scattercarpet\"}], \"scattergeo\": [{\"marker\": {\"colorbar\": {\"outlinewidth\": 0, \"ticks\": \"\"}}, \"type\": \"scattergeo\"}], \"scattergl\": [{\"marker\": {\"colorbar\": {\"outlinewidth\": 0, \"ticks\": \"\"}}, \"type\": \"scattergl\"}], \"scattermapbox\": [{\"marker\": {\"colorbar\": {\"outlinewidth\": 0, \"ticks\": \"\"}}, \"type\": \"scattermapbox\"}], \"scatterpolar\": [{\"marker\": {\"colorbar\": {\"outlinewidth\": 0, \"ticks\": \"\"}}, \"type\": \"scatterpolar\"}], \"scatterpolargl\": [{\"marker\": {\"colorbar\": {\"outlinewidth\": 0, \"ticks\": \"\"}}, \"type\": \"scatterpolargl\"}], \"scatterternary\": [{\"marker\": {\"colorbar\": {\"outlinewidth\": 0, \"ticks\": \"\"}}, \"type\": \"scatterternary\"}], \"surface\": [{\"colorbar\": {\"outlinewidth\": 0, \"ticks\": \"\"}, \"colorscale\": [[0.0, \"#0d0887\"], [0.1111111111111111, \"#46039f\"], [0.2222222222222222, \"#7201a8\"], [0.3333333333333333, \"#9c179e\"], [0.4444444444444444, \"#bd3786\"], [0.5555555555555556, \"#d8576b\"], [0.6666666666666666, \"#ed7953\"], [0.7777777777777778, \"#fb9f3a\"], [0.8888888888888888, \"#fdca26\"], [1.0, \"#f0f921\"]], \"type\": \"surface\"}], \"table\": [{\"cells\": {\"fill\": {\"color\": \"#EBF0F8\"}, \"line\": {\"color\": \"white\"}}, \"header\": {\"fill\": {\"color\": \"#C8D4E3\"}, \"line\": {\"color\": \"white\"}}, \"type\": \"table\"}]}, \"layout\": {\"annotationdefaults\": {\"arrowcolor\": \"#2a3f5f\", \"arrowhead\": 0, \"arrowwidth\": 1}, \"coloraxis\": {\"colorbar\": {\"outlinewidth\": 0, \"ticks\": \"\"}}, \"colorscale\": {\"diverging\": [[0, \"#8e0152\"], [0.1, \"#c51b7d\"], [0.2, \"#de77ae\"], [0.3, \"#f1b6da\"], [0.4, \"#fde0ef\"], [0.5, \"#f7f7f7\"], [0.6, \"#e6f5d0\"], [0.7, \"#b8e186\"], [0.8, \"#7fbc41\"], [0.9, \"#4d9221\"], [1, \"#276419\"]], \"sequential\": [[0.0, \"#0d0887\"], [0.1111111111111111, \"#46039f\"], [0.2222222222222222, \"#7201a8\"], [0.3333333333333333, \"#9c179e\"], [0.4444444444444444, \"#bd3786\"], [0.5555555555555556, \"#d8576b\"], [0.6666666666666666, \"#ed7953\"], [0.7777777777777778, \"#fb9f3a\"], [0.8888888888888888, \"#fdca26\"], [1.0, \"#f0f921\"]], \"sequentialminus\": [[0.0, \"#0d0887\"], [0.1111111111111111, \"#46039f\"], [0.2222222222222222, \"#7201a8\"], [0.3333333333333333, \"#9c179e\"], [0.4444444444444444, \"#bd3786\"], [0.5555555555555556, \"#d8576b\"], [0.6666666666666666, \"#ed7953\"], [0.7777777777777778, \"#fb9f3a\"], [0.8888888888888888, \"#fdca26\"], [1.0, \"#f0f921\"]]}, \"colorway\": [\"#636efa\", \"#EF553B\", \"#00cc96\", \"#ab63fa\", \"#FFA15A\", \"#19d3f3\", \"#FF6692\", \"#B6E880\", \"#FF97FF\", \"#FECB52\"], \"font\": {\"color\": \"#2a3f5f\"}, \"geo\": {\"bgcolor\": \"white\", \"lakecolor\": \"white\", \"landcolor\": \"#E5ECF6\", \"showlakes\": true, \"showland\": true, \"subunitcolor\": \"white\"}, \"hoverlabel\": {\"align\": \"left\"}, \"hovermode\": \"closest\", \"mapbox\": {\"style\": \"light\"}, \"paper_bgcolor\": \"white\", \"plot_bgcolor\": \"#E5ECF6\", \"polar\": {\"angularaxis\": {\"gridcolor\": \"white\", \"linecolor\": \"white\", \"ticks\": \"\"}, \"bgcolor\": \"#E5ECF6\", \"radialaxis\": {\"gridcolor\": \"white\", \"linecolor\": \"white\", \"ticks\": \"\"}}, \"scene\": {\"xaxis\": {\"backgroundcolor\": \"#E5ECF6\", \"gridcolor\": \"white\", \"gridwidth\": 2, \"linecolor\": \"white\", \"showbackground\": true, \"ticks\": \"\", \"zerolinecolor\": \"white\"}, \"yaxis\": {\"backgroundcolor\": \"#E5ECF6\", \"gridcolor\": \"white\", \"gridwidth\": 2, \"linecolor\": \"white\", \"showbackground\": true, \"ticks\": \"\", \"zerolinecolor\": \"white\"}, \"zaxis\": {\"backgroundcolor\": \"#E5ECF6\", \"gridcolor\": \"white\", \"gridwidth\": 2, \"linecolor\": \"white\", \"showbackground\": true, \"ticks\": \"\", \"zerolinecolor\": \"white\"}}, \"shapedefaults\": {\"line\": {\"color\": \"#2a3f5f\"}}, \"ternary\": {\"aaxis\": {\"gridcolor\": \"white\", \"linecolor\": \"white\", \"ticks\": \"\"}, \"baxis\": {\"gridcolor\": \"white\", \"linecolor\": \"white\", \"ticks\": \"\"}, \"bgcolor\": \"#E5ECF6\", \"caxis\": {\"gridcolor\": \"white\", \"linecolor\": \"white\", \"ticks\": \"\"}}, \"title\": {\"x\": 0.05}, \"xaxis\": {\"automargin\": true, \"gridcolor\": \"white\", \"linecolor\": \"white\", \"ticks\": \"\", \"title\": {\"standoff\": 15}, \"zerolinecolor\": \"white\", \"zerolinewidth\": 2}, \"yaxis\": {\"automargin\": true, \"gridcolor\": \"white\", \"linecolor\": \"white\", \"ticks\": \"\", \"title\": {\"standoff\": 15}, \"zerolinecolor\": \"white\", \"zerolinewidth\": 2}}}, \"width\": 700},\n                        {\"responsive\": true}\n                    ).then(function(){\n                            \nvar gd = document.getElementById('8874f71e-022d-4877-80ef-f83745dbe936');\nvar x = new MutationObserver(function (mutations, observer) {{\n        var display = window.getComputedStyle(gd).display;\n        if (!display || display === 'none') {{\n            console.log([gd, 'removed!']);\n            Plotly.purge(gd);\n            observer.disconnect();\n        }}\n}});\n\n// Listen for the removal of the full notebook cells\nvar notebookContainer = gd.closest('#notebook-container');\nif (notebookContainer) {{\n    x.observe(notebookContainer, {childList: true});\n}}\n\n// Listen for the clearing of the current output cell\nvar outputEl = gd.closest('.output');\nif (outputEl) {{\n    x.observe(outputEl, {childList: true});\n}}\n\n                        })\n                };\n                });\n            </script>\n        </div>"
     },
     "metadata": {},
     "output_type": "display_data"
    }
   ],
   "source": "grasp_test = sample_grasp_transformation(start_data=keypoint_plan[-2], grasp_vae=grasp_trans_vae, grasp_clf=grasp_trans_clf, num_samples=10)\ngrasp_test = transform_keypoints(grasp_test, number=10)\nplot_keypoint_goal(grasp_test).show()\n\n# vis_palms(grasp_test, name='grasp', goal='transformation', goal_number=10).show(viewer='gl')"
  },
  {
   "cell_type": "code",
   "execution_count": 288,
   "metadata": {},
   "outputs": [
    {
     "name": "stdout",
     "output_type": "stream",
     "text": "realsense_box_experiments.stl\ntable_top.stl\nmpalms_all_coarse.stl\nmpalms_all_coarse.stl:EZJCRMSKUZLP\nmpalms_all_coarse.stl:EZIOMBXAN3PP\nmpalms_all_coarse.stl:EZIGHHAIO9BN\nmpalms_all_coarse.stl:EZJZHMH1ZLPP\nmpalms_all_coarse.stl:EZJGH4GUEZPV\nmpalms_all_coarse.stl:EZL2OCE6KWQP\nmpalms_all_coarse.stl:EZL5ZZXFXXFU\nmpalms_all_coarse.stl:EZIALAB0TLAP\nmpalms_all_coarse.stl:EZLMYXMQ7YTT\nmpalms_all_coarse.stl:EZIAFCJMBQLX\nmpalms_all_coarse.stl:EZLANZCVTAE0\nmpalms_all_coarse.stl:EZINCVQFPRVP\nmpalms_all_coarse.stl:EZKSHFAQIJZF\nmpalms_all_coarse.stl:EZLGQZSPECPP\nmpalms_all_coarse.stl:EZIWIOC3LAKP\nmpalms_all_coarse.stl:EZKGTQMRRHUP\nmpalms_all_coarse.stl:EZIOJMKXVWXT\nmpalms_all_coarse.stl:EZL35F0EZAPN\nmpalms_all_coarse.stl:EZLZ4NBZZQTT\nrealsense_box_experiments.stl:EZJSUW7JIDXV\n"
    },
    {
     "data": {
      "text/plain": "SceneViewer(width=1800, height=1350)"
     },
     "execution_count": 288,
     "metadata": {},
     "output_type": "execute_result"
    }
   ],
   "source": "grasp_contact_test = empty_state()\nind = 3\ngrasp_contact_test['start'] = grasp_test['start']\ngrasp_contact_test['transformation_corrected'] = [grasp_test['transformation_corrected'][ind]]\ngrasp_contact_test['keypoints_start'] = grasp_test['keypoints_start']\ngrasp_contact_test['keypoints_goal_corrected'] = grasp_test['keypoints_goal_corrected'][ind]\n\ngrasp_contact_test_out = sample_contact(grasp_palm_vae, grasp_contact_test, primitive='grasp', num_samples=10)\n\nvis_palms(grasp_contact_test_out, name='grasp', goal='transformation', palm_number=10).show(viewer='gl')"
  },
  {
   "cell_type": "code",
   "execution_count": 195,
   "metadata": {},
   "outputs": [
    {
     "data": {
      "application/vnd.plotly.v1+json": {
       "config": {
        "plotlyServerURL": "https://plot.ly"
       },
       "data": [
        {
         "color": "red",
         "delaunayaxis": "z",
         "flatshading": true,
         "i": [
          0,
          1,
          4,
          5,
          2,
          3,
          0,
          5,
          1,
          1,
          0,
          2
         ],
         "j": [
          1,
          2,
          5,
          6,
          3,
          6,
          1,
          1,
          5,
          3,
          4,
          4
         ],
         "k": [
          2,
          3,
          6,
          7,
          6,
          7,
          4,
          4,
          7,
          7,
          6,
          6
         ],
         "opacity": 0.95,
         "type": "mesh3d",
         "x": [
          0.3934064118792318,
          0.4298343629261185,
          0.3934050369742161,
          0.42983298802110276,
          0.4582745933267715,
          0.4947025443736582,
          0.4582732184217558,
          0.49470116946864245
         ],
         "y": [
          -0.031767224974318886,
          0.0054248177623308635,
          -0.031771187595657974,
          0.005420855140991776,
          -0.09530272243089861,
          -0.058110679694248865,
          -0.0953066850522377,
          -0.05811464231558795
         ],
         "z": [
          0.15382094604249055,
          0.15381956421640236,
          0.010920941121098302,
          0.010919559295010109,
          0.15382208375784662,
          0.1538207019317584,
          0.010922078836454352,
          0.01092069701036616
         ]
        },
        {
         "color": "gray",
         "delaunayaxis": "z",
         "opacity": 0.5,
         "type": "mesh3d",
         "x": [
          -1,
          1,
          1,
          -1
         ],
         "y": [
          -1,
          -1,
          1,
          1
         ],
         "z": [
          0,
          0,
          0,
          0
         ]
        },
        {
         "color": "blue",
         "delaunayaxis": "z",
         "flatshading": true,
         "i": [
          0,
          1,
          4,
          5,
          2,
          3,
          0,
          5,
          1,
          1,
          0,
          2
         ],
         "j": [
          1,
          2,
          5,
          6,
          3,
          6,
          1,
          1,
          5,
          3,
          4,
          4
         ],
         "k": [
          2,
          3,
          6,
          7,
          6,
          7,
          4,
          4,
          7,
          7,
          6,
          6
         ],
         "opacity": 0.05,
         "type": "mesh3d",
         "x": [
          0.3783822934078823,
          0.3783822934078823,
          0.5212813177381614,
          0.5212813177381614,
          0.3787186822618386,
          0.3787186822618386,
          0.5216177065921177,
          0.5216177065921177
         ],
         "y": [
          0.045134987085210306,
          0.045134987085210306,
          0.04566439201618725,
          0.04566439201618725,
          -0.04566439201618725,
          -0.04566439201618725,
          -0.045134987085210306,
          -0.045134987085210306
         ],
         "z": [
          0,
          0.052060000598430634,
          0,
          0.052060000598430634,
          0,
          0.052060000598430634,
          0,
          0.052060000598430634
         ]
        },
        {
         "marker": {
          "color": "black",
          "colorscale": [
           [
            0,
            "#440154"
           ],
           [
            0.1111111111111111,
            "#482878"
           ],
           [
            0.2222222222222222,
            "#3e4989"
           ],
           [
            0.3333333333333333,
            "#31688e"
           ],
           [
            0.4444444444444444,
            "#26828e"
           ],
           [
            0.5555555555555556,
            "#1f9e89"
           ],
           [
            0.6666666666666666,
            "#35b779"
           ],
           [
            0.7777777777777778,
            "#6ece58"
           ],
           [
            0.8888888888888888,
            "#b5de2b"
           ],
           [
            1,
            "#fde725"
           ]
          ],
          "opacity": 0.8,
          "size": 3
         },
         "mode": "markers",
         "type": "scatter3d",
         "x": [
          0.3783822934078823,
          0.3783822934078823,
          0.5212813177381614,
          0.5212813177381614,
          0.3787186822618386,
          0.3787186822618386,
          0.5216177065921177,
          0.5216177065921177
         ],
         "y": [
          0.045134987085210306,
          0.045134987085210306,
          0.04566439201618725,
          0.04566439201618725,
          -0.04566439201618725,
          -0.04566439201618725,
          -0.045134987085210306,
          -0.045134987085210306
         ],
         "z": [
          0,
          0.052060000598430634,
          0,
          0.052060000598430634,
          0,
          0.052060000598430634,
          0,
          0.052060000598430634
         ]
        }
       ],
       "layout": {
        "margin": {
         "b": 10,
         "l": 10,
         "r": 20,
         "t": 10
        },
        "scene": {
         "camera": {
          "center": {
           "x": 0.45,
           "y": 0,
           "z": 0
          },
          "eye": {
           "x": -1,
           "y": 0,
           "z": 0.01
          },
          "up": {
           "x": 0,
           "y": 0,
           "z": 1
          }
         },
         "xaxis": {
          "nticks": 10,
          "range": [
           -0.1,
           0.9
          ]
         },
         "yaxis": {
          "nticks": 16,
          "range": [
           -0.5,
           0.5
          ]
         },
         "zaxis": {
          "nticks": 8,
          "range": [
           -0.01,
           0.99
          ]
         }
        },
        "template": {
         "data": {
          "bar": [
           {
            "error_x": {
             "color": "#2a3f5f"
            },
            "error_y": {
             "color": "#2a3f5f"
            },
            "marker": {
             "line": {
              "color": "#E5ECF6",
              "width": 0.5
             }
            },
            "type": "bar"
           }
          ],
          "barpolar": [
           {
            "marker": {
             "line": {
              "color": "#E5ECF6",
              "width": 0.5
             }
            },
            "type": "barpolar"
           }
          ],
          "carpet": [
           {
            "aaxis": {
             "endlinecolor": "#2a3f5f",
             "gridcolor": "white",
             "linecolor": "white",
             "minorgridcolor": "white",
             "startlinecolor": "#2a3f5f"
            },
            "baxis": {
             "endlinecolor": "#2a3f5f",
             "gridcolor": "white",
             "linecolor": "white",
             "minorgridcolor": "white",
             "startlinecolor": "#2a3f5f"
            },
            "type": "carpet"
           }
          ],
          "choropleth": [
           {
            "colorbar": {
             "outlinewidth": 0,
             "ticks": ""
            },
            "type": "choropleth"
           }
          ],
          "contour": [
           {
            "colorbar": {
             "outlinewidth": 0,
             "ticks": ""
            },
            "colorscale": [
             [
              0,
              "#0d0887"
             ],
             [
              0.1111111111111111,
              "#46039f"
             ],
             [
              0.2222222222222222,
              "#7201a8"
             ],
             [
              0.3333333333333333,
              "#9c179e"
             ],
             [
              0.4444444444444444,
              "#bd3786"
             ],
             [
              0.5555555555555556,
              "#d8576b"
             ],
             [
              0.6666666666666666,
              "#ed7953"
             ],
             [
              0.7777777777777778,
              "#fb9f3a"
             ],
             [
              0.8888888888888888,
              "#fdca26"
             ],
             [
              1,
              "#f0f921"
             ]
            ],
            "type": "contour"
           }
          ],
          "contourcarpet": [
           {
            "colorbar": {
             "outlinewidth": 0,
             "ticks": ""
            },
            "type": "contourcarpet"
           }
          ],
          "heatmap": [
           {
            "colorbar": {
             "outlinewidth": 0,
             "ticks": ""
            },
            "colorscale": [
             [
              0,
              "#0d0887"
             ],
             [
              0.1111111111111111,
              "#46039f"
             ],
             [
              0.2222222222222222,
              "#7201a8"
             ],
             [
              0.3333333333333333,
              "#9c179e"
             ],
             [
              0.4444444444444444,
              "#bd3786"
             ],
             [
              0.5555555555555556,
              "#d8576b"
             ],
             [
              0.6666666666666666,
              "#ed7953"
             ],
             [
              0.7777777777777778,
              "#fb9f3a"
             ],
             [
              0.8888888888888888,
              "#fdca26"
             ],
             [
              1,
              "#f0f921"
             ]
            ],
            "type": "heatmap"
           }
          ],
          "heatmapgl": [
           {
            "colorbar": {
             "outlinewidth": 0,
             "ticks": ""
            },
            "colorscale": [
             [
              0,
              "#0d0887"
             ],
             [
              0.1111111111111111,
              "#46039f"
             ],
             [
              0.2222222222222222,
              "#7201a8"
             ],
             [
              0.3333333333333333,
              "#9c179e"
             ],
             [
              0.4444444444444444,
              "#bd3786"
             ],
             [
              0.5555555555555556,
              "#d8576b"
             ],
             [
              0.6666666666666666,
              "#ed7953"
             ],
             [
              0.7777777777777778,
              "#fb9f3a"
             ],
             [
              0.8888888888888888,
              "#fdca26"
             ],
             [
              1,
              "#f0f921"
             ]
            ],
            "type": "heatmapgl"
           }
          ],
          "histogram": [
           {
            "marker": {
             "colorbar": {
              "outlinewidth": 0,
              "ticks": ""
             }
            },
            "type": "histogram"
           }
          ],
          "histogram2d": [
           {
            "colorbar": {
             "outlinewidth": 0,
             "ticks": ""
            },
            "colorscale": [
             [
              0,
              "#0d0887"
             ],
             [
              0.1111111111111111,
              "#46039f"
             ],
             [
              0.2222222222222222,
              "#7201a8"
             ],
             [
              0.3333333333333333,
              "#9c179e"
             ],
             [
              0.4444444444444444,
              "#bd3786"
             ],
             [
              0.5555555555555556,
              "#d8576b"
             ],
             [
              0.6666666666666666,
              "#ed7953"
             ],
             [
              0.7777777777777778,
              "#fb9f3a"
             ],
             [
              0.8888888888888888,
              "#fdca26"
             ],
             [
              1,
              "#f0f921"
             ]
            ],
            "type": "histogram2d"
           }
          ],
          "histogram2dcontour": [
           {
            "colorbar": {
             "outlinewidth": 0,
             "ticks": ""
            },
            "colorscale": [
             [
              0,
              "#0d0887"
             ],
             [
              0.1111111111111111,
              "#46039f"
             ],
             [
              0.2222222222222222,
              "#7201a8"
             ],
             [
              0.3333333333333333,
              "#9c179e"
             ],
             [
              0.4444444444444444,
              "#bd3786"
             ],
             [
              0.5555555555555556,
              "#d8576b"
             ],
             [
              0.6666666666666666,
              "#ed7953"
             ],
             [
              0.7777777777777778,
              "#fb9f3a"
             ],
             [
              0.8888888888888888,
              "#fdca26"
             ],
             [
              1,
              "#f0f921"
             ]
            ],
            "type": "histogram2dcontour"
           }
          ],
          "mesh3d": [
           {
            "colorbar": {
             "outlinewidth": 0,
             "ticks": ""
            },
            "type": "mesh3d"
           }
          ],
          "parcoords": [
           {
            "line": {
             "colorbar": {
              "outlinewidth": 0,
              "ticks": ""
             }
            },
            "type": "parcoords"
           }
          ],
          "pie": [
           {
            "automargin": true,
            "type": "pie"
           }
          ],
          "scatter": [
           {
            "marker": {
             "colorbar": {
              "outlinewidth": 0,
              "ticks": ""
             }
            },
            "type": "scatter"
           }
          ],
          "scatter3d": [
           {
            "line": {
             "colorbar": {
              "outlinewidth": 0,
              "ticks": ""
             }
            },
            "marker": {
             "colorbar": {
              "outlinewidth": 0,
              "ticks": ""
             }
            },
            "type": "scatter3d"
           }
          ],
          "scattercarpet": [
           {
            "marker": {
             "colorbar": {
              "outlinewidth": 0,
              "ticks": ""
             }
            },
            "type": "scattercarpet"
           }
          ],
          "scattergeo": [
           {
            "marker": {
             "colorbar": {
              "outlinewidth": 0,
              "ticks": ""
             }
            },
            "type": "scattergeo"
           }
          ],
          "scattergl": [
           {
            "marker": {
             "colorbar": {
              "outlinewidth": 0,
              "ticks": ""
             }
            },
            "type": "scattergl"
           }
          ],
          "scattermapbox": [
           {
            "marker": {
             "colorbar": {
              "outlinewidth": 0,
              "ticks": ""
             }
            },
            "type": "scattermapbox"
           }
          ],
          "scatterpolar": [
           {
            "marker": {
             "colorbar": {
              "outlinewidth": 0,
              "ticks": ""
             }
            },
            "type": "scatterpolar"
           }
          ],
          "scatterpolargl": [
           {
            "marker": {
             "colorbar": {
              "outlinewidth": 0,
              "ticks": ""
             }
            },
            "type": "scatterpolargl"
           }
          ],
          "scatterternary": [
           {
            "marker": {
             "colorbar": {
              "outlinewidth": 0,
              "ticks": ""
             }
            },
            "type": "scatterternary"
           }
          ],
          "surface": [
           {
            "colorbar": {
             "outlinewidth": 0,
             "ticks": ""
            },
            "colorscale": [
             [
              0,
              "#0d0887"
             ],
             [
              0.1111111111111111,
              "#46039f"
             ],
             [
              0.2222222222222222,
              "#7201a8"
             ],
             [
              0.3333333333333333,
              "#9c179e"
             ],
             [
              0.4444444444444444,
              "#bd3786"
             ],
             [
              0.5555555555555556,
              "#d8576b"
             ],
             [
              0.6666666666666666,
              "#ed7953"
             ],
             [
              0.7777777777777778,
              "#fb9f3a"
             ],
             [
              0.8888888888888888,
              "#fdca26"
             ],
             [
              1,
              "#f0f921"
             ]
            ],
            "type": "surface"
           }
          ],
          "table": [
           {
            "cells": {
             "fill": {
              "color": "#EBF0F8"
             },
             "line": {
              "color": "white"
             }
            },
            "header": {
             "fill": {
              "color": "#C8D4E3"
             },
             "line": {
              "color": "white"
             }
            },
            "type": "table"
           }
          ]
         },
         "layout": {
          "annotationdefaults": {
           "arrowcolor": "#2a3f5f",
           "arrowhead": 0,
           "arrowwidth": 1
          },
          "coloraxis": {
           "colorbar": {
            "outlinewidth": 0,
            "ticks": ""
           }
          },
          "colorscale": {
           "diverging": [
            [
             0,
             "#8e0152"
            ],
            [
             0.1,
             "#c51b7d"
            ],
            [
             0.2,
             "#de77ae"
            ],
            [
             0.3,
             "#f1b6da"
            ],
            [
             0.4,
             "#fde0ef"
            ],
            [
             0.5,
             "#f7f7f7"
            ],
            [
             0.6,
             "#e6f5d0"
            ],
            [
             0.7,
             "#b8e186"
            ],
            [
             0.8,
             "#7fbc41"
            ],
            [
             0.9,
             "#4d9221"
            ],
            [
             1,
             "#276419"
            ]
           ],
           "sequential": [
            [
             0,
             "#0d0887"
            ],
            [
             0.1111111111111111,
             "#46039f"
            ],
            [
             0.2222222222222222,
             "#7201a8"
            ],
            [
             0.3333333333333333,
             "#9c179e"
            ],
            [
             0.4444444444444444,
             "#bd3786"
            ],
            [
             0.5555555555555556,
             "#d8576b"
            ],
            [
             0.6666666666666666,
             "#ed7953"
            ],
            [
             0.7777777777777778,
             "#fb9f3a"
            ],
            [
             0.8888888888888888,
             "#fdca26"
            ],
            [
             1,
             "#f0f921"
            ]
           ],
           "sequentialminus": [
            [
             0,
             "#0d0887"
            ],
            [
             0.1111111111111111,
             "#46039f"
            ],
            [
             0.2222222222222222,
             "#7201a8"
            ],
            [
             0.3333333333333333,
             "#9c179e"
            ],
            [
             0.4444444444444444,
             "#bd3786"
            ],
            [
             0.5555555555555556,
             "#d8576b"
            ],
            [
             0.6666666666666666,
             "#ed7953"
            ],
            [
             0.7777777777777778,
             "#fb9f3a"
            ],
            [
             0.8888888888888888,
             "#fdca26"
            ],
            [
             1,
             "#f0f921"
            ]
           ]
          },
          "colorway": [
           "#636efa",
           "#EF553B",
           "#00cc96",
           "#ab63fa",
           "#FFA15A",
           "#19d3f3",
           "#FF6692",
           "#B6E880",
           "#FF97FF",
           "#FECB52"
          ],
          "font": {
           "color": "#2a3f5f"
          },
          "geo": {
           "bgcolor": "white",
           "lakecolor": "white",
           "landcolor": "#E5ECF6",
           "showlakes": true,
           "showland": true,
           "subunitcolor": "white"
          },
          "hoverlabel": {
           "align": "left"
          },
          "hovermode": "closest",
          "mapbox": {
           "style": "light"
          },
          "paper_bgcolor": "white",
          "plot_bgcolor": "#E5ECF6",
          "polar": {
           "angularaxis": {
            "gridcolor": "white",
            "linecolor": "white",
            "ticks": ""
           },
           "bgcolor": "#E5ECF6",
           "radialaxis": {
            "gridcolor": "white",
            "linecolor": "white",
            "ticks": ""
           }
          },
          "scene": {
           "xaxis": {
            "backgroundcolor": "#E5ECF6",
            "gridcolor": "white",
            "gridwidth": 2,
            "linecolor": "white",
            "showbackground": true,
            "ticks": "",
            "zerolinecolor": "white"
           },
           "yaxis": {
            "backgroundcolor": "#E5ECF6",
            "gridcolor": "white",
            "gridwidth": 2,
            "linecolor": "white",
            "showbackground": true,
            "ticks": "",
            "zerolinecolor": "white"
           },
           "zaxis": {
            "backgroundcolor": "#E5ECF6",
            "gridcolor": "white",
            "gridwidth": 2,
            "linecolor": "white",
            "showbackground": true,
            "ticks": "",
            "zerolinecolor": "white"
           }
          },
          "shapedefaults": {
           "line": {
            "color": "#2a3f5f"
           }
          },
          "ternary": {
           "aaxis": {
            "gridcolor": "white",
            "linecolor": "white",
            "ticks": ""
           },
           "baxis": {
            "gridcolor": "white",
            "linecolor": "white",
            "ticks": ""
           },
           "bgcolor": "#E5ECF6",
           "caxis": {
            "gridcolor": "white",
            "linecolor": "white",
            "ticks": ""
           }
          },
          "title": {
           "x": 0.05
          },
          "xaxis": {
           "automargin": true,
           "gridcolor": "white",
           "linecolor": "white",
           "ticks": "",
           "title": {
            "standoff": 15
           },
           "zerolinecolor": "white",
           "zerolinewidth": 2
          },
          "yaxis": {
           "automargin": true,
           "gridcolor": "white",
           "linecolor": "white",
           "ticks": "",
           "title": {
            "standoff": 15
           },
           "zerolinecolor": "white",
           "zerolinewidth": 2
          }
         }
        },
        "width": 700
       }
      },
      "text/html": "<div>\n        \n        \n            <div id=\"debbf18e-a5ac-4d52-ab57-025abe87fd58\" class=\"plotly-graph-div\" style=\"height:525px; width:700px;\"></div>\n            <script type=\"text/javascript\">\n                require([\"plotly\"], function(Plotly) {\n                    window.PLOTLYENV=window.PLOTLYENV || {};\n                    \n                if (document.getElementById(\"debbf18e-a5ac-4d52-ab57-025abe87fd58\")) {\n                    Plotly.newPlot(\n                        'debbf18e-a5ac-4d52-ab57-025abe87fd58',\n                        [{\"color\": \"red\", \"delaunayaxis\": \"z\", \"flatshading\": true, \"i\": [0, 1, 4, 5, 2, 3, 0, 5, 1, 1, 0, 2], \"j\": [1, 2, 5, 6, 3, 6, 1, 1, 5, 3, 4, 4], \"k\": [2, 3, 6, 7, 6, 7, 4, 4, 7, 7, 6, 6], \"opacity\": 0.95, \"type\": \"mesh3d\", \"x\": [0.3934064118792318, 0.4298343629261185, 0.3934050369742161, 0.42983298802110276, 0.4582745933267715, 0.4947025443736582, 0.4582732184217558, 0.49470116946864245], \"y\": [-0.031767224974318886, 0.0054248177623308635, -0.031771187595657974, 0.005420855140991776, -0.09530272243089861, -0.058110679694248865, -0.0953066850522377, -0.05811464231558795], \"z\": [0.15382094604249055, 0.15381956421640236, 0.010920941121098302, 0.010919559295010109, 0.15382208375784662, 0.1538207019317584, 0.010922078836454352, 0.01092069701036616]}, {\"color\": \"gray\", \"delaunayaxis\": \"z\", \"opacity\": 0.5, \"type\": \"mesh3d\", \"x\": [-1, 1, 1, -1], \"y\": [-1, -1, 1, 1], \"z\": [0, 0, 0, 0]}, {\"color\": \"blue\", \"delaunayaxis\": \"z\", \"flatshading\": true, \"i\": [0, 1, 4, 5, 2, 3, 0, 5, 1, 1, 0, 2], \"j\": [1, 2, 5, 6, 3, 6, 1, 1, 5, 3, 4, 4], \"k\": [2, 3, 6, 7, 6, 7, 4, 4, 7, 7, 6, 6], \"opacity\": 0.05, \"type\": \"mesh3d\", \"x\": [0.3783822934078823, 0.3783822934078823, 0.5212813177381614, 0.5212813177381614, 0.3787186822618386, 0.3787186822618386, 0.5216177065921177, 0.5216177065921177], \"y\": [0.045134987085210306, 0.045134987085210306, 0.04566439201618725, 0.04566439201618725, -0.04566439201618725, -0.04566439201618725, -0.045134987085210306, -0.045134987085210306], \"z\": [0.0, 0.052060000598430634, 0.0, 0.052060000598430634, 0.0, 0.052060000598430634, 0.0, 0.052060000598430634]}, {\"marker\": {\"color\": \"black\", \"colorscale\": [[0.0, \"#440154\"], [0.1111111111111111, \"#482878\"], [0.2222222222222222, \"#3e4989\"], [0.3333333333333333, \"#31688e\"], [0.4444444444444444, \"#26828e\"], [0.5555555555555556, \"#1f9e89\"], [0.6666666666666666, \"#35b779\"], [0.7777777777777778, \"#6ece58\"], [0.8888888888888888, \"#b5de2b\"], [1.0, \"#fde725\"]], \"opacity\": 0.8, \"size\": 3.0}, \"mode\": \"markers\", \"type\": \"scatter3d\", \"x\": [0.3783822934078823, 0.3783822934078823, 0.5212813177381614, 0.5212813177381614, 0.3787186822618386, 0.3787186822618386, 0.5216177065921177, 0.5216177065921177], \"y\": [0.045134987085210306, 0.045134987085210306, 0.04566439201618725, 0.04566439201618725, -0.04566439201618725, -0.04566439201618725, -0.045134987085210306, -0.045134987085210306], \"z\": [0.0, 0.052060000598430634, 0.0, 0.052060000598430634, 0.0, 0.052060000598430634, 0.0, 0.052060000598430634]}],\n                        {\"margin\": {\"b\": 10, \"l\": 10, \"r\": 20, \"t\": 10}, \"scene\": {\"camera\": {\"center\": {\"x\": 0.45, \"y\": 0, \"z\": 0.0}, \"eye\": {\"x\": -1.0, \"y\": 0.0, \"z\": 0.01}, \"up\": {\"x\": 0, \"y\": 0, \"z\": 1}}, \"xaxis\": {\"nticks\": 10, \"range\": [-0.1, 0.9]}, \"yaxis\": {\"nticks\": 16, \"range\": [-0.5, 0.5]}, \"zaxis\": {\"nticks\": 8, \"range\": [-0.01, 0.99]}}, \"template\": {\"data\": {\"bar\": [{\"error_x\": {\"color\": \"#2a3f5f\"}, \"error_y\": {\"color\": \"#2a3f5f\"}, \"marker\": {\"line\": {\"color\": \"#E5ECF6\", \"width\": 0.5}}, \"type\": \"bar\"}], \"barpolar\": [{\"marker\": {\"line\": {\"color\": \"#E5ECF6\", \"width\": 0.5}}, \"type\": \"barpolar\"}], \"carpet\": [{\"aaxis\": {\"endlinecolor\": \"#2a3f5f\", \"gridcolor\": \"white\", \"linecolor\": \"white\", \"minorgridcolor\": \"white\", \"startlinecolor\": \"#2a3f5f\"}, \"baxis\": {\"endlinecolor\": \"#2a3f5f\", \"gridcolor\": \"white\", \"linecolor\": \"white\", \"minorgridcolor\": \"white\", \"startlinecolor\": \"#2a3f5f\"}, \"type\": \"carpet\"}], \"choropleth\": [{\"colorbar\": {\"outlinewidth\": 0, \"ticks\": \"\"}, \"type\": \"choropleth\"}], \"contour\": [{\"colorbar\": {\"outlinewidth\": 0, \"ticks\": \"\"}, \"colorscale\": [[0.0, \"#0d0887\"], [0.1111111111111111, \"#46039f\"], [0.2222222222222222, \"#7201a8\"], [0.3333333333333333, \"#9c179e\"], [0.4444444444444444, \"#bd3786\"], [0.5555555555555556, \"#d8576b\"], [0.6666666666666666, \"#ed7953\"], [0.7777777777777778, \"#fb9f3a\"], [0.8888888888888888, \"#fdca26\"], [1.0, \"#f0f921\"]], \"type\": \"contour\"}], \"contourcarpet\": [{\"colorbar\": {\"outlinewidth\": 0, \"ticks\": \"\"}, \"type\": \"contourcarpet\"}], \"heatmap\": [{\"colorbar\": {\"outlinewidth\": 0, \"ticks\": \"\"}, \"colorscale\": [[0.0, \"#0d0887\"], [0.1111111111111111, \"#46039f\"], [0.2222222222222222, \"#7201a8\"], [0.3333333333333333, \"#9c179e\"], [0.4444444444444444, \"#bd3786\"], [0.5555555555555556, \"#d8576b\"], [0.6666666666666666, \"#ed7953\"], [0.7777777777777778, \"#fb9f3a\"], [0.8888888888888888, \"#fdca26\"], [1.0, \"#f0f921\"]], \"type\": \"heatmap\"}], \"heatmapgl\": [{\"colorbar\": {\"outlinewidth\": 0, \"ticks\": \"\"}, \"colorscale\": [[0.0, \"#0d0887\"], [0.1111111111111111, \"#46039f\"], [0.2222222222222222, \"#7201a8\"], [0.3333333333333333, \"#9c179e\"], [0.4444444444444444, \"#bd3786\"], [0.5555555555555556, \"#d8576b\"], [0.6666666666666666, \"#ed7953\"], [0.7777777777777778, \"#fb9f3a\"], [0.8888888888888888, \"#fdca26\"], [1.0, \"#f0f921\"]], \"type\": \"heatmapgl\"}], \"histogram\": [{\"marker\": {\"colorbar\": {\"outlinewidth\": 0, \"ticks\": \"\"}}, \"type\": \"histogram\"}], \"histogram2d\": [{\"colorbar\": {\"outlinewidth\": 0, \"ticks\": \"\"}, \"colorscale\": [[0.0, \"#0d0887\"], [0.1111111111111111, \"#46039f\"], [0.2222222222222222, \"#7201a8\"], [0.3333333333333333, \"#9c179e\"], [0.4444444444444444, \"#bd3786\"], [0.5555555555555556, \"#d8576b\"], [0.6666666666666666, \"#ed7953\"], [0.7777777777777778, \"#fb9f3a\"], [0.8888888888888888, \"#fdca26\"], [1.0, \"#f0f921\"]], \"type\": \"histogram2d\"}], \"histogram2dcontour\": [{\"colorbar\": {\"outlinewidth\": 0, \"ticks\": \"\"}, \"colorscale\": [[0.0, \"#0d0887\"], [0.1111111111111111, \"#46039f\"], [0.2222222222222222, \"#7201a8\"], [0.3333333333333333, \"#9c179e\"], [0.4444444444444444, \"#bd3786\"], [0.5555555555555556, \"#d8576b\"], [0.6666666666666666, \"#ed7953\"], [0.7777777777777778, \"#fb9f3a\"], [0.8888888888888888, \"#fdca26\"], [1.0, \"#f0f921\"]], \"type\": \"histogram2dcontour\"}], \"mesh3d\": [{\"colorbar\": {\"outlinewidth\": 0, \"ticks\": \"\"}, \"type\": \"mesh3d\"}], \"parcoords\": [{\"line\": {\"colorbar\": {\"outlinewidth\": 0, \"ticks\": \"\"}}, \"type\": \"parcoords\"}], \"pie\": [{\"automargin\": true, \"type\": \"pie\"}], \"scatter\": [{\"marker\": {\"colorbar\": {\"outlinewidth\": 0, \"ticks\": \"\"}}, \"type\": \"scatter\"}], \"scatter3d\": [{\"line\": {\"colorbar\": {\"outlinewidth\": 0, \"ticks\": \"\"}}, \"marker\": {\"colorbar\": {\"outlinewidth\": 0, \"ticks\": \"\"}}, \"type\": \"scatter3d\"}], \"scattercarpet\": [{\"marker\": {\"colorbar\": {\"outlinewidth\": 0, \"ticks\": \"\"}}, \"type\": \"scattercarpet\"}], \"scattergeo\": [{\"marker\": {\"colorbar\": {\"outlinewidth\": 0, \"ticks\": \"\"}}, \"type\": \"scattergeo\"}], \"scattergl\": [{\"marker\": {\"colorbar\": {\"outlinewidth\": 0, \"ticks\": \"\"}}, \"type\": \"scattergl\"}], \"scattermapbox\": [{\"marker\": {\"colorbar\": {\"outlinewidth\": 0, \"ticks\": \"\"}}, \"type\": \"scattermapbox\"}], \"scatterpolar\": [{\"marker\": {\"colorbar\": {\"outlinewidth\": 0, \"ticks\": \"\"}}, \"type\": \"scatterpolar\"}], \"scatterpolargl\": [{\"marker\": {\"colorbar\": {\"outlinewidth\": 0, \"ticks\": \"\"}}, \"type\": \"scatterpolargl\"}], \"scatterternary\": [{\"marker\": {\"colorbar\": {\"outlinewidth\": 0, \"ticks\": \"\"}}, \"type\": \"scatterternary\"}], \"surface\": [{\"colorbar\": {\"outlinewidth\": 0, \"ticks\": \"\"}, \"colorscale\": [[0.0, \"#0d0887\"], [0.1111111111111111, \"#46039f\"], [0.2222222222222222, \"#7201a8\"], [0.3333333333333333, \"#9c179e\"], [0.4444444444444444, \"#bd3786\"], [0.5555555555555556, \"#d8576b\"], [0.6666666666666666, \"#ed7953\"], [0.7777777777777778, \"#fb9f3a\"], [0.8888888888888888, \"#fdca26\"], [1.0, \"#f0f921\"]], \"type\": \"surface\"}], \"table\": [{\"cells\": {\"fill\": {\"color\": \"#EBF0F8\"}, \"line\": {\"color\": \"white\"}}, \"header\": {\"fill\": {\"color\": \"#C8D4E3\"}, \"line\": {\"color\": \"white\"}}, \"type\": \"table\"}]}, \"layout\": {\"annotationdefaults\": {\"arrowcolor\": \"#2a3f5f\", \"arrowhead\": 0, \"arrowwidth\": 1}, \"coloraxis\": {\"colorbar\": {\"outlinewidth\": 0, \"ticks\": \"\"}}, \"colorscale\": {\"diverging\": [[0, \"#8e0152\"], [0.1, \"#c51b7d\"], [0.2, \"#de77ae\"], [0.3, \"#f1b6da\"], [0.4, \"#fde0ef\"], [0.5, \"#f7f7f7\"], [0.6, \"#e6f5d0\"], [0.7, \"#b8e186\"], [0.8, \"#7fbc41\"], [0.9, \"#4d9221\"], [1, \"#276419\"]], \"sequential\": [[0.0, \"#0d0887\"], [0.1111111111111111, \"#46039f\"], [0.2222222222222222, \"#7201a8\"], [0.3333333333333333, \"#9c179e\"], [0.4444444444444444, \"#bd3786\"], [0.5555555555555556, \"#d8576b\"], [0.6666666666666666, \"#ed7953\"], [0.7777777777777778, \"#fb9f3a\"], [0.8888888888888888, \"#fdca26\"], [1.0, \"#f0f921\"]], \"sequentialminus\": [[0.0, \"#0d0887\"], [0.1111111111111111, \"#46039f\"], [0.2222222222222222, \"#7201a8\"], [0.3333333333333333, \"#9c179e\"], [0.4444444444444444, \"#bd3786\"], [0.5555555555555556, \"#d8576b\"], [0.6666666666666666, \"#ed7953\"], [0.7777777777777778, \"#fb9f3a\"], [0.8888888888888888, \"#fdca26\"], [1.0, \"#f0f921\"]]}, \"colorway\": [\"#636efa\", \"#EF553B\", \"#00cc96\", \"#ab63fa\", \"#FFA15A\", \"#19d3f3\", \"#FF6692\", \"#B6E880\", \"#FF97FF\", \"#FECB52\"], \"font\": {\"color\": \"#2a3f5f\"}, \"geo\": {\"bgcolor\": \"white\", \"lakecolor\": \"white\", \"landcolor\": \"#E5ECF6\", \"showlakes\": true, \"showland\": true, \"subunitcolor\": \"white\"}, \"hoverlabel\": {\"align\": \"left\"}, \"hovermode\": \"closest\", \"mapbox\": {\"style\": \"light\"}, \"paper_bgcolor\": \"white\", \"plot_bgcolor\": \"#E5ECF6\", \"polar\": {\"angularaxis\": {\"gridcolor\": \"white\", \"linecolor\": \"white\", \"ticks\": \"\"}, \"bgcolor\": \"#E5ECF6\", \"radialaxis\": {\"gridcolor\": \"white\", \"linecolor\": \"white\", \"ticks\": \"\"}}, \"scene\": {\"xaxis\": {\"backgroundcolor\": \"#E5ECF6\", \"gridcolor\": \"white\", \"gridwidth\": 2, \"linecolor\": \"white\", \"showbackground\": true, \"ticks\": \"\", \"zerolinecolor\": \"white\"}, \"yaxis\": {\"backgroundcolor\": \"#E5ECF6\", \"gridcolor\": \"white\", \"gridwidth\": 2, \"linecolor\": \"white\", \"showbackground\": true, \"ticks\": \"\", \"zerolinecolor\": \"white\"}, \"zaxis\": {\"backgroundcolor\": \"#E5ECF6\", \"gridcolor\": \"white\", \"gridwidth\": 2, \"linecolor\": \"white\", \"showbackground\": true, \"ticks\": \"\", \"zerolinecolor\": \"white\"}}, \"shapedefaults\": {\"line\": {\"color\": \"#2a3f5f\"}}, \"ternary\": {\"aaxis\": {\"gridcolor\": \"white\", \"linecolor\": \"white\", \"ticks\": \"\"}, \"baxis\": {\"gridcolor\": \"white\", \"linecolor\": \"white\", \"ticks\": \"\"}, \"bgcolor\": \"#E5ECF6\", \"caxis\": {\"gridcolor\": \"white\", \"linecolor\": \"white\", \"ticks\": \"\"}}, \"title\": {\"x\": 0.05}, \"xaxis\": {\"automargin\": true, \"gridcolor\": \"white\", \"linecolor\": \"white\", \"ticks\": \"\", \"title\": {\"standoff\": 15}, \"zerolinecolor\": \"white\", \"zerolinewidth\": 2}, \"yaxis\": {\"automargin\": true, \"gridcolor\": \"white\", \"linecolor\": \"white\", \"ticks\": \"\", \"title\": {\"standoff\": 15}, \"zerolinecolor\": \"white\", \"zerolinewidth\": 2}}}, \"width\": 700},\n                        {\"responsive\": true}\n                    ).then(function(){\n                            \nvar gd = document.getElementById('debbf18e-a5ac-4d52-ab57-025abe87fd58');\nvar x = new MutationObserver(function (mutations, observer) {{\n        var display = window.getComputedStyle(gd).display;\n        if (!display || display === 'none') {{\n            console.log([gd, 'removed!']);\n            Plotly.purge(gd);\n            observer.disconnect();\n        }}\n}});\n\n// Listen for the removal of the full notebook cells\nvar notebookContainer = gd.closest('#notebook-container');\nif (notebookContainer) {{\n    x.observe(notebookContainer, {childList: true});\n}}\n\n// Listen for the clearing of the current output cell\nvar outputEl = gd.closest('.output');\nif (outputEl) {{\n    x.observe(outputEl, {childList: true});\n}}\n\n                        })\n                };\n                });\n            </script>\n        </div>"
     },
     "metadata": {},
     "output_type": "display_data"
    }
   ],
   "source": "grasp_fig = plot_keypoint_goal(grasp_data_eval)\ngrasp_fig.show()"
  },
  {
   "cell_type": "markdown",
   "metadata": {},
   "source": "# Analyze latent space"
  },
  {
   "cell_type": "code",
   "execution_count": 292,
   "metadata": {},
   "outputs": [],
   "source": "x_embedded = TSNE(n_components=2).fit_transform(x_train)"
  },
  {
   "cell_type": "code",
   "execution_count": 293,
   "metadata": {},
   "outputs": [
    {
     "name": "stdout",
     "output_type": "stream",
     "text": "[[-0.00048812 -0.00275932 -0.00041756]\n [-0.00077224 -0.00626889  0.00092097]\n [-0.00078491 -0.00101774  0.00017297]\n ...\n [ 0.00241952  0.01025966 -0.00205008]\n [ 0.00309835  0.01086254 -0.00061242]\n [ 0.00187404  0.00739138  0.00015471]]\n(5000, 3)\n(4901, 3)\n"
    }
   ],
   "source": "x_sampled = grasp_trans_clf.sample(5000)[0]\n\nprint(x_sampled)\n\nprint(x_sampled.shape)\nprint(x_train.shape)"
  },
  {
   "cell_type": "code",
   "execution_count": null,
   "metadata": {},
   "outputs": [],
   "source": "x_sampled_embedded = TSNE(n_components=2).fit_transform(x_sampled)"
  },
  {
   "cell_type": "code",
   "execution_count": null,
   "metadata": {},
   "outputs": [],
   "source": "plt.figure()\nplt.scatter(x_embedded[:, 0], x_embedded[:, 1], color='red')\nplt.scatter(x_sampled_embedded[:, 0], x_sampled_embedded[:, 1], color='blue')\nplt.show()"
  },
  {
   "cell_type": "markdown",
   "metadata": {},
   "source": "# Overfit to single batch"
  },
  {
   "cell_type": "code",
   "execution_count": null,
   "metadata": {},
   "outputs": [],
   "source": "grasp_trans_vae = GoalVAE(31, 7, 3, 24, [64, 32], 0.0003)\nprint(grasp_trans_vae.encoder)\nprint(grasp_trans_vae.decoder)\nload_net_state(grasp_trans_vae, '/root/training/saved_models/grasp_transformation_cond_start_small_batch_small_model_2/grasp_transformation_cond_start_small_batch_small_model_2_epoch_140.pt')\ngrasp_trans_vae.encoder.cuda()\ngrasp_trans_vae.decoder.cuda()"
  },
  {
   "cell_type": "code",
   "execution_count": null,
   "metadata": {},
   "outputs": [],
   "source": "with open ('/root/catkin_ws/src/primitives/data/grasp/face_ind_test_0_fixed/train/4114/pkl/4114.pkl', 'rb') as f:\n    grasp_data_overfit = pickle.load(f)\n\ngrasp_data_overfit_copy = copy.deepcopy(grasp_data_overfit)    "
  },
  {
   "cell_type": "code",
   "execution_count": null,
   "metadata": {},
   "outputs": [],
   "source": "print(grasp_data_overfit['transformation_corrected'])\n\nplot_keypoint_goal(transform_keypoints(grasp_data_overfit)).show()\n\nscene = vis_palms(grasp_data_overfit, name='grasp', goal='transformation')\nscene.show(viewer='gl')"
  },
  {
   "cell_type": "code",
   "execution_count": null,
   "metadata": {},
   "outputs": [],
   "source": "inp0 = torch.from_numpy(grasp_data_overfit['keypoints_start'].flatten().astype(np.float32)).cuda()\ninp1 = torch.from_numpy(np.asarray(grasp_data_overfit['transformation_corrected'], dtype=np.float32)).cuda()\ninp = torch.cat((inp0, inp1))\nz_sample = grasp_trans_vae.encode(inp)[1]\n\nx = torch.from_numpy(grasp_data_overfit['keypoints_start'].flatten().astype(np.float32)).cuda()\n\ntrans = grasp_trans_vae.decode(z_sample, x)\nprint(pose_to_list(trans))\n\ngrasp_data_overfit_copy['transformation_corrected'] = pose_to_list(trans)\nplot_keypoint_goal(transform_keypoints(grasp_data_overfit_copy)).show()\n\nscene = vis_palms(grasp_data_overfit_copy, name='grasp', goal='transformation')\nscene.show(viewer='gl')"
  },
  {
   "cell_type": "code",
   "execution_count": null,
   "metadata": {},
   "outputs": [],
   "source": "print(grasp_trans_vae.encoder)\nprint(grasp_trans_vae.decoder)"
  },
  {
   "cell_type": "code",
   "execution_count": null,
   "metadata": {},
   "outputs": [],
   "source": "print(grasp_trans_vae.encoder.hidden_layers)\nprint(grasp_trans_vae.decoder.hidden_layers)"
  },
  {
   "cell_type": "code",
   "execution_count": null,
   "metadata": {},
   "outputs": [],
   "source": "a = [64, 32]\nb = copy.deepcopy(a)\nb.reverse()"
  },
  {
   "cell_type": "code",
   "execution_count": null,
   "metadata": {},
   "outputs": [],
   "source": "grasp_data_overfit.keys()"
  },
  {
   "cell_type": "code",
   "execution_count": null,
   "metadata": {},
   "outputs": [],
   "source": "print(grasp_trans_vae.encode(inp)[1])\nprint(grasp_trans_vae.encoder.forward(inp))\n\nprint(grasp_trans_vae.decode(z_sample, x))\nprint(grasp_trans_vae.decoder.forward(torch.cat((z_sample, x))))\n\nprint(grasp_data_overfit['transformation_corrected'])\n\ntrans_inp = torch.from_numpy(np.asarray(grasp_data_overfit['transformation_corrected'], dtype=np.float32)).cuda()\nprint(grasp_trans_vae.mse(trans[:3], trans_inp[:3]))\n# print(trans_inp[3:].expand((2, 4)))\nprint(grasp_trans_vae.rotation_loss(trans[3:].expand(2, 4), trans_inp[3:].expand(2, 4)))"
  },
  {
   "cell_type": "code",
   "execution_count": null,
   "metadata": {},
   "outputs": [],
   "source": "grasp_trans_vae.decoder.state_dict().keys()"
  }
 ],
 "metadata": {
  "kernelspec": {
   "display_name": "Python 2",
   "language": "python",
   "name": "python2"
  },
  "language_info": {
   "codemirror_mode": {
    "name": "ipython",
    "version": 2
   },
   "file_extension": ".py",
   "mimetype": "text/x-python",
   "name": "python",
   "nbconvert_exporter": "python",
   "pygments_lexer": "ipython2",
   "version": "2.7.12"
  }
 },
 "nbformat": 4,
 "nbformat_minor": 4
}
